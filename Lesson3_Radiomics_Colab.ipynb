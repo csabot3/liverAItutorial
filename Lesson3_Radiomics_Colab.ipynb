{
  "nbformat": 4,
  "nbformat_minor": 0,
  "metadata": {
    "colab": {
      "name": "Lesson3-Radiomics-Colab.ipynb",
      "provenance": [],
      "collapsed_sections": [],
      "authorship_tag": "ABX9TyPdjPETJZc6OBiUoHa2JScf",
      "include_colab_link": true
    },
    "kernelspec": {
      "name": "python3",
      "display_name": "Python 3"
    },
    "language_info": {
      "name": "python"
    },
    "accelerator": "GPU"
  },
  "cells": [
    {
      "cell_type": "markdown",
      "metadata": {
        "id": "view-in-github",
        "colab_type": "text"
      },
      "source": [
        "<a href=\"https://colab.research.google.com/github/csabot3/liverAItutorial/blob/main/Lesson3_Radiomics_Colab.ipynb\" target=\"_parent\"><img src=\"https://colab.research.google.com/assets/colab-badge.svg\" alt=\"Open In Colab\"/></a>"
      ]
    },
    {
      "cell_type": "markdown",
      "source": [
        "# Lesson 3: Basic Radiomics\n",
        "\n",
        "Now that we have explored how to create segmentations with U-nets in Lesson 2, we will next explore what we can do with these segmentations. For convience, though, we will do this with the ground truth manual segmentations in the CHAOS dataset"
      ],
      "metadata": {
        "id": "l7POwrMIBD4_"
      }
    },
    {
      "cell_type": "code",
      "execution_count": 1,
      "metadata": {
        "colab": {
          "base_uri": "https://localhost:8080/"
        },
        "id": "gxRiJv19bsS6",
        "outputId": "d19b2323-81ce-4fd0-cc0f-c2956c2b6783"
      },
      "outputs": [
        {
          "output_type": "stream",
          "name": "stdout",
          "text": [
            "Collecting pydicom\n",
            "  Downloading pydicom-2.2.2-py3-none-any.whl (2.0 MB)\n",
            "\u001b[K     |████████████████████████████████| 2.0 MB 8.3 MB/s \n",
            "\u001b[?25hInstalling collected packages: pydicom\n",
            "Successfully installed pydicom-2.2.2\n",
            "Selecting previously unselected package pv.\n",
            "(Reading database ... 156210 files and directories currently installed.)\n",
            "Preparing to unpack .../archives/pv_1.6.6-1_amd64.deb ...\n",
            "Unpacking pv (1.6.6-1) ...\n",
            "Setting up pv (1.6.6-1) ...\n",
            "Processing triggers for man-db (2.8.3-2ubuntu0.1) ...\n"
          ]
        }
      ],
      "source": [
        "#Import packages\n",
        "\n",
        "!pip install pydicom #Not in Colab by default\n",
        "!apt-get -qq install pv #Progress bar, also not in Colab\n",
        "\n",
        "from IPython.display import display,HTML\n",
        "\n",
        "from PIL import Image\n",
        "import numpy as np\n",
        "\n",
        "import os\n",
        "import shutil\n",
        "import pydicom\n",
        "import matplotlib.pyplot as plt\n",
        "import matplotlib.image as mpimg\n",
        "from pathlib import Path\n",
        "import pandas as pd\n",
        "import glob\n",
        "import sys"
      ]
    },
    {
      "cell_type": "markdown",
      "source": [
        "First, we will introduce a Python package, pyradiomics, which we have not installed or imported briefly. We will wait to use this robust radiomics package until the end of the lesson and instead start by manipulating the data and segmentations with Numpy. However, pyradiomics is an excellent package with robust tools for radiomics, and if you are truly interested in working with radiomics in Python then we would strongly recommend reviewing dedicated pyradiomics tutorials and reading the pyradiomics documentation: https://pyradiomics.readthedocs.io/en/latest/"
      ],
      "metadata": {
        "id": "Fape8HNFBciz"
      }
    },
    {
      "cell_type": "code",
      "source": [
        "#First install the new package that we will be using in this lesson\n",
        "!pip install pyradiomics"
      ],
      "metadata": {
        "colab": {
          "base_uri": "https://localhost:8080/"
        },
        "id": "iCEge2mMltez",
        "outputId": "db84c590-131d-49c7-ff41-9006ed9b8b97"
      },
      "execution_count": 2,
      "outputs": [
        {
          "output_type": "stream",
          "name": "stdout",
          "text": [
            "Collecting pyradiomics\n",
            "  Downloading pyradiomics-3.0.1-cp37-cp37m-manylinux1_x86_64.whl (188 kB)\n",
            "\u001b[?25l\r\u001b[K     |█▊                              | 10 kB 27.8 MB/s eta 0:00:01\r\u001b[K     |███▌                            | 20 kB 25.7 MB/s eta 0:00:01\r\u001b[K     |█████▏                          | 30 kB 13.0 MB/s eta 0:00:01\r\u001b[K     |███████                         | 40 kB 10.0 MB/s eta 0:00:01\r\u001b[K     |████████▊                       | 51 kB 7.7 MB/s eta 0:00:01\r\u001b[K     |██████████▍                     | 61 kB 9.0 MB/s eta 0:00:01\r\u001b[K     |████████████▏                   | 71 kB 7.7 MB/s eta 0:00:01\r\u001b[K     |██████████████                  | 81 kB 8.6 MB/s eta 0:00:01\r\u001b[K     |███████████████▋                | 92 kB 9.6 MB/s eta 0:00:01\r\u001b[K     |█████████████████▍              | 102 kB 8.6 MB/s eta 0:00:01\r\u001b[K     |███████████████████▏            | 112 kB 8.6 MB/s eta 0:00:01\r\u001b[K     |████████████████████▉           | 122 kB 8.6 MB/s eta 0:00:01\r\u001b[K     |██████████████████████▋         | 133 kB 8.6 MB/s eta 0:00:01\r\u001b[K     |████████████████████████▍       | 143 kB 8.6 MB/s eta 0:00:01\r\u001b[K     |██████████████████████████      | 153 kB 8.6 MB/s eta 0:00:01\r\u001b[K     |███████████████████████████▉    | 163 kB 8.6 MB/s eta 0:00:01\r\u001b[K     |█████████████████████████████▋  | 174 kB 8.6 MB/s eta 0:00:01\r\u001b[K     |███████████████████████████████▎| 184 kB 8.6 MB/s eta 0:00:01\r\u001b[K     |████████████████████████████████| 188 kB 8.6 MB/s \n",
            "\u001b[?25hRequirement already satisfied: six>=1.10.0 in /usr/local/lib/python3.7/dist-packages (from pyradiomics) (1.15.0)\n",
            "Requirement already satisfied: numpy>=1.9.2 in /usr/local/lib/python3.7/dist-packages (from pyradiomics) (1.21.5)\n",
            "Requirement already satisfied: PyWavelets>=0.4.0 in /usr/local/lib/python3.7/dist-packages (from pyradiomics) (1.3.0)\n",
            "Collecting SimpleITK>=0.9.1\n",
            "  Downloading SimpleITK-2.1.1-cp37-cp37m-manylinux_2_12_x86_64.manylinux2010_x86_64.whl (48.4 MB)\n",
            "\u001b[K     |████████████████████████████████| 48.4 MB 20 kB/s \n",
            "\u001b[?25hCollecting pykwalify>=1.6.0\n",
            "  Downloading pykwalify-1.8.0-py2.py3-none-any.whl (24 kB)\n",
            "Requirement already satisfied: docopt>=0.6.2 in /usr/local/lib/python3.7/dist-packages (from pykwalify>=1.6.0->pyradiomics) (0.6.2)\n",
            "Requirement already satisfied: python-dateutil>=2.8.0 in /usr/local/lib/python3.7/dist-packages (from pykwalify>=1.6.0->pyradiomics) (2.8.2)\n",
            "Collecting ruamel.yaml>=0.16.0\n",
            "  Downloading ruamel.yaml-0.17.21-py3-none-any.whl (109 kB)\n",
            "\u001b[K     |████████████████████████████████| 109 kB 47.5 MB/s \n",
            "\u001b[?25hCollecting ruamel.yaml.clib>=0.2.6\n",
            "  Downloading ruamel.yaml.clib-0.2.6-cp37-cp37m-manylinux1_x86_64.whl (546 kB)\n",
            "\u001b[K     |████████████████████████████████| 546 kB 50.6 MB/s \n",
            "\u001b[?25hInstalling collected packages: ruamel.yaml.clib, ruamel.yaml, SimpleITK, pykwalify, pyradiomics\n",
            "Successfully installed SimpleITK-2.1.1 pykwalify-1.8.0 pyradiomics-3.0.1 ruamel.yaml-0.17.21 ruamel.yaml.clib-0.2.6\n"
          ]
        }
      ]
    },
    {
      "cell_type": "markdown",
      "source": [
        "For working with pyradiomics, we will also be using SimpleITK: https://simpleitk.org/. Again, since we will only use SimpleITK and pyradiomics briefly in this lesson, we would recommend reviewing a dedicated SimpleITK tutorial and reading the documentation for further understanding of this image analysis tool"
      ],
      "metadata": {
        "id": "cFghj-ghCaHP"
      }
    },
    {
      "cell_type": "code",
      "source": [
        "import SimpleITK as sitk\n",
        "\n",
        "from radiomics import featureextractor"
      ],
      "metadata": {
        "id": "nyaRHa9joXH6"
      },
      "execution_count": 3,
      "outputs": []
    },
    {
      "cell_type": "markdown",
      "source": [
        "Now let's start working with the CHAOS dataset again"
      ],
      "metadata": {
        "id": "Zq8sxiO0C9_M"
      }
    },
    {
      "cell_type": "code",
      "source": [
        "#We need CHAOS training data again\n",
        "!wget -q --show-progress https://zenodo.org/record/3431873/files/CHAOS_Train_Sets.zip?download=1\n",
        "!unzip -q  CHAOS_Train_Sets.zip\\?download\\=1"
      ],
      "metadata": {
        "id": "w1vva32wc4xs",
        "colab": {
          "base_uri": "https://localhost:8080/"
        },
        "outputId": "994d3678-727d-4958-fcc8-87115123aa64"
      },
      "execution_count": 4,
      "outputs": [
        {
          "output_type": "stream",
          "name": "stdout",
          "text": [
            "CHAOS_Train_Sets.zi 100%[===================>] 849.51M  4.72MB/s    in 1m 40s  \n"
          ]
        }
      ]
    },
    {
      "cell_type": "markdown",
      "source": [
        "Let's now pick an example patient to work with (patient 1)"
      ],
      "metadata": {
        "id": "DjxNOxH7v_Ra"
      }
    },
    {
      "cell_type": "code",
      "source": [
        "expatientimagepath='./Train_Sets/CT/1/DICOM_anon/'\n",
        "eximgs=sorted(os.listdir(expatientimagepath))\n",
        "\n",
        "expatientlabelpath='./Train_Sets/CT/1/Ground/'\n",
        "exlabels=sorted(os.listdir(expatientlabelpath))\n",
        "\n",
        "numz=len(eximgs)\n",
        "print(numz) #This is the number of slices for this series/CT"
      ],
      "metadata": {
        "colab": {
          "base_uri": "https://localhost:8080/"
        },
        "id": "u_FG5UrMm1ye",
        "outputId": "61bba9d9-8abe-4db0-ed77-9581ba9ba8f9"
      },
      "execution_count": 5,
      "outputs": [
        {
          "output_type": "stream",
          "name": "stdout",
          "text": [
            "96\n"
          ]
        }
      ]
    },
    {
      "cell_type": "code",
      "source": [
        "#Volumize the data first\n",
        "#We know the size of the CT data and labels so we can hard code them in. Otherwise,\n",
        "#we would want to extract this data from the DICOM files\n",
        "volCT=np.zeros((512,512,numz))\n",
        "volseg=np.zeros((512,512,numz)) #We are constructing these 3D arrays in a x-y-z format.\n",
        "#Later on, awareness of the dimension order expected by different packages will be relevant\n",
        "#once we start working with pyradiomics and SITK\n",
        "sliceposls=np.zeros((numz))\n",
        "\n",
        "for xz in range(0,numz):\n",
        "  eximg1=expatientimagepath+eximgs[xz]\n",
        "  exlabel1=expatientlabelpath+exlabels[xz]\n",
        "  ctex=pydicom.dcmread(eximg1) #Load the DICOM\n",
        "  huimg=pydicom.pixel_data_handlers.util.apply_modality_lut(ctex.pixel_array,ctex)\n",
        "  volCT[:,:,xz]=huimg\n",
        "  volseg[:,:,xz]=1*np.array(Image.open(exlabel1))\n",
        "  sliceposls[xz]=ctex['SliceLocation'].value #Put slice position in an array\n",
        "\n",
        "\n"
      ],
      "metadata": {
        "id": "13NLJ6lNuVju"
      },
      "execution_count": 6,
      "outputs": []
    },
    {
      "cell_type": "code",
      "source": [
        "#Let's take the last DICOM loaded and look at the parameters\n",
        "#Now that we are interested in potentially extracting volume data, we will need to be aware of pixel spacing in the arrays\n",
        "ctex"
      ],
      "metadata": {
        "colab": {
          "base_uri": "https://localhost:8080/"
        },
        "id": "gXJTDqyEt7me",
        "outputId": "a4200d6b-ea44-4982-cab7-d26f4ca1fd8b"
      },
      "execution_count": 7,
      "outputs": [
        {
          "output_type": "execute_result",
          "data": {
            "text/plain": [
              "Dataset.file_meta -------------------------------\n",
              "(0002, 0000) File Meta Information Group Length  UL: 210\n",
              "(0002, 0001) File Meta Information Version       OB: b'\\x00\\x01'\n",
              "(0002, 0002) Media Storage SOP Class UID         UI: CT Image Storage\n",
              "(0002, 0003) Media Storage SOP Instance UID      UI: 1.3.6.1.4.1.9590.100.1.2.405493159911658411515822770371320186331\n",
              "(0002, 0010) Transfer Syntax UID                 UI: Explicit VR Little Endian\n",
              "(0002, 0012) Implementation Class UID            UI: 1.3.6.1.4.1.9590.100.1.3.100.9.4\n",
              "(0002, 0013) Implementation Version Name         SH: 'MATLAB IPT 9.4'\n",
              "-------------------------------------------------\n",
              "(0008, 0005) Specific Character Set              CS: 'ISO_IR 100'\n",
              "(0008, 0008) Image Type                          CS: ['ORIGINAL', 'PRIMARY', 'AXIAL', 'VOLUME']\n",
              "(0008, 0012) Instance Creation Date              DA: ''\n",
              "(0008, 0013) Instance Creation Time              TM: ''\n",
              "(0008, 0016) SOP Class UID                       UI: CT Image Storage\n",
              "(0008, 0018) SOP Instance UID                    UI: 1.3.6.1.4.1.9590.100.1.2.405493159911658411515822770371320186331\n",
              "(0008, 0020) Study Date                          DA: ''\n",
              "(0008, 0021) Series Date                         DA: ''\n",
              "(0008, 0022) Acquisition Date                    DA: ''\n",
              "(0008, 0023) Content Date                        DA: ''\n",
              "(0008, 0030) Study Time                          TM: '162238'\n",
              "(0008, 0031) Series Time                         TM: '162826.510000'\n",
              "(0008, 0032) Acquisition Time                    TM: '162848.670000'\n",
              "(0008, 0033) Content Time                        TM: '163149.504896'\n",
              "(0008, 0050) Accession Number                    SH: ''\n",
              "(0008, 0060) Modality                            CS: 'CT'\n",
              "(0008, 0070) Manufacturer                        LO: ''\n",
              "(0008, 0080) Institution Name                    LO: ''\n",
              "(0008, 0081) Institution Address                 ST: ''\n",
              "(0008, 0090) Referring Physician's Name          PN: ''\n",
              "(0008, 1010) Station Name                        SH: ''\n",
              "(0008, 1030) Study Description                   LO: ''\n",
              "(0008, 103e) Series Description                  LO: ''\n",
              "(0008, 1040) Institutional Department Name       LO: ''\n",
              "(0008, 1050) Performing Physician's Name         PN: ''\n",
              "(0008, 1070) Operators' Name                     PN: ''\n",
              "(0008, 1090) Manufacturer's Model Name           LO: ''\n",
              "(0010, 0010) Patient's Name                      PN: 'CHAOS^CT_SET_1'\n",
              "(0010, 0020) Patient ID                          LO: ''\n",
              "(0010, 0030) Patient's Birth Date                DA: ''\n",
              "(0010, 0040) Patient's Sex                       CS: ''\n",
              "(0010, 1000) Other Patient IDs                   LO: ''\n",
              "(0010, 1010) Patient's Age                       AS: ''\n",
              "(0010, 1030) Patient's Weight                    DS: None\n",
              "(0018, 0010) Contrast/Bolus Agent                LO: 'CONT'\n",
              "(0018, 0015) Body Part Examined                  CS: ''\n",
              "(0018, 0050) Slice Thickness                     DS: '3.0'\n",
              "(0018, 0060) KVP                                 DS: '120.0'\n",
              "(0018, 1000) Device Serial Number                LO: '00000'\n",
              "(0018, 1020) Software Versions                   LO: 'CT Backend Release 1.5.2 (NT100)'\n",
              "(0018, 1030) Protocol Name                       LO: 'T2SPIR'\n",
              "(0018, 1100) Reconstruction Diameter             DS: '352.0877'\n",
              "(0018, 1120) Gantry/Detector Tilt                DS: '0.0'\n",
              "(0018, 1130) Table Height                        DS: '83.0'\n",
              "(0018, 1150) Exposure Time                       IS: '700'\n",
              "(0018, 1151) X-Ray Tube Current                  IS: '200'\n",
              "(0018, 1152) Exposure                            IS: '140'\n",
              "(0018, 1200) Date of Last Calibration            DA: '20060119'\n",
              "(0018, 1201) Time of Last Calibration            TM: '122245.622522'\n",
              "(0018, 1210) Convolution Kernel                  SH: 'AA-1'\n",
              "(0018, 5100) Patient Position                    CS: 'HFS'\n",
              "(0020, 000d) Study Instance UID                  UI: 1.2.124.113532.192.70.134.138.20060119.151934.4823473\n",
              "(0020, 000e) Series Instance UID                 UI: 1.3.46.670589.10.1.1.2163374719.1137684481.588647\n",
              "(0020, 0010) Study ID                            SH: '1'\n",
              "(0020, 0011) Series Number                       IS: '4'\n",
              "(0020, 0012) Acquisition Number                  IS: '1'\n",
              "(0020, 0013) Instance Number                     IS: '96'\n",
              "(0020, 0032) Image Position (Patient)            DS: [-167.7859, -176.0438, -226.5]\n",
              "(0020, 0037) Image Orientation (Patient)         DS: [1, 0, 0, 0, 1, 0]\n",
              "(0020, 0052) Frame of Reference UID              UI: 1.3.46.670589.10.1.1.2163374719.1137684167.627832\n",
              "(0020, 0060) Laterality                          CS: ''\n",
              "(0020, 1040) Position Reference Indicator        LO: ''\n",
              "(0020, 1041) Slice Location                      DS: '-226.5'\n",
              "(0020, 4000) Image Comments                      LT: ''\n",
              "(0028, 0002) Samples per Pixel                   US: 1\n",
              "(0028, 0004) Photometric Interpretation          CS: 'MONOCHROME2'\n",
              "(0028, 0010) Rows                                US: 512\n",
              "(0028, 0011) Columns                             US: 512\n",
              "(0028, 0030) Pixel Spacing                       DS: [0.687671, 0.687671]\n",
              "(0028, 0100) Bits Allocated                      US: 16\n",
              "(0028, 0101) Bits Stored                         US: 16\n",
              "(0028, 0102) High Bit                            US: 15\n",
              "(0028, 0103) Pixel Representation                US: 0\n",
              "(0028, 0106) Smallest Image Pixel Value          US: 0\n",
              "(0028, 0107) Largest Image Pixel Value           US: 2343\n",
              "(0028, 1050) Window Center                       DS: [45, 100]\n",
              "(0028, 1051) Window Width                        DS: [350, 200]\n",
              "(0028, 1052) Rescale Intercept                   DS: '-1200.0'\n",
              "(0028, 1053) Rescale Slope                       DS: '1.0'\n",
              "(0040, 0244) Performed Procedure Step Start Date DA: ''\n",
              "(0040, 0245) Performed Procedure Step Start Time TM: ''\n",
              "(0040, 0253) Performed Procedure Step ID         SH: ''\n",
              "(0040, 0254) Performed Procedure Step Descriptio LO: ''\n",
              "(7fe0, 0010) Pixel Data                          OW: Array of 524288 elements"
            ]
          },
          "metadata": {},
          "execution_count": 7
        }
      ]
    },
    {
      "cell_type": "code",
      "source": [
        "ctex['PixelSpacing']"
      ],
      "metadata": {
        "colab": {
          "base_uri": "https://localhost:8080/"
        },
        "id": "1MpqAEhTuFsm",
        "outputId": "4c293a33-90d8-4ef0-99bf-b6ca6f977ffb"
      },
      "execution_count": 8,
      "outputs": [
        {
          "output_type": "execute_result",
          "data": {
            "text/plain": [
              "(0028, 0030) Pixel Spacing                       DS: [0.687671, 0.687671]"
            ]
          },
          "metadata": {},
          "execution_count": 8
        }
      ]
    },
    {
      "cell_type": "code",
      "source": [
        "ctex['PixelSpacing'].value"
      ],
      "metadata": {
        "colab": {
          "base_uri": "https://localhost:8080/"
        },
        "id": "XKe79NL1uSEZ",
        "outputId": "9d839ad3-c9ca-4c2a-dd01-1886142c0555"
      },
      "execution_count": 9,
      "outputs": [
        {
          "output_type": "execute_result",
          "data": {
            "text/plain": [
              "[0.687671, 0.687671]"
            ]
          },
          "metadata": {},
          "execution_count": 9
        }
      ]
    },
    {
      "cell_type": "code",
      "source": [
        "pixelxy=ctex['PixelSpacing'].value"
      ],
      "metadata": {
        "id": "J2dBgKXwz61z"
      },
      "execution_count": 10,
      "outputs": []
    },
    {
      "cell_type": "markdown",
      "source": [
        "So, that tells us are x-y pixel spacing in mm. Now we need to extract information about the z direction"
      ],
      "metadata": {
        "id": "4EMPe-aOuXok"
      }
    },
    {
      "cell_type": "code",
      "source": [
        "ctex['SliceThickness']  #Slices are 3 mm thick"
      ],
      "metadata": {
        "colab": {
          "base_uri": "https://localhost:8080/"
        },
        "id": "Ayyjoaqkur1F",
        "outputId": "c5d76d19-9678-4d5b-e01b-b6da6da31f92"
      },
      "execution_count": 11,
      "outputs": [
        {
          "output_type": "execute_result",
          "data": {
            "text/plain": [
              "(0018, 0050) Slice Thickness                     DS: '3.0'"
            ]
          },
          "metadata": {},
          "execution_count": 11
        }
      ]
    },
    {
      "cell_type": "markdown",
      "source": [
        "An important caveat is that slice thickness does not necessarily equate to spacing, since the slices will be calculated based on the raw data with overlap. We already made an array of slice locations, though when constructing the volumetric data. So, now let's look at that."
      ],
      "metadata": {
        "id": "qzZaGZi4vs45"
      }
    },
    {
      "cell_type": "code",
      "source": [
        "ctex['SliceLocation']"
      ],
      "metadata": {
        "colab": {
          "base_uri": "https://localhost:8080/"
        },
        "id": "WJlIxEQ_uxRs",
        "outputId": "d384d3ec-0a38-46ad-8fe9-0e977cfcd91f"
      },
      "execution_count": 12,
      "outputs": [
        {
          "output_type": "execute_result",
          "data": {
            "text/plain": [
              "(0020, 1041) Slice Location                      DS: '-226.5'"
            ]
          },
          "metadata": {},
          "execution_count": 12
        }
      ]
    },
    {
      "cell_type": "code",
      "source": [
        "sliceposls"
      ],
      "metadata": {
        "colab": {
          "base_uri": "https://localhost:8080/"
        },
        "id": "xDSuUZXHvUNj",
        "outputId": "7cde44a0-d5aa-4749-c021-e1eed9833a3f"
      },
      "execution_count": 13,
      "outputs": [
        {
          "output_type": "execute_result",
          "data": {
            "text/plain": [
              "array([ -84. ,  -85.5,  -87. ,  -88.5,  -90. ,  -91.5,  -93. ,  -94.5,\n",
              "        -96. ,  -97.5,  -99. , -100.5, -102. , -103.5, -105. , -106.5,\n",
              "       -108. , -109.5, -111. , -112.5, -114. , -115.5, -117. , -118.5,\n",
              "       -120. , -121.5, -123. , -124.5, -126. , -127.5, -129. , -130.5,\n",
              "       -132. , -133.5, -135. , -136.5, -138. , -139.5, -141. , -142.5,\n",
              "       -144. , -145.5, -147. , -148.5, -150. , -151.5, -153. , -154.5,\n",
              "       -156. , -157.5, -159. , -160.5, -162. , -163.5, -165. , -166.5,\n",
              "       -168. , -169.5, -171. , -172.5, -174. , -175.5, -177. , -178.5,\n",
              "       -180. , -181.5, -183. , -184.5, -186. , -187.5, -189. , -190.5,\n",
              "       -192. , -193.5, -195. , -196.5, -198. , -199.5, -201. , -202.5,\n",
              "       -204. , -205.5, -207. , -208.5, -210. , -211.5, -213. , -214.5,\n",
              "       -216. , -217.5, -219. , -220.5, -222. , -223.5, -225. , -226.5])"
            ]
          },
          "metadata": {},
          "execution_count": 13
        }
      ]
    },
    {
      "cell_type": "markdown",
      "source": [
        "Based on inspection, we can see that the spacing is 1.5 mm in the z direction, and then we can store our pixel spacing values"
      ],
      "metadata": {
        "id": "uqLZb0sSv9il"
      }
    },
    {
      "cell_type": "code",
      "source": [
        "pixelspaceAll=[pixelxy[0],pixelxy[1],1.5]"
      ],
      "metadata": {
        "id": "mG9sm5nh0Aew"
      },
      "execution_count": 14,
      "outputs": []
    },
    {
      "cell_type": "markdown",
      "source": [
        "Now that we have identified the pixel spacing for our volumes, let's move on to some visualization"
      ],
      "metadata": {
        "id": "KuhS225N0d3r"
      }
    },
    {
      "cell_type": "code",
      "source": [
        "#We can then visualize the segmentation as a surface with skimage, we will use marching_cubes to extract a surface from the volume\n",
        "from skimage import measure\n",
        "\n",
        "verts, faces, normals, values = measure.marching_cubes(volseg, spacing=pixelspaceAll)"
      ],
      "metadata": {
        "id": "NMV64Mq7vbE7"
      },
      "execution_count": 15,
      "outputs": []
    },
    {
      "cell_type": "markdown",
      "source": [
        "You can learn more about the marching cube algorithm that we are using here via the scikit-image documentation: https://scikit-image.org/docs/stable/auto_examples/edges/plot_marching_cubes"
      ],
      "metadata": {
        "id": "YRGP_fRhD3jg"
      }
    },
    {
      "cell_type": "markdown",
      "source": [
        "One way that we can visualize this 3D data that we have generated with the marching cubes algorithm is by converting the file to an STL format. We can do this with a dedicated package - numpy-stl: https://pypi.org/project/numpy-stl/\n",
        "\n",
        "We will then use the face and vertex data extracted from our volume with the marching cubes algorithm to generate a mesh that we can convert to an STL file"
      ],
      "metadata": {
        "id": "2v_5g_I-EK5B"
      }
    },
    {
      "cell_type": "code",
      "source": [
        "!pip install numpy-stl"
      ],
      "metadata": {
        "colab": {
          "base_uri": "https://localhost:8080/"
        },
        "id": "z2f7uZZtZ9mU",
        "outputId": "592f3597-4088-4992-971b-bea800d2227f"
      },
      "execution_count": 16,
      "outputs": [
        {
          "output_type": "stream",
          "name": "stdout",
          "text": [
            "Collecting numpy-stl\n",
            "  Downloading numpy-stl-2.16.3.tar.gz (772 kB)\n",
            "\u001b[?25l\r\u001b[K     |▍                               | 10 kB 28.7 MB/s eta 0:00:01\r\u001b[K     |▉                               | 20 kB 9.1 MB/s eta 0:00:01\r\u001b[K     |█▎                              | 30 kB 8.6 MB/s eta 0:00:01\r\u001b[K     |█▊                              | 40 kB 8.0 MB/s eta 0:00:01\r\u001b[K     |██▏                             | 51 kB 6.0 MB/s eta 0:00:01\r\u001b[K     |██▌                             | 61 kB 7.1 MB/s eta 0:00:01\r\u001b[K     |███                             | 71 kB 7.1 MB/s eta 0:00:01\r\u001b[K     |███▍                            | 81 kB 6.8 MB/s eta 0:00:01\r\u001b[K     |███▉                            | 92 kB 7.5 MB/s eta 0:00:01\r\u001b[K     |████▎                           | 102 kB 2.8 MB/s eta 0:00:01\r\u001b[K     |████▊                           | 112 kB 2.8 MB/s eta 0:00:01\r\u001b[K     |█████                           | 122 kB 2.8 MB/s eta 0:00:01\r\u001b[K     |█████▌                          | 133 kB 2.8 MB/s eta 0:00:01\r\u001b[K     |██████                          | 143 kB 2.8 MB/s eta 0:00:01\r\u001b[K     |██████▍                         | 153 kB 2.8 MB/s eta 0:00:01\r\u001b[K     |██████▉                         | 163 kB 2.8 MB/s eta 0:00:01\r\u001b[K     |███████▏                        | 174 kB 2.8 MB/s eta 0:00:01\r\u001b[K     |███████▋                        | 184 kB 2.8 MB/s eta 0:00:01\r\u001b[K     |████████                        | 194 kB 2.8 MB/s eta 0:00:01\r\u001b[K     |████████▌                       | 204 kB 2.8 MB/s eta 0:00:01\r\u001b[K     |█████████                       | 215 kB 2.8 MB/s eta 0:00:01\r\u001b[K     |█████████▍                      | 225 kB 2.8 MB/s eta 0:00:01\r\u001b[K     |█████████▊                      | 235 kB 2.8 MB/s eta 0:00:01\r\u001b[K     |██████████▏                     | 245 kB 2.8 MB/s eta 0:00:01\r\u001b[K     |██████████▋                     | 256 kB 2.8 MB/s eta 0:00:01\r\u001b[K     |███████████                     | 266 kB 2.8 MB/s eta 0:00:01\r\u001b[K     |███████████▌                    | 276 kB 2.8 MB/s eta 0:00:01\r\u001b[K     |███████████▉                    | 286 kB 2.8 MB/s eta 0:00:01\r\u001b[K     |████████████▎                   | 296 kB 2.8 MB/s eta 0:00:01\r\u001b[K     |████████████▊                   | 307 kB 2.8 MB/s eta 0:00:01\r\u001b[K     |█████████████▏                  | 317 kB 2.8 MB/s eta 0:00:01\r\u001b[K     |█████████████▋                  | 327 kB 2.8 MB/s eta 0:00:01\r\u001b[K     |██████████████                  | 337 kB 2.8 MB/s eta 0:00:01\r\u001b[K     |██████████████▍                 | 348 kB 2.8 MB/s eta 0:00:01\r\u001b[K     |██████████████▉                 | 358 kB 2.8 MB/s eta 0:00:01\r\u001b[K     |███████████████▎                | 368 kB 2.8 MB/s eta 0:00:01\r\u001b[K     |███████████████▊                | 378 kB 2.8 MB/s eta 0:00:01\r\u001b[K     |████████████████▏               | 389 kB 2.8 MB/s eta 0:00:01\r\u001b[K     |████████████████▌               | 399 kB 2.8 MB/s eta 0:00:01\r\u001b[K     |█████████████████               | 409 kB 2.8 MB/s eta 0:00:01\r\u001b[K     |█████████████████▍              | 419 kB 2.8 MB/s eta 0:00:01\r\u001b[K     |█████████████████▉              | 430 kB 2.8 MB/s eta 0:00:01\r\u001b[K     |██████████████████▎             | 440 kB 2.8 MB/s eta 0:00:01\r\u001b[K     |██████████████████▊             | 450 kB 2.8 MB/s eta 0:00:01\r\u001b[K     |███████████████████             | 460 kB 2.8 MB/s eta 0:00:01\r\u001b[K     |███████████████████▌            | 471 kB 2.8 MB/s eta 0:00:01\r\u001b[K     |████████████████████            | 481 kB 2.8 MB/s eta 0:00:01\r\u001b[K     |████████████████████▍           | 491 kB 2.8 MB/s eta 0:00:01\r\u001b[K     |████████████████████▉           | 501 kB 2.8 MB/s eta 0:00:01\r\u001b[K     |█████████████████████▏          | 512 kB 2.8 MB/s eta 0:00:01\r\u001b[K     |█████████████████████▋          | 522 kB 2.8 MB/s eta 0:00:01\r\u001b[K     |██████████████████████          | 532 kB 2.8 MB/s eta 0:00:01\r\u001b[K     |██████████████████████▌         | 542 kB 2.8 MB/s eta 0:00:01\r\u001b[K     |███████████████████████         | 552 kB 2.8 MB/s eta 0:00:01\r\u001b[K     |███████████████████████▍        | 563 kB 2.8 MB/s eta 0:00:01\r\u001b[K     |███████████████████████▊        | 573 kB 2.8 MB/s eta 0:00:01\r\u001b[K     |████████████████████████▏       | 583 kB 2.8 MB/s eta 0:00:01\r\u001b[K     |████████████████████████▋       | 593 kB 2.8 MB/s eta 0:00:01\r\u001b[K     |█████████████████████████       | 604 kB 2.8 MB/s eta 0:00:01\r\u001b[K     |█████████████████████████▌      | 614 kB 2.8 MB/s eta 0:00:01\r\u001b[K     |█████████████████████████▉      | 624 kB 2.8 MB/s eta 0:00:01\r\u001b[K     |██████████████████████████▎     | 634 kB 2.8 MB/s eta 0:00:01\r\u001b[K     |██████████████████████████▊     | 645 kB 2.8 MB/s eta 0:00:01\r\u001b[K     |███████████████████████████▏    | 655 kB 2.8 MB/s eta 0:00:01\r\u001b[K     |███████████████████████████▋    | 665 kB 2.8 MB/s eta 0:00:01\r\u001b[K     |████████████████████████████    | 675 kB 2.8 MB/s eta 0:00:01\r\u001b[K     |████████████████████████████▍   | 686 kB 2.8 MB/s eta 0:00:01\r\u001b[K     |████████████████████████████▉   | 696 kB 2.8 MB/s eta 0:00:01\r\u001b[K     |█████████████████████████████▎  | 706 kB 2.8 MB/s eta 0:00:01\r\u001b[K     |█████████████████████████████▊  | 716 kB 2.8 MB/s eta 0:00:01\r\u001b[K     |██████████████████████████████▏ | 727 kB 2.8 MB/s eta 0:00:01\r\u001b[K     |██████████████████████████████▌ | 737 kB 2.8 MB/s eta 0:00:01\r\u001b[K     |███████████████████████████████ | 747 kB 2.8 MB/s eta 0:00:01\r\u001b[K     |███████████████████████████████▍| 757 kB 2.8 MB/s eta 0:00:01\r\u001b[K     |███████████████████████████████▉| 768 kB 2.8 MB/s eta 0:00:01\r\u001b[K     |████████████████████████████████| 772 kB 2.8 MB/s \n",
            "\u001b[?25hRequirement already satisfied: numpy in /usr/local/lib/python3.7/dist-packages (from numpy-stl) (1.21.5)\n",
            "Requirement already satisfied: python-utils>=1.6.2 in /usr/local/lib/python3.7/dist-packages (from numpy-stl) (3.1.0)\n",
            "Building wheels for collected packages: numpy-stl\n",
            "  Building wheel for numpy-stl (setup.py) ... \u001b[?25l\u001b[?25hdone\n",
            "  Created wheel for numpy-stl: filename=numpy_stl-2.16.3-cp37-cp37m-linux_x86_64.whl size=137070 sha256=415c38807a464b7764f339f0314a16bcb4603910658659ad9d52489fbe2c88cf\n",
            "  Stored in directory: /root/.cache/pip/wheels/06/f4/db/7fac39962a6ba79b7e740892042332083924bff552d4bef41e\n",
            "Successfully built numpy-stl\n",
            "Installing collected packages: numpy-stl\n",
            "Successfully installed numpy-stl-2.16.3\n"
          ]
        }
      ]
    },
    {
      "cell_type": "code",
      "source": [
        "from stl import mesh"
      ],
      "metadata": {
        "id": "zIcKXuP2aDqJ"
      },
      "execution_count": 17,
      "outputs": []
    },
    {
      "cell_type": "code",
      "source": [
        "faces.shape[0]"
      ],
      "metadata": {
        "colab": {
          "base_uri": "https://localhost:8080/"
        },
        "id": "-j81PweFen5K",
        "outputId": "94a7053e-ea1d-4200-cd90-637bbb54e6e1"
      },
      "execution_count": 18,
      "outputs": [
        {
          "output_type": "execute_result",
          "data": {
            "text/plain": [
              "371872"
            ]
          },
          "metadata": {},
          "execution_count": 18
        }
      ]
    },
    {
      "cell_type": "code",
      "source": [
        "liverMesh = mesh.Mesh(np.zeros(faces.shape[0], dtype=mesh.Mesh.dtype))"
      ],
      "metadata": {
        "id": "cc3nmksD1spb"
      },
      "execution_count": 19,
      "outputs": []
    },
    {
      "cell_type": "code",
      "source": [
        "for ik, fk in enumerate(faces):\n",
        "    for jk in range(3):\n",
        "        liverMesh.vectors[ik][jk] = verts[fk[jk],:]\n"
      ],
      "metadata": {
        "id": "wxm8eCw4fyDT"
      },
      "execution_count": 20,
      "outputs": []
    },
    {
      "cell_type": "code",
      "source": [
        "liverMesh.save('liverExMesh.stl') #Without smoothing the mesh, this is a large STL file"
      ],
      "metadata": {
        "id": "tr13NN0DgMl9"
      },
      "execution_count": 21,
      "outputs": []
    },
    {
      "cell_type": "markdown",
      "source": [
        "We can view this mesh locally after downloading it with any 3D viewing software of choice. Of note, STL files can also be used for 3D printing."
      ],
      "metadata": {
        "id": "eMEbosaHiW1U"
      }
    },
    {
      "cell_type": "markdown",
      "source": [
        "Now, let's look at the data a bit more and extract some values using the segmentation as a mask. Eventually we are going to use pyradiomics to explore radiomics features for our data but first we will look at some first order features for ourselves before that without utilizing the robust feature extraction capabilities of the pyradiomics package. You can read about different radiomics features in the pyradiomics documentation which is a fantastic resource for learning more about radiomics: https://pyradiomics.readthedocs.io/en/latest/features.html"
      ],
      "metadata": {
        "id": "y0yksC-PjqMd"
      }
    },
    {
      "cell_type": "markdown",
      "source": [
        "We will start simple by looking at different statistics and first order features with and without using the mask over our CT volume"
      ],
      "metadata": {
        "id": "XNe7i9_cBMhs"
      }
    },
    {
      "cell_type": "code",
      "source": [
        "np.sum(volseg) #Number of pixels in our liver mask that represent the liver"
      ],
      "metadata": {
        "colab": {
          "base_uri": "https://localhost:8080/"
        },
        "id": "7BtrBN0NjpaI",
        "outputId": "20ffebdb-6d28-4f6e-adec-491d9175d1c9"
      },
      "execution_count": 22,
      "outputs": [
        {
          "output_type": "execute_result",
          "data": {
            "text/plain": [
              "2079098.0"
            ]
          },
          "metadata": {},
          "execution_count": 22
        }
      ]
    },
    {
      "cell_type": "code",
      "source": [
        "np.size(volCT) #Number of total pixels in our volume"
      ],
      "metadata": {
        "colab": {
          "base_uri": "https://localhost:8080/"
        },
        "id": "Y48aPWNPBmJx",
        "outputId": "1a5f202c-2c96-43e2-cd97-ae223069aa03"
      },
      "execution_count": 23,
      "outputs": [
        {
          "output_type": "execute_result",
          "data": {
            "text/plain": [
              "25165824"
            ]
          },
          "metadata": {},
          "execution_count": 23
        }
      ]
    },
    {
      "cell_type": "code",
      "source": [
        "100*np.sum(volseg)/np.size(volseg) #Percentage that liver segmentation occupies within the volume"
      ],
      "metadata": {
        "colab": {
          "base_uri": "https://localhost:8080/"
        },
        "id": "IbKwq3YTBqjg",
        "outputId": "f053937c-4f0f-4b01-ebe7-9f127b419024"
      },
      "execution_count": 24,
      "outputs": [
        {
          "output_type": "execute_result",
          "data": {
            "text/plain": [
              "8.261593182881674"
            ]
          },
          "metadata": {},
          "execution_count": 24
        }
      ]
    },
    {
      "cell_type": "code",
      "source": [
        "segindex=np.where(volseg==1)"
      ],
      "metadata": {
        "id": "ce1zV1GCCEyQ"
      },
      "execution_count": 25,
      "outputs": []
    },
    {
      "cell_type": "code",
      "source": [
        "volCTindex=volCT[segindex]"
      ],
      "metadata": {
        "id": "h8V7pM50CQey"
      },
      "execution_count": 26,
      "outputs": []
    },
    {
      "cell_type": "code",
      "source": [
        "volCTindex.shape #Now we have a 1D array of the HU values that correspond to the liver segment"
      ],
      "metadata": {
        "colab": {
          "base_uri": "https://localhost:8080/"
        },
        "id": "k36XnajoCVj8",
        "outputId": "ae2a49cc-dd6c-435e-a688-768963d0d17d"
      },
      "execution_count": 27,
      "outputs": [
        {
          "output_type": "execute_result",
          "data": {
            "text/plain": [
              "(2079098,)"
            ]
          },
          "metadata": {},
          "execution_count": 27
        }
      ]
    },
    {
      "cell_type": "code",
      "source": [
        "np.mean(volCTindex) #Mean HU for liver"
      ],
      "metadata": {
        "colab": {
          "base_uri": "https://localhost:8080/"
        },
        "id": "cnmxj5zNCeMW",
        "outputId": "ad5b97bd-baf9-470c-d784-3face8c8108d"
      },
      "execution_count": 28,
      "outputs": [
        {
          "output_type": "execute_result",
          "data": {
            "text/plain": [
              "148.19835332437432"
            ]
          },
          "metadata": {},
          "execution_count": 28
        }
      ]
    },
    {
      "cell_type": "code",
      "source": [
        "np.mean(volCT) #Mean HU for the entire CT volume, not a very useful number given the amount of empty space"
      ],
      "metadata": {
        "colab": {
          "base_uri": "https://localhost:8080/"
        },
        "id": "vMHn8azdCh5V",
        "outputId": "781d13f0-0c23-4a53-e22e-a185da96e579"
      },
      "execution_count": 29,
      "outputs": [
        {
          "output_type": "execute_result",
          "data": {
            "text/plain": [
              "-414.744974176089"
            ]
          },
          "metadata": {},
          "execution_count": 29
        }
      ]
    },
    {
      "cell_type": "code",
      "source": [
        "#Let's get a coarse index based on tissue relevant HU values\n",
        "tissueindex=np.where(np.logical_and(volCT>=-120,volCT<300))"
      ],
      "metadata": {
        "id": "tZ9QFuThDDB2"
      },
      "execution_count": 30,
      "outputs": []
    },
    {
      "cell_type": "code",
      "source": [
        "volCTtissue=volCT[tissueindex]"
      ],
      "metadata": {
        "id": "OvyTNiajDQK0"
      },
      "execution_count": 31,
      "outputs": []
    },
    {
      "cell_type": "code",
      "source": [
        "np.mean(volCTtissue) #Now perhaps a more relevant HU value comparison after filtering, but still not necessarily useful\n",
        "#This is why the segmentation can be so beneficial\n",
        "#if we want to analyze different features across several studies for various pathologies of interest"
      ],
      "metadata": {
        "colab": {
          "base_uri": "https://localhost:8080/"
        },
        "id": "7XiHWjBcDT-W",
        "outputId": "4ffdeb78-f81b-46c0-a7b0-bde44954eb33"
      },
      "execution_count": 32,
      "outputs": [
        {
          "output_type": "execute_result",
          "data": {
            "text/plain": [
              "37.42473358659965"
            ]
          },
          "metadata": {},
          "execution_count": 32
        }
      ]
    },
    {
      "cell_type": "code",
      "source": [
        "#Let's keep looking at first order features for our liver segmentation"
      ],
      "metadata": {
        "id": "obOSksRRDqkZ"
      },
      "execution_count": 33,
      "outputs": []
    },
    {
      "cell_type": "code",
      "source": [
        "np.min(volCTindex)"
      ],
      "metadata": {
        "colab": {
          "base_uri": "https://localhost:8080/"
        },
        "id": "L7NY0Lx1DzX7",
        "outputId": "ed7a8fcf-98b1-44ef-edb7-ec94d01239d2"
      },
      "execution_count": 34,
      "outputs": [
        {
          "output_type": "execute_result",
          "data": {
            "text/plain": [
              "-182.0"
            ]
          },
          "metadata": {},
          "execution_count": 34
        }
      ]
    },
    {
      "cell_type": "code",
      "source": [
        "np.max(volCTindex)"
      ],
      "metadata": {
        "colab": {
          "base_uri": "https://localhost:8080/"
        },
        "id": "Y0wKW0b5D4hB",
        "outputId": "f5fa6b75-dbd2-468e-d814-fcdeaabd2845"
      },
      "execution_count": 35,
      "outputs": [
        {
          "output_type": "execute_result",
          "data": {
            "text/plain": [
              "362.0"
            ]
          },
          "metadata": {},
          "execution_count": 35
        }
      ]
    },
    {
      "cell_type": "code",
      "source": [
        "np.median(volCTindex)"
      ],
      "metadata": {
        "colab": {
          "base_uri": "https://localhost:8080/"
        },
        "id": "oKh4r4kXD604",
        "outputId": "76618fb3-4a93-445c-e5b9-7b35a87a6b50"
      },
      "execution_count": 36,
      "outputs": [
        {
          "output_type": "execute_result",
          "data": {
            "text/plain": [
              "149.0"
            ]
          },
          "metadata": {},
          "execution_count": 36
        }
      ]
    },
    {
      "cell_type": "code",
      "source": [
        "np.std(volCTindex)"
      ],
      "metadata": {
        "colab": {
          "base_uri": "https://localhost:8080/"
        },
        "id": "mXOhU8PeD9zu",
        "outputId": "ecff8a0d-bc1e-4124-dfe7-1fb5291ece08"
      },
      "execution_count": 37,
      "outputs": [
        {
          "output_type": "execute_result",
          "data": {
            "text/plain": [
              "35.93190789194416"
            ]
          },
          "metadata": {},
          "execution_count": 37
        }
      ]
    },
    {
      "cell_type": "markdown",
      "source": [
        "Now let's look at the first order features of skew and kurtosis. Skew is essentially measure of asymmetry of the distribution about the mean, while kurtosis can be thought of as the \"tailedness\" of a distribution with higher values of kurtosis associated with more outliers/more \"tailedness\" of the distribution. We will look at these briefly by importing from scipy.stats but obviously we are getting to the point where we are almost ready for pyradiomics\n",
        "\n",
        "The relevant documentation for scipy.stats is here:\n",
        "\n",
        "https://docs.scipy.org/doc/scipy/reference/generated/scipy.stats.skew.html\n",
        "\n",
        "https://docs.scipy.org/doc/scipy/reference/generated/scipy.stats.kurtosis.html"
      ],
      "metadata": {
        "id": "U04VaZyWEW51"
      }
    },
    {
      "cell_type": "code",
      "source": [
        "from scipy.stats import skew\n",
        "from scipy.stats import kurtosis\n",
        "\n",
        "print('Skew: '+str(skew(volCTindex)))\n",
        "print('Kurtosis: '+str(kurtosis(volCTindex)))"
      ],
      "metadata": {
        "colab": {
          "base_uri": "https://localhost:8080/"
        },
        "id": "bpMv85OiFkTP",
        "outputId": "913ba9fc-f750-416f-ea4b-6fde8eacb29a"
      },
      "execution_count": 38,
      "outputs": [
        {
          "output_type": "stream",
          "name": "stdout",
          "text": [
            "Skew: -0.7712698621858187\n",
            "Kurtosis: 6.990469707016951\n"
          ]
        }
      ]
    },
    {
      "cell_type": "markdown",
      "source": [
        "Now, before we jump to more radiomics, we will switch briefly to MRI to see how some basic manipulations of our MRI T1 in-phase and T1 out-phase data can enable us to coarsely estimate fat fraction based on the segmentation. There are more sophisticated modern methods for hepatic fat fraction estimation for MRI (e.g. proton density fat fraction) but for illustrative purposes here we will try to use segmentation to mimic the simple calculation of:\n",
        "\n",
        "[(In-phase Signal)-(Out-phase Signal)]/[2*(In-phase Signal)]\n",
        "\n",
        "You can read more about this method in Dr. Claude Sirlin's Radiographics commentary:\n",
        "\n",
        "[Radiographics commentary link](https://pubs.rsna.org/doi/10.1148/027153330290051277?url_ver=Z39.88-2003&rfr_id=ori:rid:crossref.org&rfr_dat=cr_pub%20%200pubmed)\n",
        "\n",
        "or potentially utilize Dr. Phillip Cheng's online calculator:\n",
        "\n",
        "https://pcheng.org/calc/hepatic_fat_mri.html\n"
      ],
      "metadata": {
        "id": "LTvx9-HJGebb"
      }
    },
    {
      "cell_type": "markdown",
      "source": [
        "We will start by getting an example MRI volume with T1 in-phase and T1 out-phase data"
      ],
      "metadata": {
        "id": "rwlA67hRDpbf"
      }
    },
    {
      "cell_type": "code",
      "source": [
        "expatientimagepathMRin='./Train_Sets/MR/1/T1DUAL/DICOM_anon/InPhase/'\n",
        "expatientimagepathMRout='./Train_Sets/MR/1/T1DUAL/DICOM_anon/OutPhase/'\n",
        "eximgsMRin=sorted(os.listdir(expatientimagepathMRin))\n",
        "eximgsMRout=sorted(os.listdir(expatientimagepathMRout))\n",
        "\n",
        "expatientlabelpathMR='./Train_Sets/MR/1/T1DUAL/Ground/'\n",
        "exlabelsMR=sorted(os.listdir(expatientlabelpathMR))\n",
        "\n",
        "numzMR=len(exlabelsMR)\n",
        "print(numzMR) #Number of slices"
      ],
      "metadata": {
        "colab": {
          "base_uri": "https://localhost:8080/"
        },
        "id": "ZlmN0GtuJ9m6",
        "outputId": "f0db005e-7eab-43d2-e7c3-de41d7192bee"
      },
      "execution_count": 39,
      "outputs": [
        {
          "output_type": "stream",
          "name": "stdout",
          "text": [
            "35\n"
          ]
        }
      ]
    },
    {
      "cell_type": "code",
      "source": [
        "#Now let's look at an example DICOM to get a better idea about the shape and spacing\n",
        "exMRpick=expatientimagepathMRin+eximgsMRin[10]\n",
        "mrex=pydicom.dcmread(exMRpick)\n",
        "mrex"
      ],
      "metadata": {
        "colab": {
          "base_uri": "https://localhost:8080/"
        },
        "id": "5fFZ6VYiMvgG",
        "outputId": "ab3019aa-7c8c-4751-a8f1-20c5c9c2dca4"
      },
      "execution_count": 40,
      "outputs": [
        {
          "output_type": "execute_result",
          "data": {
            "text/plain": [
              "Dataset.file_meta -------------------------------\n",
              "(0002, 0000) File Meta Information Group Length  UL: 210\n",
              "(0002, 0001) File Meta Information Version       OB: b'\\x00\\x01'\n",
              "(0002, 0002) Media Storage SOP Class UID         UI: MR Image Storage\n",
              "(0002, 0003) Media Storage SOP Instance UID      UI: 1.3.6.1.4.1.9590.100.1.2.260616927513309992437009908581804340445\n",
              "(0002, 0010) Transfer Syntax UID                 UI: Explicit VR Little Endian\n",
              "(0002, 0012) Implementation Class UID            UI: 1.3.6.1.4.1.9590.100.1.3.100.9.4\n",
              "(0002, 0013) Implementation Version Name         SH: 'MATLAB IPT 9.4'\n",
              "-------------------------------------------------\n",
              "(0008, 0005) Specific Character Set              CS: 'ISO_IR 100'\n",
              "(0008, 0008) Image Type                          CS: ['ORIGINAL', 'PRIMARY', 'M_FFE', 'M', 'FFE']\n",
              "(0008, 0012) Instance Creation Date              DA: ''\n",
              "(0008, 0013) Instance Creation Time              TM: ''\n",
              "(0008, 0014) Instance Creator UID                UI: 1.3.46.670589.11.20182.5\n",
              "(0008, 0016) SOP Class UID                       UI: MR Image Storage\n",
              "(0008, 0018) SOP Instance UID                    UI: 1.3.6.1.4.1.9590.100.1.2.260616927513309992437009908581804340445\n",
              "(0008, 0020) Study Date                          DA: ''\n",
              "(0008, 0021) Series Date                         DA: ''\n",
              "(0008, 0022) Acquisition Date                    DA: ''\n",
              "(0008, 0023) Content Date                        DA: ''\n",
              "(0008, 0030) Study Time                          TM: '083605'\n",
              "(0008, 0031) Series Time                         TM: '085044.89000'\n",
              "(0008, 0032) Acquisition Time                    TM: '085044.89'\n",
              "(0008, 0033) Content Time                        TM: '085044.89'\n",
              "(0008, 0050) Accession Number                    SH: ''\n",
              "(0008, 0060) Modality                            CS: 'MR'\n",
              "(0008, 0070) Manufacturer                        LO: ''\n",
              "(0008, 0080) Institution Name                    LO: ''\n",
              "(0008, 0081) Institution Address                 ST: ''\n",
              "(0008, 0090) Referring Physician's Name          PN: ''\n",
              "(0008, 1010) Station Name                        SH: ''\n",
              "(0008, 1030) Study Description                   LO: ''\n",
              "(0008, 103e) Series Description                  LO: ''\n",
              "(0008, 1040) Institutional Department Name       LO: ''\n",
              "(0008, 1070) Operators' Name                     PN: ''\n",
              "(0008, 1080) Admitting Diagnoses Description     LO: ''\n",
              "(0008, 1090) Manufacturer's Model Name           LO: ''\n",
              "(0010, 0010) Patient's Name                      PN: 'CHAOS^MR_SET_1'\n",
              "(0010, 0020) Patient ID                          LO: ''\n",
              "(0010, 0030) Patient's Birth Date                DA: ''\n",
              "(0010, 0040) Patient's Sex                       CS: ''\n",
              "(0010, 1000) Other Patient IDs                   LO: ''\n",
              "(0010, 1010) Patient's Age                       AS: ''\n",
              "(0010, 1030) Patient's Weight                    DS: None\n",
              "(0018, 0015) Body Part Examined                  CS: ''\n",
              "(0018, 0020) Scanning Sequence                   CS: 'GR'\n",
              "(0018, 0021) Sequence Variant                    CS: 'SS'\n",
              "(0018, 0022) Scan Options                        CS: 'SP'\n",
              "(0018, 0023) MR Acquisition Type                 CS: ''\n",
              "(0018, 0024) Sequence Name                       SH: ''\n",
              "(0018, 0050) Slice Thickness                     DS: '5.0'\n",
              "(0018, 0080) Repetition Time                     DS: '132.374801635742'\n",
              "(0018, 0081) Echo Time                           DS: '4.635'\n",
              "(0018, 0083) Number of Averages                  DS: '1.0'\n",
              "(0018, 0084) Imaging Frequency                   DS: '63.897062'\n",
              "(0018, 0085) Imaged Nucleus                      SH: '1H'\n",
              "(0018, 0086) Echo Number(s)                      IS: '2'\n",
              "(0018, 0087) Magnetic Field Strength             DS: '1.5'\n",
              "(0018, 0088) Spacing Between Slices              DS: '5.5'\n",
              "(0018, 0089) Number of Phase Encoding Steps      IS: '115'\n",
              "(0018, 0091) Echo Train Length                   IS: '2'\n",
              "(0018, 0093) Percent Sampling                    DS: '60.0'\n",
              "(0018, 0094) Percent Phase Field of View         DS: '70.8333312359052'\n",
              "(0018, 0095) Pixel Bandwidth                     DS: '523.0'\n",
              "(0018, 1000) Device Serial Number                LO: '00000'\n",
              "(0018, 1020) Software Versions                   LO: ['1.8.1', '1.8.1.5', 'Gyroscan PMS/DICOM 4.0 MR datadefs $Revision: 6.30 $']\n",
              "(0018, 1030) Protocol Name                       LO: 'T1DUAL_InPhase'\n",
              "(0018, 1081) Low R-R Value                       IS: '0'\n",
              "(0018, 1082) High R-R Value                      IS: '0'\n",
              "(0018, 1083) Intervals Acquired                  IS: '0'\n",
              "(0018, 1084) Intervals Rejected                  IS: '0'\n",
              "(0018, 1088) Heart Rate                          IS: '0'\n",
              "(0018, 1100) Reconstruction Diameter             DS: '485.0'\n",
              "(0018, 1250) Receive Coil Name                   SH: 'SENSE-Body'\n",
              "(0018, 1251) Transmit Coil Name                  SH: 'B'\n",
              "(0018, 1310) Acquisition Matrix                  US: [192, 0, 0, 115]\n",
              "(0018, 1312) In-plane Phase Encoding Direction   CS: 'COL'\n",
              "(0018, 1314) Flip Angle                          DS: '80.0'\n",
              "(0018, 5100) Patient Position                    CS: 'HFS'\n",
              "(0020, 000d) Study Instance UID                  UI: 1.3.46.670589.11.20182.5.0.8336.2013072408360400033\n",
              "(0020, 000e) Series Instance UID                 UI: 1.3.46.670589.11.20182.5.0.7188.2013072408504492575\n",
              "(0020, 0010) Study ID                            SH: '1'\n",
              "(0020, 0011) Series Number                       IS: '801'\n",
              "(0020, 0012) Acquisition Number                  IS: '8'\n",
              "(0020, 0013) Instance Number                     IS: '22'\n",
              "(0020, 0032) Image Position (Patient)            DS: [-232.99694347381, -238.76329636573, 15.760795593262]\n",
              "(0020, 0037) Image Orientation (Patient)         DS: [1, 0, 0, 0, 1, 0]\n",
              "(0020, 0052) Frame of Reference UID              UI: 1.3.46.670589.11.20182.5.0.7848.2013072408434965000\n",
              "(0020, 0100) Temporal Position Identifier        IS: '1'\n",
              "(0020, 0105) Number of Temporal Positions        IS: '1'\n",
              "(0020, 1040) Position Reference Indicator        LO: ''\n",
              "(0020, 1041) Slice Location                      DS: '55.0'\n",
              "(0028, 0002) Samples per Pixel                   US: 1\n",
              "(0028, 0004) Photometric Interpretation          CS: 'MONOCHROME2'\n",
              "(0028, 0010) Rows                                US: 256\n",
              "(0028, 0011) Columns                             US: 256\n",
              "(0028, 0030) Pixel Spacing                       DS: [1.89453125, 1.89453125]\n",
              "(0028, 0034) Pixel Aspect Ratio                  IS: [1, 1]\n",
              "(0028, 0100) Bits Allocated                      US: 16\n",
              "(0028, 0101) Bits Stored                         US: 16\n",
              "(0028, 0102) High Bit                            US: 15\n",
              "(0028, 0103) Pixel Representation                US: 0\n",
              "(0028, 0106) Smallest Image Pixel Value          US: 0\n",
              "(0028, 0107) Largest Image Pixel Value           US: 1132\n",
              "(0028, 1050) Window Center                       DS: '511.18'\n",
              "(0028, 1051) Window Width                        DS: '888.41'\n",
              "(0028, 2110) Lossy Image Compression             CS: '00'\n",
              "(0040, 0244) Performed Procedure Step Start Date DA: ''\n",
              "(0040, 0245) Performed Procedure Step Start Time TM: ''\n",
              "(0040, 0253) Performed Procedure Step ID         SH: ''\n",
              "(0040, 0254) Performed Procedure Step Descriptio LO: ''\n",
              "(7fe0, 0010) Pixel Data                          OW: Array of 131072 elements"
            ]
          },
          "metadata": {},
          "execution_count": 40
        }
      ]
    },
    {
      "cell_type": "code",
      "source": [
        "mrex['Rows']"
      ],
      "metadata": {
        "colab": {
          "base_uri": "https://localhost:8080/"
        },
        "id": "xyjL_DyLNVWe",
        "outputId": "78c0f54e-8b08-4855-9243-add4986408e5"
      },
      "execution_count": 41,
      "outputs": [
        {
          "output_type": "execute_result",
          "data": {
            "text/plain": [
              "(0028, 0010) Rows                                US: 256"
            ]
          },
          "metadata": {},
          "execution_count": 41
        }
      ]
    },
    {
      "cell_type": "code",
      "source": [
        "mrex['Columns'] #256 x 256 matrix size"
      ],
      "metadata": {
        "colab": {
          "base_uri": "https://localhost:8080/"
        },
        "id": "PAHYo4DCNdF0",
        "outputId": "5e4cc2f4-caa4-49e3-9962-e923651730a5"
      },
      "execution_count": 42,
      "outputs": [
        {
          "output_type": "execute_result",
          "data": {
            "text/plain": [
              "(0028, 0011) Columns                             US: 256"
            ]
          },
          "metadata": {},
          "execution_count": 42
        }
      ]
    },
    {
      "cell_type": "code",
      "source": [
        "mrex['PixelSpacing'] #Pixels about 1.9 mm apart in the xy plane"
      ],
      "metadata": {
        "colab": {
          "base_uri": "https://localhost:8080/"
        },
        "id": "fwxT3xPENfO4",
        "outputId": "66edc02e-9390-4274-dec5-25c0b4818a63"
      },
      "execution_count": 43,
      "outputs": [
        {
          "output_type": "execute_result",
          "data": {
            "text/plain": [
              "(0028, 0030) Pixel Spacing                       DS: [1.89453125, 1.89453125]"
            ]
          },
          "metadata": {},
          "execution_count": 43
        }
      ]
    },
    {
      "cell_type": "code",
      "source": [
        "mrex['SliceLocation']"
      ],
      "metadata": {
        "colab": {
          "base_uri": "https://localhost:8080/"
        },
        "id": "f0QYJkuCNln9",
        "outputId": "1fa30563-817b-4400-a943-bf88808a70d6"
      },
      "execution_count": 44,
      "outputs": [
        {
          "output_type": "execute_result",
          "data": {
            "text/plain": [
              "(0020, 1041) Slice Location                      DS: '55.0'"
            ]
          },
          "metadata": {},
          "execution_count": 44
        }
      ]
    },
    {
      "cell_type": "code",
      "source": [
        "mrex['SliceThickness'] #5 mm slice"
      ],
      "metadata": {
        "colab": {
          "base_uri": "https://localhost:8080/"
        },
        "id": "simwjAnONrQ3",
        "outputId": "417b915f-a467-41c1-9145-babe84a7d015"
      },
      "execution_count": 45,
      "outputs": [
        {
          "output_type": "execute_result",
          "data": {
            "text/plain": [
              "(0018, 0050) Slice Thickness                     DS: '5.0'"
            ]
          },
          "metadata": {},
          "execution_count": 45
        }
      ]
    },
    {
      "cell_type": "code",
      "source": [
        "#Now based on how the MR segmentation data is stored in the images,\n",
        "#we will want our function from lesson 2 again to convert the pixel values\n",
        "def chaosrelabel(imx1):\n",
        "  imx1[imx1<50]=0\n",
        "  imx1[np.where(np.logical_and(imx1>=50,imx1<90))]=1 #Liver\n",
        "  imx1[np.where(np.logical_and(imx1>=90,imx1<150))]=2 #Right kidney\n",
        "  imx1[np.where(np.logical_and(imx1>=150,imx1<210))]=3 #Left kidney\n",
        "  imx1[imx1>=210]=4 #Spleen\n",
        "  return imx1"
      ],
      "metadata": {
        "id": "sGOXIDgfQiYk"
      },
      "execution_count": 46,
      "outputs": []
    },
    {
      "cell_type": "code",
      "source": [
        "#Volumize the MR data first\n",
        "volMRin=np.zeros((256,256,numzMR)) \n",
        "volMRout=np.zeros((256,256,numzMR))\n",
        "volsegMR=np.zeros((256,256,numzMR))\n",
        "sliceposlsMRin=np.zeros((numzMR))\n",
        "sliceposlsMRout=np.zeros((numzMR))\n",
        "\n",
        "for xz in range(0,numzMR):\n",
        "  eximg1=expatientimagepathMRin+eximgsMRin[xz]\n",
        "  eximg2=expatientimagepathMRout+eximgsMRout[xz]\n",
        "  exlabel1=expatientlabelpathMR+exlabelsMR[xz]\n",
        "  mrex=pydicom.dcmread(eximg1) #Load the DICOM\n",
        "  volMRin[:,:,xz]=mrex.pixel_array\n",
        "  mrex2=pydicom.dcmread(eximg2)\n",
        "  volMRout[:,:,xz]=mrex2.pixel_array\n",
        "  volsegMR[:,:,xz]=chaosrelabel(np.array(Image.open(exlabel1)))\n",
        "  sliceposlsMRin[xz]=mrex['SliceLocation'].value #Put slice position in an array\n",
        "  sliceposlsMRout[xz]=mrex2['SliceLocation'].value"
      ],
      "metadata": {
        "id": "B9K1B_nUJ9qF"
      },
      "execution_count": 47,
      "outputs": []
    },
    {
      "cell_type": "code",
      "source": [
        "sliceposlsMRin #Look at the in-phase slice positions"
      ],
      "metadata": {
        "colab": {
          "base_uri": "https://localhost:8080/"
        },
        "id": "O3iZQBu1J9ug",
        "outputId": "6d0729be-26a1-473e-bf3d-18aaf399bde1"
      },
      "execution_count": 48,
      "outputs": [
        {
          "output_type": "execute_result",
          "data": {
            "text/plain": [
              "array([  0.        ,   5.5       ,  11.        ,  16.5       ,\n",
              "        22.        ,  27.5       ,  33.        ,  38.5       ,\n",
              "        44.        ,  49.5       ,  55.        ,  60.5       ,\n",
              "        66.        ,  71.5       ,  77.        ,  82.5       ,\n",
              "        88.        ,  93.5       ,  99.        , 104.5       ,\n",
              "       110.        , 115.5       , 121.        , 126.5       ,\n",
              "       132.        , 137.5       , 143.        , 148.5       ,\n",
              "       154.        , 159.5       , 165.        , 170.50000763,\n",
              "       176.00000763, 181.50000763, 187.00000763])"
            ]
          },
          "metadata": {},
          "execution_count": 48
        }
      ]
    },
    {
      "cell_type": "code",
      "source": [
        "sliceposlsMRout #Now the out phase slice positions (same, 5.5 mm apart)"
      ],
      "metadata": {
        "colab": {
          "base_uri": "https://localhost:8080/"
        },
        "id": "cb_DKUVTJ9yr",
        "outputId": "a48938e2-a597-4d9a-a88e-6eead5766306"
      },
      "execution_count": 49,
      "outputs": [
        {
          "output_type": "execute_result",
          "data": {
            "text/plain": [
              "array([  0.        ,   5.5       ,  11.        ,  16.5       ,\n",
              "        22.        ,  27.5       ,  33.        ,  38.5       ,\n",
              "        44.        ,  49.5       ,  55.        ,  60.5       ,\n",
              "        66.        ,  71.5       ,  77.        ,  82.5       ,\n",
              "        88.        ,  93.5       ,  99.        , 104.5       ,\n",
              "       110.        , 115.5       , 121.        , 126.5       ,\n",
              "       132.        , 137.5       , 143.        , 148.5       ,\n",
              "       154.        , 159.5       , 165.        , 170.50000763,\n",
              "       176.00000763, 181.50000763, 187.00000763])"
            ]
          },
          "metadata": {},
          "execution_count": 49
        }
      ]
    },
    {
      "cell_type": "code",
      "source": [
        "MRdiff=volMRin-volMRout #Compute the difference between in phase and out phase"
      ],
      "metadata": {
        "id": "wMsFOkHKJ92P"
      },
      "execution_count": 50,
      "outputs": []
    },
    {
      "cell_type": "code",
      "source": [
        "segindexMR=np.where(volsegMR==1)"
      ],
      "metadata": {
        "id": "8P4lOdlCP6fT"
      },
      "execution_count": 51,
      "outputs": []
    },
    {
      "cell_type": "code",
      "source": [
        "#Element wise division of the segmentations of MR intensity values according to fat fraction formula\n",
        "MRfatfrac1=np.divide(MRdiff[segindexMR],2*volMRin[segindexMR])\n"
      ],
      "metadata": {
        "id": "f-ncFJVgP6pn"
      },
      "execution_count": 52,
      "outputs": []
    },
    {
      "cell_type": "code",
      "source": [
        "MRfatfrac1"
      ],
      "metadata": {
        "colab": {
          "base_uri": "https://localhost:8080/"
        },
        "id": "idsENn6rQYrx",
        "outputId": "be5f3df4-dd6d-4501-e3b1-f3329f5d05d4"
      },
      "execution_count": 53,
      "outputs": [
        {
          "output_type": "execute_result",
          "data": {
            "text/plain": [
              "array([0.28941176, 0.33816425, 0.34814815, ..., 0.20408163, 0.16183575,\n",
              "       0.12652068])"
            ]
          },
          "metadata": {},
          "execution_count": 53
        }
      ]
    },
    {
      "cell_type": "code",
      "source": [
        "np.mean(MRfatfrac1)*100 #Normal hepatic fat fraction (less than 5%)"
      ],
      "metadata": {
        "colab": {
          "base_uri": "https://localhost:8080/"
        },
        "id": "Eqeq_PqHP6vX",
        "outputId": "e9678075-8ca2-4cdd-aabb-67c886ad0d43"
      },
      "execution_count": 54,
      "outputs": [
        {
          "output_type": "execute_result",
          "data": {
            "text/plain": [
              "1.6828733399676856"
            ]
          },
          "metadata": {},
          "execution_count": 54
        }
      ]
    },
    {
      "cell_type": "code",
      "source": [
        "np.std(MRfatfrac1)"
      ],
      "metadata": {
        "colab": {
          "base_uri": "https://localhost:8080/"
        },
        "id": "mzIhYj84J95A",
        "outputId": "409e0dc0-c04e-466a-c5d0-ea68272205f1"
      },
      "execution_count": 55,
      "outputs": [
        {
          "output_type": "execute_result",
          "data": {
            "text/plain": [
              "0.08528094596162474"
            ]
          },
          "metadata": {},
          "execution_count": 55
        }
      ]
    },
    {
      "cell_type": "code",
      "source": [
        "np.median(MRfatfrac1)*100"
      ],
      "metadata": {
        "colab": {
          "base_uri": "https://localhost:8080/"
        },
        "id": "bHN0uxjXYWez",
        "outputId": "7d19c4a4-9411-4987-c83a-0308c3a5b868"
      },
      "execution_count": 56,
      "outputs": [
        {
          "output_type": "execute_result",
          "data": {
            "text/plain": [
              "-0.13850415512465375"
            ]
          },
          "metadata": {},
          "execution_count": 56
        }
      ]
    },
    {
      "cell_type": "code",
      "source": [
        "np.max(MRfatfrac1)*100"
      ],
      "metadata": {
        "colab": {
          "base_uri": "https://localhost:8080/"
        },
        "id": "n4zLQnpkV9w4",
        "outputId": "e1dd22e9-44ab-45ab-d74d-163bac498ca0"
      },
      "execution_count": 57,
      "outputs": [
        {
          "output_type": "execute_result",
          "data": {
            "text/plain": [
              "49.717514124293785"
            ]
          },
          "metadata": {},
          "execution_count": 57
        }
      ]
    },
    {
      "cell_type": "code",
      "source": [
        "np.min(MRfatfrac1)*100"
      ],
      "metadata": {
        "colab": {
          "base_uri": "https://localhost:8080/"
        },
        "id": "PnrnasMRWHoB",
        "outputId": "7bf2f2b9-dc35-457f-c6fb-c7e5f397aec4"
      },
      "execution_count": 58,
      "outputs": [
        {
          "output_type": "execute_result",
          "data": {
            "text/plain": [
              "-42.23880597014925"
            ]
          },
          "metadata": {},
          "execution_count": 58
        }
      ]
    },
    {
      "cell_type": "code",
      "source": [
        "np.percentile(MRfatfrac1,[25,75])*100 #Interquartile range"
      ],
      "metadata": {
        "colab": {
          "base_uri": "https://localhost:8080/"
        },
        "id": "GzaGKDxYYM3j",
        "outputId": "e83a88ae-118d-4bc8-9a5c-f2df0dc4db86"
      },
      "execution_count": 59,
      "outputs": [
        {
          "output_type": "execute_result",
          "data": {
            "text/plain": [
              "array([-1.67064439,  1.65781091])"
            ]
          },
          "metadata": {},
          "execution_count": 59
        }
      ]
    },
    {
      "cell_type": "markdown",
      "source": [
        "So, clearly when looking at the statistics for this estimate of fat fraction, not all of the numbers numerically make sense for every pixel value in the segmentation. However, this patient has normal (less than 5%) hepatic fat fraction. Let's turn this calculation into a function to look at all the training dataset cases"
      ],
      "metadata": {
        "id": "ockY_0b_YcCF"
      }
    },
    {
      "cell_type": "code",
      "source": [
        "MRhighlevelpath='./Train_Sets/MR/'\n",
        "MRptls=os.listdir(MRhighlevelpath)\n",
        "MRptls"
      ],
      "metadata": {
        "colab": {
          "base_uri": "https://localhost:8080/"
        },
        "id": "TvcQ0T2TZAO0",
        "outputId": "b34ec387-a5ff-4857-8623-2b12dc02fe0d"
      },
      "execution_count": 60,
      "outputs": [
        {
          "output_type": "execute_result",
          "data": {
            "text/plain": [
              "['21',\n",
              " '10',\n",
              " '20',\n",
              " '15',\n",
              " '2',\n",
              " '36',\n",
              " '5',\n",
              " '33',\n",
              " '19',\n",
              " '13',\n",
              " '8',\n",
              " '1',\n",
              " '31',\n",
              " '22',\n",
              " '32',\n",
              " '3',\n",
              " '38',\n",
              " '34',\n",
              " '37',\n",
              " '39']"
            ]
          },
          "metadata": {},
          "execution_count": 60
        }
      ]
    },
    {
      "cell_type": "code",
      "source": [
        "def MRfatcalcfunc(ptpick):\n",
        "  expatientimagepathMRin='./Train_Sets/MR/'+str(ptpick)+'/T1DUAL/DICOM_anon/InPhase/'\n",
        "  expatientimagepathMRout='./Train_Sets/MR/'+str(ptpick)+'/T1DUAL/DICOM_anon/OutPhase/'\n",
        "  eximgsMRin=sorted(os.listdir(expatientimagepathMRin))\n",
        "  eximgsMRout=sorted(os.listdir(expatientimagepathMRout))\n",
        "\n",
        "  expatientlabelpathMR='./Train_Sets/MR/'+str(ptpick)+'/T1DUAL/Ground/'\n",
        "  exlabelsMR=sorted(os.listdir(expatientlabelpathMR))\n",
        "\n",
        "  numzMR=len(exlabelsMR)\n",
        "\n",
        "  #Take a first look at the DICOM values\n",
        "  exMRpick=expatientimagepathMRin+eximgsMRin[0]\n",
        "  mrex=pydicom.dcmread(exMRpick)\n",
        "  numrow=mrex['Rows'].value\n",
        "  numcol=mrex['Columns'].value\n",
        "\n",
        "  #Volumize the MR data first\n",
        "  volMRin=np.zeros((numrow,numcol,numzMR))\n",
        "  volMRout=np.zeros((numrow,numcol,numzMR))\n",
        "  volsegMR=np.zeros((numrow,numcol,numzMR))\n",
        "  sliceposlsMRin=np.zeros((numzMR))\n",
        "  sliceposlsMRout=np.zeros((numzMR))\n",
        "\n",
        "  for xz in range(0,numzMR):\n",
        "    eximg1=expatientimagepathMRin+eximgsMRin[xz]\n",
        "    eximg2=expatientimagepathMRout+eximgsMRout[xz]\n",
        "    exlabel1=expatientlabelpathMR+exlabelsMR[xz]\n",
        "    mrex=pydicom.dcmread(eximg1) #Load the DICOM\n",
        "    volMRin[:,:,xz]=mrex.pixel_array\n",
        "    mrex2=pydicom.dcmread(eximg2)\n",
        "    volMRout[:,:,xz]=mrex2.pixel_array\n",
        "    volsegMR[:,:,xz]=chaosrelabel(np.array(Image.open(exlabel1)))\n",
        "    sliceposlsMRin[xz]=mrex['SliceLocation'].value #Put slice position in an array\n",
        "    sliceposlsMRout[xz]=mrex2['SliceLocation'].value\n",
        "\n",
        "  MRdiff=volMRin-volMRout\n",
        "  segindexMR=np.where(volsegMR==1)\n",
        "  MRfatfrac1=np.divide(MRdiff[segindexMR],2*volMRin[segindexMR])\n",
        "  fatcalcmean=np.mean(MRfatfrac1)*100\n",
        "\n",
        "  return fatcalcmean"
      ],
      "metadata": {
        "id": "-WfChS-EZJp_"
      },
      "execution_count": 61,
      "outputs": []
    },
    {
      "cell_type": "code",
      "source": [
        "#Now use the function to get the mean fat fractions in the hepatic segmentations which will take a few seconds\n",
        "fatmeanls=[]\n",
        "for fx in MRptls:\n",
        "  fatmeanls.append(MRfatcalcfunc(fx))\n",
        "\n"
      ],
      "metadata": {
        "id": "vX5eornJZJv_"
      },
      "execution_count": 62,
      "outputs": []
    },
    {
      "cell_type": "code",
      "source": [
        "plt.bar(MRptls,fatmeanls)\n",
        "plt.xlabel('Patient Index')\n",
        "plt.ylabel('Estimated Fat Fraction')\n",
        "plt.title('Hepatic Fat Fraction Estimations')"
      ],
      "metadata": {
        "colab": {
          "base_uri": "https://localhost:8080/",
          "height": 312
        },
        "id": "SWEQrmIxZJ1u",
        "outputId": "f0236a53-92db-4823-bb57-ba559b800aa1"
      },
      "execution_count": 63,
      "outputs": [
        {
          "output_type": "execute_result",
          "data": {
            "text/plain": [
              "Text(0.5, 1.0, 'Hepatic Fat Fraction Estimations')"
            ]
          },
          "metadata": {},
          "execution_count": 63
        },
        {
          "output_type": "display_data",
          "data": {
            "text/plain": [
              "<Figure size 432x288 with 1 Axes>"
            ],
            "image/png": "[encoded data removed]"
          },
          "metadata": {
            "needs_background": "light"
          }
        }
      ]
    },
    {
      "cell_type": "code",
      "source": [
        "fatmeanarray=np.array(fatmeanls)\n",
        "len(fatmeanarray[fatmeanarray>5])"
      ],
      "metadata": {
        "colab": {
          "base_uri": "https://localhost:8080/"
        },
        "id": "Qig44F3mZJ7T",
        "outputId": "cad9cbd8-b51b-4215-8d6f-5c0131673ff9"
      },
      "execution_count": 64,
      "outputs": [
        {
          "output_type": "execute_result",
          "data": {
            "text/plain": [
              "8"
            ]
          },
          "metadata": {},
          "execution_count": 64
        }
      ]
    },
    {
      "cell_type": "code",
      "source": [
        "len(fatmeanarray)"
      ],
      "metadata": {
        "colab": {
          "base_uri": "https://localhost:8080/"
        },
        "id": "xay1eTNmfNxR",
        "outputId": "32cca28b-1b0b-461a-f603-f1cca53bac9d"
      },
      "execution_count": 65,
      "outputs": [
        {
          "output_type": "execute_result",
          "data": {
            "text/plain": [
              "20"
            ]
          },
          "metadata": {},
          "execution_count": 65
        }
      ]
    },
    {
      "cell_type": "markdown",
      "source": [
        "Okay, so these results are relatively interesting. We have 20 patients in the training dataset and 8 (40%) have fat fraction estimated as greater than 5% by our methods. We also have several interesting cases that we will want to further visualize. We could display images programmatically here, but we would actually recommend viewing the data locally with dedicated DICOM viewer software for this inspection process."
      ],
      "metadata": {
        "id": "sjiNLS5JfQ7-"
      }
    },
    {
      "cell_type": "markdown",
      "source": [
        "Case 15 with the negative estimated fat fraction is interesting because the liver and spleen are T2 hypointense to skeletal muscle (likely related to iron deposition, see references such as https://www.ajronline.org/doi/full/10.2214/ajr.174.4.1740965 for further details).\n",
        "\n",
        "Case 5 and 32 also catch our attention. As expected, case 5 and 32 demonstrate significant out of phase T1 drop out as expected in hepatic steatosis. "
      ],
      "metadata": {
        "id": "vqHfneT7gGRk"
      }
    },
    {
      "cell_type": "markdown",
      "source": [
        "This data is pretty interesting and something we might want to use later in Lesson 4... so let's save it to a CSV file.\n",
        "\n",
        "We haven't used Pandas yet (even though we have been importing it) so now let's create a dataframe from our patient index list and fat fraction estimate and then save the dataframe as a CSV.\n",
        "\n",
        "You can learn more about Pandas here: https://pandas.pydata.org/docs/"
      ],
      "metadata": {
        "id": "bPtemB28i8KZ"
      }
    },
    {
      "cell_type": "code",
      "source": [
        "df = pd.DataFrame(list(zip(MRptls, fatmeanls)),columns =['PatientIndex', 'FatFraction']) #Create a dataframe from our lists"
      ],
      "metadata": {
        "id": "DL2CWj2BfQFl"
      },
      "execution_count": 66,
      "outputs": []
    },
    {
      "cell_type": "code",
      "source": [
        "df #Look at it"
      ],
      "metadata": {
        "colab": {
          "base_uri": "https://localhost:8080/",
          "height": 676
        },
        "id": "yvQTOs_Sj-mB",
        "outputId": "8cc37682-880d-4ac8-b262-415bcaf9f9b0"
      },
      "execution_count": 67,
      "outputs": [
        {
          "output_type": "execute_result",
          "data": {
            "text/plain": [
              "   PatientIndex  FatFraction\n",
              "0            21     0.943073\n",
              "1            10     7.682899\n",
              "2            20     7.045923\n",
              "3            15    -2.221292\n",
              "4             2     1.508953\n",
              "5            36     4.550121\n",
              "6             5    24.624095\n",
              "7            33    12.194106\n",
              "8            19     6.961539\n",
              "9            13     5.011798\n",
              "10            8     3.321203\n",
              "11            1     1.682873\n",
              "12           31     1.746738\n",
              "13           22    -0.138241\n",
              "14           32    23.455046\n",
              "15            3     5.810371\n",
              "16           38    -0.486450\n",
              "17           34     1.402582\n",
              "18           37     1.409120\n",
              "19           39     1.841322"
            ],
            "text/html": [
              "\n",
              "  <div id=\"df-b2aaa390-370a-46bb-910b-66eb1a91b05e\">\n",
              "    <div class=\"colab-df-container\">\n",
              "      <div>\n",
              "<style scoped>\n",
              "    .dataframe tbody tr th:only-of-type {\n",
              "        vertical-align: middle;\n",
              "    }\n",
              "\n",
              "    .dataframe tbody tr th {\n",
              "        vertical-align: top;\n",
              "    }\n",
              "\n",
              "    .dataframe thead th {\n",
              "        text-align: right;\n",
              "    }\n",
              "</style>\n",
              "<table border=\"1\" class=\"dataframe\">\n",
              "  <thead>\n",
              "    <tr style=\"text-align: right;\">\n",
              "      <th></th>\n",
              "      <th>PatientIndex</th>\n",
              "      <th>FatFraction</th>\n",
              "    </tr>\n",
              "  </thead>\n",
              "  <tbody>\n",
              "    <tr>\n",
              "      <th>0</th>\n",
              "      <td>21</td>\n",
              "      <td>0.943073</td>\n",
              "    </tr>\n",
              "    <tr>\n",
              "      <th>1</th>\n",
              "      <td>10</td>\n",
              "      <td>7.682899</td>\n",
              "    </tr>\n",
              "    <tr>\n",
              "      <th>2</th>\n",
              "      <td>20</td>\n",
              "      <td>7.045923</td>\n",
              "    </tr>\n",
              "    <tr>\n",
              "      <th>3</th>\n",
              "      <td>15</td>\n",
              "      <td>-2.221292</td>\n",
              "    </tr>\n",
              "    <tr>\n",
              "      <th>4</th>\n",
              "      <td>2</td>\n",
              "      <td>1.508953</td>\n",
              "    </tr>\n",
              "    <tr>\n",
              "      <th>5</th>\n",
              "      <td>36</td>\n",
              "      <td>4.550121</td>\n",
              "    </tr>\n",
              "    <tr>\n",
              "      <th>6</th>\n",
              "      <td>5</td>\n",
              "      <td>24.624095</td>\n",
              "    </tr>\n",
              "    <tr>\n",
              "      <th>7</th>\n",
              "      <td>33</td>\n",
              "      <td>12.194106</td>\n",
              "    </tr>\n",
              "    <tr>\n",
              "      <th>8</th>\n",
              "      <td>19</td>\n",
              "      <td>6.961539</td>\n",
              "    </tr>\n",
              "    <tr>\n",
              "      <th>9</th>\n",
              "      <td>13</td>\n",
              "      <td>5.011798</td>\n",
              "    </tr>\n",
              "    <tr>\n",
              "      <th>10</th>\n",
              "      <td>8</td>\n",
              "      <td>3.321203</td>\n",
              "    </tr>\n",
              "    <tr>\n",
              "      <th>11</th>\n",
              "      <td>1</td>\n",
              "      <td>1.682873</td>\n",
              "    </tr>\n",
              "    <tr>\n",
              "      <th>12</th>\n",
              "      <td>31</td>\n",
              "      <td>1.746738</td>\n",
              "    </tr>\n",
              "    <tr>\n",
              "      <th>13</th>\n",
              "      <td>22</td>\n",
              "      <td>-0.138241</td>\n",
              "    </tr>\n",
              "    <tr>\n",
              "      <th>14</th>\n",
              "      <td>32</td>\n",
              "      <td>23.455046</td>\n",
              "    </tr>\n",
              "    <tr>\n",
              "      <th>15</th>\n",
              "      <td>3</td>\n",
              "      <td>5.810371</td>\n",
              "    </tr>\n",
              "    <tr>\n",
              "      <th>16</th>\n",
              "      <td>38</td>\n",
              "      <td>-0.486450</td>\n",
              "    </tr>\n",
              "    <tr>\n",
              "      <th>17</th>\n",
              "      <td>34</td>\n",
              "      <td>1.402582</td>\n",
              "    </tr>\n",
              "    <tr>\n",
              "      <th>18</th>\n",
              "      <td>37</td>\n",
              "      <td>1.409120</td>\n",
              "    </tr>\n",
              "    <tr>\n",
              "      <th>19</th>\n",
              "      <td>39</td>\n",
              "      <td>1.841322</td>\n",
              "    </tr>\n",
              "  </tbody>\n",
              "</table>\n",
              "</div>\n",
              "      <button class=\"colab-df-convert\" onclick=\"convertToInteractive('df-b2aaa390-370a-46bb-910b-66eb1a91b05e')\"\n",
              "              title=\"Convert this dataframe to an interactive table.\"\n",
              "              style=\"display:none;\">\n",
              "        \n",
              "  <svg xmlns=\"http://www.w3.org/2000/svg\" height=\"24px\"viewBox=\"0 0 24 24\"\n",
              "       width=\"24px\">\n",
              "    <path d=\"M0 0h24v24H0V0z\" fill=\"none\"/>\n",
              "    <path d=\"M18.56 5.44l.94 2.06.94-2.06 2.06-.94-2.06-.94-.94-2.06-.94 2.06-2.06.94zm-11 1L8.5 8.5l.94-2.06 2.06-.94-2.06-.94L8.5 2.5l-.94 2.06-2.06.94zm10 10l.94 2.06.94-2.06 2.06-.94-2.06-.94-.94-2.06-.94 2.06-2.06.94z\"/><path d=\"M17.41 7.96l-1.37-1.37c-.4-.4-.92-.59-1.43-.59-.52 0-1.04.2-1.43.59L10.3 9.45l-7.72 7.72c-.78.78-.78 2.05 0 2.83L4 21.41c.39.39.9.59 1.41.59.51 0 1.02-.2 1.41-.59l7.78-7.78 2.81-2.81c.8-.78.8-2.07 0-2.86zM5.41 20L4 18.59l7.72-7.72 1.47 1.35L5.41 20z\"/>\n",
              "  </svg>\n",
              "      </button>\n",
              "      \n",
              "  <style>\n",
              "    .colab-df-container {\n",
              "      display:flex;\n",
              "      flex-wrap:wrap;\n",
              "      gap: 12px;\n",
              "    }\n",
              "\n",
              "    .colab-df-convert {\n",
              "      background-color: #E8F0FE;\n",
              "      border: none;\n",
              "      border-radius: 50%;\n",
              "      cursor: pointer;\n",
              "      display: none;\n",
              "      fill: #1967D2;\n",
              "      height: 32px;\n",
              "      padding: 0 0 0 0;\n",
              "      width: 32px;\n",
              "    }\n",
              "\n",
              "    .colab-df-convert:hover {\n",
              "      background-color: #E2EBFA;\n",
              "      box-shadow: 0px 1px 2px rgba(60, 64, 67, 0.3), 0px 1px 3px 1px rgba(60, 64, 67, 0.15);\n",
              "      fill: #174EA6;\n",
              "    }\n",
              "\n",
              "    [theme=dark] .colab-df-convert {\n",
              "      background-color: #3B4455;\n",
              "      fill: #D2E3FC;\n",
              "    }\n",
              "\n",
              "    [theme=dark] .colab-df-convert:hover {\n",
              "      background-color: #434B5C;\n",
              "      box-shadow: 0px 1px 3px 1px rgba(0, 0, 0, 0.15);\n",
              "      filter: drop-shadow(0px 1px 2px rgba(0, 0, 0, 0.3));\n",
              "      fill: #FFFFFF;\n",
              "    }\n",
              "  </style>\n",
              "\n",
              "      <script>\n",
              "        const buttonEl =\n",
              "          document.querySelector('#df-b2aaa390-370a-46bb-910b-66eb1a91b05e button.colab-df-convert');\n",
              "        buttonEl.style.display =\n",
              "          google.colab.kernel.accessAllowed ? 'block' : 'none';\n",
              "\n",
              "        async function convertToInteractive(key) {\n",
              "          const element = document.querySelector('#df-b2aaa390-370a-46bb-910b-66eb1a91b05e');\n",
              "          const dataTable =\n",
              "            await google.colab.kernel.invokeFunction('convertToInteractive',\n",
              "                                                     [key], {});\n",
              "          if (!dataTable) return;\n",
              "\n",
              "          const docLinkHtml = 'Like what you see? Visit the ' +\n",
              "            '<a target=\"_blank\" href=https://colab.research.google.com/notebooks/data_table.ipynb>data table notebook</a>'\n",
              "            + ' to learn more about interactive tables.';\n",
              "          element.innerHTML = '';\n",
              "          dataTable['output_type'] = 'display_data';\n",
              "          await google.colab.output.renderOutput(dataTable, element);\n",
              "          const docLink = document.createElement('div');\n",
              "          docLink.innerHTML = docLinkHtml;\n",
              "          element.appendChild(docLink);\n",
              "        }\n",
              "      </script>\n",
              "    </div>\n",
              "  </div>\n",
              "  "
            ]
          },
          "metadata": {},
          "execution_count": 67
        }
      ]
    },
    {
      "cell_type": "code",
      "source": [
        "df.to_csv('MRfatfracs.csv') #Save it, you can then download this but it will be in the Github repo, ready for lesson 4"
      ],
      "metadata": {
        "id": "imRJ87yUZJ_L"
      },
      "execution_count": 68,
      "outputs": []
    },
    {
      "cell_type": "markdown",
      "source": [
        "Now that we've spent some time interacting with and visualizing the data. It's time to utilize the pyradiomics package for more advanced radiomics analysis. First we will do a bit of data reformatting with SITK."
      ],
      "metadata": {
        "id": "hnaQcGisnw2X"
      }
    },
    {
      "cell_type": "markdown",
      "source": [
        "With SITK, we can read in our series of individual DICOM slices and then package them into a Nifti format file. The name Nifti is from Neuroimaging Informatics Technology Initiative, although obviously we can use this format for more than just neuroimaging. "
      ],
      "metadata": {
        "id": "mKAqBCIYIDrT"
      }
    },
    {
      "cell_type": "code",
      "source": [
        "sCTpath='./Train_Sets/CT/1/DICOM_anon/'\n",
        "sreader=sitk.ImageSeriesReader()\n",
        "dnames=sreader.GetGDCMSeriesFileNames(sCTpath)\n",
        "sreader.SetFileNames(dnames)\n",
        "imageEx=sreader.Execute()\n",
        "sitk.WriteImage(imageEx,'exampleImage.nii.gz') #Write it as a Nifti format"
      ],
      "metadata": {
        "id": "kI7nl-u8oAOC"
      },
      "execution_count": 69,
      "outputs": []
    },
    {
      "cell_type": "markdown",
      "source": [
        "We now have converted our folder of DICOM files to a single Nifti format image"
      ],
      "metadata": {
        "id": "Z08-4NECu4A7"
      }
    },
    {
      "cell_type": "code",
      "source": [
        "imageEx.GetOrigin() #Check the origin data in the SITK image"
      ],
      "metadata": {
        "colab": {
          "base_uri": "https://localhost:8080/"
        },
        "id": "4NWgSyCWvhIy",
        "outputId": "10c91332-0edd-4f7f-8e68-e5f7f1ed6f77"
      },
      "execution_count": 70,
      "outputs": [
        {
          "output_type": "execute_result",
          "data": {
            "text/plain": [
              "(-167.7859, -176.0438, -226.5)"
            ]
          },
          "metadata": {},
          "execution_count": 70
        }
      ]
    },
    {
      "cell_type": "code",
      "source": [
        "imageEx.GetSpacing() #Check the image spacing"
      ],
      "metadata": {
        "colab": {
          "base_uri": "https://localhost:8080/"
        },
        "id": "fwL-6xWzwBQA",
        "outputId": "17ffbeb6-67bc-43e7-99e1-23e23be994b1"
      },
      "execution_count": 71,
      "outputs": [
        {
          "output_type": "execute_result",
          "data": {
            "text/plain": [
              "(0.687671, 0.687671, 1.5)"
            ]
          },
          "metadata": {},
          "execution_count": 71
        }
      ]
    },
    {
      "cell_type": "code",
      "source": [
        "imageEx.GetSize() #Get the size"
      ],
      "metadata": {
        "colab": {
          "base_uri": "https://localhost:8080/"
        },
        "id": "b0Bozb66wjmf",
        "outputId": "6595c96d-4c3b-4e0c-abf5-36506bc69de7"
      },
      "execution_count": 72,
      "outputs": [
        {
          "output_type": "execute_result",
          "data": {
            "text/plain": [
              "(512, 512, 96)"
            ]
          },
          "metadata": {},
          "execution_count": 72
        }
      ]
    },
    {
      "cell_type": "code",
      "source": [
        "imageEx.GetDirection()"
      ],
      "metadata": {
        "colab": {
          "base_uri": "https://localhost:8080/"
        },
        "id": "_PDVNhH13npr",
        "outputId": "da945839-e076-42ad-fe20-18c8c4f6f448"
      },
      "execution_count": 73,
      "outputs": [
        {
          "output_type": "execute_result",
          "data": {
            "text/plain": [
              "(1.0, 0.0, 0.0, 0.0, 1.0, 0.0, 0.0, 0.0, 1.0)"
            ]
          },
          "metadata": {},
          "execution_count": 73
        }
      ]
    },
    {
      "cell_type": "markdown",
      "source": [
        "We have checked on all of these components (origin, spacing, size, and direction) as they are important to ITK and SITK given that SITK treats image data as being in essentially a physical space. This is further detailed in the Simple ITK Fundamental Concpets documentation which is great material to review: https://simpleitk.readthedocs.io/en/master/fundamentalConcepts.html"
      ],
      "metadata": {
        "id": "WWKDBT2qIvq0"
      }
    },
    {
      "cell_type": "code",
      "source": [
        "exSz=imageEx.GetSize()\n",
        "exSz"
      ],
      "metadata": {
        "colab": {
          "base_uri": "https://localhost:8080/"
        },
        "id": "pQFExbMZw6R0",
        "outputId": "04febfe3-872d-4890-c251-485d6f11ec74"
      },
      "execution_count": 74,
      "outputs": [
        {
          "output_type": "execute_result",
          "data": {
            "text/plain": [
              "(512, 512, 96)"
            ]
          },
          "metadata": {},
          "execution_count": 74
        }
      ]
    },
    {
      "cell_type": "markdown",
      "source": [
        "Now we will also want to reformat the corresponding label images which are binary PNGs"
      ],
      "metadata": {
        "id": "1LqimE8MwTLv"
      }
    },
    {
      "cell_type": "markdown",
      "source": [
        "An important caveat here is that when we convert our list of label images to a Numpy array and then use the SITK function GetImageFromArray, SITK has certain expectations about the format of the Numpy array. When verbosely using a for loop to feed images into a 3D array, we have typically previously used x-y-z dimensions. But, SITK expects Numpy arrays to have the z dimension first so we are changing how we loop through the images in the next cell. We are also reversing the order that we loop through the images in the z direction based on the position data.\n",
        "\n",
        "The important takeaway here, is that there could easily potentially be a mismatch between a loaded image volume and a loaded segmentation if not careful in understanding different libraries and packages being useful. Visualization of data is always important and here it can be incredibly helpful for checking that segmentations and the corresponding image data match in orientation. Additionally, numerical checks can be performed. For example, we know our expected mean HU value for the liver segmentation is approximately 148 HU. If we have a mismatch from this expected value, then this can prompt troubleshooting.\n",
        "\n",
        "You can read more about this potential issue in a dedicated SITK tutorial notebook - [Tutorial notebook link](http://insightsoftwareconsortium.github.io/SimpleITK-Notebooks/Python_html/01_Image_Basics.html)"
      ],
      "metadata": {
        "id": "CgSQkMPiK431"
      }
    },
    {
      "cell_type": "code",
      "source": [
        "sCTlabelpath='./Train_Sets/CT/1/Ground/'\n",
        "labelvol=np.zeros((96,512,512))\n",
        "labelnames=sorted(os.listdir(sCTlabelpath))\n",
        "for xz in range(0,exSz[2]):\n",
        "  idxz=exSz[2]-xz-1\n",
        "  labeltemp=sCTlabelpath+labelnames[xz]\n",
        "  labelvol[idxz,:,:]=1*np.array(Image.open(labeltemp))\n",
        "\n",
        "\n"
      ],
      "metadata": {
        "id": "Ih0DPnuWvhPn"
      },
      "execution_count": 75,
      "outputs": []
    },
    {
      "cell_type": "code",
      "source": [
        "labelvol.shape"
      ],
      "metadata": {
        "colab": {
          "base_uri": "https://localhost:8080/"
        },
        "id": "YDIk3PJvDyAb",
        "outputId": "204f3681-790f-4bcb-bf15-33de1bd49e32"
      },
      "execution_count": 76,
      "outputs": [
        {
          "output_type": "execute_result",
          "data": {
            "text/plain": [
              "(96, 512, 512)"
            ]
          },
          "metadata": {},
          "execution_count": 76
        }
      ]
    },
    {
      "cell_type": "code",
      "source": [
        "#Then with the Numpy array volume we can convert to SITK\n",
        "\n",
        "labelSTK=sitk.GetImageFromArray(labelvol)\n",
        "labelSTK.SetOrigin(imageEx.GetOrigin()) #Use the DICOM data to define the origin\n",
        "labelSTK.SetSpacing(imageEx.GetSpacing()) #Again use DICOM data to define spacing\n"
      ],
      "metadata": {
        "id": "ZNXri1SHDvIH"
      },
      "execution_count": 77,
      "outputs": []
    },
    {
      "cell_type": "code",
      "source": [
        "labelSTK.GetOrigin()"
      ],
      "metadata": {
        "colab": {
          "base_uri": "https://localhost:8080/"
        },
        "id": "kuzfjvbXy7Er",
        "outputId": "397101c0-4fa5-458b-f145-0f84df469537"
      },
      "execution_count": 78,
      "outputs": [
        {
          "output_type": "execute_result",
          "data": {
            "text/plain": [
              "(-167.7859, -176.0438, -226.5)"
            ]
          },
          "metadata": {},
          "execution_count": 78
        }
      ]
    },
    {
      "cell_type": "code",
      "source": [
        "labelSTK.GetSpacing()"
      ],
      "metadata": {
        "colab": {
          "base_uri": "https://localhost:8080/"
        },
        "id": "xquvb0Yly96m",
        "outputId": "b60c890d-57e7-4300-92e7-c504c8d78e4b"
      },
      "execution_count": 79,
      "outputs": [
        {
          "output_type": "execute_result",
          "data": {
            "text/plain": [
              "(0.687671, 0.687671, 1.5)"
            ]
          },
          "metadata": {},
          "execution_count": 79
        }
      ]
    },
    {
      "cell_type": "code",
      "source": [
        "labelSTK.GetSize() #Check the size"
      ],
      "metadata": {
        "colab": {
          "base_uri": "https://localhost:8080/"
        },
        "id": "PCF0Oq0_1KpT",
        "outputId": "9357b656-0476-41c0-9cbd-d3b98c762a60"
      },
      "execution_count": 80,
      "outputs": [
        {
          "output_type": "execute_result",
          "data": {
            "text/plain": [
              "(512, 512, 96)"
            ]
          },
          "metadata": {},
          "execution_count": 80
        }
      ]
    },
    {
      "cell_type": "code",
      "source": [
        "labelSTK.GetDirection()"
      ],
      "metadata": {
        "colab": {
          "base_uri": "https://localhost:8080/"
        },
        "id": "-z9Z88wj3rYm",
        "outputId": "27d67d34-0c38-448f-91df-e08a9e28948b"
      },
      "execution_count": 81,
      "outputs": [
        {
          "output_type": "execute_result",
          "data": {
            "text/plain": [
              "(1.0, 0.0, 0.0, 0.0, 1.0, 0.0, 0.0, 0.0, 1.0)"
            ]
          },
          "metadata": {},
          "execution_count": 81
        }
      ]
    },
    {
      "cell_type": "code",
      "source": [
        "#Write the label volume as Nifti\n",
        "sitk.WriteImage(labelSTK,'exampleLabel.nii.gz') "
      ],
      "metadata": {
        "id": "mhXFzHDPzIEn"
      },
      "execution_count": 82,
      "outputs": []
    },
    {
      "cell_type": "markdown",
      "source": [
        "If desired, we can then download our NIfTI files to view locally using dedicated software such as 3D slicer: https://www.slicer.org/\n",
        "\n",
        "or\n",
        "\n",
        "Mango: https://ric.uthscsa.edu/mango/"
      ],
      "metadata": {
        "id": "isg7nX2NNb5g"
      }
    },
    {
      "cell_type": "code",
      "source": [
        "#We can then load back to prepare for input into the pyradiomics feature extractor\n",
        "radVol1=sitk.ReadImage('exampleImage.nii.gz')\n",
        "radSeg1= sitk.ReadImage('exampleLabel.nii.gz')"
      ],
      "metadata": {
        "id": "-iwTve78zQx9"
      },
      "execution_count": 83,
      "outputs": []
    },
    {
      "cell_type": "markdown",
      "source": [
        "Okay, now that we have our example case with the image and segmentation data in NIfTI format, let's finally use Pyradiomics. We will only briefly use the RadiomicsFeatureExtractor() method here, but again we recommend reviewing a dedicated pyradiomics or other radiomics tutorial for further details."
      ],
      "metadata": {
        "id": "byy7bIXZN1Pt"
      }
    },
    {
      "cell_type": "code",
      "source": [
        "extractor = featureextractor.RadiomicsFeatureExtractor()"
      ],
      "metadata": {
        "id": "zjktafB-zQ4s"
      },
      "execution_count": 84,
      "outputs": []
    },
    {
      "cell_type": "code",
      "source": [
        "featureVector = extractor.execute(radVol1, radSeg1) #This will take about 1 minute for the example case"
      ],
      "metadata": {
        "colab": {
          "base_uri": "https://localhost:8080/"
        },
        "id": "T5uTHsmCzQ_-",
        "outputId": "1b5449e4-6671-4176-f78d-3a29fff45f78"
      },
      "execution_count": 85,
      "outputs": [
        {
          "output_type": "stream",
          "name": "stderr",
          "text": [
            "GLCM is symmetrical, therefore Sum Average = 2 * Joint Average, only 1 needs to be calculated\n"
          ]
        }
      ]
    },
    {
      "cell_type": "markdown",
      "source": [
        "Now we can visualize all the calculated features for our image data and segmentation"
      ],
      "metadata": {
        "id": "-XEvAtGHBBWM"
      }
    },
    {
      "cell_type": "code",
      "source": [
        "for featureName in featureVector.keys():\n",
        "    print('%s: %s' % (featureName, featureVector[featureName]))"
      ],
      "metadata": {
        "colab": {
          "base_uri": "https://localhost:8080/"
        },
        "id": "y5CfFYKk2rt9",
        "outputId": "126d19cf-8dff-4ec0-8172-032f4fa9bae0"
      },
      "execution_count": 86,
      "outputs": [
        {
          "output_type": "stream",
          "name": "stdout",
          "text": [
            "diagnostics_Versions_PyRadiomics: v3.0.1\n",
            "diagnostics_Versions_Numpy: 1.21.5\n",
            "diagnostics_Versions_SimpleITK: 2.1.1\n",
            "diagnostics_Versions_PyWavelet: 1.3.0\n",
            "diagnostics_Versions_Python: 3.7.13\n",
            "diagnostics_Configuration_Settings: {'minimumROIDimensions': 2, 'minimumROISize': None, 'normalize': False, 'normalizeScale': 1, 'removeOutliers': None, 'resampledPixelSpacing': None, 'interpolator': 'sitkBSpline', 'preCrop': False, 'padDistance': 5, 'distances': [1], 'force2D': False, 'force2Ddimension': 0, 'resegmentRange': None, 'label': 1, 'additionalInfo': True}\n",
            "diagnostics_Configuration_EnabledImageTypes: {'Original': {}}\n",
            "diagnostics_Image-original_Hash: da045d1595218572da69fcf06b688fe18d9fd23e\n",
            "diagnostics_Image-original_Dimensionality: 3D\n",
            "diagnostics_Image-original_Spacing: (0.6876710057258606, 0.6876710057258606, 1.5)\n",
            "diagnostics_Image-original_Size: (512, 512, 96)\n",
            "diagnostics_Image-original_Mean: -414.744974176089\n",
            "diagnostics_Image-original_Minimum: -1200.0\n",
            "diagnostics_Image-original_Maximum: 1264.0\n",
            "diagnostics_Mask-original_Hash: ca2e25cb352a3ba8d0c2d99f91ee5780498a0e23\n",
            "diagnostics_Mask-original_Spacing: (0.6876710057258606, 0.6876710057258606, 1.5)\n",
            "diagnostics_Mask-original_Size: (512, 512, 96)\n",
            "diagnostics_Mask-original_BoundingBox: (58, 64, 0, 306, 284, 93)\n",
            "diagnostics_Mask-original_VoxelNum: 2079098\n",
            "diagnostics_Mask-original_VolumeNum: 1\n",
            "diagnostics_Mask-original_CenterOfMassIndex: (167.23858663708972, 188.06842246012454, 51.58943830449551)\n",
            "diagnostics_Mask-original_CenterOfMass: (-52.780776861765105, -46.71459150617952, -149.11584254325675)\n",
            "original_shape_Elongation: 0.5932170950838497\n",
            "original_shape_Flatness: 0.37647604813396945\n",
            "original_shape_LeastAxisLength: 85.83107332190224\n",
            "original_shape_MajorAxisLength: 227.985482070719\n",
            "original_shape_Maximum2DDiameterColumn: 232.99410902155427\n",
            "original_shape_Maximum2DDiameterRow: 183.1632195448602\n",
            "original_shape_Maximum2DDiameterSlice: 233.28675093835005\n",
            "original_shape_Maximum3DDiameter: 247.39476673313519\n",
            "original_shape_MeshVolume: 1474581.646210782\n",
            "original_shape_MinorAxisLength: 135.24488539528303\n",
            "original_shape_Sphericity: 0.5856179851252747\n",
            "original_shape_SurfaceArea: 106983.20421428593\n",
            "original_shape_SurfaceVolumeRatio: 0.07255156368533382\n",
            "original_shape_VoxelVolume: 1474781.3837213789\n",
            "original_firstorder_10Percentile: 111.0\n",
            "original_firstorder_90Percentile: 185.0\n",
            "original_firstorder_Energy: 48347041204.0\n",
            "original_firstorder_Entropy: 2.449694737652786\n",
            "original_firstorder_InterquartileRange: 37.0\n",
            "original_firstorder_Kurtosis: 9.99046970701696\n",
            "original_firstorder_Maximum: 362.0\n",
            "original_firstorder_MeanAbsoluteDeviation: 24.880037750648626\n",
            "original_firstorder_Mean: 148.19835332437432\n",
            "original_firstorder_Median: 149.0\n",
            "original_firstorder_Minimum: -182.0\n",
            "original_firstorder_Range: 544.0\n",
            "original_firstorder_RobustMeanAbsoluteDeviation: 15.397789397672494\n",
            "original_firstorder_RootMeanSquared: 152.49214383964588\n",
            "original_firstorder_Skewness: -0.7712698621858189\n",
            "original_firstorder_TotalEnergy: 34294350879.8862\n",
            "original_firstorder_Uniformity: 0.2381320327709025\n",
            "original_firstorder_Variance: 1291.1020047551588\n",
            "original_glcm_Autocorrelation: 210.9760316252978\n",
            "original_glcm_ClusterProminence: 539.1944961632279\n",
            "original_glcm_ClusterShade: -15.324842328755958\n",
            "original_glcm_ClusterTendency: 6.573812806191086\n",
            "original_glcm_Contrast: 1.7367573803543692\n",
            "original_glcm_Correlation: 0.5812766138811819\n",
            "original_glcm_DifferenceAverage: 0.9601910456911911\n",
            "original_glcm_DifferenceEntropy: 1.747149144732719\n",
            "original_glcm_DifferenceVariance: 0.8009145889893999\n",
            "original_glcm_Id: 0.6237006631690664\n",
            "original_glcm_Idm: 0.593787988661127\n",
            "original_glcm_Idmn: 0.9967596308018611\n",
            "original_glcm_Idn: 0.9612381988961776\n",
            "original_glcm_Imc1: -0.11089717746982071\n",
            "original_glcm_Imc2: 0.6278005499231397\n",
            "original_glcm_InverseVariance: 0.49654517235111145\n",
            "original_glcm_JointAverage: 14.483322351582936\n",
            "original_glcm_JointEnergy: 0.06920345146990775\n",
            "original_glcm_JointEntropy: 4.580120802131631\n",
            "original_glcm_MCC: 0.8063438830492344\n",
            "original_glcm_MaximumProbability: 0.12721076440926693\n",
            "original_glcm_SumAverage: 28.966644703165873\n",
            "original_glcm_SumEntropy: 3.1819049272501556\n",
            "original_glcm_SumSquares: 2.0776425466363633\n",
            "original_gldm_DependenceEntropy: 6.202141209580478\n",
            "original_gldm_DependenceNonUniformity: 141345.81332000703\n",
            "original_gldm_DependenceNonUniformityNormalized: 0.06798419955192446\n",
            "original_gldm_DependenceVariance: 16.623405248781\n",
            "original_gldm_GrayLevelNonUniformity: 495099.8330699178\n",
            "original_gldm_GrayLevelVariance: 2.148877489509781\n",
            "original_gldm_HighGrayLevelEmphasis: 210.8962930078332\n",
            "original_gldm_LargeDependenceEmphasis: 104.89745841706355\n",
            "original_gldm_LargeDependenceHighGrayLevelEmphasis: 22162.572952790106\n",
            "original_gldm_LargeDependenceLowGrayLevelEmphasis: 0.5095302442220431\n",
            "original_gldm_LowGrayLevelEmphasis: 0.005021958326889857\n",
            "original_gldm_SmallDependenceEmphasis: 0.037169632468097374\n",
            "original_gldm_SmallDependenceHighGrayLevelEmphasis: 7.6993830401668\n",
            "original_gldm_SmallDependenceLowGrayLevelEmphasis: 0.0002106303993861053\n",
            "original_glrlm_GrayLevelNonUniformity: 298825.8065895351\n",
            "original_glrlm_GrayLevelNonUniformityNormalized: 0.21230335720484253\n",
            "original_glrlm_GrayLevelVariance: 2.5318167663262736\n",
            "original_glrlm_HighGrayLevelRunEmphasis: 210.72527129101942\n",
            "original_glrlm_LongRunEmphasis: 3.035222811346036\n",
            "original_glrlm_LongRunHighGrayLevelEmphasis: 640.4310852872445\n",
            "original_glrlm_LongRunLowGrayLevelEmphasis: 0.015015631875605619\n",
            "original_glrlm_LowGrayLevelRunEmphasis: 0.005080412710715525\n",
            "original_glrlm_RunEntropy: 3.8908093232226175\n",
            "original_glrlm_RunLengthNonUniformity: 744804.7360638329\n",
            "original_glrlm_RunLengthNonUniformityNormalized: 0.5263016583100654\n",
            "original_glrlm_RunPercentage: 0.6770989520085522\n",
            "original_glrlm_RunVariance: 0.8284453013325367\n",
            "original_glrlm_ShortRunEmphasis: 0.7512637633206931\n",
            "original_glrlm_ShortRunHighGrayLevelEmphasis: 158.13512351298525\n",
            "original_glrlm_ShortRunLowGrayLevelEmphasis: 0.003855475050845291\n",
            "original_glszm_GrayLevelNonUniformity: 9225.518406126947\n",
            "original_glszm_GrayLevelNonUniformityNormalized: 0.1666399047383936\n",
            "original_glszm_GrayLevelVariance: 7.951378873965465\n",
            "original_glszm_HighGrayLevelZoneEmphasis: 204.76599472562407\n",
            "original_glszm_LargeAreaEmphasis: 17679103.332285684\n",
            "original_glszm_LargeAreaHighGrayLevelEmphasis: 3704584844.8150897\n",
            "original_glszm_LargeAreaLowGrayLevelEmphasis: 85140.08864221802\n",
            "original_glszm_LowGrayLevelZoneEmphasis: 0.006060236024260246\n",
            "original_glszm_SizeZoneNonUniformity: 15053.613742278098\n",
            "original_glszm_SizeZoneNonUniformityNormalized: 0.27191239012821244\n",
            "original_glszm_SmallAreaEmphasis: 0.5333601539067075\n",
            "original_glszm_SmallAreaHighGrayLevelEmphasis: 109.25744732610025\n",
            "original_glszm_SmallAreaLowGrayLevelEmphasis: 0.003275371916211954\n",
            "original_glszm_ZoneEntropy: 5.7324071250122675\n",
            "original_glszm_ZonePercentage: 0.026627893442252363\n",
            "original_glszm_ZoneVariance: 17677692.983985975\n",
            "original_ngtdm_Busyness: 463.7416327758492\n",
            "original_ngtdm_Coarseness: 3.951631514260955e-06\n",
            "original_ngtdm_Complexity: 174.05767795985045\n",
            "original_ngtdm_Contrast: 0.005603462997454464\n",
            "original_ngtdm_Strength: 0.0017486605969409797\n"
          ]
        }
      ]
    },
    {
      "cell_type": "markdown",
      "source": [
        "So, there is much, much more that we can do with the CHAOS dataset and pyradiomics, but we will use this as a stopping point for lesson 3, and instead leave further radiomics exploration up to the reader. "
      ],
      "metadata": {
        "id": "YXoVCu7YOPm4"
      }
    }
  ]
}