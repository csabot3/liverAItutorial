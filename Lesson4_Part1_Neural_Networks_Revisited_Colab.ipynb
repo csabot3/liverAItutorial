{
  "nbformat": 4,
  "nbformat_minor": 0,
  "metadata": {
    "colab": {
      "name": "Lesson4_Part1_Neural_Networks_Revisited-Colab.ipynb",
      "provenance": [],
      "authorship_tag": "ABX9TyMXVKv4uzFJbYp+ej1y8reI",
      "include_colab_link": true
    },
    "kernelspec": {
      "name": "python3",
      "display_name": "Python 3"
    },
    "language_info": {
      "name": "python"
    },
    "accelerator": "GPU",
    "widgets": {
      "application/vnd.jupyter.widget-state+json": {
        "33e5ffdbd754492f9135a40c3b404732": {
          "model_module": "@jupyter-widgets/controls",
          "model_name": "HBoxModel",
          "model_module_version": "1.5.0",
          "state": {
            "_dom_classes": [],
            "_model_module": "@jupyter-widgets/controls",
            "_model_module_version": "1.5.0",
            "_model_name": "HBoxModel",
            "_view_count": null,
            "_view_module": "@jupyter-widgets/controls",
            "_view_module_version": "1.5.0",
            "_view_name": "HBoxView",
            "box_style": "",
            "children": [
              "IPY_MODEL_be81569a29de42f386eabe6d9d7f996b",
              "IPY_MODEL_75a342eba48f44a1ae5faf7c564ad8ce",
              "IPY_MODEL_c09c63ad89434794948e1b1ea32a6a02"
            ],
            "layout": "IPY_MODEL_47a805760d5445bb9c24080ecbc3228f"
          }
        },
        "be81569a29de42f386eabe6d9d7f996b": {
          "model_module": "@jupyter-widgets/controls",
          "model_name": "HTMLModel",
          "model_module_version": "1.5.0",
          "state": {
            "_dom_classes": [],
            "_model_module": "@jupyter-widgets/controls",
            "_model_module_version": "1.5.0",
            "_model_name": "HTMLModel",
            "_view_count": null,
            "_view_module": "@jupyter-widgets/controls",
            "_view_module_version": "1.5.0",
            "_view_name": "HTMLView",
            "description": "",
            "description_tooltip": null,
            "layout": "IPY_MODEL_c3584acb489f49a6a47cfbd1559962a9",
            "placeholder": "​",
            "style": "IPY_MODEL_5b7da926709b433b98b12a3e4d8654ae",
            "value": "100%"
          }
        },
        "75a342eba48f44a1ae5faf7c564ad8ce": {
          "model_module": "@jupyter-widgets/controls",
          "model_name": "FloatProgressModel",
          "model_module_version": "1.5.0",
          "state": {
            "_dom_classes": [],
            "_model_module": "@jupyter-widgets/controls",
            "_model_module_version": "1.5.0",
            "_model_name": "FloatProgressModel",
            "_view_count": null,
            "_view_module": "@jupyter-widgets/controls",
            "_view_module_version": "1.5.0",
            "_view_name": "ProgressView",
            "bar_style": "success",
            "description": "",
            "description_tooltip": null,
            "layout": "IPY_MODEL_914608750b6f4fdaadb041ad129dc53c",
            "max": 87319819,
            "min": 0,
            "orientation": "horizontal",
            "style": "IPY_MODEL_5d2bfc911bb54a95a0310e89bedd061c",
            "value": 87319819
          }
        },
        "c09c63ad89434794948e1b1ea32a6a02": {
          "model_module": "@jupyter-widgets/controls",
          "model_name": "HTMLModel",
          "model_module_version": "1.5.0",
          "state": {
            "_dom_classes": [],
            "_model_module": "@jupyter-widgets/controls",
            "_model_module_version": "1.5.0",
            "_model_name": "HTMLModel",
            "_view_count": null,
            "_view_module": "@jupyter-widgets/controls",
            "_view_module_version": "1.5.0",
            "_view_name": "HTMLView",
            "description": "",
            "description_tooltip": null,
            "layout": "IPY_MODEL_e43a0c57dcb54b39918f217f34612967",
            "placeholder": "​",
            "style": "IPY_MODEL_b6b0435c847f48f9b6d3517c4f300424",
            "value": " 83.3M/83.3M [00:01&lt;00:00, 51.8MB/s]"
          }
        },
        "47a805760d5445bb9c24080ecbc3228f": {
          "model_module": "@jupyter-widgets/base",
          "model_name": "LayoutModel",
          "model_module_version": "1.2.0",
          "state": {
            "_model_module": "@jupyter-widgets/base",
            "_model_module_version": "1.2.0",
            "_model_name": "LayoutModel",
            "_view_count": null,
            "_view_module": "@jupyter-widgets/base",
            "_view_module_version": "1.2.0",
            "_view_name": "LayoutView",
            "align_content": null,
            "align_items": null,
            "align_self": null,
            "border": null,
            "bottom": null,
            "display": null,
            "flex": null,
            "flex_flow": null,
            "grid_area": null,
            "grid_auto_columns": null,
            "grid_auto_flow": null,
            "grid_auto_rows": null,
            "grid_column": null,
            "grid_gap": null,
            "grid_row": null,
            "grid_template_areas": null,
            "grid_template_columns": null,
            "grid_template_rows": null,
            "height": null,
            "justify_content": null,
            "justify_items": null,
            "left": null,
            "margin": null,
            "max_height": null,
            "max_width": null,
            "min_height": null,
            "min_width": null,
            "object_fit": null,
            "object_position": null,
            "order": null,
            "overflow": null,
            "overflow_x": null,
            "overflow_y": null,
            "padding": null,
            "right": null,
            "top": null,
            "visibility": null,
            "width": null
          }
        },
        "c3584acb489f49a6a47cfbd1559962a9": {
          "model_module": "@jupyter-widgets/base",
          "model_name": "LayoutModel",
          "model_module_version": "1.2.0",
          "state": {
            "_model_module": "@jupyter-widgets/base",
            "_model_module_version": "1.2.0",
            "_model_name": "LayoutModel",
            "_view_count": null,
            "_view_module": "@jupyter-widgets/base",
            "_view_module_version": "1.2.0",
            "_view_name": "LayoutView",
            "align_content": null,
            "align_items": null,
            "align_self": null,
            "border": null,
            "bottom": null,
            "display": null,
            "flex": null,
            "flex_flow": null,
            "grid_area": null,
            "grid_auto_columns": null,
            "grid_auto_flow": null,
            "grid_auto_rows": null,
            "grid_column": null,
            "grid_gap": null,
            "grid_row": null,
            "grid_template_areas": null,
            "grid_template_columns": null,
            "grid_template_rows": null,
            "height": null,
            "justify_content": null,
            "justify_items": null,
            "left": null,
            "margin": null,
            "max_height": null,
            "max_width": null,
            "min_height": null,
            "min_width": null,
            "object_fit": null,
            "object_position": null,
            "order": null,
            "overflow": null,
            "overflow_x": null,
            "overflow_y": null,
            "padding": null,
            "right": null,
            "top": null,
            "visibility": null,
            "width": null
          }
        },
        "5b7da926709b433b98b12a3e4d8654ae": {
          "model_module": "@jupyter-widgets/controls",
          "model_name": "DescriptionStyleModel",
          "model_module_version": "1.5.0",
          "state": {
            "_model_module": "@jupyter-widgets/controls",
            "_model_module_version": "1.5.0",
            "_model_name": "DescriptionStyleModel",
            "_view_count": null,
            "_view_module": "@jupyter-widgets/base",
            "_view_module_version": "1.2.0",
            "_view_name": "StyleView",
            "description_width": ""
          }
        },
        "914608750b6f4fdaadb041ad129dc53c": {
          "model_module": "@jupyter-widgets/base",
          "model_name": "LayoutModel",
          "model_module_version": "1.2.0",
          "state": {
            "_model_module": "@jupyter-widgets/base",
            "_model_module_version": "1.2.0",
            "_model_name": "LayoutModel",
            "_view_count": null,
            "_view_module": "@jupyter-widgets/base",
            "_view_module_version": "1.2.0",
            "_view_name": "LayoutView",
            "align_content": null,
            "align_items": null,
            "align_self": null,
            "border": null,
            "bottom": null,
            "display": null,
            "flex": null,
            "flex_flow": null,
            "grid_area": null,
            "grid_auto_columns": null,
            "grid_auto_flow": null,
            "grid_auto_rows": null,
            "grid_column": null,
            "grid_gap": null,
            "grid_row": null,
            "grid_template_areas": null,
            "grid_template_columns": null,
            "grid_template_rows": null,
            "height": null,
            "justify_content": null,
            "justify_items": null,
            "left": null,
            "margin": null,
            "max_height": null,
            "max_width": null,
            "min_height": null,
            "min_width": null,
            "object_fit": null,
            "object_position": null,
            "order": null,
            "overflow": null,
            "overflow_x": null,
            "overflow_y": null,
            "padding": null,
            "right": null,
            "top": null,
            "visibility": null,
            "width": null
          }
        },
        "5d2bfc911bb54a95a0310e89bedd061c": {
          "model_module": "@jupyter-widgets/controls",
          "model_name": "ProgressStyleModel",
          "model_module_version": "1.5.0",
          "state": {
            "_model_module": "@jupyter-widgets/controls",
            "_model_module_version": "1.5.0",
            "_model_name": "ProgressStyleModel",
            "_view_count": null,
            "_view_module": "@jupyter-widgets/base",
            "_view_module_version": "1.2.0",
            "_view_name": "StyleView",
            "bar_color": null,
            "description_width": ""
          }
        },
        "e43a0c57dcb54b39918f217f34612967": {
          "model_module": "@jupyter-widgets/base",
          "model_name": "LayoutModel",
          "model_module_version": "1.2.0",
          "state": {
            "_model_module": "@jupyter-widgets/base",
            "_model_module_version": "1.2.0",
            "_model_name": "LayoutModel",
            "_view_count": null,
            "_view_module": "@jupyter-widgets/base",
            "_view_module_version": "1.2.0",
            "_view_name": "LayoutView",
            "align_content": null,
            "align_items": null,
            "align_self": null,
            "border": null,
            "bottom": null,
            "display": null,
            "flex": null,
            "flex_flow": null,
            "grid_area": null,
            "grid_auto_columns": null,
            "grid_auto_flow": null,
            "grid_auto_rows": null,
            "grid_column": null,
            "grid_gap": null,
            "grid_row": null,
            "grid_template_areas": null,
            "grid_template_columns": null,
            "grid_template_rows": null,
            "height": null,
            "justify_content": null,
            "justify_items": null,
            "left": null,
            "margin": null,
            "max_height": null,
            "max_width": null,
            "min_height": null,
            "min_width": null,
            "object_fit": null,
            "object_position": null,
            "order": null,
            "overflow": null,
            "overflow_x": null,
            "overflow_y": null,
            "padding": null,
            "right": null,
            "top": null,
            "visibility": null,
            "width": null
          }
        },
        "b6b0435c847f48f9b6d3517c4f300424": {
          "model_module": "@jupyter-widgets/controls",
          "model_name": "DescriptionStyleModel",
          "model_module_version": "1.5.0",
          "state": {
            "_model_module": "@jupyter-widgets/controls",
            "_model_module_version": "1.5.0",
            "_model_name": "DescriptionStyleModel",
            "_view_count": null,
            "_view_module": "@jupyter-widgets/base",
            "_view_module_version": "1.2.0",
            "_view_name": "StyleView",
            "description_width": ""
          }
        },
        "c35f1b8e4d834bee8edcc81cec0b357a": {
          "model_module": "@jupyter-widgets/controls",
          "model_name": "HBoxModel",
          "model_module_version": "1.5.0",
          "state": {
            "_dom_classes": [],
            "_model_module": "@jupyter-widgets/controls",
            "_model_module_version": "1.5.0",
            "_model_name": "HBoxModel",
            "_view_count": null,
            "_view_module": "@jupyter-widgets/controls",
            "_view_module_version": "1.5.0",
            "_view_name": "HBoxView",
            "box_style": "",
            "children": [
              "IPY_MODEL_3339b8570d7b454fabec9b63b3b25eb7",
              "IPY_MODEL_2f3c3e3de88d478096e3b4da66ed6006",
              "IPY_MODEL_2ef93ed846244ca8aa3d8d7d4a07f1d1"
            ],
            "layout": "IPY_MODEL_43cb53f797c145c78c6c8c02acdac70c"
          }
        },
        "3339b8570d7b454fabec9b63b3b25eb7": {
          "model_module": "@jupyter-widgets/controls",
          "model_name": "HTMLModel",
          "model_module_version": "1.5.0",
          "state": {
            "_dom_classes": [],
            "_model_module": "@jupyter-widgets/controls",
            "_model_module_version": "1.5.0",
            "_model_name": "HTMLModel",
            "_view_count": null,
            "_view_module": "@jupyter-widgets/controls",
            "_view_module_version": "1.5.0",
            "_view_name": "HTMLView",
            "description": "",
            "description_tooltip": null,
            "layout": "IPY_MODEL_6693d8c73fd84b8394b40e5aaf0df00e",
            "placeholder": "​",
            "style": "IPY_MODEL_f24f6d28c2004fdbb00467eeb7a20946",
            "value": "100%"
          }
        },
        "2f3c3e3de88d478096e3b4da66ed6006": {
          "model_module": "@jupyter-widgets/controls",
          "model_name": "FloatProgressModel",
          "model_module_version": "1.5.0",
          "state": {
            "_dom_classes": [],
            "_model_module": "@jupyter-widgets/controls",
            "_model_module_version": "1.5.0",
            "_model_name": "FloatProgressModel",
            "_view_count": null,
            "_view_module": "@jupyter-widgets/controls",
            "_view_module_version": "1.5.0",
            "_view_name": "ProgressView",
            "bar_style": "success",
            "description": "",
            "description_tooltip": null,
            "layout": "IPY_MODEL_9d44664ecaba4ee788c1122b064ed826",
            "max": 46830571,
            "min": 0,
            "orientation": "horizontal",
            "style": "IPY_MODEL_fae9a717e12b4666a4f02a58c4885db0",
            "value": 46830571
          }
        },
        "2ef93ed846244ca8aa3d8d7d4a07f1d1": {
          "model_module": "@jupyter-widgets/controls",
          "model_name": "HTMLModel",
          "model_module_version": "1.5.0",
          "state": {
            "_dom_classes": [],
            "_model_module": "@jupyter-widgets/controls",
            "_model_module_version": "1.5.0",
            "_model_name": "HTMLModel",
            "_view_count": null,
            "_view_module": "@jupyter-widgets/controls",
            "_view_module_version": "1.5.0",
            "_view_name": "HTMLView",
            "description": "",
            "description_tooltip": null,
            "layout": "IPY_MODEL_4f262b3dfb4b44bf856ed0031de62726",
            "placeholder": "​",
            "style": "IPY_MODEL_b97fdebae00447419a7aea9e4f50982c",
            "value": " 44.7M/44.7M [00:00&lt;00:00, 50.8MB/s]"
          }
        },
        "43cb53f797c145c78c6c8c02acdac70c": {
          "model_module": "@jupyter-widgets/base",
          "model_name": "LayoutModel",
          "model_module_version": "1.2.0",
          "state": {
            "_model_module": "@jupyter-widgets/base",
            "_model_module_version": "1.2.0",
            "_model_name": "LayoutModel",
            "_view_count": null,
            "_view_module": "@jupyter-widgets/base",
            "_view_module_version": "1.2.0",
            "_view_name": "LayoutView",
            "align_content": null,
            "align_items": null,
            "align_self": null,
            "border": null,
            "bottom": null,
            "display": null,
            "flex": null,
            "flex_flow": null,
            "grid_area": null,
            "grid_auto_columns": null,
            "grid_auto_flow": null,
            "grid_auto_rows": null,
            "grid_column": null,
            "grid_gap": null,
            "grid_row": null,
            "grid_template_areas": null,
            "grid_template_columns": null,
            "grid_template_rows": null,
            "height": null,
            "justify_content": null,
            "justify_items": null,
            "left": null,
            "margin": null,
            "max_height": null,
            "max_width": null,
            "min_height": null,
            "min_width": null,
            "object_fit": null,
            "object_position": null,
            "order": null,
            "overflow": null,
            "overflow_x": null,
            "overflow_y": null,
            "padding": null,
            "right": null,
            "top": null,
            "visibility": null,
            "width": null
          }
        },
        "6693d8c73fd84b8394b40e5aaf0df00e": {
          "model_module": "@jupyter-widgets/base",
          "model_name": "LayoutModel",
          "model_module_version": "1.2.0",
          "state": {
            "_model_module": "@jupyter-widgets/base",
            "_model_module_version": "1.2.0",
            "_model_name": "LayoutModel",
            "_view_count": null,
            "_view_module": "@jupyter-widgets/base",
            "_view_module_version": "1.2.0",
            "_view_name": "LayoutView",
            "align_content": null,
            "align_items": null,
            "align_self": null,
            "border": null,
            "bottom": null,
            "display": null,
            "flex": null,
            "flex_flow": null,
            "grid_area": null,
            "grid_auto_columns": null,
            "grid_auto_flow": null,
            "grid_auto_rows": null,
            "grid_column": null,
            "grid_gap": null,
            "grid_row": null,
            "grid_template_areas": null,
            "grid_template_columns": null,
            "grid_template_rows": null,
            "height": null,
            "justify_content": null,
            "justify_items": null,
            "left": null,
            "margin": null,
            "max_height": null,
            "max_width": null,
            "min_height": null,
            "min_width": null,
            "object_fit": null,
            "object_position": null,
            "order": null,
            "overflow": null,
            "overflow_x": null,
            "overflow_y": null,
            "padding": null,
            "right": null,
            "top": null,
            "visibility": null,
            "width": null
          }
        },
        "f24f6d28c2004fdbb00467eeb7a20946": {
          "model_module": "@jupyter-widgets/controls",
          "model_name": "DescriptionStyleModel",
          "model_module_version": "1.5.0",
          "state": {
            "_model_module": "@jupyter-widgets/controls",
            "_model_module_version": "1.5.0",
            "_model_name": "DescriptionStyleModel",
            "_view_count": null,
            "_view_module": "@jupyter-widgets/base",
            "_view_module_version": "1.2.0",
            "_view_name": "StyleView",
            "description_width": ""
          }
        },
        "9d44664ecaba4ee788c1122b064ed826": {
          "model_module": "@jupyter-widgets/base",
          "model_name": "LayoutModel",
          "model_module_version": "1.2.0",
          "state": {
            "_model_module": "@jupyter-widgets/base",
            "_model_module_version": "1.2.0",
            "_model_name": "LayoutModel",
            "_view_count": null,
            "_view_module": "@jupyter-widgets/base",
            "_view_module_version": "1.2.0",
            "_view_name": "LayoutView",
            "align_content": null,
            "align_items": null,
            "align_self": null,
            "border": null,
            "bottom": null,
            "display": null,
            "flex": null,
            "flex_flow": null,
            "grid_area": null,
            "grid_auto_columns": null,
            "grid_auto_flow": null,
            "grid_auto_rows": null,
            "grid_column": null,
            "grid_gap": null,
            "grid_row": null,
            "grid_template_areas": null,
            "grid_template_columns": null,
            "grid_template_rows": null,
            "height": null,
            "justify_content": null,
            "justify_items": null,
            "left": null,
            "margin": null,
            "max_height": null,
            "max_width": null,
            "min_height": null,
            "min_width": null,
            "object_fit": null,
            "object_position": null,
            "order": null,
            "overflow": null,
            "overflow_x": null,
            "overflow_y": null,
            "padding": null,
            "right": null,
            "top": null,
            "visibility": null,
            "width": null
          }
        },
        "fae9a717e12b4666a4f02a58c4885db0": {
          "model_module": "@jupyter-widgets/controls",
          "model_name": "ProgressStyleModel",
          "model_module_version": "1.5.0",
          "state": {
            "_model_module": "@jupyter-widgets/controls",
            "_model_module_version": "1.5.0",
            "_model_name": "ProgressStyleModel",
            "_view_count": null,
            "_view_module": "@jupyter-widgets/base",
            "_view_module_version": "1.2.0",
            "_view_name": "StyleView",
            "bar_color": null,
            "description_width": ""
          }
        },
        "4f262b3dfb4b44bf856ed0031de62726": {
          "model_module": "@jupyter-widgets/base",
          "model_name": "LayoutModel",
          "model_module_version": "1.2.0",
          "state": {
            "_model_module": "@jupyter-widgets/base",
            "_model_module_version": "1.2.0",
            "_model_name": "LayoutModel",
            "_view_count": null,
            "_view_module": "@jupyter-widgets/base",
            "_view_module_version": "1.2.0",
            "_view_name": "LayoutView",
            "align_content": null,
            "align_items": null,
            "align_self": null,
            "border": null,
            "bottom": null,
            "display": null,
            "flex": null,
            "flex_flow": null,
            "grid_area": null,
            "grid_auto_columns": null,
            "grid_auto_flow": null,
            "grid_auto_rows": null,
            "grid_column": null,
            "grid_gap": null,
            "grid_row": null,
            "grid_template_areas": null,
            "grid_template_columns": null,
            "grid_template_rows": null,
            "height": null,
            "justify_content": null,
            "justify_items": null,
            "left": null,
            "margin": null,
            "max_height": null,
            "max_width": null,
            "min_height": null,
            "min_width": null,
            "object_fit": null,
            "object_position": null,
            "order": null,
            "overflow": null,
            "overflow_x": null,
            "overflow_y": null,
            "padding": null,
            "right": null,
            "top": null,
            "visibility": null,
            "width": null
          }
        },
        "b97fdebae00447419a7aea9e4f50982c": {
          "model_module": "@jupyter-widgets/controls",
          "model_name": "DescriptionStyleModel",
          "model_module_version": "1.5.0",
          "state": {
            "_model_module": "@jupyter-widgets/controls",
            "_model_module_version": "1.5.0",
            "_model_name": "DescriptionStyleModel",
            "_view_count": null,
            "_view_module": "@jupyter-widgets/base",
            "_view_module_version": "1.2.0",
            "_view_name": "StyleView",
            "description_width": ""
          }
        },
        "79cbfc3ce2f741d0b168a551214ff298": {
          "model_module": "@jupyter-widgets/controls",
          "model_name": "HBoxModel",
          "model_module_version": "1.5.0",
          "state": {
            "_dom_classes": [],
            "_model_module": "@jupyter-widgets/controls",
            "_model_module_version": "1.5.0",
            "_model_name": "HBoxModel",
            "_view_count": null,
            "_view_module": "@jupyter-widgets/controls",
            "_view_module_version": "1.5.0",
            "_view_name": "HBoxView",
            "box_style": "",
            "children": [
              "IPY_MODEL_c524b5e571884aefbff5a3678065bbc0",
              "IPY_MODEL_9592c1c455d24b3991839c6eb3379b55",
              "IPY_MODEL_7e6ce0c100434115b040908cb8aed8ba"
            ],
            "layout": "IPY_MODEL_f4b514ea105d4a07b670071bad67b138"
          }
        },
        "c524b5e571884aefbff5a3678065bbc0": {
          "model_module": "@jupyter-widgets/controls",
          "model_name": "HTMLModel",
          "model_module_version": "1.5.0",
          "state": {
            "_dom_classes": [],
            "_model_module": "@jupyter-widgets/controls",
            "_model_module_version": "1.5.0",
            "_model_name": "HTMLModel",
            "_view_count": null,
            "_view_module": "@jupyter-widgets/controls",
            "_view_module_version": "1.5.0",
            "_view_name": "HTMLView",
            "description": "",
            "description_tooltip": null,
            "layout": "IPY_MODEL_218e7c5fc73142fa97e1a761a158f144",
            "placeholder": "​",
            "style": "IPY_MODEL_121d90f950c74a7cb21cbdecdea428ce",
            "value": "100%"
          }
        },
        "9592c1c455d24b3991839c6eb3379b55": {
          "model_module": "@jupyter-widgets/controls",
          "model_name": "FloatProgressModel",
          "model_module_version": "1.5.0",
          "state": {
            "_dom_classes": [],
            "_model_module": "@jupyter-widgets/controls",
            "_model_module_version": "1.5.0",
            "_model_name": "FloatProgressModel",
            "_view_count": null,
            "_view_module": "@jupyter-widgets/controls",
            "_view_module_version": "1.5.0",
            "_view_name": "ProgressView",
            "bar_style": "success",
            "description": "",
            "description_tooltip": null,
            "layout": "IPY_MODEL_8e0f51ff76dc46fab123e8570e17be2e",
            "max": 102530333,
            "min": 0,
            "orientation": "horizontal",
            "style": "IPY_MODEL_d9fc2e7656cd4a68b40ff623fc7bca73",
            "value": 102530333
          }
        },
        "7e6ce0c100434115b040908cb8aed8ba": {
          "model_module": "@jupyter-widgets/controls",
          "model_name": "HTMLModel",
          "model_module_version": "1.5.0",
          "state": {
            "_dom_classes": [],
            "_model_module": "@jupyter-widgets/controls",
            "_model_module_version": "1.5.0",
            "_model_name": "HTMLModel",
            "_view_count": null,
            "_view_module": "@jupyter-widgets/controls",
            "_view_module_version": "1.5.0",
            "_view_name": "HTMLView",
            "description": "",
            "description_tooltip": null,
            "layout": "IPY_MODEL_92222e4fd4d54f67a7c921bf43f485e1",
            "placeholder": "​",
            "style": "IPY_MODEL_93faef6c458447268fb195eee69a6617",
            "value": " 97.8M/97.8M [00:00&lt;00:00, 214MB/s]"
          }
        },
        "f4b514ea105d4a07b670071bad67b138": {
          "model_module": "@jupyter-widgets/base",
          "model_name": "LayoutModel",
          "model_module_version": "1.2.0",
          "state": {
            "_model_module": "@jupyter-widgets/base",
            "_model_module_version": "1.2.0",
            "_model_name": "LayoutModel",
            "_view_count": null,
            "_view_module": "@jupyter-widgets/base",
            "_view_module_version": "1.2.0",
            "_view_name": "LayoutView",
            "align_content": null,
            "align_items": null,
            "align_self": null,
            "border": null,
            "bottom": null,
            "display": null,
            "flex": null,
            "flex_flow": null,
            "grid_area": null,
            "grid_auto_columns": null,
            "grid_auto_flow": null,
            "grid_auto_rows": null,
            "grid_column": null,
            "grid_gap": null,
            "grid_row": null,
            "grid_template_areas": null,
            "grid_template_columns": null,
            "grid_template_rows": null,
            "height": null,
            "justify_content": null,
            "justify_items": null,
            "left": null,
            "margin": null,
            "max_height": null,
            "max_width": null,
            "min_height": null,
            "min_width": null,
            "object_fit": null,
            "object_position": null,
            "order": null,
            "overflow": null,
            "overflow_x": null,
            "overflow_y": null,
            "padding": null,
            "right": null,
            "top": null,
            "visibility": null,
            "width": null
          }
        },
        "218e7c5fc73142fa97e1a761a158f144": {
          "model_module": "@jupyter-widgets/base",
          "model_name": "LayoutModel",
          "model_module_version": "1.2.0",
          "state": {
            "_model_module": "@jupyter-widgets/base",
            "_model_module_version": "1.2.0",
            "_model_name": "LayoutModel",
            "_view_count": null,
            "_view_module": "@jupyter-widgets/base",
            "_view_module_version": "1.2.0",
            "_view_name": "LayoutView",
            "align_content": null,
            "align_items": null,
            "align_self": null,
            "border": null,
            "bottom": null,
            "display": null,
            "flex": null,
            "flex_flow": null,
            "grid_area": null,
            "grid_auto_columns": null,
            "grid_auto_flow": null,
            "grid_auto_rows": null,
            "grid_column": null,
            "grid_gap": null,
            "grid_row": null,
            "grid_template_areas": null,
            "grid_template_columns": null,
            "grid_template_rows": null,
            "height": null,
            "justify_content": null,
            "justify_items": null,
            "left": null,
            "margin": null,
            "max_height": null,
            "max_width": null,
            "min_height": null,
            "min_width": null,
            "object_fit": null,
            "object_position": null,
            "order": null,
            "overflow": null,
            "overflow_x": null,
            "overflow_y": null,
            "padding": null,
            "right": null,
            "top": null,
            "visibility": null,
            "width": null
          }
        },
        "121d90f950c74a7cb21cbdecdea428ce": {
          "model_module": "@jupyter-widgets/controls",
          "model_name": "DescriptionStyleModel",
          "model_module_version": "1.5.0",
          "state": {
            "_model_module": "@jupyter-widgets/controls",
            "_model_module_version": "1.5.0",
            "_model_name": "DescriptionStyleModel",
            "_view_count": null,
            "_view_module": "@jupyter-widgets/base",
            "_view_module_version": "1.2.0",
            "_view_name": "StyleView",
            "description_width": ""
          }
        },
        "8e0f51ff76dc46fab123e8570e17be2e": {
          "model_module": "@jupyter-widgets/base",
          "model_name": "LayoutModel",
          "model_module_version": "1.2.0",
          "state": {
            "_model_module": "@jupyter-widgets/base",
            "_model_module_version": "1.2.0",
            "_model_name": "LayoutModel",
            "_view_count": null,
            "_view_module": "@jupyter-widgets/base",
            "_view_module_version": "1.2.0",
            "_view_name": "LayoutView",
            "align_content": null,
            "align_items": null,
            "align_self": null,
            "border": null,
            "bottom": null,
            "display": null,
            "flex": null,
            "flex_flow": null,
            "grid_area": null,
            "grid_auto_columns": null,
            "grid_auto_flow": null,
            "grid_auto_rows": null,
            "grid_column": null,
            "grid_gap": null,
            "grid_row": null,
            "grid_template_areas": null,
            "grid_template_columns": null,
            "grid_template_rows": null,
            "height": null,
            "justify_content": null,
            "justify_items": null,
            "left": null,
            "margin": null,
            "max_height": null,
            "max_width": null,
            "min_height": null,
            "min_width": null,
            "object_fit": null,
            "object_position": null,
            "order": null,
            "overflow": null,
            "overflow_x": null,
            "overflow_y": null,
            "padding": null,
            "right": null,
            "top": null,
            "visibility": null,
            "width": null
          }
        },
        "d9fc2e7656cd4a68b40ff623fc7bca73": {
          "model_module": "@jupyter-widgets/controls",
          "model_name": "ProgressStyleModel",
          "model_module_version": "1.5.0",
          "state": {
            "_model_module": "@jupyter-widgets/controls",
            "_model_module_version": "1.5.0",
            "_model_name": "ProgressStyleModel",
            "_view_count": null,
            "_view_module": "@jupyter-widgets/base",
            "_view_module_version": "1.2.0",
            "_view_name": "StyleView",
            "bar_color": null,
            "description_width": ""
          }
        },
        "92222e4fd4d54f67a7c921bf43f485e1": {
          "model_module": "@jupyter-widgets/base",
          "model_name": "LayoutModel",
          "model_module_version": "1.2.0",
          "state": {
            "_model_module": "@jupyter-widgets/base",
            "_model_module_version": "1.2.0",
            "_model_name": "LayoutModel",
            "_view_count": null,
            "_view_module": "@jupyter-widgets/base",
            "_view_module_version": "1.2.0",
            "_view_name": "LayoutView",
            "align_content": null,
            "align_items": null,
            "align_self": null,
            "border": null,
            "bottom": null,
            "display": null,
            "flex": null,
            "flex_flow": null,
            "grid_area": null,
            "grid_auto_columns": null,
            "grid_auto_flow": null,
            "grid_auto_rows": null,
            "grid_column": null,
            "grid_gap": null,
            "grid_row": null,
            "grid_template_areas": null,
            "grid_template_columns": null,
            "grid_template_rows": null,
            "height": null,
            "justify_content": null,
            "justify_items": null,
            "left": null,
            "margin": null,
            "max_height": null,
            "max_width": null,
            "min_height": null,
            "min_width": null,
            "object_fit": null,
            "object_position": null,
            "order": null,
            "overflow": null,
            "overflow_x": null,
            "overflow_y": null,
            "padding": null,
            "right": null,
            "top": null,
            "visibility": null,
            "width": null
          }
        },
        "93faef6c458447268fb195eee69a6617": {
          "model_module": "@jupyter-widgets/controls",
          "model_name": "DescriptionStyleModel",
          "model_module_version": "1.5.0",
          "state": {
            "_model_module": "@jupyter-widgets/controls",
            "_model_module_version": "1.5.0",
            "_model_name": "DescriptionStyleModel",
            "_view_count": null,
            "_view_module": "@jupyter-widgets/base",
            "_view_module_version": "1.2.0",
            "_view_name": "StyleView",
            "description_width": ""
          }
        },
        "8674cf3e67144a40b97cb82d2c250cc0": {
          "model_module": "@jupyter-widgets/controls",
          "model_name": "HBoxModel",
          "model_module_version": "1.5.0",
          "state": {
            "_dom_classes": [],
            "_model_module": "@jupyter-widgets/controls",
            "_model_module_version": "1.5.0",
            "_model_name": "HBoxModel",
            "_view_count": null,
            "_view_module": "@jupyter-widgets/controls",
            "_view_module_version": "1.5.0",
            "_view_name": "HBoxView",
            "box_style": "",
            "children": [
              "IPY_MODEL_0c00d64e03e5446eb9347141456e501d",
              "IPY_MODEL_aa4a0cd7ec724045b6c65bf5e66f6ec7",
              "IPY_MODEL_68d3daccddd54571bbd5bd772422d4aa"
            ],
            "layout": "IPY_MODEL_a06680e6a8274488b01d6a08e94e707f"
          }
        },
        "0c00d64e03e5446eb9347141456e501d": {
          "model_module": "@jupyter-widgets/controls",
          "model_name": "HTMLModel",
          "model_module_version": "1.5.0",
          "state": {
            "_dom_classes": [],
            "_model_module": "@jupyter-widgets/controls",
            "_model_module_version": "1.5.0",
            "_model_name": "HTMLModel",
            "_view_count": null,
            "_view_module": "@jupyter-widgets/controls",
            "_view_module_version": "1.5.0",
            "_view_name": "HTMLView",
            "description": "",
            "description_tooltip": null,
            "layout": "IPY_MODEL_5258651ff9ef44cbb5da92905407d0ea",
            "placeholder": "​",
            "style": "IPY_MODEL_79dc721c41d84ecf9edb5dd3294daf3e",
            "value": "100%"
          }
        },
        "aa4a0cd7ec724045b6c65bf5e66f6ec7": {
          "model_module": "@jupyter-widgets/controls",
          "model_name": "FloatProgressModel",
          "model_module_version": "1.5.0",
          "state": {
            "_dom_classes": [],
            "_model_module": "@jupyter-widgets/controls",
            "_model_module_version": "1.5.0",
            "_model_name": "FloatProgressModel",
            "_view_count": null,
            "_view_module": "@jupyter-widgets/controls",
            "_view_module_version": "1.5.0",
            "_view_name": "ProgressView",
            "bar_style": "success",
            "description": "",
            "description_tooltip": null,
            "layout": "IPY_MODEL_5b0c46ed716043b192f4687e21ee81bb",
            "max": 32342954,
            "min": 0,
            "orientation": "horizontal",
            "style": "IPY_MODEL_d8e77d080576421cbcd043f4545d6771",
            "value": 32342954
          }
        },
        "68d3daccddd54571bbd5bd772422d4aa": {
          "model_module": "@jupyter-widgets/controls",
          "model_name": "HTMLModel",
          "model_module_version": "1.5.0",
          "state": {
            "_dom_classes": [],
            "_model_module": "@jupyter-widgets/controls",
            "_model_module_version": "1.5.0",
            "_model_name": "HTMLModel",
            "_view_count": null,
            "_view_module": "@jupyter-widgets/controls",
            "_view_module_version": "1.5.0",
            "_view_name": "HTMLView",
            "description": "",
            "description_tooltip": null,
            "layout": "IPY_MODEL_9058349005a844ebbf0c12191c07e35d",
            "placeholder": "​",
            "style": "IPY_MODEL_22f794b15ebd4cac8cdaaa389312fd63",
            "value": " 30.8M/30.8M [00:00&lt;00:00, 122MB/s]"
          }
        },
        "a06680e6a8274488b01d6a08e94e707f": {
          "model_module": "@jupyter-widgets/base",
          "model_name": "LayoutModel",
          "model_module_version": "1.2.0",
          "state": {
            "_model_module": "@jupyter-widgets/base",
            "_model_module_version": "1.2.0",
            "_model_name": "LayoutModel",
            "_view_count": null,
            "_view_module": "@jupyter-widgets/base",
            "_view_module_version": "1.2.0",
            "_view_name": "LayoutView",
            "align_content": null,
            "align_items": null,
            "align_self": null,
            "border": null,
            "bottom": null,
            "display": null,
            "flex": null,
            "flex_flow": null,
            "grid_area": null,
            "grid_auto_columns": null,
            "grid_auto_flow": null,
            "grid_auto_rows": null,
            "grid_column": null,
            "grid_gap": null,
            "grid_row": null,
            "grid_template_areas": null,
            "grid_template_columns": null,
            "grid_template_rows": null,
            "height": null,
            "justify_content": null,
            "justify_items": null,
            "left": null,
            "margin": null,
            "max_height": null,
            "max_width": null,
            "min_height": null,
            "min_width": null,
            "object_fit": null,
            "object_position": null,
            "order": null,
            "overflow": null,
            "overflow_x": null,
            "overflow_y": null,
            "padding": null,
            "right": null,
            "top": null,
            "visibility": null,
            "width": null
          }
        },
        "5258651ff9ef44cbb5da92905407d0ea": {
          "model_module": "@jupyter-widgets/base",
          "model_name": "LayoutModel",
          "model_module_version": "1.2.0",
          "state": {
            "_model_module": "@jupyter-widgets/base",
            "_model_module_version": "1.2.0",
            "_model_name": "LayoutModel",
            "_view_count": null,
            "_view_module": "@jupyter-widgets/base",
            "_view_module_version": "1.2.0",
            "_view_name": "LayoutView",
            "align_content": null,
            "align_items": null,
            "align_self": null,
            "border": null,
            "bottom": null,
            "display": null,
            "flex": null,
            "flex_flow": null,
            "grid_area": null,
            "grid_auto_columns": null,
            "grid_auto_flow": null,
            "grid_auto_rows": null,
            "grid_column": null,
            "grid_gap": null,
            "grid_row": null,
            "grid_template_areas": null,
            "grid_template_columns": null,
            "grid_template_rows": null,
            "height": null,
            "justify_content": null,
            "justify_items": null,
            "left": null,
            "margin": null,
            "max_height": null,
            "max_width": null,
            "min_height": null,
            "min_width": null,
            "object_fit": null,
            "object_position": null,
            "order": null,
            "overflow": null,
            "overflow_x": null,
            "overflow_y": null,
            "padding": null,
            "right": null,
            "top": null,
            "visibility": null,
            "width": null
          }
        },
        "79dc721c41d84ecf9edb5dd3294daf3e": {
          "model_module": "@jupyter-widgets/controls",
          "model_name": "DescriptionStyleModel",
          "model_module_version": "1.5.0",
          "state": {
            "_model_module": "@jupyter-widgets/controls",
            "_model_module_version": "1.5.0",
            "_model_name": "DescriptionStyleModel",
            "_view_count": null,
            "_view_module": "@jupyter-widgets/base",
            "_view_module_version": "1.2.0",
            "_view_name": "StyleView",
            "description_width": ""
          }
        },
        "5b0c46ed716043b192f4687e21ee81bb": {
          "model_module": "@jupyter-widgets/base",
          "model_name": "LayoutModel",
          "model_module_version": "1.2.0",
          "state": {
            "_model_module": "@jupyter-widgets/base",
            "_model_module_version": "1.2.0",
            "_model_name": "LayoutModel",
            "_view_count": null,
            "_view_module": "@jupyter-widgets/base",
            "_view_module_version": "1.2.0",
            "_view_name": "LayoutView",
            "align_content": null,
            "align_items": null,
            "align_self": null,
            "border": null,
            "bottom": null,
            "display": null,
            "flex": null,
            "flex_flow": null,
            "grid_area": null,
            "grid_auto_columns": null,
            "grid_auto_flow": null,
            "grid_auto_rows": null,
            "grid_column": null,
            "grid_gap": null,
            "grid_row": null,
            "grid_template_areas": null,
            "grid_template_columns": null,
            "grid_template_rows": null,
            "height": null,
            "justify_content": null,
            "justify_items": null,
            "left": null,
            "margin": null,
            "max_height": null,
            "max_width": null,
            "min_height": null,
            "min_width": null,
            "object_fit": null,
            "object_position": null,
            "order": null,
            "overflow": null,
            "overflow_x": null,
            "overflow_y": null,
            "padding": null,
            "right": null,
            "top": null,
            "visibility": null,
            "width": null
          }
        },
        "d8e77d080576421cbcd043f4545d6771": {
          "model_module": "@jupyter-widgets/controls",
          "model_name": "ProgressStyleModel",
          "model_module_version": "1.5.0",
          "state": {
            "_model_module": "@jupyter-widgets/controls",
            "_model_module_version": "1.5.0",
            "_model_name": "ProgressStyleModel",
            "_view_count": null,
            "_view_module": "@jupyter-widgets/base",
            "_view_module_version": "1.2.0",
            "_view_name": "StyleView",
            "bar_color": null,
            "description_width": ""
          }
        },
        "9058349005a844ebbf0c12191c07e35d": {
          "model_module": "@jupyter-widgets/base",
          "model_name": "LayoutModel",
          "model_module_version": "1.2.0",
          "state": {
            "_model_module": "@jupyter-widgets/base",
            "_model_module_version": "1.2.0",
            "_model_name": "LayoutModel",
            "_view_count": null,
            "_view_module": "@jupyter-widgets/base",
            "_view_module_version": "1.2.0",
            "_view_name": "LayoutView",
            "align_content": null,
            "align_items": null,
            "align_self": null,
            "border": null,
            "bottom": null,
            "display": null,
            "flex": null,
            "flex_flow": null,
            "grid_area": null,
            "grid_auto_columns": null,
            "grid_auto_flow": null,
            "grid_auto_rows": null,
            "grid_column": null,
            "grid_gap": null,
            "grid_row": null,
            "grid_template_areas": null,
            "grid_template_columns": null,
            "grid_template_rows": null,
            "height": null,
            "justify_content": null,
            "justify_items": null,
            "left": null,
            "margin": null,
            "max_height": null,
            "max_width": null,
            "min_height": null,
            "min_width": null,
            "object_fit": null,
            "object_position": null,
            "order": null,
            "overflow": null,
            "overflow_x": null,
            "overflow_y": null,
            "padding": null,
            "right": null,
            "top": null,
            "visibility": null,
            "width": null
          }
        },
        "22f794b15ebd4cac8cdaaa389312fd63": {
          "model_module": "@jupyter-widgets/controls",
          "model_name": "DescriptionStyleModel",
          "model_module_version": "1.5.0",
          "state": {
            "_model_module": "@jupyter-widgets/controls",
            "_model_module_version": "1.5.0",
            "_model_name": "DescriptionStyleModel",
            "_view_count": null,
            "_view_module": "@jupyter-widgets/base",
            "_view_module_version": "1.2.0",
            "_view_name": "StyleView",
            "description_width": ""
          }
        }
      }
    }
  },
  "cells": [
    {
      "cell_type": "markdown",
      "metadata": {
        "id": "view-in-github",
        "colab_type": "text"
      },
      "source": [
        "<a href=\"https://colab.research.google.com/github/csabot3/liverAItutorial/blob/main/Lesson4_Part1_Neural_Networks_Revisited_Colab.ipynb\" target=\"_parent\"><img src=\"https://colab.research.google.com/assets/colab-badge.svg\" alt=\"Open In Colab\"/></a>"
      ]
    },
    {
      "cell_type": "markdown",
      "source": [
        "# Lesson 4, Part 1: Neural Networks Revisited\n",
        "\n",
        "In lesson 2, we emphasized practical implementation of U-nets for segmentation of liver CT and MRI data but we did not deeply explore some of the fundamental aspects involved with training and understanding neural network models. \n",
        "\n",
        "In this lesson, which is divided into multiple parts, we will re-examine neural network training with FastAI. We will again use the CHAOS dataset but instead of focusing on organ segmentation, we will instead investigate classification. We will place additional emphasis this time on details such as our choice of neural network model architecture, the learning rate, the loss function, the optimizer, and image augmentations."
      ],
      "metadata": {
        "id": "vUVV4mGdTXOO"
      }
    },
    {
      "cell_type": "code",
      "execution_count": 1,
      "metadata": {
        "colab": {
          "base_uri": "https://localhost:8080/"
        },
        "id": "UvcZkfL7TWyP",
        "outputId": "44f46c0d-cd86-4f98-fada-653f89050688"
      },
      "outputs": [
        {
          "output_type": "stream",
          "name": "stdout",
          "text": [
            "Collecting pydicom\n",
            "  Downloading pydicom-2.2.2-py3-none-any.whl (2.0 MB)\n",
            "\u001b[?25l\r\u001b[K     |▏                               | 10 kB 25.0 MB/s eta 0:00:01\r\u001b[K     |▍                               | 20 kB 24.3 MB/s eta 0:00:01\r\u001b[K     |▌                               | 30 kB 18.5 MB/s eta 0:00:01\r\u001b[K     |▊                               | 40 kB 13.6 MB/s eta 0:00:01\r\u001b[K     |▉                               | 51 kB 12.0 MB/s eta 0:00:01\r\u001b[K     |█                               | 61 kB 13.9 MB/s eta 0:00:01\r\u001b[K     |█▏                              | 71 kB 12.4 MB/s eta 0:00:01\r\u001b[K     |█▍                              | 81 kB 13.4 MB/s eta 0:00:01\r\u001b[K     |█▌                              | 92 kB 14.6 MB/s eta 0:00:01\r\u001b[K     |█▊                              | 102 kB 12.8 MB/s eta 0:00:01\r\u001b[K     |█▉                              | 112 kB 12.8 MB/s eta 0:00:01\r\u001b[K     |██                              | 122 kB 12.8 MB/s eta 0:00:01\r\u001b[K     |██▏                             | 133 kB 12.8 MB/s eta 0:00:01\r\u001b[K     |██▍                             | 143 kB 12.8 MB/s eta 0:00:01\r\u001b[K     |██▌                             | 153 kB 12.8 MB/s eta 0:00:01\r\u001b[K     |██▊                             | 163 kB 12.8 MB/s eta 0:00:01\r\u001b[K     |██▉                             | 174 kB 12.8 MB/s eta 0:00:01\r\u001b[K     |███                             | 184 kB 12.8 MB/s eta 0:00:01\r\u001b[K     |███▏                            | 194 kB 12.8 MB/s eta 0:00:01\r\u001b[K     |███▍                            | 204 kB 12.8 MB/s eta 0:00:01\r\u001b[K     |███▌                            | 215 kB 12.8 MB/s eta 0:00:01\r\u001b[K     |███▊                            | 225 kB 12.8 MB/s eta 0:00:01\r\u001b[K     |███▉                            | 235 kB 12.8 MB/s eta 0:00:01\r\u001b[K     |████                            | 245 kB 12.8 MB/s eta 0:00:01\r\u001b[K     |████▏                           | 256 kB 12.8 MB/s eta 0:00:01\r\u001b[K     |████▍                           | 266 kB 12.8 MB/s eta 0:00:01\r\u001b[K     |████▌                           | 276 kB 12.8 MB/s eta 0:00:01\r\u001b[K     |████▊                           | 286 kB 12.8 MB/s eta 0:00:01\r\u001b[K     |████▉                           | 296 kB 12.8 MB/s eta 0:00:01\r\u001b[K     |█████                           | 307 kB 12.8 MB/s eta 0:00:01\r\u001b[K     |█████▏                          | 317 kB 12.8 MB/s eta 0:00:01\r\u001b[K     |█████▍                          | 327 kB 12.8 MB/s eta 0:00:01\r\u001b[K     |█████▌                          | 337 kB 12.8 MB/s eta 0:00:01\r\u001b[K     |█████▊                          | 348 kB 12.8 MB/s eta 0:00:01\r\u001b[K     |█████▉                          | 358 kB 12.8 MB/s eta 0:00:01\r\u001b[K     |██████                          | 368 kB 12.8 MB/s eta 0:00:01\r\u001b[K     |██████▏                         | 378 kB 12.8 MB/s eta 0:00:01\r\u001b[K     |██████▍                         | 389 kB 12.8 MB/s eta 0:00:01\r\u001b[K     |██████▌                         | 399 kB 12.8 MB/s eta 0:00:01\r\u001b[K     |██████▊                         | 409 kB 12.8 MB/s eta 0:00:01\r\u001b[K     |██████▉                         | 419 kB 12.8 MB/s eta 0:00:01\r\u001b[K     |███████                         | 430 kB 12.8 MB/s eta 0:00:01\r\u001b[K     |███████▎                        | 440 kB 12.8 MB/s eta 0:00:01\r\u001b[K     |███████▍                        | 450 kB 12.8 MB/s eta 0:00:01\r\u001b[K     |███████▋                        | 460 kB 12.8 MB/s eta 0:00:01\r\u001b[K     |███████▊                        | 471 kB 12.8 MB/s eta 0:00:01\r\u001b[K     |████████                        | 481 kB 12.8 MB/s eta 0:00:01\r\u001b[K     |████████                        | 491 kB 12.8 MB/s eta 0:00:01\r\u001b[K     |████████▎                       | 501 kB 12.8 MB/s eta 0:00:01\r\u001b[K     |████████▍                       | 512 kB 12.8 MB/s eta 0:00:01\r\u001b[K     |████████▋                       | 522 kB 12.8 MB/s eta 0:00:01\r\u001b[K     |████████▊                       | 532 kB 12.8 MB/s eta 0:00:01\r\u001b[K     |█████████                       | 542 kB 12.8 MB/s eta 0:00:01\r\u001b[K     |█████████                       | 552 kB 12.8 MB/s eta 0:00:01\r\u001b[K     |█████████▎                      | 563 kB 12.8 MB/s eta 0:00:01\r\u001b[K     |█████████▍                      | 573 kB 12.8 MB/s eta 0:00:01\r\u001b[K     |█████████▋                      | 583 kB 12.8 MB/s eta 0:00:01\r\u001b[K     |█████████▊                      | 593 kB 12.8 MB/s eta 0:00:01\r\u001b[K     |██████████                      | 604 kB 12.8 MB/s eta 0:00:01\r\u001b[K     |██████████                      | 614 kB 12.8 MB/s eta 0:00:01\r\u001b[K     |██████████▎                     | 624 kB 12.8 MB/s eta 0:00:01\r\u001b[K     |██████████▍                     | 634 kB 12.8 MB/s eta 0:00:01\r\u001b[K     |██████████▋                     | 645 kB 12.8 MB/s eta 0:00:01\r\u001b[K     |██████████▊                     | 655 kB 12.8 MB/s eta 0:00:01\r\u001b[K     |███████████                     | 665 kB 12.8 MB/s eta 0:00:01\r\u001b[K     |███████████                     | 675 kB 12.8 MB/s eta 0:00:01\r\u001b[K     |███████████▎                    | 686 kB 12.8 MB/s eta 0:00:01\r\u001b[K     |███████████▍                    | 696 kB 12.8 MB/s eta 0:00:01\r\u001b[K     |███████████▋                    | 706 kB 12.8 MB/s eta 0:00:01\r\u001b[K     |███████████▊                    | 716 kB 12.8 MB/s eta 0:00:01\r\u001b[K     |████████████                    | 727 kB 12.8 MB/s eta 0:00:01\r\u001b[K     |████████████                    | 737 kB 12.8 MB/s eta 0:00:01\r\u001b[K     |████████████▎                   | 747 kB 12.8 MB/s eta 0:00:01\r\u001b[K     |████████████▍                   | 757 kB 12.8 MB/s eta 0:00:01\r\u001b[K     |████████████▋                   | 768 kB 12.8 MB/s eta 0:00:01\r\u001b[K     |████████████▊                   | 778 kB 12.8 MB/s eta 0:00:01\r\u001b[K     |█████████████                   | 788 kB 12.8 MB/s eta 0:00:01\r\u001b[K     |█████████████                   | 798 kB 12.8 MB/s eta 0:00:01\r\u001b[K     |█████████████▎                  | 808 kB 12.8 MB/s eta 0:00:01\r\u001b[K     |█████████████▍                  | 819 kB 12.8 MB/s eta 0:00:01\r\u001b[K     |█████████████▋                  | 829 kB 12.8 MB/s eta 0:00:01\r\u001b[K     |█████████████▊                  | 839 kB 12.8 MB/s eta 0:00:01\r\u001b[K     |██████████████                  | 849 kB 12.8 MB/s eta 0:00:01\r\u001b[K     |██████████████                  | 860 kB 12.8 MB/s eta 0:00:01\r\u001b[K     |██████████████▎                 | 870 kB 12.8 MB/s eta 0:00:01\r\u001b[K     |██████████████▌                 | 880 kB 12.8 MB/s eta 0:00:01\r\u001b[K     |██████████████▋                 | 890 kB 12.8 MB/s eta 0:00:01\r\u001b[K     |██████████████▉                 | 901 kB 12.8 MB/s eta 0:00:01\r\u001b[K     |███████████████                 | 911 kB 12.8 MB/s eta 0:00:01\r\u001b[K     |███████████████▏                | 921 kB 12.8 MB/s eta 0:00:01\r\u001b[K     |███████████████▎                | 931 kB 12.8 MB/s eta 0:00:01\r\u001b[K     |███████████████▌                | 942 kB 12.8 MB/s eta 0:00:01\r\u001b[K     |███████████████▋                | 952 kB 12.8 MB/s eta 0:00:01\r\u001b[K     |███████████████▉                | 962 kB 12.8 MB/s eta 0:00:01\r\u001b[K     |████████████████                | 972 kB 12.8 MB/s eta 0:00:01\r\u001b[K     |████████████████▏               | 983 kB 12.8 MB/s eta 0:00:01\r\u001b[K     |████████████████▎               | 993 kB 12.8 MB/s eta 0:00:01\r\u001b[K     |████████████████▌               | 1.0 MB 12.8 MB/s eta 0:00:01\r\u001b[K     |████████████████▋               | 1.0 MB 12.8 MB/s eta 0:00:01\r\u001b[K     |████████████████▉               | 1.0 MB 12.8 MB/s eta 0:00:01\r\u001b[K     |█████████████████               | 1.0 MB 12.8 MB/s eta 0:00:01\r\u001b[K     |█████████████████▏              | 1.0 MB 12.8 MB/s eta 0:00:01\r\u001b[K     |█████████████████▎              | 1.1 MB 12.8 MB/s eta 0:00:01\r\u001b[K     |█████████████████▌              | 1.1 MB 12.8 MB/s eta 0:00:01\r\u001b[K     |█████████████████▋              | 1.1 MB 12.8 MB/s eta 0:00:01\r\u001b[K     |█████████████████▉              | 1.1 MB 12.8 MB/s eta 0:00:01\r\u001b[K     |██████████████████              | 1.1 MB 12.8 MB/s eta 0:00:01\r\u001b[K     |██████████████████▏             | 1.1 MB 12.8 MB/s eta 0:00:01\r\u001b[K     |██████████████████▎             | 1.1 MB 12.8 MB/s eta 0:00:01\r\u001b[K     |██████████████████▌             | 1.1 MB 12.8 MB/s eta 0:00:01\r\u001b[K     |██████████████████▋             | 1.1 MB 12.8 MB/s eta 0:00:01\r\u001b[K     |██████████████████▉             | 1.1 MB 12.8 MB/s eta 0:00:01\r\u001b[K     |███████████████████             | 1.2 MB 12.8 MB/s eta 0:00:01\r\u001b[K     |███████████████████▏            | 1.2 MB 12.8 MB/s eta 0:00:01\r\u001b[K     |███████████████████▎            | 1.2 MB 12.8 MB/s eta 0:00:01\r\u001b[K     |███████████████████▌            | 1.2 MB 12.8 MB/s eta 0:00:01\r\u001b[K     |███████████████████▋            | 1.2 MB 12.8 MB/s eta 0:00:01\r\u001b[K     |███████████████████▉            | 1.2 MB 12.8 MB/s eta 0:00:01\r\u001b[K     |████████████████████            | 1.2 MB 12.8 MB/s eta 0:00:01\r\u001b[K     |████████████████████▏           | 1.2 MB 12.8 MB/s eta 0:00:01\r\u001b[K     |████████████████████▎           | 1.2 MB 12.8 MB/s eta 0:00:01\r\u001b[K     |████████████████████▌           | 1.2 MB 12.8 MB/s eta 0:00:01\r\u001b[K     |████████████████████▋           | 1.3 MB 12.8 MB/s eta 0:00:01\r\u001b[K     |████████████████████▉           | 1.3 MB 12.8 MB/s eta 0:00:01\r\u001b[K     |█████████████████████           | 1.3 MB 12.8 MB/s eta 0:00:01\r\u001b[K     |█████████████████████▏          | 1.3 MB 12.8 MB/s eta 0:00:01\r\u001b[K     |█████████████████████▎          | 1.3 MB 12.8 MB/s eta 0:00:01\r\u001b[K     |█████████████████████▌          | 1.3 MB 12.8 MB/s eta 0:00:01\r\u001b[K     |█████████████████████▊          | 1.3 MB 12.8 MB/s eta 0:00:01\r\u001b[K     |█████████████████████▉          | 1.3 MB 12.8 MB/s eta 0:00:01\r\u001b[K     |██████████████████████          | 1.3 MB 12.8 MB/s eta 0:00:01\r\u001b[K     |██████████████████████▏         | 1.4 MB 12.8 MB/s eta 0:00:01\r\u001b[K     |██████████████████████▍         | 1.4 MB 12.8 MB/s eta 0:00:01\r\u001b[K     |██████████████████████▌         | 1.4 MB 12.8 MB/s eta 0:00:01\r\u001b[K     |██████████████████████▊         | 1.4 MB 12.8 MB/s eta 0:00:01\r\u001b[K     |██████████████████████▉         | 1.4 MB 12.8 MB/s eta 0:00:01\r\u001b[K     |███████████████████████         | 1.4 MB 12.8 MB/s eta 0:00:01\r\u001b[K     |███████████████████████▏        | 1.4 MB 12.8 MB/s eta 0:00:01\r\u001b[K     |███████████████████████▍        | 1.4 MB 12.8 MB/s eta 0:00:01\r\u001b[K     |███████████████████████▌        | 1.4 MB 12.8 MB/s eta 0:00:01\r\u001b[K     |███████████████████████▊        | 1.4 MB 12.8 MB/s eta 0:00:01\r\u001b[K     |███████████████████████▉        | 1.5 MB 12.8 MB/s eta 0:00:01\r\u001b[K     |████████████████████████        | 1.5 MB 12.8 MB/s eta 0:00:01\r\u001b[K     |████████████████████████▏       | 1.5 MB 12.8 MB/s eta 0:00:01\r\u001b[K     |████████████████████████▍       | 1.5 MB 12.8 MB/s eta 0:00:01\r\u001b[K     |████████████████████████▌       | 1.5 MB 12.8 MB/s eta 0:00:01\r\u001b[K     |████████████████████████▊       | 1.5 MB 12.8 MB/s eta 0:00:01\r\u001b[K     |████████████████████████▉       | 1.5 MB 12.8 MB/s eta 0:00:01\r\u001b[K     |█████████████████████████       | 1.5 MB 12.8 MB/s eta 0:00:01\r\u001b[K     |█████████████████████████▏      | 1.5 MB 12.8 MB/s eta 0:00:01\r\u001b[K     |█████████████████████████▍      | 1.5 MB 12.8 MB/s eta 0:00:01\r\u001b[K     |█████████████████████████▌      | 1.6 MB 12.8 MB/s eta 0:00:01\r\u001b[K     |█████████████████████████▊      | 1.6 MB 12.8 MB/s eta 0:00:01\r\u001b[K     |█████████████████████████▉      | 1.6 MB 12.8 MB/s eta 0:00:01\r\u001b[K     |██████████████████████████      | 1.6 MB 12.8 MB/s eta 0:00:01\r\u001b[K     |██████████████████████████▏     | 1.6 MB 12.8 MB/s eta 0:00:01\r\u001b[K     |██████████████████████████▍     | 1.6 MB 12.8 MB/s eta 0:00:01\r\u001b[K     |██████████████████████████▌     | 1.6 MB 12.8 MB/s eta 0:00:01\r\u001b[K     |██████████████████████████▊     | 1.6 MB 12.8 MB/s eta 0:00:01\r\u001b[K     |██████████████████████████▉     | 1.6 MB 12.8 MB/s eta 0:00:01\r\u001b[K     |███████████████████████████     | 1.6 MB 12.8 MB/s eta 0:00:01\r\u001b[K     |███████████████████████████▏    | 1.7 MB 12.8 MB/s eta 0:00:01\r\u001b[K     |███████████████████████████▍    | 1.7 MB 12.8 MB/s eta 0:00:01\r\u001b[K     |███████████████████████████▌    | 1.7 MB 12.8 MB/s eta 0:00:01\r\u001b[K     |███████████████████████████▊    | 1.7 MB 12.8 MB/s eta 0:00:01\r\u001b[K     |███████████████████████████▉    | 1.7 MB 12.8 MB/s eta 0:00:01\r\u001b[K     |████████████████████████████    | 1.7 MB 12.8 MB/s eta 0:00:01\r\u001b[K     |████████████████████████████▏   | 1.7 MB 12.8 MB/s eta 0:00:01\r\u001b[K     |████████████████████████████▍   | 1.7 MB 12.8 MB/s eta 0:00:01\r\u001b[K     |████████████████████████████▌   | 1.7 MB 12.8 MB/s eta 0:00:01\r\u001b[K     |████████████████████████████▊   | 1.8 MB 12.8 MB/s eta 0:00:01\r\u001b[K     |█████████████████████████████   | 1.8 MB 12.8 MB/s eta 0:00:01\r\u001b[K     |█████████████████████████████   | 1.8 MB 12.8 MB/s eta 0:00:01\r\u001b[K     |█████████████████████████████▎  | 1.8 MB 12.8 MB/s eta 0:00:01\r\u001b[K     |█████████████████████████████▍  | 1.8 MB 12.8 MB/s eta 0:00:01\r\u001b[K     |█████████████████████████████▋  | 1.8 MB 12.8 MB/s eta 0:00:01\r\u001b[K     |█████████████████████████████▊  | 1.8 MB 12.8 MB/s eta 0:00:01\r\u001b[K     |██████████████████████████████  | 1.8 MB 12.8 MB/s eta 0:00:01\r\u001b[K     |██████████████████████████████  | 1.8 MB 12.8 MB/s eta 0:00:01\r\u001b[K     |██████████████████████████████▎ | 1.8 MB 12.8 MB/s eta 0:00:01\r\u001b[K     |██████████████████████████████▍ | 1.9 MB 12.8 MB/s eta 0:00:01\r\u001b[K     |██████████████████████████████▋ | 1.9 MB 12.8 MB/s eta 0:00:01\r\u001b[K     |██████████████████████████████▊ | 1.9 MB 12.8 MB/s eta 0:00:01\r\u001b[K     |███████████████████████████████ | 1.9 MB 12.8 MB/s eta 0:00:01\r\u001b[K     |███████████████████████████████ | 1.9 MB 12.8 MB/s eta 0:00:01\r\u001b[K     |███████████████████████████████▎| 1.9 MB 12.8 MB/s eta 0:00:01\r\u001b[K     |███████████████████████████████▍| 1.9 MB 12.8 MB/s eta 0:00:01\r\u001b[K     |███████████████████████████████▋| 1.9 MB 12.8 MB/s eta 0:00:01\r\u001b[K     |███████████████████████████████▊| 1.9 MB 12.8 MB/s eta 0:00:01\r\u001b[K     |████████████████████████████████| 1.9 MB 12.8 MB/s eta 0:00:01\r\u001b[K     |████████████████████████████████| 2.0 MB 12.8 MB/s \n",
            "\u001b[?25hInstalling collected packages: pydicom\n",
            "Successfully installed pydicom-2.2.2\n",
            "Selecting previously unselected package pv.\n",
            "(Reading database ... 156210 files and directories currently installed.)\n",
            "Preparing to unpack .../archives/pv_1.6.6-1_amd64.deb ...\n",
            "Unpacking pv (1.6.6-1) ...\n",
            "Setting up pv (1.6.6-1) ...\n",
            "Processing triggers for man-db (2.8.3-2ubuntu0.1) ...\n",
            "\u001b[K     |████████████████████████████████| 720 kB 14.4 MB/s \n",
            "\u001b[K     |████████████████████████████████| 49 kB 7.2 MB/s \n",
            "\u001b[K     |████████████████████████████████| 1.2 MB 54.4 MB/s \n",
            "\u001b[K     |████████████████████████████████| 187 kB 48.8 MB/s \n",
            "\u001b[K     |████████████████████████████████| 56 kB 5.7 MB/s \n",
            "\u001b[K     |████████████████████████████████| 51 kB 381 kB/s \n",
            "\u001b[K     |████████████████████████████████| 561 kB 56.2 MB/s \n",
            "\u001b[K     |████████████████████████████████| 130 kB 69.9 MB/s \n",
            "\u001b[?25h"
          ]
        }
      ],
      "source": [
        "#Import libraries/packages\n",
        "\n",
        "!pip install pydicom #Not in Colab by default\n",
        "!apt-get -qq install pv #Progress bar, also not in Colab\n",
        "\n",
        "#Now we will import several parts of the FastAI library\n",
        "!pip install -Uqq fastbook\n",
        "import fastbook\n",
        "from fastbook import *\n",
        "from IPython.display import display,HTML\n",
        "\n",
        "from fastai.vision.all import *\n",
        "from fastcore.xtras import Path\n",
        "from fastai.callback.hook import summary\n",
        "from fastai.callback.progress import ProgressCallback\n",
        "from fastai.callback.schedule import lr_find, fit_flat_cos\n",
        "\n",
        "from fastai.data.block import DataBlock\n",
        "from fastai.data.external import untar_data, URLs\n",
        "from fastai.data.transforms import get_image_files, FuncSplitter, Normalize\n",
        "\n",
        "from fastai.layers import Mish\n",
        "from fastai.losses import BaseLoss\n",
        "from fastai.optimizer import ranger\n",
        "\n",
        "from fastai.torch_core import tensor\n",
        "\n",
        "from fastai.vision.augment import aug_transforms\n",
        "from fastai.vision.core import PILImage, PILMask\n",
        "from fastai.vision.data import ImageBlock, MaskBlock, imagenet_stats\n",
        "from fastai.vision.learner import unet_learner\n",
        "\n",
        "from PIL import Image\n",
        "import numpy as np\n",
        "\n",
        "from torch import nn\n",
        "from torchvision.models.resnet import resnet34\n",
        "\n",
        "import torch\n",
        "import torch.nn.functional as F\n",
        "\n",
        "import os\n",
        "import shutil\n",
        "import pydicom\n",
        "import matplotlib.pyplot as plt\n",
        "import matplotlib.image as mpimg\n",
        "import torch\n",
        "import numpy as np\n",
        "from pathlib import Path\n",
        "import pandas as pd\n",
        "import glob\n",
        "import sys"
      ]
    },
    {
      "cell_type": "code",
      "source": [
        "#Check the GPU - we need a GPU runtime\n",
        "\n",
        "!nvidia-smi"
      ],
      "metadata": {
        "colab": {
          "base_uri": "https://localhost:8080/"
        },
        "id": "VUeuM_HJ4Oia",
        "outputId": "ca4c9019-14b8-4651-a321-6763f386f571"
      },
      "execution_count": 2,
      "outputs": [
        {
          "output_type": "stream",
          "name": "stdout",
          "text": [
            "Sun Mar 27 15:39:30 2022       \n",
            "+-----------------------------------------------------------------------------+\n",
            "| NVIDIA-SMI 460.32.03    Driver Version: 460.32.03    CUDA Version: 11.2     |\n",
            "|-------------------------------+----------------------+----------------------+\n",
            "| GPU  Name        Persistence-M| Bus-Id        Disp.A | Volatile Uncorr. ECC |\n",
            "| Fan  Temp  Perf  Pwr:Usage/Cap|         Memory-Usage | GPU-Util  Compute M. |\n",
            "|                               |                      |               MIG M. |\n",
            "|===============================+======================+======================|\n",
            "|   0  Tesla P100-PCIE...  Off  | 00000000:00:04.0 Off |                    0 |\n",
            "| N/A   32C    P0    26W / 250W |      2MiB / 16280MiB |      0%      Default |\n",
            "|                               |                      |                  N/A |\n",
            "+-------------------------------+----------------------+----------------------+\n",
            "                                                                               \n",
            "+-----------------------------------------------------------------------------+\n",
            "| Processes:                                                                  |\n",
            "|  GPU   GI   CI        PID   Type   Process name                  GPU Memory |\n",
            "|        ID   ID                                                   Usage      |\n",
            "|=============================================================================|\n",
            "|  No running processes found                                                 |\n",
            "+-----------------------------------------------------------------------------+\n"
          ]
        }
      ]
    },
    {
      "cell_type": "code",
      "source": [
        "#Get the CHAOS dataset and unzip it\n",
        "\n",
        "!wget -q --show-progress https://zenodo.org/record/3431873/files/CHAOS_Train_Sets.zip?download=1\n",
        "\n",
        "!unzip -q  CHAOS_Train_Sets.zip\\?download\\=1"
      ],
      "metadata": {
        "colab": {
          "base_uri": "https://localhost:8080/"
        },
        "id": "0SG0f1Ih4arM",
        "outputId": "cf9d359a-f031-4230-baef-f37c60f600cc"
      },
      "execution_count": 3,
      "outputs": [
        {
          "output_type": "stream",
          "name": "stdout",
          "text": [
            "CHAOS_Train_Sets.zi 100%[===================>] 849.51M  50.3MB/s    in 13s     \n"
          ]
        }
      ]
    },
    {
      "cell_type": "code",
      "source": [
        "#Make new folders, similar to lesson 2\n",
        "if not os.path.exists('./images'):\n",
        "  os.mkdir('./images')\n",
        "if not os.path.exists('./labels'):  \n",
        "  os.mkdir('./labels')"
      ],
      "metadata": {
        "id": "uv7022Td4nrg"
      },
      "execution_count": 4,
      "outputs": []
    },
    {
      "cell_type": "markdown",
      "source": [
        "So far, we are basically just recreating steps from lesson 2, but now when we reformat the dataset, we will also create a label of whether or not the axial slice contains the liver at all for the CT data"
      ],
      "metadata": {
        "id": "ELG_noYV46tf"
      }
    },
    {
      "cell_type": "code",
      "source": [
        "#New folders for liver presence/absence classification\n",
        "\n",
        "#We will create dedicated training and validation data folders this time\n",
        "#The structure will be such that the grandparent folder name is train or valid\n",
        "#and the parent folder name is the class liver versus noliver in our scenario\n",
        "\n",
        "if not os.path.exists('./liverClass/train/liver'):\n",
        "  os.makedirs('./liverClass/train/liver',exist_ok=True) #This alternative to os.mkdir, os.makedirs\n",
        "  #will let us also make the parent folders when we make the class folders\n",
        "if not os.path.exists('./liverClass/train/notliver'):\n",
        "  os.makedirs('./liverClass/train/notliver',exist_ok=True)\n",
        "if not os.path.exists('./liverClass/valid/liver'):\n",
        "  os.makedirs('./liverClass/valid/liver',exist_ok=True)\n",
        "if not os.path.exists('./liverClass/valid/notliver'):\n",
        "  os.makedirs('./liverClass/valid/notliver',exist_ok=True)\n",
        "\n",
        "\n",
        "\n",
        "#We will also explicitly split the patient list into the training and validation datasets\n",
        "valcasepicks=['1','2','5','6']\n"
      ],
      "metadata": {
        "id": "siloCoC7-P2G"
      },
      "execution_count": 5,
      "outputs": []
    },
    {
      "cell_type": "code",
      "source": [
        "#Rearrange and reformat the dataset, once again\n",
        "labelpathct=Path('./Train_Sets/CT')\n",
        "trainls=os.listdir(labelpathct)\n",
        "\n",
        "#Track slices that contain liver\n",
        "runls=[]\n",
        "liverlabels=[]\n",
        "liveronlynames=[]\n",
        "livernotnames=[]\n",
        "\n",
        "\n",
        "for f1 in trainls:\n",
        "  dcls=sorted(os.listdir(labelpathct/f1/'DICOM_anon'))\n",
        "  labls=sorted(os.listdir(labelpathct/f1/'Ground'))\n",
        "  for x1 in range(0,len(dcls)):\n",
        "    dcpick=labelpathct/f1/'DICOM_anon'/dcls[x1]\n",
        "    labpick=labelpathct/f1/'Ground'/labls[x1]\n",
        "    savestem=labls[x1].split('.')[0] #Split the name from the suffix\n",
        "    savenamekeep=str(f1)+'-'+savestem+'.tif'\n",
        "    ctex=pydicom.dcmread(dcpick) #Load the DICOM\n",
        "    huimg=pydicom.pixel_data_handlers.util.apply_modality_lut(ctex.pixel_array,ctex) #Convert to HU\n",
        "\n",
        "    Image.fromarray(huimg).save('./images/'+savenamekeep) #Save the DICOM image data as a TIF\n",
        "\n",
        "    #Open the existing label image and save it in a modified format\n",
        "    imtemp=np.array(Image.open(labpick))\n",
        "    Image.fromarray(imtemp.astype('uint8')).convert('L').save('./labels/'+str(f1)+'-'+savestem+'.png')\n",
        "\n",
        "    if np.sum(imtemp)>0:\n",
        "      liveronlynames.append(savenamekeep)\n",
        "      liverlabels.append(1)\n",
        "      #Now we can copy the image to the appropriate folder\n",
        "      if f1 in valcasepicks: #Check for validation set based on the case selections\n",
        "        #Use shuti.copy(source, dest) to copy image to classification folder scheme\n",
        "        shutil.copy('./images/'+savenamekeep,'./liverClass/valid/liver/'+savenamekeep)\n",
        "      else:\n",
        "        #Training data\n",
        "        shutil.copy('./images/'+savenamekeep,'./liverClass/train/liver/'+savenamekeep)\n",
        "    else:\n",
        "      liverlabels.append(0)\n",
        "      livernotnames.append(savenamekeep)\n",
        "      if f1 in valcasepicks: #Check for validation set based on the case selections\n",
        "        #Use shuti.copy(source, dest) to copy image to classification folder scheme\n",
        "        shutil.copy('./images/'+savenamekeep,'./liverClass/valid/notliver/'+savenamekeep)\n",
        "      else:\n",
        "        #Training data\n",
        "        shutil.copy('./images/'+savenamekeep,'./liverClass/train/notliver/'+savenamekeep)"
      ],
      "metadata": {
        "id": "Rw2C4oCL41Tl"
      },
      "execution_count": 6,
      "outputs": []
    },
    {
      "cell_type": "markdown",
      "source": [
        "With our data and folder organization set up now similar to ImageNet folder organization, we can move on to setting up the datablock for creating a binary classifier for whether or not an axial CT slice contains liver"
      ],
      "metadata": {
        "id": "_VfIzbQFDUCr"
      }
    },
    {
      "cell_type": "markdown",
      "source": [
        "Since we are diving a bit deeper now, we will focus specifically on image augmentation/transformation for our dataset. Now, if we are doing a segmentation task, then we need to be careful that our image transformation/augmentation performed on our input image data also matches with a correlated transform of the segmentation label image.\n",
        "\n",
        "For our classification task, we will now define some custom transforms"
      ],
      "metadata": {
        "id": "C4d3F5U0In44"
      }
    },
    {
      "cell_type": "code",
      "source": [
        "imgszpick=320\n",
        "\n",
        "custom_imgtfms=[DihedralItem(),#Dihedral transformation in 1 of 8 randomly selected configurations\n",
        "                Resize(imgszpick)]\n"
      ],
      "metadata": {
        "id": "FdkWXP-dImA2"
      },
      "execution_count": 7,
      "outputs": []
    },
    {
      "cell_type": "markdown",
      "source": [
        "In Lesson 2, we still used image augmentation, but we used the FastAI function aug_transforms which utilized several default FastAI image augmentation transforms which we did not explicitly enumerate in that lesson.\n",
        "\n",
        "The default aug_transforms image augmentations can be read about in the FastAI documentation: https://docs.fast.ai/vision.augment.html#aug_transforms\n",
        "\n",
        "In this lesson, we will more explicitly manipulate aug_transforms and modify several of the inputs. We will also do transformations at the item level and the batch level where previously in lesson 2 we only did batch level transformations. In this example, we are doing dihedral transforms and resizing at the item level and based on our modification of the default transforms included in aug_transforms, at the batch level we are doing random rotations, zooms, lighting adjustments, and image warping."
      ],
      "metadata": {
        "id": "IbdPBF4HNfCz"
      }
    },
    {
      "cell_type": "code",
      "source": [
        "datablock1=DataBlock(blocks=(ImageBlock,CategoryBlock),\n",
        "                     get_items=get_image_files,\n",
        "                     get_y=parent_label, #Build in FastAI function for labeling classes based on the parent folder (appropriate for our setup\n",
        "                     splitter=GrandparentSplitter(train_name='train', valid_name='valid'), #A FastAI function also convenient based on the file arrangement that we have used in this scenario\n",
        "                     item_tfms=custom_imgtfms,\n",
        "                     batch_tfms=[*aug_transforms(do_flip=False,max_rotate=5.0,max_zoom=1.05,\n",
        "                                                 max_lighting=0.05,max_warp=0.05),Normalize.from_stats(*imagenet_stats)]\n",
        "                )\n",
        "    \n",
        "\n"
      ],
      "metadata": {
        "id": "RBL4TMV-Df4-"
      },
      "execution_count": 8,
      "outputs": []
    },
    {
      "cell_type": "markdown",
      "source": [
        "Also, now we should have a discussion about image size and its relationship with batch size. Our axial slices for CT are 512x512 pixels. This size is feasible to run at full resolution with a reasonable batch size of, perhaps 8, while still not exceeding the RAM of the GPU. We can look at the data about our GPU by inspecting the output of !nvidia-smi which we executed in a cell at the start of this notebook. With a 16 GB RAM on a Tesla P100 GPU, we don't have to worry too much about image size as a constraint for 2D CT and MRI data. However, if we tried to model full resolution radiographs with greater than 1000 pixels in each dimension, then this would potentially be a problem. With an image size of 320x320 and a batch size of 16, we won't have an issue with exceeding the RAM of GPUs accessible in Colab, but this is an important consideration depending on possible hardware considerations.\n",
        "\n",
        "Batch size and image size are also important consideration for training time to run each epoch of training"
      ],
      "metadata": {
        "id": "zsqBNohKKlB8"
      }
    },
    {
      "cell_type": "code",
      "source": [
        "#Now let's but the data block into a data loader\n",
        "dls=datablock1.dataloaders('./liverClass',bs=8,path='.') "
      ],
      "metadata": {
        "id": "rKLKLaKI9FkU"
      },
      "execution_count": 9,
      "outputs": []
    },
    {
      "cell_type": "code",
      "source": [
        "dls.show_batch() #Look at the inputs"
      ],
      "metadata": {
        "colab": {
          "base_uri": "https://localhost:8080/",
          "height": 370
        },
        "id": "mBMNJMx_obB7",
        "outputId": "b112a1c6-85a9-4124-a5e3-17c9b505d18e"
      },
      "execution_count": 10,
      "outputs": [
        {
          "output_type": "display_data",
          "data": {
            "text/plain": [
              "<Figure size 864x432 with 8 Axes>"
            ],
            "image/png": "[encoded data removed]"
          },
          "metadata": {
            "needs_background": "light"
          }
        }
      ]
    },
    {
      "cell_type": "code",
      "source": [
        "#Let's set up our learner\n",
        "learn = cnn_learner(dls, resnet34, metrics=[accuracy], pretrained=True, opt_func=Adam)"
      ],
      "metadata": {
        "colab": {
          "base_uri": "https://localhost:8080/",
          "height": 66,
          "referenced_widgets": [
            "33e5ffdbd754492f9135a40c3b404732",
            "be81569a29de42f386eabe6d9d7f996b",
            "75a342eba48f44a1ae5faf7c564ad8ce",
            "c09c63ad89434794948e1b1ea32a6a02",
            "47a805760d5445bb9c24080ecbc3228f",
            "c3584acb489f49a6a47cfbd1559962a9",
            "5b7da926709b433b98b12a3e4d8654ae",
            "914608750b6f4fdaadb041ad129dc53c",
            "5d2bfc911bb54a95a0310e89bedd061c",
            "e43a0c57dcb54b39918f217f34612967",
            "b6b0435c847f48f9b6d3517c4f300424"
          ]
        },
        "id": "i8EnoTkYPRNN",
        "outputId": "bb1b7826-997d-4d48-ef92-13138712a741"
      },
      "execution_count": 11,
      "outputs": [
        {
          "output_type": "stream",
          "name": "stderr",
          "text": [
            "Downloading: \"https://download.pytorch.org/models/resnet34-b627a593.pth\" to /root/.cache/torch/hub/checkpoints/resnet34-b627a593.pth\n"
          ]
        },
        {
          "output_type": "display_data",
          "data": {
            "text/plain": [
              "  0%|          | 0.00/83.3M [00:00<?, ?B/s]"
            ],
            "application/vnd.jupyter.widget-view+json": {
              "version_major": 2,
              "version_minor": 0,
              "model_id": "33e5ffdbd754492f9135a40c3b404732"
            }
          },
          "metadata": {}
        }
      ]
    },
    {
      "cell_type": "code",
      "source": [
        "learn.loss_func #Look at the default loss function (flattend cross entropy loss)"
      ],
      "metadata": {
        "colab": {
          "base_uri": "https://localhost:8080/"
        },
        "id": "fvdJUEPM9FnL",
        "outputId": "e591cbae-39f1-4991-ebef-e7d634ac2603"
      },
      "execution_count": 12,
      "outputs": [
        {
          "output_type": "execute_result",
          "data": {
            "text/plain": [
              "FlattenedLoss of CrossEntropyLoss()"
            ]
          },
          "metadata": {},
          "execution_count": 12
        }
      ]
    },
    {
      "cell_type": "markdown",
      "source": [
        "Now previously in lesson 2, we did not discuss the process of how to select a learning rate for our model. The learning rate is essentially a hyperparameter which determines how big of a change the model tries to make to its weights at each step while it optimizes with respect to the loss function.\n",
        "\n",
        "In FastAI, we can use a learning rate finder feature based on the work of Leslie Smith: https://arxiv.org/abs/1803.09820\n",
        "\n",
        "Let's take a look at the learning rate finder"
      ],
      "metadata": {
        "id": "kiUWhx24j9Mw"
      }
    },
    {
      "cell_type": "code",
      "source": [
        "lrf=learn.lr_find(suggest_funcs=(steep,valley))"
      ],
      "metadata": {
        "colab": {
          "base_uri": "https://localhost:8080/",
          "height": 283
        },
        "id": "W2y6ihR64nuV",
        "outputId": "0c2eaffb-addd-453c-8492-3aebc2ac5ac3"
      },
      "execution_count": 13,
      "outputs": [
        {
          "output_type": "display_data",
          "data": {
            "text/plain": [
              "<IPython.core.display.HTML object>"
            ],
            "text/html": [
              "\n",
              "<style>\n",
              "    /* Turns off some styling */\n",
              "    progress {\n",
              "        /* gets rid of default border in Firefox and Opera. */\n",
              "        border: none;\n",
              "        /* Needs to be in here for Safari polyfill so background images work as expected. */\n",
              "        background-size: auto;\n",
              "    }\n",
              "    .progress-bar-interrupted, .progress-bar-interrupted::-webkit-progress-bar {\n",
              "        background: #F44336;\n",
              "    }\n",
              "</style>\n"
            ]
          },
          "metadata": {}
        },
        {
          "output_type": "display_data",
          "data": {
            "text/plain": [
              "<IPython.core.display.HTML object>"
            ],
            "text/html": [
              ""
            ]
          },
          "metadata": {}
        },
        {
          "output_type": "display_data",
          "data": {
            "text/plain": [
              "<Figure size 432x288 with 1 Axes>"
            ],
            "image/png": "[encoded data removed]"
          },
          "metadata": {
            "needs_background": "light"
          }
        }
      ]
    },
    {
      "cell_type": "markdown",
      "source": [
        "Based on this curve, there are a few different methods to pick the best learning rate. Conveniently, FastAI will suggest different options, and the valley approach often seems reasonable (and is currently the default suggestion). You can learn more about the details of this learning rate selection process based on an excellent blog post from one of the FastAI developers, Sylvain Gugger:\n",
        "\n",
        "https://sgugger.github.io/how-do-you-find-a-good-learning-rate.html\n",
        "\n",
        "or based on these FastAI forum threads: https://forums.fast.ai/t/automated-learning-rate-suggester/44199/30\n",
        "\n",
        "https://forums.fast.ai/t/new-lr-finder-output/89236/3"
      ],
      "metadata": {
        "id": "9I9Tux07uelW"
      }
    },
    {
      "cell_type": "code",
      "source": [
        "lrf.valley"
      ],
      "metadata": {
        "colab": {
          "base_uri": "https://localhost:8080/"
        },
        "id": "hDc07YCC4nyU",
        "outputId": "40225335-4e00-4945-a9e4-e5f609874751"
      },
      "execution_count": 14,
      "outputs": [
        {
          "output_type": "execute_result",
          "data": {
            "text/plain": [
              "0.0010000000474974513"
            ]
          },
          "metadata": {},
          "execution_count": 14
        }
      ]
    },
    {
      "cell_type": "code",
      "source": [
        "lr1 = 5e-3 #Based on our learning rate finder curve analysis, we will use 0.005 as the initial learning rate\n",
        "\n",
        "learn.fit_one_cycle(20,slice(lr1))"
      ],
      "metadata": {
        "colab": {
          "base_uri": "https://localhost:8080/",
          "height": 676
        },
        "id": "XsbnNTsnvbRU",
        "outputId": "8c9b7c5a-a373-43cc-f2cc-2e923618b729"
      },
      "execution_count": 15,
      "outputs": [
        {
          "output_type": "display_data",
          "data": {
            "text/plain": [
              "<IPython.core.display.HTML object>"
            ],
            "text/html": [
              "\n",
              "<style>\n",
              "    /* Turns off some styling */\n",
              "    progress {\n",
              "        /* gets rid of default border in Firefox and Opera. */\n",
              "        border: none;\n",
              "        /* Needs to be in here for Safari polyfill so background images work as expected. */\n",
              "        background-size: auto;\n",
              "    }\n",
              "    .progress-bar-interrupted, .progress-bar-interrupted::-webkit-progress-bar {\n",
              "        background: #F44336;\n",
              "    }\n",
              "</style>\n"
            ]
          },
          "metadata": {}
        },
        {
          "output_type": "display_data",
          "data": {
            "text/plain": [
              "<IPython.core.display.HTML object>"
            ],
            "text/html": [
              "<table border=\"1\" class=\"dataframe\">\n",
              "  <thead>\n",
              "    <tr style=\"text-align: left;\">\n",
              "      <th>epoch</th>\n",
              "      <th>train_loss</th>\n",
              "      <th>valid_loss</th>\n",
              "      <th>accuracy</th>\n",
              "      <th>time</th>\n",
              "    </tr>\n",
              "  </thead>\n",
              "  <tbody>\n",
              "    <tr>\n",
              "      <td>0</td>\n",
              "      <td>0.539754</td>\n",
              "      <td>0.366602</td>\n",
              "      <td>0.858333</td>\n",
              "      <td>00:40</td>\n",
              "    </tr>\n",
              "    <tr>\n",
              "      <td>1</td>\n",
              "      <td>0.401879</td>\n",
              "      <td>0.198856</td>\n",
              "      <td>0.936111</td>\n",
              "      <td>00:36</td>\n",
              "    </tr>\n",
              "    <tr>\n",
              "      <td>2</td>\n",
              "      <td>0.379650</td>\n",
              "      <td>0.158491</td>\n",
              "      <td>0.936111</td>\n",
              "      <td>00:35</td>\n",
              "    </tr>\n",
              "    <tr>\n",
              "      <td>3</td>\n",
              "      <td>0.338752</td>\n",
              "      <td>0.283304</td>\n",
              "      <td>0.911111</td>\n",
              "      <td>00:35</td>\n",
              "    </tr>\n",
              "    <tr>\n",
              "      <td>4</td>\n",
              "      <td>0.319182</td>\n",
              "      <td>0.116238</td>\n",
              "      <td>0.961111</td>\n",
              "      <td>00:35</td>\n",
              "    </tr>\n",
              "    <tr>\n",
              "      <td>5</td>\n",
              "      <td>0.285306</td>\n",
              "      <td>0.176400</td>\n",
              "      <td>0.958333</td>\n",
              "      <td>00:35</td>\n",
              "    </tr>\n",
              "    <tr>\n",
              "      <td>6</td>\n",
              "      <td>0.205564</td>\n",
              "      <td>0.120366</td>\n",
              "      <td>0.966667</td>\n",
              "      <td>00:35</td>\n",
              "    </tr>\n",
              "    <tr>\n",
              "      <td>7</td>\n",
              "      <td>0.181306</td>\n",
              "      <td>0.092295</td>\n",
              "      <td>0.969444</td>\n",
              "      <td>00:35</td>\n",
              "    </tr>\n",
              "    <tr>\n",
              "      <td>8</td>\n",
              "      <td>0.149555</td>\n",
              "      <td>0.068620</td>\n",
              "      <td>0.972222</td>\n",
              "      <td>00:35</td>\n",
              "    </tr>\n",
              "    <tr>\n",
              "      <td>9</td>\n",
              "      <td>0.125203</td>\n",
              "      <td>0.052489</td>\n",
              "      <td>0.972222</td>\n",
              "      <td>00:35</td>\n",
              "    </tr>\n",
              "    <tr>\n",
              "      <td>10</td>\n",
              "      <td>0.127583</td>\n",
              "      <td>0.052177</td>\n",
              "      <td>0.969444</td>\n",
              "      <td>00:35</td>\n",
              "    </tr>\n",
              "    <tr>\n",
              "      <td>11</td>\n",
              "      <td>0.142595</td>\n",
              "      <td>0.079396</td>\n",
              "      <td>0.963889</td>\n",
              "      <td>00:35</td>\n",
              "    </tr>\n",
              "    <tr>\n",
              "      <td>12</td>\n",
              "      <td>0.079328</td>\n",
              "      <td>0.097768</td>\n",
              "      <td>0.958333</td>\n",
              "      <td>00:35</td>\n",
              "    </tr>\n",
              "    <tr>\n",
              "      <td>13</td>\n",
              "      <td>0.079299</td>\n",
              "      <td>0.049571</td>\n",
              "      <td>0.969444</td>\n",
              "      <td>00:35</td>\n",
              "    </tr>\n",
              "    <tr>\n",
              "      <td>14</td>\n",
              "      <td>0.060139</td>\n",
              "      <td>0.061390</td>\n",
              "      <td>0.963889</td>\n",
              "      <td>00:35</td>\n",
              "    </tr>\n",
              "    <tr>\n",
              "      <td>15</td>\n",
              "      <td>0.068597</td>\n",
              "      <td>0.034696</td>\n",
              "      <td>0.980556</td>\n",
              "      <td>00:35</td>\n",
              "    </tr>\n",
              "    <tr>\n",
              "      <td>16</td>\n",
              "      <td>0.067185</td>\n",
              "      <td>0.046053</td>\n",
              "      <td>0.972222</td>\n",
              "      <td>00:35</td>\n",
              "    </tr>\n",
              "    <tr>\n",
              "      <td>17</td>\n",
              "      <td>0.066943</td>\n",
              "      <td>0.042774</td>\n",
              "      <td>0.980556</td>\n",
              "      <td>00:35</td>\n",
              "    </tr>\n",
              "    <tr>\n",
              "      <td>18</td>\n",
              "      <td>0.092994</td>\n",
              "      <td>0.046445</td>\n",
              "      <td>0.977778</td>\n",
              "      <td>00:35</td>\n",
              "    </tr>\n",
              "    <tr>\n",
              "      <td>19</td>\n",
              "      <td>0.081158</td>\n",
              "      <td>0.040398</td>\n",
              "      <td>0.980556</td>\n",
              "      <td>00:35</td>\n",
              "    </tr>\n",
              "  </tbody>\n",
              "</table>"
            ]
          },
          "metadata": {}
        }
      ]
    },
    {
      "cell_type": "code",
      "source": [
        "learn.show_results(max_n=4, figsize=(18,8))"
      ],
      "metadata": {
        "colab": {
          "base_uri": "https://localhost:8080/",
          "height": 497
        },
        "id": "f6mqlBoIBXtq",
        "outputId": "82440a9a-5f71-46a6-8f68-a7963f6dafd0"
      },
      "execution_count": 16,
      "outputs": [
        {
          "output_type": "display_data",
          "data": {
            "text/plain": [
              "<IPython.core.display.HTML object>"
            ],
            "text/html": [
              "\n",
              "<style>\n",
              "    /* Turns off some styling */\n",
              "    progress {\n",
              "        /* gets rid of default border in Firefox and Opera. */\n",
              "        border: none;\n",
              "        /* Needs to be in here for Safari polyfill so background images work as expected. */\n",
              "        background-size: auto;\n",
              "    }\n",
              "    .progress-bar-interrupted, .progress-bar-interrupted::-webkit-progress-bar {\n",
              "        background: #F44336;\n",
              "    }\n",
              "</style>\n"
            ]
          },
          "metadata": {}
        },
        {
          "output_type": "display_data",
          "data": {
            "text/plain": [
              "<IPython.core.display.HTML object>"
            ],
            "text/html": [
              ""
            ]
          },
          "metadata": {}
        },
        {
          "output_type": "display_data",
          "data": {
            "text/plain": [
              "<Figure size 1296x576 with 4 Axes>"
            ],
            "image/png": "[encoded data removed]"
          },
          "metadata": {
            "needs_background": "light"
          }
        }
      ]
    },
    {
      "cell_type": "code",
      "source": [
        "#Use the FastAI interpretation class\n",
        "interp = Interpretation.from_learner(learn)\n",
        "interp.plot_top_losses(5)"
      ],
      "metadata": {
        "colab": {
          "base_uri": "https://localhost:8080/",
          "height": 400
        },
        "id": "_9x8lBl3Bnzj",
        "outputId": "0a29bddc-9950-4bc6-e76b-43fc2da2e2d4"
      },
      "execution_count": 17,
      "outputs": [
        {
          "output_type": "display_data",
          "data": {
            "text/plain": [
              "<IPython.core.display.HTML object>"
            ],
            "text/html": [
              "\n",
              "<style>\n",
              "    /* Turns off some styling */\n",
              "    progress {\n",
              "        /* gets rid of default border in Firefox and Opera. */\n",
              "        border: none;\n",
              "        /* Needs to be in here for Safari polyfill so background images work as expected. */\n",
              "        background-size: auto;\n",
              "    }\n",
              "    .progress-bar-interrupted, .progress-bar-interrupted::-webkit-progress-bar {\n",
              "        background: #F44336;\n",
              "    }\n",
              "</style>\n"
            ]
          },
          "metadata": {}
        },
        {
          "output_type": "display_data",
          "data": {
            "text/plain": [
              "<IPython.core.display.HTML object>"
            ],
            "text/html": [
              ""
            ]
          },
          "metadata": {}
        },
        {
          "output_type": "display_data",
          "data": {
            "text/plain": [
              "<IPython.core.display.HTML object>"
            ],
            "text/html": [
              "\n",
              "<style>\n",
              "    /* Turns off some styling */\n",
              "    progress {\n",
              "        /* gets rid of default border in Firefox and Opera. */\n",
              "        border: none;\n",
              "        /* Needs to be in here for Safari polyfill so background images work as expected. */\n",
              "        background-size: auto;\n",
              "    }\n",
              "    .progress-bar-interrupted, .progress-bar-interrupted::-webkit-progress-bar {\n",
              "        background: #F44336;\n",
              "    }\n",
              "</style>\n"
            ]
          },
          "metadata": {}
        },
        {
          "output_type": "display_data",
          "data": {
            "text/plain": [
              "<IPython.core.display.HTML object>"
            ],
            "text/html": [
              ""
            ]
          },
          "metadata": {}
        },
        {
          "output_type": "display_data",
          "data": {
            "text/plain": [
              "<Figure size 648x432 with 6 Axes>"
            ],
            "image/png": "[encoded data removed]"
          },
          "metadata": {
            "needs_background": "light"
          }
        }
      ]
    },
    {
      "cell_type": "code",
      "source": [
        "learn.save('res34-20epochs-lr5e-3')"
      ],
      "metadata": {
        "colab": {
          "base_uri": "https://localhost:8080/"
        },
        "id": "vZa29ajDBn6E",
        "outputId": "d0b4403c-b45f-4d62-c6ce-ade6628581ba"
      },
      "execution_count": 18,
      "outputs": [
        {
          "output_type": "execute_result",
          "data": {
            "text/plain": [
              "Path('models/res34-20epochs-lr5e-3.pth')"
            ]
          },
          "metadata": {},
          "execution_count": 18
        }
      ]
    },
    {
      "cell_type": "markdown",
      "source": [
        "Now for the next part, for illustrative purposes, we will restart the training process from the ImageNet pretrained models that we are using for model initialization and then pick very suboptimal learning rates that are either much too low for the training process to be efficient (0.0000001) or too high so that the optimization is unstable/erratic as it tries to find a minimum for the loss function (0.1). If you already feel comfortable with the concept of learning rate, then feel free to skip these steps as they are specifically illustrative of bad versions of model training"
      ],
      "metadata": {
        "id": "9q6MlcnOK54q"
      }
    },
    {
      "cell_type": "code",
      "source": [
        "learn = cnn_learner(dls, resnet34, metrics=[accuracy], pretrained=True, opt_func=Adam)\n",
        "learn.fit_one_cycle(10,slice(1e-7))"
      ],
      "metadata": {
        "colab": {
          "base_uri": "https://localhost:8080/",
          "height": 363
        },
        "id": "mqvG45mvHknN",
        "outputId": "666ff037-25d0-49ba-e3ab-f75cdfff42c3"
      },
      "execution_count": 19,
      "outputs": [
        {
          "output_type": "display_data",
          "data": {
            "text/plain": [
              "<IPython.core.display.HTML object>"
            ],
            "text/html": [
              "\n",
              "<style>\n",
              "    /* Turns off some styling */\n",
              "    progress {\n",
              "        /* gets rid of default border in Firefox and Opera. */\n",
              "        border: none;\n",
              "        /* Needs to be in here for Safari polyfill so background images work as expected. */\n",
              "        background-size: auto;\n",
              "    }\n",
              "    .progress-bar-interrupted, .progress-bar-interrupted::-webkit-progress-bar {\n",
              "        background: #F44336;\n",
              "    }\n",
              "</style>\n"
            ]
          },
          "metadata": {}
        },
        {
          "output_type": "display_data",
          "data": {
            "text/plain": [
              "<IPython.core.display.HTML object>"
            ],
            "text/html": [
              "<table border=\"1\" class=\"dataframe\">\n",
              "  <thead>\n",
              "    <tr style=\"text-align: left;\">\n",
              "      <th>epoch</th>\n",
              "      <th>train_loss</th>\n",
              "      <th>valid_loss</th>\n",
              "      <th>accuracy</th>\n",
              "      <th>time</th>\n",
              "    </tr>\n",
              "  </thead>\n",
              "  <tbody>\n",
              "    <tr>\n",
              "      <td>0</td>\n",
              "      <td>1.275310</td>\n",
              "      <td>0.732251</td>\n",
              "      <td>0.611111</td>\n",
              "      <td>00:35</td>\n",
              "    </tr>\n",
              "    <tr>\n",
              "      <td>1</td>\n",
              "      <td>1.263140</td>\n",
              "      <td>0.654855</td>\n",
              "      <td>0.661111</td>\n",
              "      <td>00:35</td>\n",
              "    </tr>\n",
              "    <tr>\n",
              "      <td>2</td>\n",
              "      <td>1.335032</td>\n",
              "      <td>0.725142</td>\n",
              "      <td>0.613889</td>\n",
              "      <td>00:35</td>\n",
              "    </tr>\n",
              "    <tr>\n",
              "      <td>3</td>\n",
              "      <td>1.377323</td>\n",
              "      <td>0.745692</td>\n",
              "      <td>0.586111</td>\n",
              "      <td>00:35</td>\n",
              "    </tr>\n",
              "    <tr>\n",
              "      <td>4</td>\n",
              "      <td>1.338333</td>\n",
              "      <td>0.739977</td>\n",
              "      <td>0.613889</td>\n",
              "      <td>00:35</td>\n",
              "    </tr>\n",
              "    <tr>\n",
              "      <td>5</td>\n",
              "      <td>1.329649</td>\n",
              "      <td>0.720746</td>\n",
              "      <td>0.605556</td>\n",
              "      <td>00:35</td>\n",
              "    </tr>\n",
              "    <tr>\n",
              "      <td>6</td>\n",
              "      <td>1.242789</td>\n",
              "      <td>0.783026</td>\n",
              "      <td>0.563889</td>\n",
              "      <td>00:35</td>\n",
              "    </tr>\n",
              "    <tr>\n",
              "      <td>7</td>\n",
              "      <td>1.296695</td>\n",
              "      <td>0.760819</td>\n",
              "      <td>0.594444</td>\n",
              "      <td>00:35</td>\n",
              "    </tr>\n",
              "    <tr>\n",
              "      <td>8</td>\n",
              "      <td>1.329599</td>\n",
              "      <td>0.903285</td>\n",
              "      <td>0.525000</td>\n",
              "      <td>00:35</td>\n",
              "    </tr>\n",
              "    <tr>\n",
              "      <td>9</td>\n",
              "      <td>1.246186</td>\n",
              "      <td>0.748775</td>\n",
              "      <td>0.613889</td>\n",
              "      <td>00:35</td>\n",
              "    </tr>\n",
              "  </tbody>\n",
              "</table>"
            ]
          },
          "metadata": {}
        }
      ]
    },
    {
      "cell_type": "markdown",
      "source": [
        "With our learning rate much too low, 10 epochs does not get us very far at all in the optimization process. It would take us a very long time to train a model like this. "
      ],
      "metadata": {
        "id": "zn6GVUq4Lweh"
      }
    },
    {
      "cell_type": "code",
      "source": [
        "learn = cnn_learner(dls, resnet34, metrics=[accuracy], pretrained=True, opt_func=Adam)\n",
        "learn.fit_one_cycle(10,slice(0.1))"
      ],
      "metadata": {
        "colab": {
          "base_uri": "https://localhost:8080/",
          "height": 363
        },
        "id": "w87XKcioBY_2",
        "outputId": "674eddc9-3bac-4366-fca8-8d1d9e04bb53"
      },
      "execution_count": 20,
      "outputs": [
        {
          "output_type": "display_data",
          "data": {
            "text/plain": [
              "<IPython.core.display.HTML object>"
            ],
            "text/html": [
              "\n",
              "<style>\n",
              "    /* Turns off some styling */\n",
              "    progress {\n",
              "        /* gets rid of default border in Firefox and Opera. */\n",
              "        border: none;\n",
              "        /* Needs to be in here for Safari polyfill so background images work as expected. */\n",
              "        background-size: auto;\n",
              "    }\n",
              "    .progress-bar-interrupted, .progress-bar-interrupted::-webkit-progress-bar {\n",
              "        background: #F44336;\n",
              "    }\n",
              "</style>\n"
            ]
          },
          "metadata": {}
        },
        {
          "output_type": "display_data",
          "data": {
            "text/plain": [
              "<IPython.core.display.HTML object>"
            ],
            "text/html": [
              "<table border=\"1\" class=\"dataframe\">\n",
              "  <thead>\n",
              "    <tr style=\"text-align: left;\">\n",
              "      <th>epoch</th>\n",
              "      <th>train_loss</th>\n",
              "      <th>valid_loss</th>\n",
              "      <th>accuracy</th>\n",
              "      <th>time</th>\n",
              "    </tr>\n",
              "  </thead>\n",
              "  <tbody>\n",
              "    <tr>\n",
              "      <td>0</td>\n",
              "      <td>0.922464</td>\n",
              "      <td>2.056105</td>\n",
              "      <td>0.861111</td>\n",
              "      <td>00:35</td>\n",
              "    </tr>\n",
              "    <tr>\n",
              "      <td>1</td>\n",
              "      <td>4.432419</td>\n",
              "      <td>0.257490</td>\n",
              "      <td>0.966667</td>\n",
              "      <td>00:35</td>\n",
              "    </tr>\n",
              "    <tr>\n",
              "      <td>2</td>\n",
              "      <td>3.322917</td>\n",
              "      <td>0.662256</td>\n",
              "      <td>0.975000</td>\n",
              "      <td>00:35</td>\n",
              "    </tr>\n",
              "    <tr>\n",
              "      <td>3</td>\n",
              "      <td>2.662555</td>\n",
              "      <td>0.171172</td>\n",
              "      <td>0.938889</td>\n",
              "      <td>00:35</td>\n",
              "    </tr>\n",
              "    <tr>\n",
              "      <td>4</td>\n",
              "      <td>2.480255</td>\n",
              "      <td>0.396121</td>\n",
              "      <td>0.983333</td>\n",
              "      <td>00:35</td>\n",
              "    </tr>\n",
              "    <tr>\n",
              "      <td>5</td>\n",
              "      <td>1.753113</td>\n",
              "      <td>152.737473</td>\n",
              "      <td>0.777778</td>\n",
              "      <td>00:35</td>\n",
              "    </tr>\n",
              "    <tr>\n",
              "      <td>6</td>\n",
              "      <td>0.825762</td>\n",
              "      <td>19.499388</td>\n",
              "      <td>0.900000</td>\n",
              "      <td>00:35</td>\n",
              "    </tr>\n",
              "    <tr>\n",
              "      <td>7</td>\n",
              "      <td>0.339125</td>\n",
              "      <td>0.657082</td>\n",
              "      <td>0.975000</td>\n",
              "      <td>00:36</td>\n",
              "    </tr>\n",
              "    <tr>\n",
              "      <td>8</td>\n",
              "      <td>0.195447</td>\n",
              "      <td>88.135490</td>\n",
              "      <td>0.900000</td>\n",
              "      <td>00:35</td>\n",
              "    </tr>\n",
              "    <tr>\n",
              "      <td>9</td>\n",
              "      <td>0.158485</td>\n",
              "      <td>540.469482</td>\n",
              "      <td>0.663889</td>\n",
              "      <td>00:35</td>\n",
              "    </tr>\n",
              "  </tbody>\n",
              "</table>"
            ]
          },
          "metadata": {}
        }
      ]
    },
    {
      "cell_type": "markdown",
      "source": [
        "With our learning rate too high, we still get some versions of the model with good performance at different epochs but we also have very erratic validation loss which is disparate from the training loss. This type of erratic performance between epochs would obviously be quite concerning from a model generalizabity perspective. "
      ],
      "metadata": {
        "id": "4Qreozr0L6Nv"
      }
    },
    {
      "cell_type": "markdown",
      "source": [
        "We don't need to pick a perfect learning rate, though, we just need one that is good enough. We essentially have a \"goldilocks zone\" situation where we just don't want one too big or too small, but can benefit from a bigger learning rate in that the model will train faster.\n",
        "\n",
        "Let's try some training one more time with 0.001 as our learning rate. "
      ],
      "metadata": {
        "id": "J-mk0riTMijR"
      }
    },
    {
      "cell_type": "code",
      "source": [
        "learn = cnn_learner(dls, resnet34, metrics=[accuracy], pretrained=True, opt_func=Adam)\n",
        "learn.fit_one_cycle(10,slice(0.001))"
      ],
      "metadata": {
        "colab": {
          "base_uri": "https://localhost:8080/",
          "height": 363
        },
        "id": "9y4kRqqWM7wY",
        "outputId": "01f93d6d-ee1c-45f7-e527-98f8e96c8b40"
      },
      "execution_count": 21,
      "outputs": [
        {
          "output_type": "display_data",
          "data": {
            "text/plain": [
              "<IPython.core.display.HTML object>"
            ],
            "text/html": [
              "\n",
              "<style>\n",
              "    /* Turns off some styling */\n",
              "    progress {\n",
              "        /* gets rid of default border in Firefox and Opera. */\n",
              "        border: none;\n",
              "        /* Needs to be in here for Safari polyfill so background images work as expected. */\n",
              "        background-size: auto;\n",
              "    }\n",
              "    .progress-bar-interrupted, .progress-bar-interrupted::-webkit-progress-bar {\n",
              "        background: #F44336;\n",
              "    }\n",
              "</style>\n"
            ]
          },
          "metadata": {}
        },
        {
          "output_type": "display_data",
          "data": {
            "text/plain": [
              "<IPython.core.display.HTML object>"
            ],
            "text/html": [
              "<table border=\"1\" class=\"dataframe\">\n",
              "  <thead>\n",
              "    <tr style=\"text-align: left;\">\n",
              "      <th>epoch</th>\n",
              "      <th>train_loss</th>\n",
              "      <th>valid_loss</th>\n",
              "      <th>accuracy</th>\n",
              "      <th>time</th>\n",
              "    </tr>\n",
              "  </thead>\n",
              "  <tbody>\n",
              "    <tr>\n",
              "      <td>0</td>\n",
              "      <td>0.755131</td>\n",
              "      <td>0.386680</td>\n",
              "      <td>0.836111</td>\n",
              "      <td>00:35</td>\n",
              "    </tr>\n",
              "    <tr>\n",
              "      <td>1</td>\n",
              "      <td>0.412448</td>\n",
              "      <td>0.189893</td>\n",
              "      <td>0.933333</td>\n",
              "      <td>00:35</td>\n",
              "    </tr>\n",
              "    <tr>\n",
              "      <td>2</td>\n",
              "      <td>0.345419</td>\n",
              "      <td>0.387704</td>\n",
              "      <td>0.822222</td>\n",
              "      <td>00:35</td>\n",
              "    </tr>\n",
              "    <tr>\n",
              "      <td>3</td>\n",
              "      <td>0.341053</td>\n",
              "      <td>0.132880</td>\n",
              "      <td>0.955556</td>\n",
              "      <td>00:35</td>\n",
              "    </tr>\n",
              "    <tr>\n",
              "      <td>4</td>\n",
              "      <td>0.211451</td>\n",
              "      <td>0.171119</td>\n",
              "      <td>0.916667</td>\n",
              "      <td>00:35</td>\n",
              "    </tr>\n",
              "    <tr>\n",
              "      <td>5</td>\n",
              "      <td>0.243343</td>\n",
              "      <td>0.121844</td>\n",
              "      <td>0.952778</td>\n",
              "      <td>00:35</td>\n",
              "    </tr>\n",
              "    <tr>\n",
              "      <td>6</td>\n",
              "      <td>0.176078</td>\n",
              "      <td>0.242601</td>\n",
              "      <td>0.911111</td>\n",
              "      <td>00:35</td>\n",
              "    </tr>\n",
              "    <tr>\n",
              "      <td>7</td>\n",
              "      <td>0.211036</td>\n",
              "      <td>0.140142</td>\n",
              "      <td>0.950000</td>\n",
              "      <td>00:35</td>\n",
              "    </tr>\n",
              "    <tr>\n",
              "      <td>8</td>\n",
              "      <td>0.164068</td>\n",
              "      <td>0.169355</td>\n",
              "      <td>0.950000</td>\n",
              "      <td>00:35</td>\n",
              "    </tr>\n",
              "    <tr>\n",
              "      <td>9</td>\n",
              "      <td>0.143375</td>\n",
              "      <td>0.215130</td>\n",
              "      <td>0.936111</td>\n",
              "      <td>00:36</td>\n",
              "    </tr>\n",
              "  </tbody>\n",
              "</table>"
            ]
          },
          "metadata": {}
        }
      ]
    },
    {
      "cell_type": "markdown",
      "source": [
        "This learning rate works pretty well as we can see, so while we want to pick a learning rate in an appropriate range, we don't need a perfect learning rate"
      ],
      "metadata": {
        "id": "8fNrp-pOObsa"
      }
    },
    {
      "cell_type": "markdown",
      "source": [
        "On the topic of learning rates, we should probably also call attention to the fact that in FastAI the fit_one_cycle method that we are calling is not as straightforward as other methods for training a model and we are doing cosine annealing of the learning rate as part of the training process. Overall, this follows the 1 cycle policy for training the model which is based on the work of Leslie Smith: https://arxiv.org/abs/1708.07120\n",
        "\n",
        "We would also recommend the FastAI documentation for more information about the details of this:\n",
        "\n",
        "https://docs.fast.ai/callback.schedule.html#Learner.fit_one_cycle"
      ],
      "metadata": {
        "id": "ulGgSKlbTzvQ"
      }
    },
    {
      "cell_type": "markdown",
      "source": [
        "Next we will look at changing the optimizer. The default optimizer in FastAI, Adam is usually not something we need to change or worry about. But, for illustrative purposes, we will change it to stochastic gradient descent (SGD) which is a more historic optimizer approach compared to Adam and known to underperform it. \n",
        "\n",
        "You can read more about Adam in this paper: https://arxiv.org/abs/1412.6980\n"
      ],
      "metadata": {
        "id": "7HOizAmadkRt"
      }
    },
    {
      "cell_type": "code",
      "source": [
        "learn = cnn_learner(dls, resnet34, metrics=[accuracy], pretrained=True, opt_func=SGD)\n",
        "learn.fit_one_cycle(10,slice(0.001))"
      ],
      "metadata": {
        "colab": {
          "base_uri": "https://localhost:8080/",
          "height": 363
        },
        "id": "9rYUwR7CRv0n",
        "outputId": "26c51408-7f41-473d-bb43-c3396684f646"
      },
      "execution_count": 24,
      "outputs": [
        {
          "output_type": "display_data",
          "data": {
            "text/plain": [
              "<IPython.core.display.HTML object>"
            ],
            "text/html": [
              "\n",
              "<style>\n",
              "    /* Turns off some styling */\n",
              "    progress {\n",
              "        /* gets rid of default border in Firefox and Opera. */\n",
              "        border: none;\n",
              "        /* Needs to be in here for Safari polyfill so background images work as expected. */\n",
              "        background-size: auto;\n",
              "    }\n",
              "    .progress-bar-interrupted, .progress-bar-interrupted::-webkit-progress-bar {\n",
              "        background: #F44336;\n",
              "    }\n",
              "</style>\n"
            ]
          },
          "metadata": {}
        },
        {
          "output_type": "display_data",
          "data": {
            "text/plain": [
              "<IPython.core.display.HTML object>"
            ],
            "text/html": [
              "<table border=\"1\" class=\"dataframe\">\n",
              "  <thead>\n",
              "    <tr style=\"text-align: left;\">\n",
              "      <th>epoch</th>\n",
              "      <th>train_loss</th>\n",
              "      <th>valid_loss</th>\n",
              "      <th>accuracy</th>\n",
              "      <th>time</th>\n",
              "    </tr>\n",
              "  </thead>\n",
              "  <tbody>\n",
              "    <tr>\n",
              "      <td>0</td>\n",
              "      <td>1.112365</td>\n",
              "      <td>0.728005</td>\n",
              "      <td>0.622222</td>\n",
              "      <td>00:35</td>\n",
              "    </tr>\n",
              "    <tr>\n",
              "      <td>1</td>\n",
              "      <td>0.905762</td>\n",
              "      <td>0.720955</td>\n",
              "      <td>0.630556</td>\n",
              "      <td>00:35</td>\n",
              "    </tr>\n",
              "    <tr>\n",
              "      <td>2</td>\n",
              "      <td>0.708916</td>\n",
              "      <td>0.537765</td>\n",
              "      <td>0.744444</td>\n",
              "      <td>00:36</td>\n",
              "    </tr>\n",
              "    <tr>\n",
              "      <td>3</td>\n",
              "      <td>0.572071</td>\n",
              "      <td>0.530584</td>\n",
              "      <td>0.738889</td>\n",
              "      <td>00:35</td>\n",
              "    </tr>\n",
              "    <tr>\n",
              "      <td>4</td>\n",
              "      <td>0.587978</td>\n",
              "      <td>0.536376</td>\n",
              "      <td>0.725000</td>\n",
              "      <td>00:35</td>\n",
              "    </tr>\n",
              "    <tr>\n",
              "      <td>5</td>\n",
              "      <td>0.533432</td>\n",
              "      <td>0.604630</td>\n",
              "      <td>0.683333</td>\n",
              "      <td>00:35</td>\n",
              "    </tr>\n",
              "    <tr>\n",
              "      <td>6</td>\n",
              "      <td>0.549253</td>\n",
              "      <td>0.446193</td>\n",
              "      <td>0.775000</td>\n",
              "      <td>00:36</td>\n",
              "    </tr>\n",
              "    <tr>\n",
              "      <td>7</td>\n",
              "      <td>0.496958</td>\n",
              "      <td>0.464370</td>\n",
              "      <td>0.772222</td>\n",
              "      <td>00:35</td>\n",
              "    </tr>\n",
              "    <tr>\n",
              "      <td>8</td>\n",
              "      <td>0.501611</td>\n",
              "      <td>0.426702</td>\n",
              "      <td>0.802778</td>\n",
              "      <td>00:35</td>\n",
              "    </tr>\n",
              "    <tr>\n",
              "      <td>9</td>\n",
              "      <td>0.474300</td>\n",
              "      <td>0.374221</td>\n",
              "      <td>0.850000</td>\n",
              "      <td>00:35</td>\n",
              "    </tr>\n",
              "  </tbody>\n",
              "</table>"
            ]
          },
          "metadata": {}
        }
      ]
    },
    {
      "cell_type": "markdown",
      "source": [
        "We can see that SGD is not working quite as well as Adam did in the previous example. If you are interested, consider increasing the number of epochs.\n",
        "\n",
        "Alternatively consider exploring other optimizers available in FastAI:\n",
        "\n",
        "https://docs.fast.ai/optimizer.html\n",
        "\n",
        "However, again, in a practical approach, Adam is usually sufficient as an optimizer in our experience working with radiology applications."
      ],
      "metadata": {
        "id": "YojqBe8DeYpI"
      }
    },
    {
      "cell_type": "markdown",
      "source": [
        "Next, let's look a little more closely at the loss function. We have been using cross entropy as our loss function which is a standard loss function in neural network training for classification problems. However, we have not been adjusting the cross entropy loss function weights even though our classes in this scenario are imbalanced. Let's take a look at this for the combined training and validation set using the labels we generated earlier"
      ],
      "metadata": {
        "id": "5KdXga0rfzHR"
      }
    },
    {
      "cell_type": "code",
      "source": [
        "np.sum(liverlabels) #Number of slices containing liver"
      ],
      "metadata": {
        "colab": {
          "base_uri": "https://localhost:8080/"
        },
        "id": "CCr9c6DWhvnQ",
        "outputId": "440b62e7-a29f-42b0-f964-237deff21051"
      },
      "execution_count": 32,
      "outputs": [
        {
          "output_type": "execute_result",
          "data": {
            "text/plain": [
              "2341"
            ]
          },
          "metadata": {},
          "execution_count": 32
        }
      ]
    },
    {
      "cell_type": "code",
      "source": [
        "len(liverlabels) #Number of total slices"
      ],
      "metadata": {
        "colab": {
          "base_uri": "https://localhost:8080/"
        },
        "id": "zzlzOm-Hhx6j",
        "outputId": "97c0d9dc-d3a2-412f-fdeb-9f4e76ac2445"
      },
      "execution_count": 34,
      "outputs": [
        {
          "output_type": "execute_result",
          "data": {
            "text/plain": [
              "2874"
            ]
          },
          "metadata": {},
          "execution_count": 34
        }
      ]
    },
    {
      "cell_type": "code",
      "source": [
        "100*np.sum(liverlabels)/len(liverlabels) #So 81% of this dataset has the liver label compared to 19% without"
      ],
      "metadata": {
        "colab": {
          "base_uri": "https://localhost:8080/"
        },
        "id": "jQl4joNaiHqe",
        "outputId": "b3544785-8103-4f42-e861-1b5703e725de"
      },
      "execution_count": 35,
      "outputs": [
        {
          "output_type": "execute_result",
          "data": {
            "text/plain": [
              "81.4544189283229"
            ]
          },
          "metadata": {},
          "execution_count": 35
        }
      ]
    },
    {
      "cell_type": "markdown",
      "source": [
        "Given this class imbalance, we might want to adjust the class weights in our loss function"
      ],
      "metadata": {
        "id": "wnY6nF7TiQzY"
      }
    },
    {
      "cell_type": "code",
      "source": [
        "learn.dls.vocab #Check on our classes"
      ],
      "metadata": {
        "colab": {
          "base_uri": "https://localhost:8080/"
        },
        "id": "VoCqa2QWiVOl",
        "outputId": "495cf2ad-77c8-4915-9073-d70cccaad110"
      },
      "execution_count": 40,
      "outputs": [
        {
          "output_type": "execute_result",
          "data": {
            "text/plain": [
              "['liver', 'notliver']"
            ]
          },
          "metadata": {},
          "execution_count": 40
        }
      ]
    },
    {
      "cell_type": "code",
      "source": [
        "learn = cnn_learner(dls, resnet34, metrics=[accuracy], pretrained=True,\n",
        "                    opt_func=Adam, loss_func=CrossEntropyLossFlat(weight=torch.tensor([0.25,1.0])))\n"
      ],
      "metadata": {
        "id": "sUVJobRej78o"
      },
      "execution_count": 46,
      "outputs": []
    },
    {
      "cell_type": "markdown",
      "source": [
        "Now, we have used cnn_learner with a specified loss function which is the same as the default except we have added a tensor of weights.\n",
        "\n",
        "Let's check our learning rate finder curve again"
      ],
      "metadata": {
        "id": "aqiHFBz_lw7u"
      }
    },
    {
      "cell_type": "code",
      "source": [
        "lrf=learn.lr_find(suggest_funcs=(valley))"
      ],
      "metadata": {
        "colab": {
          "base_uri": "https://localhost:8080/",
          "height": 283
        },
        "id": "4f16fvXdlCZ5",
        "outputId": "87f2d8e5-217b-41eb-c433-7281da9fe533"
      },
      "execution_count": 47,
      "outputs": [
        {
          "output_type": "display_data",
          "data": {
            "text/plain": [
              "<IPython.core.display.HTML object>"
            ],
            "text/html": [
              "\n",
              "<style>\n",
              "    /* Turns off some styling */\n",
              "    progress {\n",
              "        /* gets rid of default border in Firefox and Opera. */\n",
              "        border: none;\n",
              "        /* Needs to be in here for Safari polyfill so background images work as expected. */\n",
              "        background-size: auto;\n",
              "    }\n",
              "    .progress-bar-interrupted, .progress-bar-interrupted::-webkit-progress-bar {\n",
              "        background: #F44336;\n",
              "    }\n",
              "</style>\n"
            ]
          },
          "metadata": {}
        },
        {
          "output_type": "display_data",
          "data": {
            "text/plain": [
              "<IPython.core.display.HTML object>"
            ],
            "text/html": [
              ""
            ]
          },
          "metadata": {}
        },
        {
          "output_type": "display_data",
          "data": {
            "text/plain": [
              "<Figure size 432x288 with 1 Axes>"
            ],
            "image/png": "[encoded data removed]"
          },
          "metadata": {
            "needs_background": "light"
          }
        }
      ]
    },
    {
      "cell_type": "code",
      "source": [
        "lrf.valley"
      ],
      "metadata": {
        "colab": {
          "base_uri": "https://localhost:8080/"
        },
        "id": "uxioG3tLlqmr",
        "outputId": "417caf06-86a1-4c60-945d-18bfb11bc1f9"
      },
      "execution_count": 48,
      "outputs": [
        {
          "output_type": "execute_result",
          "data": {
            "text/plain": [
              "0.007585775572806597"
            ]
          },
          "metadata": {},
          "execution_count": 48
        }
      ]
    },
    {
      "cell_type": "code",
      "source": [
        "learn.fit_one_cycle(10,slice(0.005))"
      ],
      "metadata": {
        "colab": {
          "base_uri": "https://localhost:8080/",
          "height": 363
        },
        "id": "rx-VaD5ZlA9r",
        "outputId": "c3fcbf31-7b63-49f1-d9e9-f70bcd86006c"
      },
      "execution_count": 49,
      "outputs": [
        {
          "output_type": "display_data",
          "data": {
            "text/plain": [
              "<IPython.core.display.HTML object>"
            ],
            "text/html": [
              "\n",
              "<style>\n",
              "    /* Turns off some styling */\n",
              "    progress {\n",
              "        /* gets rid of default border in Firefox and Opera. */\n",
              "        border: none;\n",
              "        /* Needs to be in here for Safari polyfill so background images work as expected. */\n",
              "        background-size: auto;\n",
              "    }\n",
              "    .progress-bar-interrupted, .progress-bar-interrupted::-webkit-progress-bar {\n",
              "        background: #F44336;\n",
              "    }\n",
              "</style>\n"
            ]
          },
          "metadata": {}
        },
        {
          "output_type": "display_data",
          "data": {
            "text/plain": [
              "<IPython.core.display.HTML object>"
            ],
            "text/html": [
              "<table border=\"1\" class=\"dataframe\">\n",
              "  <thead>\n",
              "    <tr style=\"text-align: left;\">\n",
              "      <th>epoch</th>\n",
              "      <th>train_loss</th>\n",
              "      <th>valid_loss</th>\n",
              "      <th>accuracy</th>\n",
              "      <th>time</th>\n",
              "    </tr>\n",
              "  </thead>\n",
              "  <tbody>\n",
              "    <tr>\n",
              "      <td>0</td>\n",
              "      <td>0.505254</td>\n",
              "      <td>0.666579</td>\n",
              "      <td>0.752778</td>\n",
              "      <td>00:34</td>\n",
              "    </tr>\n",
              "    <tr>\n",
              "      <td>1</td>\n",
              "      <td>0.449953</td>\n",
              "      <td>0.401042</td>\n",
              "      <td>0.841667</td>\n",
              "      <td>00:34</td>\n",
              "    </tr>\n",
              "    <tr>\n",
              "      <td>2</td>\n",
              "      <td>0.397896</td>\n",
              "      <td>0.609860</td>\n",
              "      <td>0.833333</td>\n",
              "      <td>00:34</td>\n",
              "    </tr>\n",
              "    <tr>\n",
              "      <td>3</td>\n",
              "      <td>0.406926</td>\n",
              "      <td>0.207740</td>\n",
              "      <td>0.925000</td>\n",
              "      <td>00:35</td>\n",
              "    </tr>\n",
              "    <tr>\n",
              "      <td>4</td>\n",
              "      <td>0.363341</td>\n",
              "      <td>0.112116</td>\n",
              "      <td>0.944444</td>\n",
              "      <td>00:34</td>\n",
              "    </tr>\n",
              "    <tr>\n",
              "      <td>5</td>\n",
              "      <td>0.267647</td>\n",
              "      <td>0.201734</td>\n",
              "      <td>0.933333</td>\n",
              "      <td>00:34</td>\n",
              "    </tr>\n",
              "    <tr>\n",
              "      <td>6</td>\n",
              "      <td>0.184284</td>\n",
              "      <td>0.263648</td>\n",
              "      <td>0.886111</td>\n",
              "      <td>00:34</td>\n",
              "    </tr>\n",
              "    <tr>\n",
              "      <td>7</td>\n",
              "      <td>0.153278</td>\n",
              "      <td>0.071272</td>\n",
              "      <td>0.966667</td>\n",
              "      <td>00:34</td>\n",
              "    </tr>\n",
              "    <tr>\n",
              "      <td>8</td>\n",
              "      <td>0.146457</td>\n",
              "      <td>0.076291</td>\n",
              "      <td>0.966667</td>\n",
              "      <td>00:34</td>\n",
              "    </tr>\n",
              "    <tr>\n",
              "      <td>9</td>\n",
              "      <td>0.131057</td>\n",
              "      <td>0.056695</td>\n",
              "      <td>0.975000</td>\n",
              "      <td>00:34</td>\n",
              "    </tr>\n",
              "  </tbody>\n",
              "</table>"
            ]
          },
          "metadata": {}
        }
      ]
    },
    {
      "cell_type": "markdown",
      "source": [
        "The last aspect of our convolutional neural network model that we will look at in this part is the neural network architecture. So far we have been training with ResNet34, but now let's look at some different ResNets (ResNet18 and ResNet50) which have different depths/number of layers compared to ResNet34"
      ],
      "metadata": {
        "id": "ZHLQFY34noeD"
      }
    },
    {
      "cell_type": "code",
      "source": [
        "learn = cnn_learner(dls, resnet18, metrics=[accuracy], pretrained=True)\n"
      ],
      "metadata": {
        "colab": {
          "base_uri": "https://localhost:8080/",
          "height": 66,
          "referenced_widgets": [
            "c35f1b8e4d834bee8edcc81cec0b357a",
            "3339b8570d7b454fabec9b63b3b25eb7",
            "2f3c3e3de88d478096e3b4da66ed6006",
            "2ef93ed846244ca8aa3d8d7d4a07f1d1",
            "43cb53f797c145c78c6c8c02acdac70c",
            "6693d8c73fd84b8394b40e5aaf0df00e",
            "f24f6d28c2004fdbb00467eeb7a20946",
            "9d44664ecaba4ee788c1122b064ed826",
            "fae9a717e12b4666a4f02a58c4885db0",
            "4f262b3dfb4b44bf856ed0031de62726",
            "b97fdebae00447419a7aea9e4f50982c"
          ]
        },
        "id": "vww2b6jboDL6",
        "outputId": "d896070d-8e3b-4ba9-947b-9c8f2d42b21f"
      },
      "execution_count": 50,
      "outputs": [
        {
          "output_type": "stream",
          "name": "stderr",
          "text": [
            "Downloading: \"https://download.pytorch.org/models/resnet18-f37072fd.pth\" to /root/.cache/torch/hub/checkpoints/resnet18-f37072fd.pth\n"
          ]
        },
        {
          "output_type": "display_data",
          "data": {
            "text/plain": [
              "  0%|          | 0.00/44.7M [00:00<?, ?B/s]"
            ],
            "application/vnd.jupyter.widget-view+json": {
              "version_major": 2,
              "version_minor": 0,
              "model_id": "c35f1b8e4d834bee8edcc81cec0b357a"
            }
          },
          "metadata": {}
        }
      ]
    },
    {
      "cell_type": "code",
      "source": [
        "learn.summary() #We can use this to inspect the architecture in more depth"
      ],
      "metadata": {
        "colab": {
          "base_uri": "https://localhost:8080/",
          "height": 1000
        },
        "id": "LMjV0oPMoZx_",
        "outputId": "9e6decee-523f-465d-d783-ffa3ec06bbde"
      },
      "execution_count": 52,
      "outputs": [
        {
          "output_type": "display_data",
          "data": {
            "text/plain": [
              "<IPython.core.display.HTML object>"
            ],
            "text/html": [
              "\n",
              "<style>\n",
              "    /* Turns off some styling */\n",
              "    progress {\n",
              "        /* gets rid of default border in Firefox and Opera. */\n",
              "        border: none;\n",
              "        /* Needs to be in here for Safari polyfill so background images work as expected. */\n",
              "        background-size: auto;\n",
              "    }\n",
              "    .progress-bar-interrupted, .progress-bar-interrupted::-webkit-progress-bar {\n",
              "        background: #F44336;\n",
              "    }\n",
              "</style>\n"
            ]
          },
          "metadata": {}
        },
        {
          "output_type": "display_data",
          "data": {
            "text/plain": [
              "<IPython.core.display.HTML object>"
            ],
            "text/html": [
              ""
            ]
          },
          "metadata": {}
        },
        {
          "output_type": "execute_result",
          "data": {
            "text/plain": [
              "Sequential (Input shape: 8 x 3 x 320 x 320)\n",
              "============================================================================\n",
              "Layer (type)         Output Shape         Param #    Trainable \n",
              "============================================================================\n",
              "                     8 x 64 x 160 x 160  \n",
              "Conv2d                                    9408       False     \n",
              "BatchNorm2d                               128        True      \n",
              "ReLU                                                           \n",
              "____________________________________________________________________________\n",
              "                     8 x 64 x 80 x 80    \n",
              "MaxPool2d                                                      \n",
              "Conv2d                                    36864      False     \n",
              "BatchNorm2d                               128        True      \n",
              "ReLU                                                           \n",
              "Conv2d                                    36864      False     \n",
              "BatchNorm2d                               128        True      \n",
              "Conv2d                                    36864      False     \n",
              "BatchNorm2d                               128        True      \n",
              "ReLU                                                           \n",
              "Conv2d                                    36864      False     \n",
              "BatchNorm2d                               128        True      \n",
              "____________________________________________________________________________\n",
              "                     8 x 128 x 40 x 40   \n",
              "Conv2d                                    73728      False     \n",
              "BatchNorm2d                               256        True      \n",
              "ReLU                                                           \n",
              "Conv2d                                    147456     False     \n",
              "BatchNorm2d                               256        True      \n",
              "Conv2d                                    8192       False     \n",
              "BatchNorm2d                               256        True      \n",
              "Conv2d                                    147456     False     \n",
              "BatchNorm2d                               256        True      \n",
              "ReLU                                                           \n",
              "Conv2d                                    147456     False     \n",
              "BatchNorm2d                               256        True      \n",
              "____________________________________________________________________________\n",
              "                     8 x 256 x 20 x 20   \n",
              "Conv2d                                    294912     False     \n",
              "BatchNorm2d                               512        True      \n",
              "ReLU                                                           \n",
              "Conv2d                                    589824     False     \n",
              "BatchNorm2d                               512        True      \n",
              "Conv2d                                    32768      False     \n",
              "BatchNorm2d                               512        True      \n",
              "Conv2d                                    589824     False     \n",
              "BatchNorm2d                               512        True      \n",
              "ReLU                                                           \n",
              "Conv2d                                    589824     False     \n",
              "BatchNorm2d                               512        True      \n",
              "____________________________________________________________________________\n",
              "                     8 x 512 x 10 x 10   \n",
              "Conv2d                                    1179648    False     \n",
              "BatchNorm2d                               1024       True      \n",
              "ReLU                                                           \n",
              "Conv2d                                    2359296    False     \n",
              "BatchNorm2d                               1024       True      \n",
              "Conv2d                                    131072     False     \n",
              "BatchNorm2d                               1024       True      \n",
              "Conv2d                                    2359296    False     \n",
              "BatchNorm2d                               1024       True      \n",
              "ReLU                                                           \n",
              "Conv2d                                    2359296    False     \n",
              "BatchNorm2d                               1024       True      \n",
              "____________________________________________________________________________\n",
              "                     8 x 512 x 1 x 1     \n",
              "AdaptiveAvgPool2d                                              \n",
              "AdaptiveMaxPool2d                                              \n",
              "____________________________________________________________________________\n",
              "                     8 x 1024            \n",
              "Flatten                                                        \n",
              "BatchNorm1d                               2048       True      \n",
              "Dropout                                                        \n",
              "____________________________________________________________________________\n",
              "                     8 x 512             \n",
              "Linear                                    524288     True      \n",
              "ReLU                                                           \n",
              "BatchNorm1d                               1024       True      \n",
              "Dropout                                                        \n",
              "____________________________________________________________________________\n",
              "                     8 x 2               \n",
              "Linear                                    1024       True      \n",
              "____________________________________________________________________________\n",
              "\n",
              "Total params: 11,704,896\n",
              "Total trainable params: 537,984\n",
              "Total non-trainable params: 11,166,912\n",
              "\n",
              "Optimizer used: <function Adam at 0x7fde3e58bdd0>\n",
              "Loss function: FlattenedLoss of CrossEntropyLoss()\n",
              "\n",
              "Model frozen up to parameter group #2\n",
              "\n",
              "Callbacks:\n",
              "  - TrainEvalCallback\n",
              "  - Recorder\n",
              "  - ProgressCallback"
            ],
            "application/vnd.google.colaboratory.intrinsic+json": {
              "type": "string"
            }
          },
          "metadata": {},
          "execution_count": 52
        }
      ]
    },
    {
      "cell_type": "markdown",
      "source": [
        "This also a good place to talk more about the concept of training only a portion of the model. If we look in the model summary, we have over 11 million total parameters in this model. We are training a lot of them right now (almost half a million) but we are also not training 11 million of the parameters that we could be training. We have used a model pre-trained on ImageNet and we are not training the backbone of the model right now because we are presuming that the network parameters for the early layers of our model which were effective on ImageNet will also be useful for our current classification task. Consequently, we are focusing on training the final layers of the model."
      ],
      "metadata": {
        "id": "B9X-YglcpEA2"
      }
    },
    {
      "cell_type": "code",
      "source": [
        "learn.fit_one_cycle(10,slice(0.001))"
      ],
      "metadata": {
        "colab": {
          "base_uri": "https://localhost:8080/",
          "height": 363
        },
        "id": "uJsXn735oXka",
        "outputId": "7b28cd3f-19e1-4c5b-dae3-72979f94754b"
      },
      "execution_count": 53,
      "outputs": [
        {
          "output_type": "display_data",
          "data": {
            "text/plain": [
              "<IPython.core.display.HTML object>"
            ],
            "text/html": [
              "\n",
              "<style>\n",
              "    /* Turns off some styling */\n",
              "    progress {\n",
              "        /* gets rid of default border in Firefox and Opera. */\n",
              "        border: none;\n",
              "        /* Needs to be in here for Safari polyfill so background images work as expected. */\n",
              "        background-size: auto;\n",
              "    }\n",
              "    .progress-bar-interrupted, .progress-bar-interrupted::-webkit-progress-bar {\n",
              "        background: #F44336;\n",
              "    }\n",
              "</style>\n"
            ]
          },
          "metadata": {}
        },
        {
          "output_type": "display_data",
          "data": {
            "text/plain": [
              "<IPython.core.display.HTML object>"
            ],
            "text/html": [
              "<table border=\"1\" class=\"dataframe\">\n",
              "  <thead>\n",
              "    <tr style=\"text-align: left;\">\n",
              "      <th>epoch</th>\n",
              "      <th>train_loss</th>\n",
              "      <th>valid_loss</th>\n",
              "      <th>accuracy</th>\n",
              "      <th>time</th>\n",
              "    </tr>\n",
              "  </thead>\n",
              "  <tbody>\n",
              "    <tr>\n",
              "      <td>0</td>\n",
              "      <td>0.784730</td>\n",
              "      <td>0.529562</td>\n",
              "      <td>0.758333</td>\n",
              "      <td>00:30</td>\n",
              "    </tr>\n",
              "    <tr>\n",
              "      <td>1</td>\n",
              "      <td>0.418397</td>\n",
              "      <td>0.295369</td>\n",
              "      <td>0.861111</td>\n",
              "      <td>00:29</td>\n",
              "    </tr>\n",
              "    <tr>\n",
              "      <td>2</td>\n",
              "      <td>0.344791</td>\n",
              "      <td>0.236255</td>\n",
              "      <td>0.894444</td>\n",
              "      <td>00:30</td>\n",
              "    </tr>\n",
              "    <tr>\n",
              "      <td>3</td>\n",
              "      <td>0.292617</td>\n",
              "      <td>0.142489</td>\n",
              "      <td>0.941667</td>\n",
              "      <td>00:29</td>\n",
              "    </tr>\n",
              "    <tr>\n",
              "      <td>4</td>\n",
              "      <td>0.277626</td>\n",
              "      <td>0.197571</td>\n",
              "      <td>0.919444</td>\n",
              "      <td>00:29</td>\n",
              "    </tr>\n",
              "    <tr>\n",
              "      <td>5</td>\n",
              "      <td>0.241912</td>\n",
              "      <td>0.209578</td>\n",
              "      <td>0.913889</td>\n",
              "      <td>00:29</td>\n",
              "    </tr>\n",
              "    <tr>\n",
              "      <td>6</td>\n",
              "      <td>0.203058</td>\n",
              "      <td>0.318106</td>\n",
              "      <td>0.852778</td>\n",
              "      <td>00:29</td>\n",
              "    </tr>\n",
              "    <tr>\n",
              "      <td>7</td>\n",
              "      <td>0.235598</td>\n",
              "      <td>0.113060</td>\n",
              "      <td>0.952778</td>\n",
              "      <td>00:29</td>\n",
              "    </tr>\n",
              "    <tr>\n",
              "      <td>8</td>\n",
              "      <td>0.173012</td>\n",
              "      <td>0.132730</td>\n",
              "      <td>0.947222</td>\n",
              "      <td>00:29</td>\n",
              "    </tr>\n",
              "    <tr>\n",
              "      <td>9</td>\n",
              "      <td>0.143639</td>\n",
              "      <td>0.143196</td>\n",
              "      <td>0.941667</td>\n",
              "      <td>00:29</td>\n",
              "    </tr>\n",
              "  </tbody>\n",
              "</table>"
            ]
          },
          "metadata": {}
        }
      ]
    },
    {
      "cell_type": "markdown",
      "source": [
        "Now to look at ResNet50, a deeper version of the ResNet architecture"
      ],
      "metadata": {
        "id": "hayOuxelooRz"
      }
    },
    {
      "cell_type": "code",
      "source": [
        "learn = cnn_learner(dls, resnet50, metrics=[accuracy], pretrained=True)\n"
      ],
      "metadata": {
        "colab": {
          "base_uri": "https://localhost:8080/",
          "height": 66,
          "referenced_widgets": [
            "79cbfc3ce2f741d0b168a551214ff298",
            "c524b5e571884aefbff5a3678065bbc0",
            "9592c1c455d24b3991839c6eb3379b55",
            "7e6ce0c100434115b040908cb8aed8ba",
            "f4b514ea105d4a07b670071bad67b138",
            "218e7c5fc73142fa97e1a761a158f144",
            "121d90f950c74a7cb21cbdecdea428ce",
            "8e0f51ff76dc46fab123e8570e17be2e",
            "d9fc2e7656cd4a68b40ff623fc7bca73",
            "92222e4fd4d54f67a7c921bf43f485e1",
            "93faef6c458447268fb195eee69a6617"
          ]
        },
        "id": "4WZ06_MkoN_m",
        "outputId": "907539e9-c1c5-417a-9144-b78ae31a722a"
      },
      "execution_count": 54,
      "outputs": [
        {
          "output_type": "stream",
          "name": "stderr",
          "text": [
            "Downloading: \"https://download.pytorch.org/models/resnet50-0676ba61.pth\" to /root/.cache/torch/hub/checkpoints/resnet50-0676ba61.pth\n"
          ]
        },
        {
          "output_type": "display_data",
          "data": {
            "text/plain": [
              "  0%|          | 0.00/97.8M [00:00<?, ?B/s]"
            ],
            "application/vnd.jupyter.widget-view+json": {
              "version_major": 2,
              "version_minor": 0,
              "model_id": "79cbfc3ce2f741d0b168a551214ff298"
            }
          },
          "metadata": {}
        }
      ]
    },
    {
      "cell_type": "code",
      "source": [
        "learn.summary()"
      ],
      "metadata": {
        "colab": {
          "base_uri": "https://localhost:8080/",
          "height": 1000
        },
        "id": "-sgEYdnDomK_",
        "outputId": "4fde7dcd-063a-4f1b-87ee-862ba048c932"
      },
      "execution_count": 55,
      "outputs": [
        {
          "output_type": "display_data",
          "data": {
            "text/plain": [
              "<IPython.core.display.HTML object>"
            ],
            "text/html": [
              "\n",
              "<style>\n",
              "    /* Turns off some styling */\n",
              "    progress {\n",
              "        /* gets rid of default border in Firefox and Opera. */\n",
              "        border: none;\n",
              "        /* Needs to be in here for Safari polyfill so background images work as expected. */\n",
              "        background-size: auto;\n",
              "    }\n",
              "    .progress-bar-interrupted, .progress-bar-interrupted::-webkit-progress-bar {\n",
              "        background: #F44336;\n",
              "    }\n",
              "</style>\n"
            ]
          },
          "metadata": {}
        },
        {
          "output_type": "display_data",
          "data": {
            "text/plain": [
              "<IPython.core.display.HTML object>"
            ],
            "text/html": [
              ""
            ]
          },
          "metadata": {}
        },
        {
          "output_type": "execute_result",
          "data": {
            "text/plain": [
              "Sequential (Input shape: 8 x 3 x 320 x 320)\n",
              "============================================================================\n",
              "Layer (type)         Output Shape         Param #    Trainable \n",
              "============================================================================\n",
              "                     8 x 64 x 160 x 160  \n",
              "Conv2d                                    9408       False     \n",
              "BatchNorm2d                               128        True      \n",
              "ReLU                                                           \n",
              "____________________________________________________________________________\n",
              "                     8 x 64 x 80 x 80    \n",
              "MaxPool2d                                                      \n",
              "Conv2d                                    4096       False     \n",
              "BatchNorm2d                               128        True      \n",
              "Conv2d                                    36864      False     \n",
              "BatchNorm2d                               128        True      \n",
              "____________________________________________________________________________\n",
              "                     8 x 256 x 80 x 80   \n",
              "Conv2d                                    16384      False     \n",
              "BatchNorm2d                               512        True      \n",
              "ReLU                                                           \n",
              "Conv2d                                    16384      False     \n",
              "BatchNorm2d                               512        True      \n",
              "____________________________________________________________________________\n",
              "                     8 x 64 x 80 x 80    \n",
              "Conv2d                                    16384      False     \n",
              "BatchNorm2d                               128        True      \n",
              "Conv2d                                    36864      False     \n",
              "BatchNorm2d                               128        True      \n",
              "____________________________________________________________________________\n",
              "                     8 x 256 x 80 x 80   \n",
              "Conv2d                                    16384      False     \n",
              "BatchNorm2d                               512        True      \n",
              "ReLU                                                           \n",
              "____________________________________________________________________________\n",
              "                     8 x 64 x 80 x 80    \n",
              "Conv2d                                    16384      False     \n",
              "BatchNorm2d                               128        True      \n",
              "Conv2d                                    36864      False     \n",
              "BatchNorm2d                               128        True      \n",
              "____________________________________________________________________________\n",
              "                     8 x 256 x 80 x 80   \n",
              "Conv2d                                    16384      False     \n",
              "BatchNorm2d                               512        True      \n",
              "ReLU                                                           \n",
              "____________________________________________________________________________\n",
              "                     8 x 128 x 80 x 80   \n",
              "Conv2d                                    32768      False     \n",
              "BatchNorm2d                               256        True      \n",
              "____________________________________________________________________________\n",
              "                     8 x 128 x 40 x 40   \n",
              "Conv2d                                    147456     False     \n",
              "BatchNorm2d                               256        True      \n",
              "____________________________________________________________________________\n",
              "                     8 x 512 x 40 x 40   \n",
              "Conv2d                                    65536      False     \n",
              "BatchNorm2d                               1024       True      \n",
              "ReLU                                                           \n",
              "Conv2d                                    131072     False     \n",
              "BatchNorm2d                               1024       True      \n",
              "____________________________________________________________________________\n",
              "                     8 x 128 x 40 x 40   \n",
              "Conv2d                                    65536      False     \n",
              "BatchNorm2d                               256        True      \n",
              "Conv2d                                    147456     False     \n",
              "BatchNorm2d                               256        True      \n",
              "____________________________________________________________________________\n",
              "                     8 x 512 x 40 x 40   \n",
              "Conv2d                                    65536      False     \n",
              "BatchNorm2d                               1024       True      \n",
              "ReLU                                                           \n",
              "____________________________________________________________________________\n",
              "                     8 x 128 x 40 x 40   \n",
              "Conv2d                                    65536      False     \n",
              "BatchNorm2d                               256        True      \n",
              "Conv2d                                    147456     False     \n",
              "BatchNorm2d                               256        True      \n",
              "____________________________________________________________________________\n",
              "                     8 x 512 x 40 x 40   \n",
              "Conv2d                                    65536      False     \n",
              "BatchNorm2d                               1024       True      \n",
              "ReLU                                                           \n",
              "____________________________________________________________________________\n",
              "                     8 x 128 x 40 x 40   \n",
              "Conv2d                                    65536      False     \n",
              "BatchNorm2d                               256        True      \n",
              "Conv2d                                    147456     False     \n",
              "BatchNorm2d                               256        True      \n",
              "____________________________________________________________________________\n",
              "                     8 x 512 x 40 x 40   \n",
              "Conv2d                                    65536      False     \n",
              "BatchNorm2d                               1024       True      \n",
              "ReLU                                                           \n",
              "____________________________________________________________________________\n",
              "                     8 x 256 x 40 x 40   \n",
              "Conv2d                                    131072     False     \n",
              "BatchNorm2d                               512        True      \n",
              "____________________________________________________________________________\n",
              "                     8 x 256 x 20 x 20   \n",
              "Conv2d                                    589824     False     \n",
              "BatchNorm2d                               512        True      \n",
              "____________________________________________________________________________\n",
              "                     8 x 1024 x 20 x 20  \n",
              "Conv2d                                    262144     False     \n",
              "BatchNorm2d                               2048       True      \n",
              "ReLU                                                           \n",
              "Conv2d                                    524288     False     \n",
              "BatchNorm2d                               2048       True      \n",
              "____________________________________________________________________________\n",
              "                     8 x 256 x 20 x 20   \n",
              "Conv2d                                    262144     False     \n",
              "BatchNorm2d                               512        True      \n",
              "Conv2d                                    589824     False     \n",
              "BatchNorm2d                               512        True      \n",
              "____________________________________________________________________________\n",
              "                     8 x 1024 x 20 x 20  \n",
              "Conv2d                                    262144     False     \n",
              "BatchNorm2d                               2048       True      \n",
              "ReLU                                                           \n",
              "____________________________________________________________________________\n",
              "                     8 x 256 x 20 x 20   \n",
              "Conv2d                                    262144     False     \n",
              "BatchNorm2d                               512        True      \n",
              "Conv2d                                    589824     False     \n",
              "BatchNorm2d                               512        True      \n",
              "____________________________________________________________________________\n",
              "                     8 x 1024 x 20 x 20  \n",
              "Conv2d                                    262144     False     \n",
              "BatchNorm2d                               2048       True      \n",
              "ReLU                                                           \n",
              "____________________________________________________________________________\n",
              "                     8 x 256 x 20 x 20   \n",
              "Conv2d                                    262144     False     \n",
              "BatchNorm2d                               512        True      \n",
              "Conv2d                                    589824     False     \n",
              "BatchNorm2d                               512        True      \n",
              "____________________________________________________________________________\n",
              "                     8 x 1024 x 20 x 20  \n",
              "Conv2d                                    262144     False     \n",
              "BatchNorm2d                               2048       True      \n",
              "ReLU                                                           \n",
              "____________________________________________________________________________\n",
              "                     8 x 256 x 20 x 20   \n",
              "Conv2d                                    262144     False     \n",
              "BatchNorm2d                               512        True      \n",
              "Conv2d                                    589824     False     \n",
              "BatchNorm2d                               512        True      \n",
              "____________________________________________________________________________\n",
              "                     8 x 1024 x 20 x 20  \n",
              "Conv2d                                    262144     False     \n",
              "BatchNorm2d                               2048       True      \n",
              "ReLU                                                           \n",
              "____________________________________________________________________________\n",
              "                     8 x 256 x 20 x 20   \n",
              "Conv2d                                    262144     False     \n",
              "BatchNorm2d                               512        True      \n",
              "Conv2d                                    589824     False     \n",
              "BatchNorm2d                               512        True      \n",
              "____________________________________________________________________________\n",
              "                     8 x 1024 x 20 x 20  \n",
              "Conv2d                                    262144     False     \n",
              "BatchNorm2d                               2048       True      \n",
              "ReLU                                                           \n",
              "____________________________________________________________________________\n",
              "                     8 x 512 x 20 x 20   \n",
              "Conv2d                                    524288     False     \n",
              "BatchNorm2d                               1024       True      \n",
              "____________________________________________________________________________\n",
              "                     8 x 512 x 10 x 10   \n",
              "Conv2d                                    2359296    False     \n",
              "BatchNorm2d                               1024       True      \n",
              "____________________________________________________________________________\n",
              "                     8 x 2048 x 10 x 10  \n",
              "Conv2d                                    1048576    False     \n",
              "BatchNorm2d                               4096       True      \n",
              "ReLU                                                           \n",
              "Conv2d                                    2097152    False     \n",
              "BatchNorm2d                               4096       True      \n",
              "____________________________________________________________________________\n",
              "                     8 x 512 x 10 x 10   \n",
              "Conv2d                                    1048576    False     \n",
              "BatchNorm2d                               1024       True      \n",
              "Conv2d                                    2359296    False     \n",
              "BatchNorm2d                               1024       True      \n",
              "____________________________________________________________________________\n",
              "                     8 x 2048 x 10 x 10  \n",
              "Conv2d                                    1048576    False     \n",
              "BatchNorm2d                               4096       True      \n",
              "ReLU                                                           \n",
              "____________________________________________________________________________\n",
              "                     8 x 512 x 10 x 10   \n",
              "Conv2d                                    1048576    False     \n",
              "BatchNorm2d                               1024       True      \n",
              "Conv2d                                    2359296    False     \n",
              "BatchNorm2d                               1024       True      \n",
              "____________________________________________________________________________\n",
              "                     8 x 2048 x 10 x 10  \n",
              "Conv2d                                    1048576    False     \n",
              "BatchNorm2d                               4096       True      \n",
              "ReLU                                                           \n",
              "____________________________________________________________________________\n",
              "                     8 x 2048 x 1 x 1    \n",
              "AdaptiveAvgPool2d                                              \n",
              "AdaptiveMaxPool2d                                              \n",
              "____________________________________________________________________________\n",
              "                     8 x 4096            \n",
              "Flatten                                                        \n",
              "BatchNorm1d                               8192       True      \n",
              "Dropout                                                        \n",
              "____________________________________________________________________________\n",
              "                     8 x 512             \n",
              "Linear                                    2097152    True      \n",
              "ReLU                                                           \n",
              "BatchNorm1d                               1024       True      \n",
              "Dropout                                                        \n",
              "____________________________________________________________________________\n",
              "                     8 x 2               \n",
              "Linear                                    1024       True      \n",
              "____________________________________________________________________________\n",
              "\n",
              "Total params: 25,615,424\n",
              "Total trainable params: 2,160,512\n",
              "Total non-trainable params: 23,454,912\n",
              "\n",
              "Optimizer used: <function Adam at 0x7fde3e58bdd0>\n",
              "Loss function: FlattenedLoss of CrossEntropyLoss()\n",
              "\n",
              "Model frozen up to parameter group #2\n",
              "\n",
              "Callbacks:\n",
              "  - TrainEvalCallback\n",
              "  - Recorder\n",
              "  - ProgressCallback"
            ],
            "application/vnd.google.colaboratory.intrinsic+json": {
              "type": "string"
            }
          },
          "metadata": {},
          "execution_count": 55
        }
      ]
    },
    {
      "cell_type": "markdown",
      "source": [
        "Again, the backbone of the model is frozen, so we are only training about 2 million parameters instead of the more than 25 million possible paramters. "
      ],
      "metadata": {
        "id": "6GsBhDSzqEPQ"
      }
    },
    {
      "cell_type": "code",
      "source": [
        "learn.fit_one_cycle(10,slice(0.001))"
      ],
      "metadata": {
        "colab": {
          "base_uri": "https://localhost:8080/",
          "height": 363
        },
        "id": "bp3KS7unoki7",
        "outputId": "07ca1d42-46f1-44c2-e388-a3e116a4bd9f"
      },
      "execution_count": 56,
      "outputs": [
        {
          "output_type": "display_data",
          "data": {
            "text/plain": [
              "<IPython.core.display.HTML object>"
            ],
            "text/html": [
              "\n",
              "<style>\n",
              "    /* Turns off some styling */\n",
              "    progress {\n",
              "        /* gets rid of default border in Firefox and Opera. */\n",
              "        border: none;\n",
              "        /* Needs to be in here for Safari polyfill so background images work as expected. */\n",
              "        background-size: auto;\n",
              "    }\n",
              "    .progress-bar-interrupted, .progress-bar-interrupted::-webkit-progress-bar {\n",
              "        background: #F44336;\n",
              "    }\n",
              "</style>\n"
            ]
          },
          "metadata": {}
        },
        {
          "output_type": "display_data",
          "data": {
            "text/plain": [
              "<IPython.core.display.HTML object>"
            ],
            "text/html": [
              "<table border=\"1\" class=\"dataframe\">\n",
              "  <thead>\n",
              "    <tr style=\"text-align: left;\">\n",
              "      <th>epoch</th>\n",
              "      <th>train_loss</th>\n",
              "      <th>valid_loss</th>\n",
              "      <th>accuracy</th>\n",
              "      <th>time</th>\n",
              "    </tr>\n",
              "  </thead>\n",
              "  <tbody>\n",
              "    <tr>\n",
              "      <td>0</td>\n",
              "      <td>0.700941</td>\n",
              "      <td>1.204064</td>\n",
              "      <td>0.508333</td>\n",
              "      <td>00:45</td>\n",
              "    </tr>\n",
              "    <tr>\n",
              "      <td>1</td>\n",
              "      <td>0.443315</td>\n",
              "      <td>0.520903</td>\n",
              "      <td>0.800000</td>\n",
              "      <td>00:46</td>\n",
              "    </tr>\n",
              "    <tr>\n",
              "      <td>2</td>\n",
              "      <td>0.287100</td>\n",
              "      <td>0.289559</td>\n",
              "      <td>0.905556</td>\n",
              "      <td>00:45</td>\n",
              "    </tr>\n",
              "    <tr>\n",
              "      <td>3</td>\n",
              "      <td>0.260721</td>\n",
              "      <td>0.214420</td>\n",
              "      <td>0.922222</td>\n",
              "      <td>00:44</td>\n",
              "    </tr>\n",
              "    <tr>\n",
              "      <td>4</td>\n",
              "      <td>0.210935</td>\n",
              "      <td>0.126991</td>\n",
              "      <td>0.958333</td>\n",
              "      <td>00:44</td>\n",
              "    </tr>\n",
              "    <tr>\n",
              "      <td>5</td>\n",
              "      <td>0.166970</td>\n",
              "      <td>0.109119</td>\n",
              "      <td>0.958333</td>\n",
              "      <td>00:44</td>\n",
              "    </tr>\n",
              "    <tr>\n",
              "      <td>6</td>\n",
              "      <td>0.148138</td>\n",
              "      <td>0.140390</td>\n",
              "      <td>0.955556</td>\n",
              "      <td>00:44</td>\n",
              "    </tr>\n",
              "    <tr>\n",
              "      <td>7</td>\n",
              "      <td>0.148863</td>\n",
              "      <td>0.144990</td>\n",
              "      <td>0.955556</td>\n",
              "      <td>00:44</td>\n",
              "    </tr>\n",
              "    <tr>\n",
              "      <td>8</td>\n",
              "      <td>0.131179</td>\n",
              "      <td>0.190231</td>\n",
              "      <td>0.936111</td>\n",
              "      <td>00:44</td>\n",
              "    </tr>\n",
              "    <tr>\n",
              "      <td>9</td>\n",
              "      <td>0.132447</td>\n",
              "      <td>0.138088</td>\n",
              "      <td>0.958333</td>\n",
              "      <td>00:44</td>\n",
              "    </tr>\n",
              "  </tbody>\n",
              "</table>"
            ]
          },
          "metadata": {}
        }
      ]
    },
    {
      "cell_type": "markdown",
      "source": [
        "Now let's look at what training the ResNet50 unfrozen looks like"
      ],
      "metadata": {
        "id": "JK3MST0VqSAY"
      }
    },
    {
      "cell_type": "code",
      "source": [
        "learn.unfreeze() #Unfreeze the backbone model parameters"
      ],
      "metadata": {
        "id": "cHaMacc5s5NJ"
      },
      "execution_count": 57,
      "outputs": []
    },
    {
      "cell_type": "code",
      "source": [
        "learn.summary()"
      ],
      "metadata": {
        "colab": {
          "base_uri": "https://localhost:8080/",
          "height": 1000
        },
        "id": "D1wKRuY8s-EU",
        "outputId": "629b1928-dd54-457c-bdac-ae3ec3b7c80b"
      },
      "execution_count": 58,
      "outputs": [
        {
          "output_type": "display_data",
          "data": {
            "text/plain": [
              "<IPython.core.display.HTML object>"
            ],
            "text/html": [
              "\n",
              "<style>\n",
              "    /* Turns off some styling */\n",
              "    progress {\n",
              "        /* gets rid of default border in Firefox and Opera. */\n",
              "        border: none;\n",
              "        /* Needs to be in here for Safari polyfill so background images work as expected. */\n",
              "        background-size: auto;\n",
              "    }\n",
              "    .progress-bar-interrupted, .progress-bar-interrupted::-webkit-progress-bar {\n",
              "        background: #F44336;\n",
              "    }\n",
              "</style>\n"
            ]
          },
          "metadata": {}
        },
        {
          "output_type": "display_data",
          "data": {
            "text/plain": [
              "<IPython.core.display.HTML object>"
            ],
            "text/html": [
              ""
            ]
          },
          "metadata": {}
        },
        {
          "output_type": "execute_result",
          "data": {
            "text/plain": [
              "Sequential (Input shape: 8 x 3 x 320 x 320)\n",
              "============================================================================\n",
              "Layer (type)         Output Shape         Param #    Trainable \n",
              "============================================================================\n",
              "                     8 x 64 x 160 x 160  \n",
              "Conv2d                                    9408       True      \n",
              "BatchNorm2d                               128        True      \n",
              "ReLU                                                           \n",
              "____________________________________________________________________________\n",
              "                     8 x 64 x 80 x 80    \n",
              "MaxPool2d                                                      \n",
              "Conv2d                                    4096       True      \n",
              "BatchNorm2d                               128        True      \n",
              "Conv2d                                    36864      True      \n",
              "BatchNorm2d                               128        True      \n",
              "____________________________________________________________________________\n",
              "                     8 x 256 x 80 x 80   \n",
              "Conv2d                                    16384      True      \n",
              "BatchNorm2d                               512        True      \n",
              "ReLU                                                           \n",
              "Conv2d                                    16384      True      \n",
              "BatchNorm2d                               512        True      \n",
              "____________________________________________________________________________\n",
              "                     8 x 64 x 80 x 80    \n",
              "Conv2d                                    16384      True      \n",
              "BatchNorm2d                               128        True      \n",
              "Conv2d                                    36864      True      \n",
              "BatchNorm2d                               128        True      \n",
              "____________________________________________________________________________\n",
              "                     8 x 256 x 80 x 80   \n",
              "Conv2d                                    16384      True      \n",
              "BatchNorm2d                               512        True      \n",
              "ReLU                                                           \n",
              "____________________________________________________________________________\n",
              "                     8 x 64 x 80 x 80    \n",
              "Conv2d                                    16384      True      \n",
              "BatchNorm2d                               128        True      \n",
              "Conv2d                                    36864      True      \n",
              "BatchNorm2d                               128        True      \n",
              "____________________________________________________________________________\n",
              "                     8 x 256 x 80 x 80   \n",
              "Conv2d                                    16384      True      \n",
              "BatchNorm2d                               512        True      \n",
              "ReLU                                                           \n",
              "____________________________________________________________________________\n",
              "                     8 x 128 x 80 x 80   \n",
              "Conv2d                                    32768      True      \n",
              "BatchNorm2d                               256        True      \n",
              "____________________________________________________________________________\n",
              "                     8 x 128 x 40 x 40   \n",
              "Conv2d                                    147456     True      \n",
              "BatchNorm2d                               256        True      \n",
              "____________________________________________________________________________\n",
              "                     8 x 512 x 40 x 40   \n",
              "Conv2d                                    65536      True      \n",
              "BatchNorm2d                               1024       True      \n",
              "ReLU                                                           \n",
              "Conv2d                                    131072     True      \n",
              "BatchNorm2d                               1024       True      \n",
              "____________________________________________________________________________\n",
              "                     8 x 128 x 40 x 40   \n",
              "Conv2d                                    65536      True      \n",
              "BatchNorm2d                               256        True      \n",
              "Conv2d                                    147456     True      \n",
              "BatchNorm2d                               256        True      \n",
              "____________________________________________________________________________\n",
              "                     8 x 512 x 40 x 40   \n",
              "Conv2d                                    65536      True      \n",
              "BatchNorm2d                               1024       True      \n",
              "ReLU                                                           \n",
              "____________________________________________________________________________\n",
              "                     8 x 128 x 40 x 40   \n",
              "Conv2d                                    65536      True      \n",
              "BatchNorm2d                               256        True      \n",
              "Conv2d                                    147456     True      \n",
              "BatchNorm2d                               256        True      \n",
              "____________________________________________________________________________\n",
              "                     8 x 512 x 40 x 40   \n",
              "Conv2d                                    65536      True      \n",
              "BatchNorm2d                               1024       True      \n",
              "ReLU                                                           \n",
              "____________________________________________________________________________\n",
              "                     8 x 128 x 40 x 40   \n",
              "Conv2d                                    65536      True      \n",
              "BatchNorm2d                               256        True      \n",
              "Conv2d                                    147456     True      \n",
              "BatchNorm2d                               256        True      \n",
              "____________________________________________________________________________\n",
              "                     8 x 512 x 40 x 40   \n",
              "Conv2d                                    65536      True      \n",
              "BatchNorm2d                               1024       True      \n",
              "ReLU                                                           \n",
              "____________________________________________________________________________\n",
              "                     8 x 256 x 40 x 40   \n",
              "Conv2d                                    131072     True      \n",
              "BatchNorm2d                               512        True      \n",
              "____________________________________________________________________________\n",
              "                     8 x 256 x 20 x 20   \n",
              "Conv2d                                    589824     True      \n",
              "BatchNorm2d                               512        True      \n",
              "____________________________________________________________________________\n",
              "                     8 x 1024 x 20 x 20  \n",
              "Conv2d                                    262144     True      \n",
              "BatchNorm2d                               2048       True      \n",
              "ReLU                                                           \n",
              "Conv2d                                    524288     True      \n",
              "BatchNorm2d                               2048       True      \n",
              "____________________________________________________________________________\n",
              "                     8 x 256 x 20 x 20   \n",
              "Conv2d                                    262144     True      \n",
              "BatchNorm2d                               512        True      \n",
              "Conv2d                                    589824     True      \n",
              "BatchNorm2d                               512        True      \n",
              "____________________________________________________________________________\n",
              "                     8 x 1024 x 20 x 20  \n",
              "Conv2d                                    262144     True      \n",
              "BatchNorm2d                               2048       True      \n",
              "ReLU                                                           \n",
              "____________________________________________________________________________\n",
              "                     8 x 256 x 20 x 20   \n",
              "Conv2d                                    262144     True      \n",
              "BatchNorm2d                               512        True      \n",
              "Conv2d                                    589824     True      \n",
              "BatchNorm2d                               512        True      \n",
              "____________________________________________________________________________\n",
              "                     8 x 1024 x 20 x 20  \n",
              "Conv2d                                    262144     True      \n",
              "BatchNorm2d                               2048       True      \n",
              "ReLU                                                           \n",
              "____________________________________________________________________________\n",
              "                     8 x 256 x 20 x 20   \n",
              "Conv2d                                    262144     True      \n",
              "BatchNorm2d                               512        True      \n",
              "Conv2d                                    589824     True      \n",
              "BatchNorm2d                               512        True      \n",
              "____________________________________________________________________________\n",
              "                     8 x 1024 x 20 x 20  \n",
              "Conv2d                                    262144     True      \n",
              "BatchNorm2d                               2048       True      \n",
              "ReLU                                                           \n",
              "____________________________________________________________________________\n",
              "                     8 x 256 x 20 x 20   \n",
              "Conv2d                                    262144     True      \n",
              "BatchNorm2d                               512        True      \n",
              "Conv2d                                    589824     True      \n",
              "BatchNorm2d                               512        True      \n",
              "____________________________________________________________________________\n",
              "                     8 x 1024 x 20 x 20  \n",
              "Conv2d                                    262144     True      \n",
              "BatchNorm2d                               2048       True      \n",
              "ReLU                                                           \n",
              "____________________________________________________________________________\n",
              "                     8 x 256 x 20 x 20   \n",
              "Conv2d                                    262144     True      \n",
              "BatchNorm2d                               512        True      \n",
              "Conv2d                                    589824     True      \n",
              "BatchNorm2d                               512        True      \n",
              "____________________________________________________________________________\n",
              "                     8 x 1024 x 20 x 20  \n",
              "Conv2d                                    262144     True      \n",
              "BatchNorm2d                               2048       True      \n",
              "ReLU                                                           \n",
              "____________________________________________________________________________\n",
              "                     8 x 512 x 20 x 20   \n",
              "Conv2d                                    524288     True      \n",
              "BatchNorm2d                               1024       True      \n",
              "____________________________________________________________________________\n",
              "                     8 x 512 x 10 x 10   \n",
              "Conv2d                                    2359296    True      \n",
              "BatchNorm2d                               1024       True      \n",
              "____________________________________________________________________________\n",
              "                     8 x 2048 x 10 x 10  \n",
              "Conv2d                                    1048576    True      \n",
              "BatchNorm2d                               4096       True      \n",
              "ReLU                                                           \n",
              "Conv2d                                    2097152    True      \n",
              "BatchNorm2d                               4096       True      \n",
              "____________________________________________________________________________\n",
              "                     8 x 512 x 10 x 10   \n",
              "Conv2d                                    1048576    True      \n",
              "BatchNorm2d                               1024       True      \n",
              "Conv2d                                    2359296    True      \n",
              "BatchNorm2d                               1024       True      \n",
              "____________________________________________________________________________\n",
              "                     8 x 2048 x 10 x 10  \n",
              "Conv2d                                    1048576    True      \n",
              "BatchNorm2d                               4096       True      \n",
              "ReLU                                                           \n",
              "____________________________________________________________________________\n",
              "                     8 x 512 x 10 x 10   \n",
              "Conv2d                                    1048576    True      \n",
              "BatchNorm2d                               1024       True      \n",
              "Conv2d                                    2359296    True      \n",
              "BatchNorm2d                               1024       True      \n",
              "____________________________________________________________________________\n",
              "                     8 x 2048 x 10 x 10  \n",
              "Conv2d                                    1048576    True      \n",
              "BatchNorm2d                               4096       True      \n",
              "ReLU                                                           \n",
              "____________________________________________________________________________\n",
              "                     8 x 2048 x 1 x 1    \n",
              "AdaptiveAvgPool2d                                              \n",
              "AdaptiveMaxPool2d                                              \n",
              "____________________________________________________________________________\n",
              "                     8 x 4096            \n",
              "Flatten                                                        \n",
              "BatchNorm1d                               8192       True      \n",
              "Dropout                                                        \n",
              "____________________________________________________________________________\n",
              "                     8 x 512             \n",
              "Linear                                    2097152    True      \n",
              "ReLU                                                           \n",
              "BatchNorm1d                               1024       True      \n",
              "Dropout                                                        \n",
              "____________________________________________________________________________\n",
              "                     8 x 2               \n",
              "Linear                                    1024       True      \n",
              "____________________________________________________________________________\n",
              "\n",
              "Total params: 25,615,424\n",
              "Total trainable params: 25,615,424\n",
              "Total non-trainable params: 0\n",
              "\n",
              "Optimizer used: <function Adam at 0x7fde3e58bdd0>\n",
              "Loss function: FlattenedLoss of CrossEntropyLoss()\n",
              "\n",
              "Model unfrozen\n",
              "\n",
              "Callbacks:\n",
              "  - TrainEvalCallback\n",
              "  - Recorder\n",
              "  - ProgressCallback"
            ],
            "application/vnd.google.colaboratory.intrinsic+json": {
              "type": "string"
            }
          },
          "metadata": {},
          "execution_count": 58
        }
      ]
    },
    {
      "cell_type": "code",
      "source": [
        "learn.fit_one_cycle(10,slice(0.001))"
      ],
      "metadata": {
        "colab": {
          "base_uri": "https://localhost:8080/",
          "height": 363
        },
        "id": "Kgq6dSMHtAI8",
        "outputId": "bb89f662-5e21-4f1c-c58f-be47527e815c"
      },
      "execution_count": 59,
      "outputs": [
        {
          "output_type": "display_data",
          "data": {
            "text/plain": [
              "<IPython.core.display.HTML object>"
            ],
            "text/html": [
              "\n",
              "<style>\n",
              "    /* Turns off some styling */\n",
              "    progress {\n",
              "        /* gets rid of default border in Firefox and Opera. */\n",
              "        border: none;\n",
              "        /* Needs to be in here for Safari polyfill so background images work as expected. */\n",
              "        background-size: auto;\n",
              "    }\n",
              "    .progress-bar-interrupted, .progress-bar-interrupted::-webkit-progress-bar {\n",
              "        background: #F44336;\n",
              "    }\n",
              "</style>\n"
            ]
          },
          "metadata": {}
        },
        {
          "output_type": "display_data",
          "data": {
            "text/plain": [
              "<IPython.core.display.HTML object>"
            ],
            "text/html": [
              "<table border=\"1\" class=\"dataframe\">\n",
              "  <thead>\n",
              "    <tr style=\"text-align: left;\">\n",
              "      <th>epoch</th>\n",
              "      <th>train_loss</th>\n",
              "      <th>valid_loss</th>\n",
              "      <th>accuracy</th>\n",
              "      <th>time</th>\n",
              "    </tr>\n",
              "  </thead>\n",
              "  <tbody>\n",
              "    <tr>\n",
              "      <td>0</td>\n",
              "      <td>0.156600</td>\n",
              "      <td>0.218158</td>\n",
              "      <td>0.933333</td>\n",
              "      <td>00:56</td>\n",
              "    </tr>\n",
              "    <tr>\n",
              "      <td>1</td>\n",
              "      <td>0.217174</td>\n",
              "      <td>0.033590</td>\n",
              "      <td>0.988889</td>\n",
              "      <td>00:56</td>\n",
              "    </tr>\n",
              "    <tr>\n",
              "      <td>2</td>\n",
              "      <td>0.198783</td>\n",
              "      <td>0.070563</td>\n",
              "      <td>0.972222</td>\n",
              "      <td>00:55</td>\n",
              "    </tr>\n",
              "    <tr>\n",
              "      <td>3</td>\n",
              "      <td>0.188489</td>\n",
              "      <td>0.080238</td>\n",
              "      <td>0.963889</td>\n",
              "      <td>00:56</td>\n",
              "    </tr>\n",
              "    <tr>\n",
              "      <td>4</td>\n",
              "      <td>0.123065</td>\n",
              "      <td>0.024162</td>\n",
              "      <td>0.991667</td>\n",
              "      <td>00:55</td>\n",
              "    </tr>\n",
              "    <tr>\n",
              "      <td>5</td>\n",
              "      <td>0.084290</td>\n",
              "      <td>0.020556</td>\n",
              "      <td>0.991667</td>\n",
              "      <td>00:56</td>\n",
              "    </tr>\n",
              "    <tr>\n",
              "      <td>6</td>\n",
              "      <td>0.072052</td>\n",
              "      <td>0.046001</td>\n",
              "      <td>0.988889</td>\n",
              "      <td>00:56</td>\n",
              "    </tr>\n",
              "    <tr>\n",
              "      <td>7</td>\n",
              "      <td>0.036470</td>\n",
              "      <td>0.018058</td>\n",
              "      <td>0.994444</td>\n",
              "      <td>00:56</td>\n",
              "    </tr>\n",
              "    <tr>\n",
              "      <td>8</td>\n",
              "      <td>0.037794</td>\n",
              "      <td>0.013324</td>\n",
              "      <td>0.997222</td>\n",
              "      <td>00:55</td>\n",
              "    </tr>\n",
              "    <tr>\n",
              "      <td>9</td>\n",
              "      <td>0.031630</td>\n",
              "      <td>0.009918</td>\n",
              "      <td>0.997222</td>\n",
              "      <td>00:55</td>\n",
              "    </tr>\n",
              "  </tbody>\n",
              "</table>"
            ]
          },
          "metadata": {}
        }
      ]
    },
    {
      "cell_type": "markdown",
      "source": [
        "Clearly, unfreezing the backbone is helpful as now we have our best performance so far. "
      ],
      "metadata": {
        "id": "RXHufgRTwQEn"
      }
    },
    {
      "cell_type": "markdown",
      "source": [
        "Let's now briefly look at another popular architecture, DenseNet"
      ],
      "metadata": {
        "id": "FqC85rESwXZL"
      }
    },
    {
      "cell_type": "code",
      "source": [
        "learn = cnn_learner(dls, densenet121, metrics=[accuracy], pretrained=True)"
      ],
      "metadata": {
        "colab": {
          "base_uri": "https://localhost:8080/",
          "height": 66,
          "referenced_widgets": [
            "8674cf3e67144a40b97cb82d2c250cc0",
            "0c00d64e03e5446eb9347141456e501d",
            "aa4a0cd7ec724045b6c65bf5e66f6ec7",
            "68d3daccddd54571bbd5bd772422d4aa",
            "a06680e6a8274488b01d6a08e94e707f",
            "5258651ff9ef44cbb5da92905407d0ea",
            "79dc721c41d84ecf9edb5dd3294daf3e",
            "5b0c46ed716043b192f4687e21ee81bb",
            "d8e77d080576421cbcd043f4545d6771",
            "9058349005a844ebbf0c12191c07e35d",
            "22f794b15ebd4cac8cdaaa389312fd63"
          ]
        },
        "id": "xcehGbRhwgA3",
        "outputId": "c3328f86-e961-4df8-adb5-7ec5c12c791b"
      },
      "execution_count": 60,
      "outputs": [
        {
          "output_type": "stream",
          "name": "stderr",
          "text": [
            "Downloading: \"https://download.pytorch.org/models/densenet121-a639ec97.pth\" to /root/.cache/torch/hub/checkpoints/densenet121-a639ec97.pth\n"
          ]
        },
        {
          "output_type": "display_data",
          "data": {
            "text/plain": [
              "  0%|          | 0.00/30.8M [00:00<?, ?B/s]"
            ],
            "application/vnd.jupyter.widget-view+json": {
              "version_major": 2,
              "version_minor": 0,
              "model_id": "8674cf3e67144a40b97cb82d2c250cc0"
            }
          },
          "metadata": {}
        }
      ]
    },
    {
      "cell_type": "code",
      "source": [
        "learn.summary()"
      ],
      "metadata": {
        "colab": {
          "base_uri": "https://localhost:8080/",
          "height": 1000
        },
        "id": "gOtwl1nYwmsM",
        "outputId": "e1cc1418-a7b1-4ff2-b29a-881a454d6fe4"
      },
      "execution_count": 62,
      "outputs": [
        {
          "output_type": "display_data",
          "data": {
            "text/plain": [
              "<IPython.core.display.HTML object>"
            ],
            "text/html": [
              "\n",
              "<style>\n",
              "    /* Turns off some styling */\n",
              "    progress {\n",
              "        /* gets rid of default border in Firefox and Opera. */\n",
              "        border: none;\n",
              "        /* Needs to be in here for Safari polyfill so background images work as expected. */\n",
              "        background-size: auto;\n",
              "    }\n",
              "    .progress-bar-interrupted, .progress-bar-interrupted::-webkit-progress-bar {\n",
              "        background: #F44336;\n",
              "    }\n",
              "</style>\n"
            ]
          },
          "metadata": {}
        },
        {
          "output_type": "display_data",
          "data": {
            "text/plain": [
              "<IPython.core.display.HTML object>"
            ],
            "text/html": [
              ""
            ]
          },
          "metadata": {}
        },
        {
          "output_type": "execute_result",
          "data": {
            "text/plain": [
              "Sequential (Input shape: 8 x 3 x 320 x 320)\n",
              "============================================================================\n",
              "Layer (type)         Output Shape         Param #    Trainable \n",
              "============================================================================\n",
              "                     8 x 64 x 160 x 160  \n",
              "Conv2d                                    9408       False     \n",
              "BatchNorm2d                               128        True      \n",
              "ReLU                                                           \n",
              "____________________________________________________________________________\n",
              "                     8 x 64 x 80 x 80    \n",
              "MaxPool2d                                                      \n",
              "BatchNorm2d                               128        True      \n",
              "ReLU                                                           \n",
              "____________________________________________________________________________\n",
              "                     8 x 128 x 80 x 80   \n",
              "Conv2d                                    8192       False     \n",
              "BatchNorm2d                               256        True      \n",
              "ReLU                                                           \n",
              "____________________________________________________________________________\n",
              "                     8 x 32 x 80 x 80    \n",
              "Conv2d                                    36864      False     \n",
              "BatchNorm2d                               192        True      \n",
              "ReLU                                                           \n",
              "____________________________________________________________________________\n",
              "                     8 x 128 x 80 x 80   \n",
              "Conv2d                                    12288      False     \n",
              "BatchNorm2d                               256        True      \n",
              "ReLU                                                           \n",
              "____________________________________________________________________________\n",
              "                     8 x 32 x 80 x 80    \n",
              "Conv2d                                    36864      False     \n",
              "BatchNorm2d                               256        True      \n",
              "ReLU                                                           \n",
              "Conv2d                                    16384      False     \n",
              "BatchNorm2d                               256        True      \n",
              "ReLU                                                           \n",
              "____________________________________________________________________________\n",
              "                     8 x 32 x 80 x 80    \n",
              "Conv2d                                    36864      False     \n",
              "BatchNorm2d                               320        True      \n",
              "ReLU                                                           \n",
              "____________________________________________________________________________\n",
              "                     8 x 128 x 80 x 80   \n",
              "Conv2d                                    20480      False     \n",
              "BatchNorm2d                               256        True      \n",
              "ReLU                                                           \n",
              "____________________________________________________________________________\n",
              "                     8 x 32 x 80 x 80    \n",
              "Conv2d                                    36864      False     \n",
              "BatchNorm2d                               384        True      \n",
              "ReLU                                                           \n",
              "____________________________________________________________________________\n",
              "                     8 x 128 x 80 x 80   \n",
              "Conv2d                                    24576      False     \n",
              "BatchNorm2d                               256        True      \n",
              "ReLU                                                           \n",
              "____________________________________________________________________________\n",
              "                     8 x 32 x 80 x 80    \n",
              "Conv2d                                    36864      False     \n",
              "BatchNorm2d                               448        True      \n",
              "ReLU                                                           \n",
              "____________________________________________________________________________\n",
              "                     8 x 128 x 80 x 80   \n",
              "Conv2d                                    28672      False     \n",
              "BatchNorm2d                               256        True      \n",
              "ReLU                                                           \n",
              "____________________________________________________________________________\n",
              "                     8 x 32 x 80 x 80    \n",
              "Conv2d                                    36864      False     \n",
              "BatchNorm2d                               512        True      \n",
              "ReLU                                                           \n",
              "____________________________________________________________________________\n",
              "                     8 x 128 x 80 x 80   \n",
              "Conv2d                                    32768      False     \n",
              "____________________________________________________________________________\n",
              "                     8 x 128 x 40 x 40   \n",
              "AvgPool2d                                                      \n",
              "BatchNorm2d                               256        True      \n",
              "ReLU                                                           \n",
              "Conv2d                                    16384      False     \n",
              "BatchNorm2d                               256        True      \n",
              "ReLU                                                           \n",
              "____________________________________________________________________________\n",
              "                     8 x 32 x 40 x 40    \n",
              "Conv2d                                    36864      False     \n",
              "BatchNorm2d                               320        True      \n",
              "ReLU                                                           \n",
              "____________________________________________________________________________\n",
              "                     8 x 128 x 40 x 40   \n",
              "Conv2d                                    20480      False     \n",
              "BatchNorm2d                               256        True      \n",
              "ReLU                                                           \n",
              "____________________________________________________________________________\n",
              "                     8 x 32 x 40 x 40    \n",
              "Conv2d                                    36864      False     \n",
              "BatchNorm2d                               384        True      \n",
              "ReLU                                                           \n",
              "____________________________________________________________________________\n",
              "                     8 x 128 x 40 x 40   \n",
              "Conv2d                                    24576      False     \n",
              "BatchNorm2d                               256        True      \n",
              "ReLU                                                           \n",
              "____________________________________________________________________________\n",
              "                     8 x 32 x 40 x 40    \n",
              "Conv2d                                    36864      False     \n",
              "BatchNorm2d                               448        True      \n",
              "ReLU                                                           \n",
              "____________________________________________________________________________\n",
              "                     8 x 128 x 40 x 40   \n",
              "Conv2d                                    28672      False     \n",
              "BatchNorm2d                               256        True      \n",
              "ReLU                                                           \n",
              "____________________________________________________________________________\n",
              "                     8 x 32 x 40 x 40    \n",
              "Conv2d                                    36864      False     \n",
              "BatchNorm2d                               512        True      \n",
              "ReLU                                                           \n",
              "____________________________________________________________________________\n",
              "                     8 x 128 x 40 x 40   \n",
              "Conv2d                                    32768      False     \n",
              "BatchNorm2d                               256        True      \n",
              "ReLU                                                           \n",
              "____________________________________________________________________________\n",
              "                     8 x 32 x 40 x 40    \n",
              "Conv2d                                    36864      False     \n",
              "BatchNorm2d                               576        True      \n",
              "ReLU                                                           \n",
              "____________________________________________________________________________\n",
              "                     8 x 128 x 40 x 40   \n",
              "Conv2d                                    36864      False     \n",
              "BatchNorm2d                               256        True      \n",
              "ReLU                                                           \n",
              "____________________________________________________________________________\n",
              "                     8 x 32 x 40 x 40    \n",
              "Conv2d                                    36864      False     \n",
              "BatchNorm2d                               640        True      \n",
              "ReLU                                                           \n",
              "____________________________________________________________________________\n",
              "                     8 x 128 x 40 x 40   \n",
              "Conv2d                                    40960      False     \n",
              "BatchNorm2d                               256        True      \n",
              "ReLU                                                           \n",
              "____________________________________________________________________________\n",
              "                     8 x 32 x 40 x 40    \n",
              "Conv2d                                    36864      False     \n",
              "BatchNorm2d                               704        True      \n",
              "ReLU                                                           \n",
              "____________________________________________________________________________\n",
              "                     8 x 128 x 40 x 40   \n",
              "Conv2d                                    45056      False     \n",
              "BatchNorm2d                               256        True      \n",
              "ReLU                                                           \n",
              "____________________________________________________________________________\n",
              "                     8 x 32 x 40 x 40    \n",
              "Conv2d                                    36864      False     \n",
              "BatchNorm2d                               768        True      \n",
              "ReLU                                                           \n",
              "____________________________________________________________________________\n",
              "                     8 x 128 x 40 x 40   \n",
              "Conv2d                                    49152      False     \n",
              "BatchNorm2d                               256        True      \n",
              "ReLU                                                           \n",
              "____________________________________________________________________________\n",
              "                     8 x 32 x 40 x 40    \n",
              "Conv2d                                    36864      False     \n",
              "BatchNorm2d                               832        True      \n",
              "ReLU                                                           \n",
              "____________________________________________________________________________\n",
              "                     8 x 128 x 40 x 40   \n",
              "Conv2d                                    53248      False     \n",
              "BatchNorm2d                               256        True      \n",
              "ReLU                                                           \n",
              "____________________________________________________________________________\n",
              "                     8 x 32 x 40 x 40    \n",
              "Conv2d                                    36864      False     \n",
              "BatchNorm2d                               896        True      \n",
              "ReLU                                                           \n",
              "____________________________________________________________________________\n",
              "                     8 x 128 x 40 x 40   \n",
              "Conv2d                                    57344      False     \n",
              "BatchNorm2d                               256        True      \n",
              "ReLU                                                           \n",
              "____________________________________________________________________________\n",
              "                     8 x 32 x 40 x 40    \n",
              "Conv2d                                    36864      False     \n",
              "BatchNorm2d                               960        True      \n",
              "ReLU                                                           \n",
              "____________________________________________________________________________\n",
              "                     8 x 128 x 40 x 40   \n",
              "Conv2d                                    61440      False     \n",
              "BatchNorm2d                               256        True      \n",
              "ReLU                                                           \n",
              "____________________________________________________________________________\n",
              "                     8 x 32 x 40 x 40    \n",
              "Conv2d                                    36864      False     \n",
              "BatchNorm2d                               1024       True      \n",
              "ReLU                                                           \n",
              "____________________________________________________________________________\n",
              "                     8 x 256 x 40 x 40   \n",
              "Conv2d                                    131072     False     \n",
              "____________________________________________________________________________\n",
              "                     8 x 256 x 20 x 20   \n",
              "AvgPool2d                                                      \n",
              "BatchNorm2d                               512        True      \n",
              "ReLU                                                           \n",
              "____________________________________________________________________________\n",
              "                     8 x 128 x 20 x 20   \n",
              "Conv2d                                    32768      False     \n",
              "BatchNorm2d                               256        True      \n",
              "ReLU                                                           \n",
              "____________________________________________________________________________\n",
              "                     8 x 32 x 20 x 20    \n",
              "Conv2d                                    36864      False     \n",
              "BatchNorm2d                               576        True      \n",
              "ReLU                                                           \n",
              "____________________________________________________________________________\n",
              "                     8 x 128 x 20 x 20   \n",
              "Conv2d                                    36864      False     \n",
              "BatchNorm2d                               256        True      \n",
              "ReLU                                                           \n",
              "____________________________________________________________________________\n",
              "                     8 x 32 x 20 x 20    \n",
              "Conv2d                                    36864      False     \n",
              "BatchNorm2d                               640        True      \n",
              "ReLU                                                           \n",
              "____________________________________________________________________________\n",
              "                     8 x 128 x 20 x 20   \n",
              "Conv2d                                    40960      False     \n",
              "BatchNorm2d                               256        True      \n",
              "ReLU                                                           \n",
              "____________________________________________________________________________\n",
              "                     8 x 32 x 20 x 20    \n",
              "Conv2d                                    36864      False     \n",
              "BatchNorm2d                               704        True      \n",
              "ReLU                                                           \n",
              "____________________________________________________________________________\n",
              "                     8 x 128 x 20 x 20   \n",
              "Conv2d                                    45056      False     \n",
              "BatchNorm2d                               256        True      \n",
              "ReLU                                                           \n",
              "____________________________________________________________________________\n",
              "                     8 x 32 x 20 x 20    \n",
              "Conv2d                                    36864      False     \n",
              "BatchNorm2d                               768        True      \n",
              "ReLU                                                           \n",
              "____________________________________________________________________________\n",
              "                     8 x 128 x 20 x 20   \n",
              "Conv2d                                    49152      False     \n",
              "BatchNorm2d                               256        True      \n",
              "ReLU                                                           \n",
              "____________________________________________________________________________\n",
              "                     8 x 32 x 20 x 20    \n",
              "Conv2d                                    36864      False     \n",
              "BatchNorm2d                               832        True      \n",
              "ReLU                                                           \n",
              "____________________________________________________________________________\n",
              "                     8 x 128 x 20 x 20   \n",
              "Conv2d                                    53248      False     \n",
              "BatchNorm2d                               256        True      \n",
              "ReLU                                                           \n",
              "____________________________________________________________________________\n",
              "                     8 x 32 x 20 x 20    \n",
              "Conv2d                                    36864      False     \n",
              "BatchNorm2d                               896        True      \n",
              "ReLU                                                           \n",
              "____________________________________________________________________________\n",
              "                     8 x 128 x 20 x 20   \n",
              "Conv2d                                    57344      False     \n",
              "BatchNorm2d                               256        True      \n",
              "ReLU                                                           \n",
              "____________________________________________________________________________\n",
              "                     8 x 32 x 20 x 20    \n",
              "Conv2d                                    36864      False     \n",
              "BatchNorm2d                               960        True      \n",
              "ReLU                                                           \n",
              "____________________________________________________________________________\n",
              "                     8 x 128 x 20 x 20   \n",
              "Conv2d                                    61440      False     \n",
              "BatchNorm2d                               256        True      \n",
              "ReLU                                                           \n",
              "____________________________________________________________________________\n",
              "                     8 x 32 x 20 x 20    \n",
              "Conv2d                                    36864      False     \n",
              "BatchNorm2d                               1024       True      \n",
              "ReLU                                                           \n",
              "____________________________________________________________________________\n",
              "                     8 x 128 x 20 x 20   \n",
              "Conv2d                                    65536      False     \n",
              "BatchNorm2d                               256        True      \n",
              "ReLU                                                           \n",
              "____________________________________________________________________________\n",
              "                     8 x 32 x 20 x 20    \n",
              "Conv2d                                    36864      False     \n",
              "BatchNorm2d                               1088       True      \n",
              "ReLU                                                           \n",
              "____________________________________________________________________________\n",
              "                     8 x 128 x 20 x 20   \n",
              "Conv2d                                    69632      False     \n",
              "BatchNorm2d                               256        True      \n",
              "ReLU                                                           \n",
              "____________________________________________________________________________\n",
              "                     8 x 32 x 20 x 20    \n",
              "Conv2d                                    36864      False     \n",
              "BatchNorm2d                               1152       True      \n",
              "ReLU                                                           \n",
              "____________________________________________________________________________\n",
              "                     8 x 128 x 20 x 20   \n",
              "Conv2d                                    73728      False     \n",
              "BatchNorm2d                               256        True      \n",
              "ReLU                                                           \n",
              "____________________________________________________________________________\n",
              "                     8 x 32 x 20 x 20    \n",
              "Conv2d                                    36864      False     \n",
              "BatchNorm2d                               1216       True      \n",
              "ReLU                                                           \n",
              "____________________________________________________________________________\n",
              "                     8 x 128 x 20 x 20   \n",
              "Conv2d                                    77824      False     \n",
              "BatchNorm2d                               256        True      \n",
              "ReLU                                                           \n",
              "____________________________________________________________________________\n",
              "                     8 x 32 x 20 x 20    \n",
              "Conv2d                                    36864      False     \n",
              "BatchNorm2d                               1280       True      \n",
              "ReLU                                                           \n",
              "____________________________________________________________________________\n",
              "                     8 x 128 x 20 x 20   \n",
              "Conv2d                                    81920      False     \n",
              "BatchNorm2d                               256        True      \n",
              "ReLU                                                           \n",
              "____________________________________________________________________________\n",
              "                     8 x 32 x 20 x 20    \n",
              "Conv2d                                    36864      False     \n",
              "BatchNorm2d                               1344       True      \n",
              "ReLU                                                           \n",
              "____________________________________________________________________________\n",
              "                     8 x 128 x 20 x 20   \n",
              "Conv2d                                    86016      False     \n",
              "BatchNorm2d                               256        True      \n",
              "ReLU                                                           \n",
              "____________________________________________________________________________\n",
              "                     8 x 32 x 20 x 20    \n",
              "Conv2d                                    36864      False     \n",
              "BatchNorm2d                               1408       True      \n",
              "ReLU                                                           \n",
              "____________________________________________________________________________\n",
              "                     8 x 128 x 20 x 20   \n",
              "Conv2d                                    90112      False     \n",
              "BatchNorm2d                               256        True      \n",
              "ReLU                                                           \n",
              "____________________________________________________________________________\n",
              "                     8 x 32 x 20 x 20    \n",
              "Conv2d                                    36864      False     \n",
              "BatchNorm2d                               1472       True      \n",
              "ReLU                                                           \n",
              "____________________________________________________________________________\n",
              "                     8 x 128 x 20 x 20   \n",
              "Conv2d                                    94208      False     \n",
              "BatchNorm2d                               256        True      \n",
              "ReLU                                                           \n",
              "____________________________________________________________________________\n",
              "                     8 x 32 x 20 x 20    \n",
              "Conv2d                                    36864      False     \n",
              "BatchNorm2d                               1536       True      \n",
              "ReLU                                                           \n",
              "____________________________________________________________________________\n",
              "                     8 x 128 x 20 x 20   \n",
              "Conv2d                                    98304      False     \n",
              "BatchNorm2d                               256        True      \n",
              "ReLU                                                           \n",
              "____________________________________________________________________________\n",
              "                     8 x 32 x 20 x 20    \n",
              "Conv2d                                    36864      False     \n",
              "BatchNorm2d                               1600       True      \n",
              "ReLU                                                           \n",
              "____________________________________________________________________________\n",
              "                     8 x 128 x 20 x 20   \n",
              "Conv2d                                    102400     False     \n",
              "BatchNorm2d                               256        True      \n",
              "ReLU                                                           \n",
              "____________________________________________________________________________\n",
              "                     8 x 32 x 20 x 20    \n",
              "Conv2d                                    36864      False     \n",
              "BatchNorm2d                               1664       True      \n",
              "ReLU                                                           \n",
              "____________________________________________________________________________\n",
              "                     8 x 128 x 20 x 20   \n",
              "Conv2d                                    106496     False     \n",
              "BatchNorm2d                               256        True      \n",
              "ReLU                                                           \n",
              "____________________________________________________________________________\n",
              "                     8 x 32 x 20 x 20    \n",
              "Conv2d                                    36864      False     \n",
              "BatchNorm2d                               1728       True      \n",
              "ReLU                                                           \n",
              "____________________________________________________________________________\n",
              "                     8 x 128 x 20 x 20   \n",
              "Conv2d                                    110592     False     \n",
              "BatchNorm2d                               256        True      \n",
              "ReLU                                                           \n",
              "____________________________________________________________________________\n",
              "                     8 x 32 x 20 x 20    \n",
              "Conv2d                                    36864      False     \n",
              "BatchNorm2d                               1792       True      \n",
              "ReLU                                                           \n",
              "____________________________________________________________________________\n",
              "                     8 x 128 x 20 x 20   \n",
              "Conv2d                                    114688     False     \n",
              "BatchNorm2d                               256        True      \n",
              "ReLU                                                           \n",
              "____________________________________________________________________________\n",
              "                     8 x 32 x 20 x 20    \n",
              "Conv2d                                    36864      False     \n",
              "BatchNorm2d                               1856       True      \n",
              "ReLU                                                           \n",
              "____________________________________________________________________________\n",
              "                     8 x 128 x 20 x 20   \n",
              "Conv2d                                    118784     False     \n",
              "BatchNorm2d                               256        True      \n",
              "ReLU                                                           \n",
              "____________________________________________________________________________\n",
              "                     8 x 32 x 20 x 20    \n",
              "Conv2d                                    36864      False     \n",
              "BatchNorm2d                               1920       True      \n",
              "ReLU                                                           \n",
              "____________________________________________________________________________\n",
              "                     8 x 128 x 20 x 20   \n",
              "Conv2d                                    122880     False     \n",
              "BatchNorm2d                               256        True      \n",
              "ReLU                                                           \n",
              "____________________________________________________________________________\n",
              "                     8 x 32 x 20 x 20    \n",
              "Conv2d                                    36864      False     \n",
              "BatchNorm2d                               1984       True      \n",
              "ReLU                                                           \n",
              "____________________________________________________________________________\n",
              "                     8 x 128 x 20 x 20   \n",
              "Conv2d                                    126976     False     \n",
              "BatchNorm2d                               256        True      \n",
              "ReLU                                                           \n",
              "____________________________________________________________________________\n",
              "                     8 x 32 x 20 x 20    \n",
              "Conv2d                                    36864      False     \n",
              "BatchNorm2d                               2048       True      \n",
              "ReLU                                                           \n",
              "____________________________________________________________________________\n",
              "                     8 x 512 x 20 x 20   \n",
              "Conv2d                                    524288     False     \n",
              "____________________________________________________________________________\n",
              "                     8 x 512 x 10 x 10   \n",
              "AvgPool2d                                                      \n",
              "BatchNorm2d                               1024       True      \n",
              "ReLU                                                           \n",
              "____________________________________________________________________________\n",
              "                     8 x 128 x 10 x 10   \n",
              "Conv2d                                    65536      False     \n",
              "BatchNorm2d                               256        True      \n",
              "ReLU                                                           \n",
              "____________________________________________________________________________\n",
              "                     8 x 32 x 10 x 10    \n",
              "Conv2d                                    36864      False     \n",
              "BatchNorm2d                               1088       True      \n",
              "ReLU                                                           \n",
              "____________________________________________________________________________\n",
              "                     8 x 128 x 10 x 10   \n",
              "Conv2d                                    69632      False     \n",
              "BatchNorm2d                               256        True      \n",
              "ReLU                                                           \n",
              "____________________________________________________________________________\n",
              "                     8 x 32 x 10 x 10    \n",
              "Conv2d                                    36864      False     \n",
              "BatchNorm2d                               1152       True      \n",
              "ReLU                                                           \n",
              "____________________________________________________________________________\n",
              "                     8 x 128 x 10 x 10   \n",
              "Conv2d                                    73728      False     \n",
              "BatchNorm2d                               256        True      \n",
              "ReLU                                                           \n",
              "____________________________________________________________________________\n",
              "                     8 x 32 x 10 x 10    \n",
              "Conv2d                                    36864      False     \n",
              "BatchNorm2d                               1216       True      \n",
              "ReLU                                                           \n",
              "____________________________________________________________________________\n",
              "                     8 x 128 x 10 x 10   \n",
              "Conv2d                                    77824      False     \n",
              "BatchNorm2d                               256        True      \n",
              "ReLU                                                           \n",
              "____________________________________________________________________________\n",
              "                     8 x 32 x 10 x 10    \n",
              "Conv2d                                    36864      False     \n",
              "BatchNorm2d                               1280       True      \n",
              "ReLU                                                           \n",
              "____________________________________________________________________________\n",
              "                     8 x 128 x 10 x 10   \n",
              "Conv2d                                    81920      False     \n",
              "BatchNorm2d                               256        True      \n",
              "ReLU                                                           \n",
              "____________________________________________________________________________\n",
              "                     8 x 32 x 10 x 10    \n",
              "Conv2d                                    36864      False     \n",
              "BatchNorm2d                               1344       True      \n",
              "ReLU                                                           \n",
              "____________________________________________________________________________\n",
              "                     8 x 128 x 10 x 10   \n",
              "Conv2d                                    86016      False     \n",
              "BatchNorm2d                               256        True      \n",
              "ReLU                                                           \n",
              "____________________________________________________________________________\n",
              "                     8 x 32 x 10 x 10    \n",
              "Conv2d                                    36864      False     \n",
              "BatchNorm2d                               1408       True      \n",
              "ReLU                                                           \n",
              "____________________________________________________________________________\n",
              "                     8 x 128 x 10 x 10   \n",
              "Conv2d                                    90112      False     \n",
              "BatchNorm2d                               256        True      \n",
              "ReLU                                                           \n",
              "____________________________________________________________________________\n",
              "                     8 x 32 x 10 x 10    \n",
              "Conv2d                                    36864      False     \n",
              "BatchNorm2d                               1472       True      \n",
              "ReLU                                                           \n",
              "____________________________________________________________________________\n",
              "                     8 x 128 x 10 x 10   \n",
              "Conv2d                                    94208      False     \n",
              "BatchNorm2d                               256        True      \n",
              "ReLU                                                           \n",
              "____________________________________________________________________________\n",
              "                     8 x 32 x 10 x 10    \n",
              "Conv2d                                    36864      False     \n",
              "BatchNorm2d                               1536       True      \n",
              "ReLU                                                           \n",
              "____________________________________________________________________________\n",
              "                     8 x 128 x 10 x 10   \n",
              "Conv2d                                    98304      False     \n",
              "BatchNorm2d                               256        True      \n",
              "ReLU                                                           \n",
              "____________________________________________________________________________\n",
              "                     8 x 32 x 10 x 10    \n",
              "Conv2d                                    36864      False     \n",
              "BatchNorm2d                               1600       True      \n",
              "ReLU                                                           \n",
              "____________________________________________________________________________\n",
              "                     8 x 128 x 10 x 10   \n",
              "Conv2d                                    102400     False     \n",
              "BatchNorm2d                               256        True      \n",
              "ReLU                                                           \n",
              "____________________________________________________________________________\n",
              "                     8 x 32 x 10 x 10    \n",
              "Conv2d                                    36864      False     \n",
              "BatchNorm2d                               1664       True      \n",
              "ReLU                                                           \n",
              "____________________________________________________________________________\n",
              "                     8 x 128 x 10 x 10   \n",
              "Conv2d                                    106496     False     \n",
              "BatchNorm2d                               256        True      \n",
              "ReLU                                                           \n",
              "____________________________________________________________________________\n",
              "                     8 x 32 x 10 x 10    \n",
              "Conv2d                                    36864      False     \n",
              "BatchNorm2d                               1728       True      \n",
              "ReLU                                                           \n",
              "____________________________________________________________________________\n",
              "                     8 x 128 x 10 x 10   \n",
              "Conv2d                                    110592     False     \n",
              "BatchNorm2d                               256        True      \n",
              "ReLU                                                           \n",
              "____________________________________________________________________________\n",
              "                     8 x 32 x 10 x 10    \n",
              "Conv2d                                    36864      False     \n",
              "BatchNorm2d                               1792       True      \n",
              "ReLU                                                           \n",
              "____________________________________________________________________________\n",
              "                     8 x 128 x 10 x 10   \n",
              "Conv2d                                    114688     False     \n",
              "BatchNorm2d                               256        True      \n",
              "ReLU                                                           \n",
              "____________________________________________________________________________\n",
              "                     8 x 32 x 10 x 10    \n",
              "Conv2d                                    36864      False     \n",
              "BatchNorm2d                               1856       True      \n",
              "ReLU                                                           \n",
              "____________________________________________________________________________\n",
              "                     8 x 128 x 10 x 10   \n",
              "Conv2d                                    118784     False     \n",
              "BatchNorm2d                               256        True      \n",
              "ReLU                                                           \n",
              "____________________________________________________________________________\n",
              "                     8 x 32 x 10 x 10    \n",
              "Conv2d                                    36864      False     \n",
              "BatchNorm2d                               1920       True      \n",
              "ReLU                                                           \n",
              "____________________________________________________________________________\n",
              "                     8 x 128 x 10 x 10   \n",
              "Conv2d                                    122880     False     \n",
              "BatchNorm2d                               256        True      \n",
              "ReLU                                                           \n",
              "____________________________________________________________________________\n",
              "                     8 x 32 x 10 x 10    \n",
              "Conv2d                                    36864      False     \n",
              "BatchNorm2d                               1984       True      \n",
              "ReLU                                                           \n",
              "____________________________________________________________________________\n",
              "                     8 x 128 x 10 x 10   \n",
              "Conv2d                                    126976     False     \n",
              "BatchNorm2d                               256        True      \n",
              "ReLU                                                           \n",
              "____________________________________________________________________________\n",
              "                     8 x 32 x 10 x 10    \n",
              "Conv2d                                    36864      False     \n",
              "BatchNorm2d                               2048       True      \n",
              "____________________________________________________________________________\n",
              "                     8 x 1024 x 1 x 1    \n",
              "AdaptiveAvgPool2d                                              \n",
              "AdaptiveMaxPool2d                                              \n",
              "____________________________________________________________________________\n",
              "                     8 x 2048            \n",
              "Flatten                                                        \n",
              "BatchNorm1d                               4096       True      \n",
              "Dropout                                                        \n",
              "____________________________________________________________________________\n",
              "                     8 x 512             \n",
              "Linear                                    1048576    True      \n",
              "ReLU                                                           \n",
              "BatchNorm1d                               1024       True      \n",
              "Dropout                                                        \n",
              "____________________________________________________________________________\n",
              "                     8 x 2               \n",
              "Linear                                    1024       True      \n",
              "____________________________________________________________________________\n",
              "\n",
              "Total params: 8,008,576\n",
              "Total trainable params: 1,138,368\n",
              "Total non-trainable params: 6,870,208\n",
              "\n",
              "Optimizer used: <function Adam at 0x7fde3e58bdd0>\n",
              "Loss function: FlattenedLoss of CrossEntropyLoss()\n",
              "\n",
              "Model frozen up to parameter group #2\n",
              "\n",
              "Callbacks:\n",
              "  - TrainEvalCallback\n",
              "  - Recorder\n",
              "  - ProgressCallback"
            ],
            "application/vnd.google.colaboratory.intrinsic+json": {
              "type": "string"
            }
          },
          "metadata": {},
          "execution_count": 62
        }
      ]
    },
    {
      "cell_type": "code",
      "source": [
        "learn.fit_one_cycle(10,slice(0.001)) #Train for a bit with a frozen backbone\n"
      ],
      "metadata": {
        "colab": {
          "base_uri": "https://localhost:8080/",
          "height": 363
        },
        "id": "XQyu9PmJwmIK",
        "outputId": "203bee5b-5ec8-400d-be60-bc331402c4d6"
      },
      "execution_count": 63,
      "outputs": [
        {
          "output_type": "display_data",
          "data": {
            "text/plain": [
              "<IPython.core.display.HTML object>"
            ],
            "text/html": [
              "\n",
              "<style>\n",
              "    /* Turns off some styling */\n",
              "    progress {\n",
              "        /* gets rid of default border in Firefox and Opera. */\n",
              "        border: none;\n",
              "        /* Needs to be in here for Safari polyfill so background images work as expected. */\n",
              "        background-size: auto;\n",
              "    }\n",
              "    .progress-bar-interrupted, .progress-bar-interrupted::-webkit-progress-bar {\n",
              "        background: #F44336;\n",
              "    }\n",
              "</style>\n"
            ]
          },
          "metadata": {}
        },
        {
          "output_type": "display_data",
          "data": {
            "text/plain": [
              "<IPython.core.display.HTML object>"
            ],
            "text/html": [
              "<table border=\"1\" class=\"dataframe\">\n",
              "  <thead>\n",
              "    <tr style=\"text-align: left;\">\n",
              "      <th>epoch</th>\n",
              "      <th>train_loss</th>\n",
              "      <th>valid_loss</th>\n",
              "      <th>accuracy</th>\n",
              "      <th>time</th>\n",
              "    </tr>\n",
              "  </thead>\n",
              "  <tbody>\n",
              "    <tr>\n",
              "      <td>0</td>\n",
              "      <td>0.642249</td>\n",
              "      <td>0.609731</td>\n",
              "      <td>0.711111</td>\n",
              "      <td>01:04</td>\n",
              "    </tr>\n",
              "    <tr>\n",
              "      <td>1</td>\n",
              "      <td>0.429432</td>\n",
              "      <td>0.432644</td>\n",
              "      <td>0.811111</td>\n",
              "      <td>01:03</td>\n",
              "    </tr>\n",
              "    <tr>\n",
              "      <td>2</td>\n",
              "      <td>0.263953</td>\n",
              "      <td>0.269579</td>\n",
              "      <td>0.902778</td>\n",
              "      <td>01:03</td>\n",
              "    </tr>\n",
              "    <tr>\n",
              "      <td>3</td>\n",
              "      <td>0.213998</td>\n",
              "      <td>0.105627</td>\n",
              "      <td>0.961111</td>\n",
              "      <td>01:03</td>\n",
              "    </tr>\n",
              "    <tr>\n",
              "      <td>4</td>\n",
              "      <td>0.178939</td>\n",
              "      <td>0.055731</td>\n",
              "      <td>0.983333</td>\n",
              "      <td>01:03</td>\n",
              "    </tr>\n",
              "    <tr>\n",
              "      <td>5</td>\n",
              "      <td>0.163617</td>\n",
              "      <td>0.042286</td>\n",
              "      <td>0.986111</td>\n",
              "      <td>01:03</td>\n",
              "    </tr>\n",
              "    <tr>\n",
              "      <td>6</td>\n",
              "      <td>0.143063</td>\n",
              "      <td>0.084443</td>\n",
              "      <td>0.969444</td>\n",
              "      <td>01:03</td>\n",
              "    </tr>\n",
              "    <tr>\n",
              "      <td>7</td>\n",
              "      <td>0.155176</td>\n",
              "      <td>0.060029</td>\n",
              "      <td>0.977778</td>\n",
              "      <td>01:03</td>\n",
              "    </tr>\n",
              "    <tr>\n",
              "      <td>8</td>\n",
              "      <td>0.099935</td>\n",
              "      <td>0.129895</td>\n",
              "      <td>0.925000</td>\n",
              "      <td>01:03</td>\n",
              "    </tr>\n",
              "    <tr>\n",
              "      <td>9</td>\n",
              "      <td>0.084802</td>\n",
              "      <td>0.060433</td>\n",
              "      <td>0.977778</td>\n",
              "      <td>01:03</td>\n",
              "    </tr>\n",
              "  </tbody>\n",
              "</table>"
            ]
          },
          "metadata": {}
        }
      ]
    },
    {
      "cell_type": "code",
      "source": [
        "learn.unfreeze()\n",
        "learn.fit_one_cycle(10,slice(0.001)) #Train again unfrozen"
      ],
      "metadata": {
        "colab": {
          "base_uri": "https://localhost:8080/",
          "height": 363
        },
        "id": "23M8UcERwsLy",
        "outputId": "9582e18a-b1a2-4627-aadf-38540c75e170"
      },
      "execution_count": 64,
      "outputs": [
        {
          "output_type": "display_data",
          "data": {
            "text/plain": [
              "<IPython.core.display.HTML object>"
            ],
            "text/html": [
              "\n",
              "<style>\n",
              "    /* Turns off some styling */\n",
              "    progress {\n",
              "        /* gets rid of default border in Firefox and Opera. */\n",
              "        border: none;\n",
              "        /* Needs to be in here for Safari polyfill so background images work as expected. */\n",
              "        background-size: auto;\n",
              "    }\n",
              "    .progress-bar-interrupted, .progress-bar-interrupted::-webkit-progress-bar {\n",
              "        background: #F44336;\n",
              "    }\n",
              "</style>\n"
            ]
          },
          "metadata": {}
        },
        {
          "output_type": "display_data",
          "data": {
            "text/plain": [
              "<IPython.core.display.HTML object>"
            ],
            "text/html": [
              "<table border=\"1\" class=\"dataframe\">\n",
              "  <thead>\n",
              "    <tr style=\"text-align: left;\">\n",
              "      <th>epoch</th>\n",
              "      <th>train_loss</th>\n",
              "      <th>valid_loss</th>\n",
              "      <th>accuracy</th>\n",
              "      <th>time</th>\n",
              "    </tr>\n",
              "  </thead>\n",
              "  <tbody>\n",
              "    <tr>\n",
              "      <td>0</td>\n",
              "      <td>0.146286</td>\n",
              "      <td>0.109823</td>\n",
              "      <td>0.947222</td>\n",
              "      <td>01:19</td>\n",
              "    </tr>\n",
              "    <tr>\n",
              "      <td>1</td>\n",
              "      <td>0.168006</td>\n",
              "      <td>0.029448</td>\n",
              "      <td>0.986111</td>\n",
              "      <td>01:19</td>\n",
              "    </tr>\n",
              "    <tr>\n",
              "      <td>2</td>\n",
              "      <td>0.135884</td>\n",
              "      <td>0.056280</td>\n",
              "      <td>0.977778</td>\n",
              "      <td>01:19</td>\n",
              "    </tr>\n",
              "    <tr>\n",
              "      <td>3</td>\n",
              "      <td>0.122158</td>\n",
              "      <td>0.068524</td>\n",
              "      <td>0.983333</td>\n",
              "      <td>01:19</td>\n",
              "    </tr>\n",
              "    <tr>\n",
              "      <td>4</td>\n",
              "      <td>0.100966</td>\n",
              "      <td>0.054674</td>\n",
              "      <td>0.980556</td>\n",
              "      <td>01:18</td>\n",
              "    </tr>\n",
              "    <tr>\n",
              "      <td>5</td>\n",
              "      <td>0.074649</td>\n",
              "      <td>0.020906</td>\n",
              "      <td>0.991667</td>\n",
              "      <td>01:19</td>\n",
              "    </tr>\n",
              "    <tr>\n",
              "      <td>6</td>\n",
              "      <td>0.088752</td>\n",
              "      <td>0.091557</td>\n",
              "      <td>0.955556</td>\n",
              "      <td>01:19</td>\n",
              "    </tr>\n",
              "    <tr>\n",
              "      <td>7</td>\n",
              "      <td>0.052128</td>\n",
              "      <td>0.027959</td>\n",
              "      <td>0.991667</td>\n",
              "      <td>01:19</td>\n",
              "    </tr>\n",
              "    <tr>\n",
              "      <td>8</td>\n",
              "      <td>0.032726</td>\n",
              "      <td>0.041801</td>\n",
              "      <td>0.980556</td>\n",
              "      <td>01:19</td>\n",
              "    </tr>\n",
              "    <tr>\n",
              "      <td>9</td>\n",
              "      <td>0.022843</td>\n",
              "      <td>0.041395</td>\n",
              "      <td>0.977778</td>\n",
              "      <td>01:20</td>\n",
              "    </tr>\n",
              "  </tbody>\n",
              "</table>"
            ]
          },
          "metadata": {}
        }
      ]
    },
    {
      "cell_type": "markdown",
      "source": [
        "Now, to summarize this lesson so far, we have made a much simpler model than in lesson 2 in that we have focused on a classification model that simply determines whether or not the liver is present within an axial CT slice and does not perform segmentation. We have used this simpler neural network scenario to dig a little deeper into the learning rate, the loss function, the optimizer and the neural network model architecture. Obviously, there is plenty of additional room for experimentation. For example, additional architectures readily usable with FastAI can be reviewed in the FastAI documentation:\n",
        "\n",
        "https://fastai1.fast.ai/vision.models.html\n",
        "\n",
        "In part 2 of this lesson, we will turn back to the MRI data and look at neural networks for classifying hepatic steatosis. Again, we will place an emphasis on some of the variety of options available for modeling. "
      ],
      "metadata": {
        "id": "HGqFvPWn2cFd"
      }
    }
  ]
}