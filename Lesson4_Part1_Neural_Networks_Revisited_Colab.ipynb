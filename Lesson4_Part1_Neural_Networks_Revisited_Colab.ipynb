{
  "nbformat": 4,
  "nbformat_minor": 0,
  "metadata": {
    "colab": {
      "name": "Lesson4_Part1_Neural_Networks_Revisited-Colab.ipynb",
      "provenance": [],
      "authorship_tag": "ABX9TyMQQntFrpDtQu+iVyRFatr2",
      "include_colab_link": true
    },
    "kernelspec": {
      "name": "python3",
      "display_name": "Python 3"
    },
    "language_info": {
      "name": "python"
    },
    "accelerator": "GPU",
    "widgets": {
      "application/vnd.jupyter.widget-state+json": {
        "eb2fe4d01e994197bf80f3999d5b9f55": {
          "model_module": "@jupyter-widgets/controls",
          "model_name": "HBoxModel",
          "model_module_version": "1.5.0",
          "state": {
            "_dom_classes": [],
            "_model_module": "@jupyter-widgets/controls",
            "_model_module_version": "1.5.0",
            "_model_name": "HBoxModel",
            "_view_count": null,
            "_view_module": "@jupyter-widgets/controls",
            "_view_module_version": "1.5.0",
            "_view_name": "HBoxView",
            "box_style": "",
            "children": [
              "IPY_MODEL_5123b3a660a14166a085986332163734",
              "IPY_MODEL_9bd26ffa0fa84b18b81b5c863308a23e",
              "IPY_MODEL_56457b36943a41b89830c85f5ae36806"
            ],
            "layout": "IPY_MODEL_3192a02eade941279c489195c2c772f1"
          }
        },
        "5123b3a660a14166a085986332163734": {
          "model_module": "@jupyter-widgets/controls",
          "model_name": "HTMLModel",
          "model_module_version": "1.5.0",
          "state": {
            "_dom_classes": [],
            "_model_module": "@jupyter-widgets/controls",
            "_model_module_version": "1.5.0",
            "_model_name": "HTMLModel",
            "_view_count": null,
            "_view_module": "@jupyter-widgets/controls",
            "_view_module_version": "1.5.0",
            "_view_name": "HTMLView",
            "description": "",
            "description_tooltip": null,
            "layout": "IPY_MODEL_66f8fe9b48ad4d0dbb5c148214d10e2a",
            "placeholder": "​",
            "style": "IPY_MODEL_2ae4f9af5b604470958b1e37e35a6b43",
            "value": "100%"
          }
        },
        "9bd26ffa0fa84b18b81b5c863308a23e": {
          "model_module": "@jupyter-widgets/controls",
          "model_name": "FloatProgressModel",
          "model_module_version": "1.5.0",
          "state": {
            "_dom_classes": [],
            "_model_module": "@jupyter-widgets/controls",
            "_model_module_version": "1.5.0",
            "_model_name": "FloatProgressModel",
            "_view_count": null,
            "_view_module": "@jupyter-widgets/controls",
            "_view_module_version": "1.5.0",
            "_view_name": "ProgressView",
            "bar_style": "success",
            "description": "",
            "description_tooltip": null,
            "layout": "IPY_MODEL_de76b2f76ce544ee97fdf507ccb9b18e",
            "max": 87319819,
            "min": 0,
            "orientation": "horizontal",
            "style": "IPY_MODEL_c09f8d1af0f1422b85054e043e4e43ab",
            "value": 87319819
          }
        },
        "56457b36943a41b89830c85f5ae36806": {
          "model_module": "@jupyter-widgets/controls",
          "model_name": "HTMLModel",
          "model_module_version": "1.5.0",
          "state": {
            "_dom_classes": [],
            "_model_module": "@jupyter-widgets/controls",
            "_model_module_version": "1.5.0",
            "_model_name": "HTMLModel",
            "_view_count": null,
            "_view_module": "@jupyter-widgets/controls",
            "_view_module_version": "1.5.0",
            "_view_name": "HTMLView",
            "description": "",
            "description_tooltip": null,
            "layout": "IPY_MODEL_85e95706d84e4eb19f6b55ad4676eb54",
            "placeholder": "​",
            "style": "IPY_MODEL_c05560a51de94a13ac5ec87d421c574a",
            "value": " 83.3M/83.3M [00:00&lt;00:00, 226MB/s]"
          }
        },
        "3192a02eade941279c489195c2c772f1": {
          "model_module": "@jupyter-widgets/base",
          "model_name": "LayoutModel",
          "model_module_version": "1.2.0",
          "state": {
            "_model_module": "@jupyter-widgets/base",
            "_model_module_version": "1.2.0",
            "_model_name": "LayoutModel",
            "_view_count": null,
            "_view_module": "@jupyter-widgets/base",
            "_view_module_version": "1.2.0",
            "_view_name": "LayoutView",
            "align_content": null,
            "align_items": null,
            "align_self": null,
            "border": null,
            "bottom": null,
            "display": null,
            "flex": null,
            "flex_flow": null,
            "grid_area": null,
            "grid_auto_columns": null,
            "grid_auto_flow": null,
            "grid_auto_rows": null,
            "grid_column": null,
            "grid_gap": null,
            "grid_row": null,
            "grid_template_areas": null,
            "grid_template_columns": null,
            "grid_template_rows": null,
            "height": null,
            "justify_content": null,
            "justify_items": null,
            "left": null,
            "margin": null,
            "max_height": null,
            "max_width": null,
            "min_height": null,
            "min_width": null,
            "object_fit": null,
            "object_position": null,
            "order": null,
            "overflow": null,
            "overflow_x": null,
            "overflow_y": null,
            "padding": null,
            "right": null,
            "top": null,
            "visibility": null,
            "width": null
          }
        },
        "66f8fe9b48ad4d0dbb5c148214d10e2a": {
          "model_module": "@jupyter-widgets/base",
          "model_name": "LayoutModel",
          "model_module_version": "1.2.0",
          "state": {
            "_model_module": "@jupyter-widgets/base",
            "_model_module_version": "1.2.0",
            "_model_name": "LayoutModel",
            "_view_count": null,
            "_view_module": "@jupyter-widgets/base",
            "_view_module_version": "1.2.0",
            "_view_name": "LayoutView",
            "align_content": null,
            "align_items": null,
            "align_self": null,
            "border": null,
            "bottom": null,
            "display": null,
            "flex": null,
            "flex_flow": null,
            "grid_area": null,
            "grid_auto_columns": null,
            "grid_auto_flow": null,
            "grid_auto_rows": null,
            "grid_column": null,
            "grid_gap": null,
            "grid_row": null,
            "grid_template_areas": null,
            "grid_template_columns": null,
            "grid_template_rows": null,
            "height": null,
            "justify_content": null,
            "justify_items": null,
            "left": null,
            "margin": null,
            "max_height": null,
            "max_width": null,
            "min_height": null,
            "min_width": null,
            "object_fit": null,
            "object_position": null,
            "order": null,
            "overflow": null,
            "overflow_x": null,
            "overflow_y": null,
            "padding": null,
            "right": null,
            "top": null,
            "visibility": null,
            "width": null
          }
        },
        "2ae4f9af5b604470958b1e37e35a6b43": {
          "model_module": "@jupyter-widgets/controls",
          "model_name": "DescriptionStyleModel",
          "model_module_version": "1.5.0",
          "state": {
            "_model_module": "@jupyter-widgets/controls",
            "_model_module_version": "1.5.0",
            "_model_name": "DescriptionStyleModel",
            "_view_count": null,
            "_view_module": "@jupyter-widgets/base",
            "_view_module_version": "1.2.0",
            "_view_name": "StyleView",
            "description_width": ""
          }
        },
        "de76b2f76ce544ee97fdf507ccb9b18e": {
          "model_module": "@jupyter-widgets/base",
          "model_name": "LayoutModel",
          "model_module_version": "1.2.0",
          "state": {
            "_model_module": "@jupyter-widgets/base",
            "_model_module_version": "1.2.0",
            "_model_name": "LayoutModel",
            "_view_count": null,
            "_view_module": "@jupyter-widgets/base",
            "_view_module_version": "1.2.0",
            "_view_name": "LayoutView",
            "align_content": null,
            "align_items": null,
            "align_self": null,
            "border": null,
            "bottom": null,
            "display": null,
            "flex": null,
            "flex_flow": null,
            "grid_area": null,
            "grid_auto_columns": null,
            "grid_auto_flow": null,
            "grid_auto_rows": null,
            "grid_column": null,
            "grid_gap": null,
            "grid_row": null,
            "grid_template_areas": null,
            "grid_template_columns": null,
            "grid_template_rows": null,
            "height": null,
            "justify_content": null,
            "justify_items": null,
            "left": null,
            "margin": null,
            "max_height": null,
            "max_width": null,
            "min_height": null,
            "min_width": null,
            "object_fit": null,
            "object_position": null,
            "order": null,
            "overflow": null,
            "overflow_x": null,
            "overflow_y": null,
            "padding": null,
            "right": null,
            "top": null,
            "visibility": null,
            "width": null
          }
        },
        "c09f8d1af0f1422b85054e043e4e43ab": {
          "model_module": "@jupyter-widgets/controls",
          "model_name": "ProgressStyleModel",
          "model_module_version": "1.5.0",
          "state": {
            "_model_module": "@jupyter-widgets/controls",
            "_model_module_version": "1.5.0",
            "_model_name": "ProgressStyleModel",
            "_view_count": null,
            "_view_module": "@jupyter-widgets/base",
            "_view_module_version": "1.2.0",
            "_view_name": "StyleView",
            "bar_color": null,
            "description_width": ""
          }
        },
        "85e95706d84e4eb19f6b55ad4676eb54": {
          "model_module": "@jupyter-widgets/base",
          "model_name": "LayoutModel",
          "model_module_version": "1.2.0",
          "state": {
            "_model_module": "@jupyter-widgets/base",
            "_model_module_version": "1.2.0",
            "_model_name": "LayoutModel",
            "_view_count": null,
            "_view_module": "@jupyter-widgets/base",
            "_view_module_version": "1.2.0",
            "_view_name": "LayoutView",
            "align_content": null,
            "align_items": null,
            "align_self": null,
            "border": null,
            "bottom": null,
            "display": null,
            "flex": null,
            "flex_flow": null,
            "grid_area": null,
            "grid_auto_columns": null,
            "grid_auto_flow": null,
            "grid_auto_rows": null,
            "grid_column": null,
            "grid_gap": null,
            "grid_row": null,
            "grid_template_areas": null,
            "grid_template_columns": null,
            "grid_template_rows": null,
            "height": null,
            "justify_content": null,
            "justify_items": null,
            "left": null,
            "margin": null,
            "max_height": null,
            "max_width": null,
            "min_height": null,
            "min_width": null,
            "object_fit": null,
            "object_position": null,
            "order": null,
            "overflow": null,
            "overflow_x": null,
            "overflow_y": null,
            "padding": null,
            "right": null,
            "top": null,
            "visibility": null,
            "width": null
          }
        },
        "c05560a51de94a13ac5ec87d421c574a": {
          "model_module": "@jupyter-widgets/controls",
          "model_name": "DescriptionStyleModel",
          "model_module_version": "1.5.0",
          "state": {
            "_model_module": "@jupyter-widgets/controls",
            "_model_module_version": "1.5.0",
            "_model_name": "DescriptionStyleModel",
            "_view_count": null,
            "_view_module": "@jupyter-widgets/base",
            "_view_module_version": "1.2.0",
            "_view_name": "StyleView",
            "description_width": ""
          }
        },
        "04e4fdd9d9994dbf8e323f8d02b54dec": {
          "model_module": "@jupyter-widgets/controls",
          "model_name": "HBoxModel",
          "model_module_version": "1.5.0",
          "state": {
            "_dom_classes": [],
            "_model_module": "@jupyter-widgets/controls",
            "_model_module_version": "1.5.0",
            "_model_name": "HBoxModel",
            "_view_count": null,
            "_view_module": "@jupyter-widgets/controls",
            "_view_module_version": "1.5.0",
            "_view_name": "HBoxView",
            "box_style": "",
            "children": [
              "IPY_MODEL_ed77e694884b4bdca21ebb25ce51019d",
              "IPY_MODEL_bc6a08b4bdbc43828141b241693d4857",
              "IPY_MODEL_dfac085059484d10b6f4963ef17cd700"
            ],
            "layout": "IPY_MODEL_51a815ccbb934468a97cd7834aa1dc90"
          }
        },
        "ed77e694884b4bdca21ebb25ce51019d": {
          "model_module": "@jupyter-widgets/controls",
          "model_name": "HTMLModel",
          "model_module_version": "1.5.0",
          "state": {
            "_dom_classes": [],
            "_model_module": "@jupyter-widgets/controls",
            "_model_module_version": "1.5.0",
            "_model_name": "HTMLModel",
            "_view_count": null,
            "_view_module": "@jupyter-widgets/controls",
            "_view_module_version": "1.5.0",
            "_view_name": "HTMLView",
            "description": "",
            "description_tooltip": null,
            "layout": "IPY_MODEL_b4f66c50d7c048aa8198e4381c579369",
            "placeholder": "​",
            "style": "IPY_MODEL_e788cb6a68c84fb0ad361ac07479f80f",
            "value": "100%"
          }
        },
        "bc6a08b4bdbc43828141b241693d4857": {
          "model_module": "@jupyter-widgets/controls",
          "model_name": "FloatProgressModel",
          "model_module_version": "1.5.0",
          "state": {
            "_dom_classes": [],
            "_model_module": "@jupyter-widgets/controls",
            "_model_module_version": "1.5.0",
            "_model_name": "FloatProgressModel",
            "_view_count": null,
            "_view_module": "@jupyter-widgets/controls",
            "_view_module_version": "1.5.0",
            "_view_name": "ProgressView",
            "bar_style": "success",
            "description": "",
            "description_tooltip": null,
            "layout": "IPY_MODEL_2f83eb1430384dec93b7bc1138a2103a",
            "max": 46830571,
            "min": 0,
            "orientation": "horizontal",
            "style": "IPY_MODEL_03194f3331fd4c3ab6b96a4d9f0f73e2",
            "value": 46830571
          }
        },
        "dfac085059484d10b6f4963ef17cd700": {
          "model_module": "@jupyter-widgets/controls",
          "model_name": "HTMLModel",
          "model_module_version": "1.5.0",
          "state": {
            "_dom_classes": [],
            "_model_module": "@jupyter-widgets/controls",
            "_model_module_version": "1.5.0",
            "_model_name": "HTMLModel",
            "_view_count": null,
            "_view_module": "@jupyter-widgets/controls",
            "_view_module_version": "1.5.0",
            "_view_name": "HTMLView",
            "description": "",
            "description_tooltip": null,
            "layout": "IPY_MODEL_010ff1a9dae94b9096c1a0f9fcbf2fd5",
            "placeholder": "​",
            "style": "IPY_MODEL_dff149afeacc4495b110e95c1e886066",
            "value": " 44.7M/44.7M [00:01&lt;00:00, 25.7MB/s]"
          }
        },
        "51a815ccbb934468a97cd7834aa1dc90": {
          "model_module": "@jupyter-widgets/base",
          "model_name": "LayoutModel",
          "model_module_version": "1.2.0",
          "state": {
            "_model_module": "@jupyter-widgets/base",
            "_model_module_version": "1.2.0",
            "_model_name": "LayoutModel",
            "_view_count": null,
            "_view_module": "@jupyter-widgets/base",
            "_view_module_version": "1.2.0",
            "_view_name": "LayoutView",
            "align_content": null,
            "align_items": null,
            "align_self": null,
            "border": null,
            "bottom": null,
            "display": null,
            "flex": null,
            "flex_flow": null,
            "grid_area": null,
            "grid_auto_columns": null,
            "grid_auto_flow": null,
            "grid_auto_rows": null,
            "grid_column": null,
            "grid_gap": null,
            "grid_row": null,
            "grid_template_areas": null,
            "grid_template_columns": null,
            "grid_template_rows": null,
            "height": null,
            "justify_content": null,
            "justify_items": null,
            "left": null,
            "margin": null,
            "max_height": null,
            "max_width": null,
            "min_height": null,
            "min_width": null,
            "object_fit": null,
            "object_position": null,
            "order": null,
            "overflow": null,
            "overflow_x": null,
            "overflow_y": null,
            "padding": null,
            "right": null,
            "top": null,
            "visibility": null,
            "width": null
          }
        },
        "b4f66c50d7c048aa8198e4381c579369": {
          "model_module": "@jupyter-widgets/base",
          "model_name": "LayoutModel",
          "model_module_version": "1.2.0",
          "state": {
            "_model_module": "@jupyter-widgets/base",
            "_model_module_version": "1.2.0",
            "_model_name": "LayoutModel",
            "_view_count": null,
            "_view_module": "@jupyter-widgets/base",
            "_view_module_version": "1.2.0",
            "_view_name": "LayoutView",
            "align_content": null,
            "align_items": null,
            "align_self": null,
            "border": null,
            "bottom": null,
            "display": null,
            "flex": null,
            "flex_flow": null,
            "grid_area": null,
            "grid_auto_columns": null,
            "grid_auto_flow": null,
            "grid_auto_rows": null,
            "grid_column": null,
            "grid_gap": null,
            "grid_row": null,
            "grid_template_areas": null,
            "grid_template_columns": null,
            "grid_template_rows": null,
            "height": null,
            "justify_content": null,
            "justify_items": null,
            "left": null,
            "margin": null,
            "max_height": null,
            "max_width": null,
            "min_height": null,
            "min_width": null,
            "object_fit": null,
            "object_position": null,
            "order": null,
            "overflow": null,
            "overflow_x": null,
            "overflow_y": null,
            "padding": null,
            "right": null,
            "top": null,
            "visibility": null,
            "width": null
          }
        },
        "e788cb6a68c84fb0ad361ac07479f80f": {
          "model_module": "@jupyter-widgets/controls",
          "model_name": "DescriptionStyleModel",
          "model_module_version": "1.5.0",
          "state": {
            "_model_module": "@jupyter-widgets/controls",
            "_model_module_version": "1.5.0",
            "_model_name": "DescriptionStyleModel",
            "_view_count": null,
            "_view_module": "@jupyter-widgets/base",
            "_view_module_version": "1.2.0",
            "_view_name": "StyleView",
            "description_width": ""
          }
        },
        "2f83eb1430384dec93b7bc1138a2103a": {
          "model_module": "@jupyter-widgets/base",
          "model_name": "LayoutModel",
          "model_module_version": "1.2.0",
          "state": {
            "_model_module": "@jupyter-widgets/base",
            "_model_module_version": "1.2.0",
            "_model_name": "LayoutModel",
            "_view_count": null,
            "_view_module": "@jupyter-widgets/base",
            "_view_module_version": "1.2.0",
            "_view_name": "LayoutView",
            "align_content": null,
            "align_items": null,
            "align_self": null,
            "border": null,
            "bottom": null,
            "display": null,
            "flex": null,
            "flex_flow": null,
            "grid_area": null,
            "grid_auto_columns": null,
            "grid_auto_flow": null,
            "grid_auto_rows": null,
            "grid_column": null,
            "grid_gap": null,
            "grid_row": null,
            "grid_template_areas": null,
            "grid_template_columns": null,
            "grid_template_rows": null,
            "height": null,
            "justify_content": null,
            "justify_items": null,
            "left": null,
            "margin": null,
            "max_height": null,
            "max_width": null,
            "min_height": null,
            "min_width": null,
            "object_fit": null,
            "object_position": null,
            "order": null,
            "overflow": null,
            "overflow_x": null,
            "overflow_y": null,
            "padding": null,
            "right": null,
            "top": null,
            "visibility": null,
            "width": null
          }
        },
        "03194f3331fd4c3ab6b96a4d9f0f73e2": {
          "model_module": "@jupyter-widgets/controls",
          "model_name": "ProgressStyleModel",
          "model_module_version": "1.5.0",
          "state": {
            "_model_module": "@jupyter-widgets/controls",
            "_model_module_version": "1.5.0",
            "_model_name": "ProgressStyleModel",
            "_view_count": null,
            "_view_module": "@jupyter-widgets/base",
            "_view_module_version": "1.2.0",
            "_view_name": "StyleView",
            "bar_color": null,
            "description_width": ""
          }
        },
        "010ff1a9dae94b9096c1a0f9fcbf2fd5": {
          "model_module": "@jupyter-widgets/base",
          "model_name": "LayoutModel",
          "model_module_version": "1.2.0",
          "state": {
            "_model_module": "@jupyter-widgets/base",
            "_model_module_version": "1.2.0",
            "_model_name": "LayoutModel",
            "_view_count": null,
            "_view_module": "@jupyter-widgets/base",
            "_view_module_version": "1.2.0",
            "_view_name": "LayoutView",
            "align_content": null,
            "align_items": null,
            "align_self": null,
            "border": null,
            "bottom": null,
            "display": null,
            "flex": null,
            "flex_flow": null,
            "grid_area": null,
            "grid_auto_columns": null,
            "grid_auto_flow": null,
            "grid_auto_rows": null,
            "grid_column": null,
            "grid_gap": null,
            "grid_row": null,
            "grid_template_areas": null,
            "grid_template_columns": null,
            "grid_template_rows": null,
            "height": null,
            "justify_content": null,
            "justify_items": null,
            "left": null,
            "margin": null,
            "max_height": null,
            "max_width": null,
            "min_height": null,
            "min_width": null,
            "object_fit": null,
            "object_position": null,
            "order": null,
            "overflow": null,
            "overflow_x": null,
            "overflow_y": null,
            "padding": null,
            "right": null,
            "top": null,
            "visibility": null,
            "width": null
          }
        },
        "dff149afeacc4495b110e95c1e886066": {
          "model_module": "@jupyter-widgets/controls",
          "model_name": "DescriptionStyleModel",
          "model_module_version": "1.5.0",
          "state": {
            "_model_module": "@jupyter-widgets/controls",
            "_model_module_version": "1.5.0",
            "_model_name": "DescriptionStyleModel",
            "_view_count": null,
            "_view_module": "@jupyter-widgets/base",
            "_view_module_version": "1.2.0",
            "_view_name": "StyleView",
            "description_width": ""
          }
        },
        "345f5710d3ba470d8dc72711c8f6da8c": {
          "model_module": "@jupyter-widgets/controls",
          "model_name": "HBoxModel",
          "model_module_version": "1.5.0",
          "state": {
            "_dom_classes": [],
            "_model_module": "@jupyter-widgets/controls",
            "_model_module_version": "1.5.0",
            "_model_name": "HBoxModel",
            "_view_count": null,
            "_view_module": "@jupyter-widgets/controls",
            "_view_module_version": "1.5.0",
            "_view_name": "HBoxView",
            "box_style": "",
            "children": [
              "IPY_MODEL_fdd44da3c1214b7b9aaa29b50c1e8784",
              "IPY_MODEL_ef37e0bd73d8463a9d0d5dab39ac86c7",
              "IPY_MODEL_7505a64abe894af49897be743f485e80"
            ],
            "layout": "IPY_MODEL_9292b46dc42e45e8bbed048480c6bcf1"
          }
        },
        "fdd44da3c1214b7b9aaa29b50c1e8784": {
          "model_module": "@jupyter-widgets/controls",
          "model_name": "HTMLModel",
          "model_module_version": "1.5.0",
          "state": {
            "_dom_classes": [],
            "_model_module": "@jupyter-widgets/controls",
            "_model_module_version": "1.5.0",
            "_model_name": "HTMLModel",
            "_view_count": null,
            "_view_module": "@jupyter-widgets/controls",
            "_view_module_version": "1.5.0",
            "_view_name": "HTMLView",
            "description": "",
            "description_tooltip": null,
            "layout": "IPY_MODEL_72ccb020cce34c56aec6887b61208898",
            "placeholder": "​",
            "style": "IPY_MODEL_267b52e95b234e1cbf90cdf9afa0b734",
            "value": "100%"
          }
        },
        "ef37e0bd73d8463a9d0d5dab39ac86c7": {
          "model_module": "@jupyter-widgets/controls",
          "model_name": "FloatProgressModel",
          "model_module_version": "1.5.0",
          "state": {
            "_dom_classes": [],
            "_model_module": "@jupyter-widgets/controls",
            "_model_module_version": "1.5.0",
            "_model_name": "FloatProgressModel",
            "_view_count": null,
            "_view_module": "@jupyter-widgets/controls",
            "_view_module_version": "1.5.0",
            "_view_name": "ProgressView",
            "bar_style": "success",
            "description": "",
            "description_tooltip": null,
            "layout": "IPY_MODEL_77c2bc844b104a6495996a016348757c",
            "max": 102530333,
            "min": 0,
            "orientation": "horizontal",
            "style": "IPY_MODEL_77b55ac5fd3c4ef493ef2076170e9af7",
            "value": 102530333
          }
        },
        "7505a64abe894af49897be743f485e80": {
          "model_module": "@jupyter-widgets/controls",
          "model_name": "HTMLModel",
          "model_module_version": "1.5.0",
          "state": {
            "_dom_classes": [],
            "_model_module": "@jupyter-widgets/controls",
            "_model_module_version": "1.5.0",
            "_model_name": "HTMLModel",
            "_view_count": null,
            "_view_module": "@jupyter-widgets/controls",
            "_view_module_version": "1.5.0",
            "_view_name": "HTMLView",
            "description": "",
            "description_tooltip": null,
            "layout": "IPY_MODEL_5b60d65e217345d7acf9bfbcf1a0fdcf",
            "placeholder": "​",
            "style": "IPY_MODEL_deae379e6d3947329a5c9a5cc666059b",
            "value": " 97.8M/97.8M [00:05&lt;00:00, 14.2MB/s]"
          }
        },
        "9292b46dc42e45e8bbed048480c6bcf1": {
          "model_module": "@jupyter-widgets/base",
          "model_name": "LayoutModel",
          "model_module_version": "1.2.0",
          "state": {
            "_model_module": "@jupyter-widgets/base",
            "_model_module_version": "1.2.0",
            "_model_name": "LayoutModel",
            "_view_count": null,
            "_view_module": "@jupyter-widgets/base",
            "_view_module_version": "1.2.0",
            "_view_name": "LayoutView",
            "align_content": null,
            "align_items": null,
            "align_self": null,
            "border": null,
            "bottom": null,
            "display": null,
            "flex": null,
            "flex_flow": null,
            "grid_area": null,
            "grid_auto_columns": null,
            "grid_auto_flow": null,
            "grid_auto_rows": null,
            "grid_column": null,
            "grid_gap": null,
            "grid_row": null,
            "grid_template_areas": null,
            "grid_template_columns": null,
            "grid_template_rows": null,
            "height": null,
            "justify_content": null,
            "justify_items": null,
            "left": null,
            "margin": null,
            "max_height": null,
            "max_width": null,
            "min_height": null,
            "min_width": null,
            "object_fit": null,
            "object_position": null,
            "order": null,
            "overflow": null,
            "overflow_x": null,
            "overflow_y": null,
            "padding": null,
            "right": null,
            "top": null,
            "visibility": null,
            "width": null
          }
        },
        "72ccb020cce34c56aec6887b61208898": {
          "model_module": "@jupyter-widgets/base",
          "model_name": "LayoutModel",
          "model_module_version": "1.2.0",
          "state": {
            "_model_module": "@jupyter-widgets/base",
            "_model_module_version": "1.2.0",
            "_model_name": "LayoutModel",
            "_view_count": null,
            "_view_module": "@jupyter-widgets/base",
            "_view_module_version": "1.2.0",
            "_view_name": "LayoutView",
            "align_content": null,
            "align_items": null,
            "align_self": null,
            "border": null,
            "bottom": null,
            "display": null,
            "flex": null,
            "flex_flow": null,
            "grid_area": null,
            "grid_auto_columns": null,
            "grid_auto_flow": null,
            "grid_auto_rows": null,
            "grid_column": null,
            "grid_gap": null,
            "grid_row": null,
            "grid_template_areas": null,
            "grid_template_columns": null,
            "grid_template_rows": null,
            "height": null,
            "justify_content": null,
            "justify_items": null,
            "left": null,
            "margin": null,
            "max_height": null,
            "max_width": null,
            "min_height": null,
            "min_width": null,
            "object_fit": null,
            "object_position": null,
            "order": null,
            "overflow": null,
            "overflow_x": null,
            "overflow_y": null,
            "padding": null,
            "right": null,
            "top": null,
            "visibility": null,
            "width": null
          }
        },
        "267b52e95b234e1cbf90cdf9afa0b734": {
          "model_module": "@jupyter-widgets/controls",
          "model_name": "DescriptionStyleModel",
          "model_module_version": "1.5.0",
          "state": {
            "_model_module": "@jupyter-widgets/controls",
            "_model_module_version": "1.5.0",
            "_model_name": "DescriptionStyleModel",
            "_view_count": null,
            "_view_module": "@jupyter-widgets/base",
            "_view_module_version": "1.2.0",
            "_view_name": "StyleView",
            "description_width": ""
          }
        },
        "77c2bc844b104a6495996a016348757c": {
          "model_module": "@jupyter-widgets/base",
          "model_name": "LayoutModel",
          "model_module_version": "1.2.0",
          "state": {
            "_model_module": "@jupyter-widgets/base",
            "_model_module_version": "1.2.0",
            "_model_name": "LayoutModel",
            "_view_count": null,
            "_view_module": "@jupyter-widgets/base",
            "_view_module_version": "1.2.0",
            "_view_name": "LayoutView",
            "align_content": null,
            "align_items": null,
            "align_self": null,
            "border": null,
            "bottom": null,
            "display": null,
            "flex": null,
            "flex_flow": null,
            "grid_area": null,
            "grid_auto_columns": null,
            "grid_auto_flow": null,
            "grid_auto_rows": null,
            "grid_column": null,
            "grid_gap": null,
            "grid_row": null,
            "grid_template_areas": null,
            "grid_template_columns": null,
            "grid_template_rows": null,
            "height": null,
            "justify_content": null,
            "justify_items": null,
            "left": null,
            "margin": null,
            "max_height": null,
            "max_width": null,
            "min_height": null,
            "min_width": null,
            "object_fit": null,
            "object_position": null,
            "order": null,
            "overflow": null,
            "overflow_x": null,
            "overflow_y": null,
            "padding": null,
            "right": null,
            "top": null,
            "visibility": null,
            "width": null
          }
        },
        "77b55ac5fd3c4ef493ef2076170e9af7": {
          "model_module": "@jupyter-widgets/controls",
          "model_name": "ProgressStyleModel",
          "model_module_version": "1.5.0",
          "state": {
            "_model_module": "@jupyter-widgets/controls",
            "_model_module_version": "1.5.0",
            "_model_name": "ProgressStyleModel",
            "_view_count": null,
            "_view_module": "@jupyter-widgets/base",
            "_view_module_version": "1.2.0",
            "_view_name": "StyleView",
            "bar_color": null,
            "description_width": ""
          }
        },
        "5b60d65e217345d7acf9bfbcf1a0fdcf": {
          "model_module": "@jupyter-widgets/base",
          "model_name": "LayoutModel",
          "model_module_version": "1.2.0",
          "state": {
            "_model_module": "@jupyter-widgets/base",
            "_model_module_version": "1.2.0",
            "_model_name": "LayoutModel",
            "_view_count": null,
            "_view_module": "@jupyter-widgets/base",
            "_view_module_version": "1.2.0",
            "_view_name": "LayoutView",
            "align_content": null,
            "align_items": null,
            "align_self": null,
            "border": null,
            "bottom": null,
            "display": null,
            "flex": null,
            "flex_flow": null,
            "grid_area": null,
            "grid_auto_columns": null,
            "grid_auto_flow": null,
            "grid_auto_rows": null,
            "grid_column": null,
            "grid_gap": null,
            "grid_row": null,
            "grid_template_areas": null,
            "grid_template_columns": null,
            "grid_template_rows": null,
            "height": null,
            "justify_content": null,
            "justify_items": null,
            "left": null,
            "margin": null,
            "max_height": null,
            "max_width": null,
            "min_height": null,
            "min_width": null,
            "object_fit": null,
            "object_position": null,
            "order": null,
            "overflow": null,
            "overflow_x": null,
            "overflow_y": null,
            "padding": null,
            "right": null,
            "top": null,
            "visibility": null,
            "width": null
          }
        },
        "deae379e6d3947329a5c9a5cc666059b": {
          "model_module": "@jupyter-widgets/controls",
          "model_name": "DescriptionStyleModel",
          "model_module_version": "1.5.0",
          "state": {
            "_model_module": "@jupyter-widgets/controls",
            "_model_module_version": "1.5.0",
            "_model_name": "DescriptionStyleModel",
            "_view_count": null,
            "_view_module": "@jupyter-widgets/base",
            "_view_module_version": "1.2.0",
            "_view_name": "StyleView",
            "description_width": ""
          }
        },
        "722351fbb41d4131acb05e6dcb97ca06": {
          "model_module": "@jupyter-widgets/controls",
          "model_name": "HBoxModel",
          "model_module_version": "1.5.0",
          "state": {
            "_dom_classes": [],
            "_model_module": "@jupyter-widgets/controls",
            "_model_module_version": "1.5.0",
            "_model_name": "HBoxModel",
            "_view_count": null,
            "_view_module": "@jupyter-widgets/controls",
            "_view_module_version": "1.5.0",
            "_view_name": "HBoxView",
            "box_style": "",
            "children": [
              "IPY_MODEL_12569d6b573a4b88a23e7e845a4430a2",
              "IPY_MODEL_3ba519d2374b4912a94e4a121fa2f48e",
              "IPY_MODEL_10e2ea5d27f242f6bebcaec497850157"
            ],
            "layout": "IPY_MODEL_56d76b8914b74e85a3eb69c93b490b63"
          }
        },
        "12569d6b573a4b88a23e7e845a4430a2": {
          "model_module": "@jupyter-widgets/controls",
          "model_name": "HTMLModel",
          "model_module_version": "1.5.0",
          "state": {
            "_dom_classes": [],
            "_model_module": "@jupyter-widgets/controls",
            "_model_module_version": "1.5.0",
            "_model_name": "HTMLModel",
            "_view_count": null,
            "_view_module": "@jupyter-widgets/controls",
            "_view_module_version": "1.5.0",
            "_view_name": "HTMLView",
            "description": "",
            "description_tooltip": null,
            "layout": "IPY_MODEL_89e179c9a66f4a57aa04571810b7a97d",
            "placeholder": "​",
            "style": "IPY_MODEL_0f3edc2c9fa0426eba78dc45a0733259",
            "value": "100%"
          }
        },
        "3ba519d2374b4912a94e4a121fa2f48e": {
          "model_module": "@jupyter-widgets/controls",
          "model_name": "FloatProgressModel",
          "model_module_version": "1.5.0",
          "state": {
            "_dom_classes": [],
            "_model_module": "@jupyter-widgets/controls",
            "_model_module_version": "1.5.0",
            "_model_name": "FloatProgressModel",
            "_view_count": null,
            "_view_module": "@jupyter-widgets/controls",
            "_view_module_version": "1.5.0",
            "_view_name": "ProgressView",
            "bar_style": "success",
            "description": "",
            "description_tooltip": null,
            "layout": "IPY_MODEL_582380f5752b447aa52b601f4011756b",
            "max": 32342954,
            "min": 0,
            "orientation": "horizontal",
            "style": "IPY_MODEL_40dac0d451284a4c9157e4fe25180f18",
            "value": 32342954
          }
        },
        "10e2ea5d27f242f6bebcaec497850157": {
          "model_module": "@jupyter-widgets/controls",
          "model_name": "HTMLModel",
          "model_module_version": "1.5.0",
          "state": {
            "_dom_classes": [],
            "_model_module": "@jupyter-widgets/controls",
            "_model_module_version": "1.5.0",
            "_model_name": "HTMLModel",
            "_view_count": null,
            "_view_module": "@jupyter-widgets/controls",
            "_view_module_version": "1.5.0",
            "_view_name": "HTMLView",
            "description": "",
            "description_tooltip": null,
            "layout": "IPY_MODEL_423651b10f46447e9c11a1a9da4f8f85",
            "placeholder": "​",
            "style": "IPY_MODEL_9179523fe01a4f04ae1f9842c18c0a97",
            "value": " 30.8M/30.8M [00:00&lt;00:00, 107MB/s]"
          }
        },
        "56d76b8914b74e85a3eb69c93b490b63": {
          "model_module": "@jupyter-widgets/base",
          "model_name": "LayoutModel",
          "model_module_version": "1.2.0",
          "state": {
            "_model_module": "@jupyter-widgets/base",
            "_model_module_version": "1.2.0",
            "_model_name": "LayoutModel",
            "_view_count": null,
            "_view_module": "@jupyter-widgets/base",
            "_view_module_version": "1.2.0",
            "_view_name": "LayoutView",
            "align_content": null,
            "align_items": null,
            "align_self": null,
            "border": null,
            "bottom": null,
            "display": null,
            "flex": null,
            "flex_flow": null,
            "grid_area": null,
            "grid_auto_columns": null,
            "grid_auto_flow": null,
            "grid_auto_rows": null,
            "grid_column": null,
            "grid_gap": null,
            "grid_row": null,
            "grid_template_areas": null,
            "grid_template_columns": null,
            "grid_template_rows": null,
            "height": null,
            "justify_content": null,
            "justify_items": null,
            "left": null,
            "margin": null,
            "max_height": null,
            "max_width": null,
            "min_height": null,
            "min_width": null,
            "object_fit": null,
            "object_position": null,
            "order": null,
            "overflow": null,
            "overflow_x": null,
            "overflow_y": null,
            "padding": null,
            "right": null,
            "top": null,
            "visibility": null,
            "width": null
          }
        },
        "89e179c9a66f4a57aa04571810b7a97d": {
          "model_module": "@jupyter-widgets/base",
          "model_name": "LayoutModel",
          "model_module_version": "1.2.0",
          "state": {
            "_model_module": "@jupyter-widgets/base",
            "_model_module_version": "1.2.0",
            "_model_name": "LayoutModel",
            "_view_count": null,
            "_view_module": "@jupyter-widgets/base",
            "_view_module_version": "1.2.0",
            "_view_name": "LayoutView",
            "align_content": null,
            "align_items": null,
            "align_self": null,
            "border": null,
            "bottom": null,
            "display": null,
            "flex": null,
            "flex_flow": null,
            "grid_area": null,
            "grid_auto_columns": null,
            "grid_auto_flow": null,
            "grid_auto_rows": null,
            "grid_column": null,
            "grid_gap": null,
            "grid_row": null,
            "grid_template_areas": null,
            "grid_template_columns": null,
            "grid_template_rows": null,
            "height": null,
            "justify_content": null,
            "justify_items": null,
            "left": null,
            "margin": null,
            "max_height": null,
            "max_width": null,
            "min_height": null,
            "min_width": null,
            "object_fit": null,
            "object_position": null,
            "order": null,
            "overflow": null,
            "overflow_x": null,
            "overflow_y": null,
            "padding": null,
            "right": null,
            "top": null,
            "visibility": null,
            "width": null
          }
        },
        "0f3edc2c9fa0426eba78dc45a0733259": {
          "model_module": "@jupyter-widgets/controls",
          "model_name": "DescriptionStyleModel",
          "model_module_version": "1.5.0",
          "state": {
            "_model_module": "@jupyter-widgets/controls",
            "_model_module_version": "1.5.0",
            "_model_name": "DescriptionStyleModel",
            "_view_count": null,
            "_view_module": "@jupyter-widgets/base",
            "_view_module_version": "1.2.0",
            "_view_name": "StyleView",
            "description_width": ""
          }
        },
        "582380f5752b447aa52b601f4011756b": {
          "model_module": "@jupyter-widgets/base",
          "model_name": "LayoutModel",
          "model_module_version": "1.2.0",
          "state": {
            "_model_module": "@jupyter-widgets/base",
            "_model_module_version": "1.2.0",
            "_model_name": "LayoutModel",
            "_view_count": null,
            "_view_module": "@jupyter-widgets/base",
            "_view_module_version": "1.2.0",
            "_view_name": "LayoutView",
            "align_content": null,
            "align_items": null,
            "align_self": null,
            "border": null,
            "bottom": null,
            "display": null,
            "flex": null,
            "flex_flow": null,
            "grid_area": null,
            "grid_auto_columns": null,
            "grid_auto_flow": null,
            "grid_auto_rows": null,
            "grid_column": null,
            "grid_gap": null,
            "grid_row": null,
            "grid_template_areas": null,
            "grid_template_columns": null,
            "grid_template_rows": null,
            "height": null,
            "justify_content": null,
            "justify_items": null,
            "left": null,
            "margin": null,
            "max_height": null,
            "max_width": null,
            "min_height": null,
            "min_width": null,
            "object_fit": null,
            "object_position": null,
            "order": null,
            "overflow": null,
            "overflow_x": null,
            "overflow_y": null,
            "padding": null,
            "right": null,
            "top": null,
            "visibility": null,
            "width": null
          }
        },
        "40dac0d451284a4c9157e4fe25180f18": {
          "model_module": "@jupyter-widgets/controls",
          "model_name": "ProgressStyleModel",
          "model_module_version": "1.5.0",
          "state": {
            "_model_module": "@jupyter-widgets/controls",
            "_model_module_version": "1.5.0",
            "_model_name": "ProgressStyleModel",
            "_view_count": null,
            "_view_module": "@jupyter-widgets/base",
            "_view_module_version": "1.2.0",
            "_view_name": "StyleView",
            "bar_color": null,
            "description_width": ""
          }
        },
        "423651b10f46447e9c11a1a9da4f8f85": {
          "model_module": "@jupyter-widgets/base",
          "model_name": "LayoutModel",
          "model_module_version": "1.2.0",
          "state": {
            "_model_module": "@jupyter-widgets/base",
            "_model_module_version": "1.2.0",
            "_model_name": "LayoutModel",
            "_view_count": null,
            "_view_module": "@jupyter-widgets/base",
            "_view_module_version": "1.2.0",
            "_view_name": "LayoutView",
            "align_content": null,
            "align_items": null,
            "align_self": null,
            "border": null,
            "bottom": null,
            "display": null,
            "flex": null,
            "flex_flow": null,
            "grid_area": null,
            "grid_auto_columns": null,
            "grid_auto_flow": null,
            "grid_auto_rows": null,
            "grid_column": null,
            "grid_gap": null,
            "grid_row": null,
            "grid_template_areas": null,
            "grid_template_columns": null,
            "grid_template_rows": null,
            "height": null,
            "justify_content": null,
            "justify_items": null,
            "left": null,
            "margin": null,
            "max_height": null,
            "max_width": null,
            "min_height": null,
            "min_width": null,
            "object_fit": null,
            "object_position": null,
            "order": null,
            "overflow": null,
            "overflow_x": null,
            "overflow_y": null,
            "padding": null,
            "right": null,
            "top": null,
            "visibility": null,
            "width": null
          }
        },
        "9179523fe01a4f04ae1f9842c18c0a97": {
          "model_module": "@jupyter-widgets/controls",
          "model_name": "DescriptionStyleModel",
          "model_module_version": "1.5.0",
          "state": {
            "_model_module": "@jupyter-widgets/controls",
            "_model_module_version": "1.5.0",
            "_model_name": "DescriptionStyleModel",
            "_view_count": null,
            "_view_module": "@jupyter-widgets/base",
            "_view_module_version": "1.2.0",
            "_view_name": "StyleView",
            "description_width": ""
          }
        }
      }
    }
  },
  "cells": [
    {
      "cell_type": "markdown",
      "metadata": {
        "id": "view-in-github",
        "colab_type": "text"
      },
      "source": [
        "<a href=\"https://colab.research.google.com/github/csabot3/liverAItutorial/blob/main/Lesson4_Part1_Neural_Networks_Revisited_Colab.ipynb\" target=\"_parent\"><img src=\"https://colab.research.google.com/assets/colab-badge.svg\" alt=\"Open In Colab\"/></a>"
      ]
    },
    {
      "cell_type": "markdown",
      "source": [
        "# Lesson 4, Part 1: Neural Networks Revisited\n",
        "\n",
        "In lesson 2, we emphasized practical implementation of U-nets for segmentation of liver CT and MRI data but we did not deeply explore some of the fundamental aspects involved with training and understanding neural network models. \n",
        "\n",
        "In this lesson, which is divided into multiple parts, we will re-examine neural network training with FastAI. We will again use the CHAOS dataset but instead of focusing on organ segmentation, we will instead investigate classification. We will place additional emphasis this time on details such as our choice of neural network model architecture, the learning rate, the loss function, the optimizer, and image augmentations."
      ],
      "metadata": {
        "id": "vUVV4mGdTXOO"
      }
    },
    {
      "cell_type": "code",
      "execution_count": 1,
      "metadata": {
        "colab": {
          "base_uri": "https://localhost:8080/"
        },
        "id": "UvcZkfL7TWyP",
        "outputId": "909cfa97-59eb-4966-a578-befba39d6be0"
      },
      "outputs": [
        {
          "output_type": "stream",
          "name": "stdout",
          "text": [
            "Collecting pydicom\n",
            "  Downloading pydicom-2.3.0-py3-none-any.whl (2.0 MB)\n",
            "\u001b[?25l\r\u001b[K     |▏                               | 10 kB 3.7 MB/s eta 0:00:01\r\u001b[K     |▍                               | 20 kB 6.5 MB/s eta 0:00:01\r\u001b[K     |▌                               | 30 kB 9.2 MB/s eta 0:00:01\r\u001b[K     |▊                               | 40 kB 9.9 MB/s eta 0:00:01\r\u001b[K     |▉                               | 51 kB 11.0 MB/s eta 0:00:01\r\u001b[K     |█                               | 61 kB 12.8 MB/s eta 0:00:01\r\u001b[K     |█▏                              | 71 kB 12.6 MB/s eta 0:00:01\r\u001b[K     |█▍                              | 81 kB 13.8 MB/s eta 0:00:01\r\u001b[K     |█▌                              | 92 kB 15.2 MB/s eta 0:00:01\r\u001b[K     |█▊                              | 102 kB 16.0 MB/s eta 0:00:01\r\u001b[K     |█▉                              | 112 kB 16.0 MB/s eta 0:00:01\r\u001b[K     |██                              | 122 kB 16.0 MB/s eta 0:00:01\r\u001b[K     |██▏                             | 133 kB 16.0 MB/s eta 0:00:01\r\u001b[K     |██▍                             | 143 kB 16.0 MB/s eta 0:00:01\r\u001b[K     |██▌                             | 153 kB 16.0 MB/s eta 0:00:01\r\u001b[K     |██▊                             | 163 kB 16.0 MB/s eta 0:00:01\r\u001b[K     |██▉                             | 174 kB 16.0 MB/s eta 0:00:01\r\u001b[K     |███                             | 184 kB 16.0 MB/s eta 0:00:01\r\u001b[K     |███▏                            | 194 kB 16.0 MB/s eta 0:00:01\r\u001b[K     |███▍                            | 204 kB 16.0 MB/s eta 0:00:01\r\u001b[K     |███▌                            | 215 kB 16.0 MB/s eta 0:00:01\r\u001b[K     |███▊                            | 225 kB 16.0 MB/s eta 0:00:01\r\u001b[K     |███▉                            | 235 kB 16.0 MB/s eta 0:00:01\r\u001b[K     |████                            | 245 kB 16.0 MB/s eta 0:00:01\r\u001b[K     |████▏                           | 256 kB 16.0 MB/s eta 0:00:01\r\u001b[K     |████▍                           | 266 kB 16.0 MB/s eta 0:00:01\r\u001b[K     |████▌                           | 276 kB 16.0 MB/s eta 0:00:01\r\u001b[K     |████▊                           | 286 kB 16.0 MB/s eta 0:00:01\r\u001b[K     |████▉                           | 296 kB 16.0 MB/s eta 0:00:01\r\u001b[K     |█████                           | 307 kB 16.0 MB/s eta 0:00:01\r\u001b[K     |█████▏                          | 317 kB 16.0 MB/s eta 0:00:01\r\u001b[K     |█████▍                          | 327 kB 16.0 MB/s eta 0:00:01\r\u001b[K     |█████▌                          | 337 kB 16.0 MB/s eta 0:00:01\r\u001b[K     |█████▊                          | 348 kB 16.0 MB/s eta 0:00:01\r\u001b[K     |█████▉                          | 358 kB 16.0 MB/s eta 0:00:01\r\u001b[K     |██████                          | 368 kB 16.0 MB/s eta 0:00:01\r\u001b[K     |██████▏                         | 378 kB 16.0 MB/s eta 0:00:01\r\u001b[K     |██████▍                         | 389 kB 16.0 MB/s eta 0:00:01\r\u001b[K     |██████▌                         | 399 kB 16.0 MB/s eta 0:00:01\r\u001b[K     |██████▊                         | 409 kB 16.0 MB/s eta 0:00:01\r\u001b[K     |██████▉                         | 419 kB 16.0 MB/s eta 0:00:01\r\u001b[K     |███████                         | 430 kB 16.0 MB/s eta 0:00:01\r\u001b[K     |███████▏                        | 440 kB 16.0 MB/s eta 0:00:01\r\u001b[K     |███████▍                        | 450 kB 16.0 MB/s eta 0:00:01\r\u001b[K     |███████▌                        | 460 kB 16.0 MB/s eta 0:00:01\r\u001b[K     |███████▊                        | 471 kB 16.0 MB/s eta 0:00:01\r\u001b[K     |███████▉                        | 481 kB 16.0 MB/s eta 0:00:01\r\u001b[K     |████████                        | 491 kB 16.0 MB/s eta 0:00:01\r\u001b[K     |████████▏                       | 501 kB 16.0 MB/s eta 0:00:01\r\u001b[K     |████████▍                       | 512 kB 16.0 MB/s eta 0:00:01\r\u001b[K     |████████▌                       | 522 kB 16.0 MB/s eta 0:00:01\r\u001b[K     |████████▊                       | 532 kB 16.0 MB/s eta 0:00:01\r\u001b[K     |████████▉                       | 542 kB 16.0 MB/s eta 0:00:01\r\u001b[K     |█████████                       | 552 kB 16.0 MB/s eta 0:00:01\r\u001b[K     |█████████▏                      | 563 kB 16.0 MB/s eta 0:00:01\r\u001b[K     |█████████▍                      | 573 kB 16.0 MB/s eta 0:00:01\r\u001b[K     |█████████▌                      | 583 kB 16.0 MB/s eta 0:00:01\r\u001b[K     |█████████▊                      | 593 kB 16.0 MB/s eta 0:00:01\r\u001b[K     |█████████▉                      | 604 kB 16.0 MB/s eta 0:00:01\r\u001b[K     |██████████                      | 614 kB 16.0 MB/s eta 0:00:01\r\u001b[K     |██████████▏                     | 624 kB 16.0 MB/s eta 0:00:01\r\u001b[K     |██████████▍                     | 634 kB 16.0 MB/s eta 0:00:01\r\u001b[K     |██████████▌                     | 645 kB 16.0 MB/s eta 0:00:01\r\u001b[K     |██████████▊                     | 655 kB 16.0 MB/s eta 0:00:01\r\u001b[K     |██████████▉                     | 665 kB 16.0 MB/s eta 0:00:01\r\u001b[K     |███████████                     | 675 kB 16.0 MB/s eta 0:00:01\r\u001b[K     |███████████▏                    | 686 kB 16.0 MB/s eta 0:00:01\r\u001b[K     |███████████▍                    | 696 kB 16.0 MB/s eta 0:00:01\r\u001b[K     |███████████▌                    | 706 kB 16.0 MB/s eta 0:00:01\r\u001b[K     |███████████▊                    | 716 kB 16.0 MB/s eta 0:00:01\r\u001b[K     |███████████▉                    | 727 kB 16.0 MB/s eta 0:00:01\r\u001b[K     |████████████                    | 737 kB 16.0 MB/s eta 0:00:01\r\u001b[K     |████████████▏                   | 747 kB 16.0 MB/s eta 0:00:01\r\u001b[K     |████████████▍                   | 757 kB 16.0 MB/s eta 0:00:01\r\u001b[K     |████████████▌                   | 768 kB 16.0 MB/s eta 0:00:01\r\u001b[K     |████████████▊                   | 778 kB 16.0 MB/s eta 0:00:01\r\u001b[K     |████████████▉                   | 788 kB 16.0 MB/s eta 0:00:01\r\u001b[K     |█████████████                   | 798 kB 16.0 MB/s eta 0:00:01\r\u001b[K     |█████████████▏                  | 808 kB 16.0 MB/s eta 0:00:01\r\u001b[K     |█████████████▍                  | 819 kB 16.0 MB/s eta 0:00:01\r\u001b[K     |█████████████▌                  | 829 kB 16.0 MB/s eta 0:00:01\r\u001b[K     |█████████████▊                  | 839 kB 16.0 MB/s eta 0:00:01\r\u001b[K     |█████████████▉                  | 849 kB 16.0 MB/s eta 0:00:01\r\u001b[K     |██████████████                  | 860 kB 16.0 MB/s eta 0:00:01\r\u001b[K     |██████████████▏                 | 870 kB 16.0 MB/s eta 0:00:01\r\u001b[K     |██████████████▍                 | 880 kB 16.0 MB/s eta 0:00:01\r\u001b[K     |██████████████▌                 | 890 kB 16.0 MB/s eta 0:00:01\r\u001b[K     |██████████████▊                 | 901 kB 16.0 MB/s eta 0:00:01\r\u001b[K     |██████████████▉                 | 911 kB 16.0 MB/s eta 0:00:01\r\u001b[K     |███████████████                 | 921 kB 16.0 MB/s eta 0:00:01\r\u001b[K     |███████████████▏                | 931 kB 16.0 MB/s eta 0:00:01\r\u001b[K     |███████████████▍                | 942 kB 16.0 MB/s eta 0:00:01\r\u001b[K     |███████████████▌                | 952 kB 16.0 MB/s eta 0:00:01\r\u001b[K     |███████████████▊                | 962 kB 16.0 MB/s eta 0:00:01\r\u001b[K     |███████████████▉                | 972 kB 16.0 MB/s eta 0:00:01\r\u001b[K     |████████████████                | 983 kB 16.0 MB/s eta 0:00:01\r\u001b[K     |████████████████▏               | 993 kB 16.0 MB/s eta 0:00:01\r\u001b[K     |████████████████▍               | 1.0 MB 16.0 MB/s eta 0:00:01\r\u001b[K     |████████████████▌               | 1.0 MB 16.0 MB/s eta 0:00:01\r\u001b[K     |████████████████▊               | 1.0 MB 16.0 MB/s eta 0:00:01\r\u001b[K     |████████████████▉               | 1.0 MB 16.0 MB/s eta 0:00:01\r\u001b[K     |█████████████████               | 1.0 MB 16.0 MB/s eta 0:00:01\r\u001b[K     |█████████████████▏              | 1.1 MB 16.0 MB/s eta 0:00:01\r\u001b[K     |█████████████████▍              | 1.1 MB 16.0 MB/s eta 0:00:01\r\u001b[K     |█████████████████▌              | 1.1 MB 16.0 MB/s eta 0:00:01\r\u001b[K     |█████████████████▊              | 1.1 MB 16.0 MB/s eta 0:00:01\r\u001b[K     |█████████████████▉              | 1.1 MB 16.0 MB/s eta 0:00:01\r\u001b[K     |██████████████████              | 1.1 MB 16.0 MB/s eta 0:00:01\r\u001b[K     |██████████████████▏             | 1.1 MB 16.0 MB/s eta 0:00:01\r\u001b[K     |██████████████████▍             | 1.1 MB 16.0 MB/s eta 0:00:01\r\u001b[K     |██████████████████▌             | 1.1 MB 16.0 MB/s eta 0:00:01\r\u001b[K     |██████████████████▊             | 1.1 MB 16.0 MB/s eta 0:00:01\r\u001b[K     |██████████████████▉             | 1.2 MB 16.0 MB/s eta 0:00:01\r\u001b[K     |███████████████████             | 1.2 MB 16.0 MB/s eta 0:00:01\r\u001b[K     |███████████████████▏            | 1.2 MB 16.0 MB/s eta 0:00:01\r\u001b[K     |███████████████████▍            | 1.2 MB 16.0 MB/s eta 0:00:01\r\u001b[K     |███████████████████▌            | 1.2 MB 16.0 MB/s eta 0:00:01\r\u001b[K     |███████████████████▊            | 1.2 MB 16.0 MB/s eta 0:00:01\r\u001b[K     |███████████████████▉            | 1.2 MB 16.0 MB/s eta 0:00:01\r\u001b[K     |████████████████████            | 1.2 MB 16.0 MB/s eta 0:00:01\r\u001b[K     |████████████████████▏           | 1.2 MB 16.0 MB/s eta 0:00:01\r\u001b[K     |████████████████████▍           | 1.2 MB 16.0 MB/s eta 0:00:01\r\u001b[K     |████████████████████▌           | 1.3 MB 16.0 MB/s eta 0:00:01\r\u001b[K     |████████████████████▊           | 1.3 MB 16.0 MB/s eta 0:00:01\r\u001b[K     |████████████████████▉           | 1.3 MB 16.0 MB/s eta 0:00:01\r\u001b[K     |█████████████████████           | 1.3 MB 16.0 MB/s eta 0:00:01\r\u001b[K     |█████████████████████▏          | 1.3 MB 16.0 MB/s eta 0:00:01\r\u001b[K     |█████████████████████▍          | 1.3 MB 16.0 MB/s eta 0:00:01\r\u001b[K     |█████████████████████▌          | 1.3 MB 16.0 MB/s eta 0:00:01\r\u001b[K     |█████████████████████▊          | 1.3 MB 16.0 MB/s eta 0:00:01\r\u001b[K     |█████████████████████▉          | 1.3 MB 16.0 MB/s eta 0:00:01\r\u001b[K     |██████████████████████          | 1.4 MB 16.0 MB/s eta 0:00:01\r\u001b[K     |██████████████████████▏         | 1.4 MB 16.0 MB/s eta 0:00:01\r\u001b[K     |██████████████████████▍         | 1.4 MB 16.0 MB/s eta 0:00:01\r\u001b[K     |██████████████████████▌         | 1.4 MB 16.0 MB/s eta 0:00:01\r\u001b[K     |██████████████████████▊         | 1.4 MB 16.0 MB/s eta 0:00:01\r\u001b[K     |██████████████████████▉         | 1.4 MB 16.0 MB/s eta 0:00:01\r\u001b[K     |███████████████████████         | 1.4 MB 16.0 MB/s eta 0:00:01\r\u001b[K     |███████████████████████▏        | 1.4 MB 16.0 MB/s eta 0:00:01\r\u001b[K     |███████████████████████▍        | 1.4 MB 16.0 MB/s eta 0:00:01\r\u001b[K     |███████████████████████▌        | 1.4 MB 16.0 MB/s eta 0:00:01\r\u001b[K     |███████████████████████▊        | 1.5 MB 16.0 MB/s eta 0:00:01\r\u001b[K     |███████████████████████▉        | 1.5 MB 16.0 MB/s eta 0:00:01\r\u001b[K     |████████████████████████        | 1.5 MB 16.0 MB/s eta 0:00:01\r\u001b[K     |████████████████████████▏       | 1.5 MB 16.0 MB/s eta 0:00:01\r\u001b[K     |████████████████████████▍       | 1.5 MB 16.0 MB/s eta 0:00:01\r\u001b[K     |████████████████████████▌       | 1.5 MB 16.0 MB/s eta 0:00:01\r\u001b[K     |████████████████████████▊       | 1.5 MB 16.0 MB/s eta 0:00:01\r\u001b[K     |████████████████████████▉       | 1.5 MB 16.0 MB/s eta 0:00:01\r\u001b[K     |█████████████████████████       | 1.5 MB 16.0 MB/s eta 0:00:01\r\u001b[K     |█████████████████████████▏      | 1.5 MB 16.0 MB/s eta 0:00:01\r\u001b[K     |█████████████████████████▍      | 1.6 MB 16.0 MB/s eta 0:00:01\r\u001b[K     |█████████████████████████▌      | 1.6 MB 16.0 MB/s eta 0:00:01\r\u001b[K     |█████████████████████████▊      | 1.6 MB 16.0 MB/s eta 0:00:01\r\u001b[K     |█████████████████████████▉      | 1.6 MB 16.0 MB/s eta 0:00:01\r\u001b[K     |██████████████████████████      | 1.6 MB 16.0 MB/s eta 0:00:01\r\u001b[K     |██████████████████████████▏     | 1.6 MB 16.0 MB/s eta 0:00:01\r\u001b[K     |██████████████████████████▍     | 1.6 MB 16.0 MB/s eta 0:00:01\r\u001b[K     |██████████████████████████▌     | 1.6 MB 16.0 MB/s eta 0:00:01\r\u001b[K     |██████████████████████████▊     | 1.6 MB 16.0 MB/s eta 0:00:01\r\u001b[K     |██████████████████████████▉     | 1.6 MB 16.0 MB/s eta 0:00:01\r\u001b[K     |███████████████████████████     | 1.7 MB 16.0 MB/s eta 0:00:01\r\u001b[K     |███████████████████████████▏    | 1.7 MB 16.0 MB/s eta 0:00:01\r\u001b[K     |███████████████████████████▍    | 1.7 MB 16.0 MB/s eta 0:00:01\r\u001b[K     |███████████████████████████▌    | 1.7 MB 16.0 MB/s eta 0:00:01\r\u001b[K     |███████████████████████████▊    | 1.7 MB 16.0 MB/s eta 0:00:01\r\u001b[K     |███████████████████████████▉    | 1.7 MB 16.0 MB/s eta 0:00:01\r\u001b[K     |████████████████████████████    | 1.7 MB 16.0 MB/s eta 0:00:01\r\u001b[K     |████████████████████████████▏   | 1.7 MB 16.0 MB/s eta 0:00:01\r\u001b[K     |████████████████████████████▍   | 1.7 MB 16.0 MB/s eta 0:00:01\r\u001b[K     |████████████████████████████▌   | 1.8 MB 16.0 MB/s eta 0:00:01\r\u001b[K     |████████████████████████████▊   | 1.8 MB 16.0 MB/s eta 0:00:01\r\u001b[K     |████████████████████████████▉   | 1.8 MB 16.0 MB/s eta 0:00:01\r\u001b[K     |█████████████████████████████   | 1.8 MB 16.0 MB/s eta 0:00:01\r\u001b[K     |█████████████████████████████▏  | 1.8 MB 16.0 MB/s eta 0:00:01\r\u001b[K     |█████████████████████████████▍  | 1.8 MB 16.0 MB/s eta 0:00:01\r\u001b[K     |█████████████████████████████▌  | 1.8 MB 16.0 MB/s eta 0:00:01\r\u001b[K     |█████████████████████████████▊  | 1.8 MB 16.0 MB/s eta 0:00:01\r\u001b[K     |█████████████████████████████▉  | 1.8 MB 16.0 MB/s eta 0:00:01\r\u001b[K     |██████████████████████████████  | 1.8 MB 16.0 MB/s eta 0:00:01\r\u001b[K     |██████████████████████████████▏ | 1.9 MB 16.0 MB/s eta 0:00:01\r\u001b[K     |██████████████████████████████▍ | 1.9 MB 16.0 MB/s eta 0:00:01\r\u001b[K     |██████████████████████████████▌ | 1.9 MB 16.0 MB/s eta 0:00:01\r\u001b[K     |██████████████████████████████▊ | 1.9 MB 16.0 MB/s eta 0:00:01\r\u001b[K     |██████████████████████████████▉ | 1.9 MB 16.0 MB/s eta 0:00:01\r\u001b[K     |███████████████████████████████ | 1.9 MB 16.0 MB/s eta 0:00:01\r\u001b[K     |███████████████████████████████▏| 1.9 MB 16.0 MB/s eta 0:00:01\r\u001b[K     |███████████████████████████████▍| 1.9 MB 16.0 MB/s eta 0:00:01\r\u001b[K     |███████████████████████████████▌| 1.9 MB 16.0 MB/s eta 0:00:01\r\u001b[K     |███████████████████████████████▊| 1.9 MB 16.0 MB/s eta 0:00:01\r\u001b[K     |███████████████████████████████▉| 2.0 MB 16.0 MB/s eta 0:00:01\r\u001b[K     |████████████████████████████████| 2.0 MB 16.0 MB/s \n",
            "\u001b[?25hInstalling collected packages: pydicom\n",
            "Successfully installed pydicom-2.3.0\n",
            "Selecting previously unselected package pv.\n",
            "(Reading database ... 155455 files and directories currently installed.)\n",
            "Preparing to unpack .../archives/pv_1.6.6-1_amd64.deb ...\n",
            "Unpacking pv (1.6.6-1) ...\n",
            "Setting up pv (1.6.6-1) ...\n",
            "Processing triggers for man-db (2.8.3-2ubuntu0.1) ...\n",
            "\u001b[K     |████████████████████████████████| 188 kB 34.3 MB/s \n",
            "\u001b[K     |████████████████████████████████| 60 kB 8.8 MB/s \n",
            "\u001b[?25h"
          ]
        }
      ],
      "source": [
        "#Import libraries/packages\n",
        "\n",
        "!pip install pydicom #Not in Colab by default\n",
        "!apt-get -qq install pv #Progress bar, also not in Colab\n",
        "\n",
        "#Now we will import several parts of the FastAI library\n",
        "\n",
        "!pip install fastai --upgrade -q\n",
        "\n",
        "from IPython.display import display,HTML\n",
        "\n",
        "from fastai.vision.all import *\n",
        "from fastcore.xtras import Path\n",
        "from fastai.callback.hook import summary\n",
        "from fastai.callback.progress import ProgressCallback\n",
        "from fastai.callback.schedule import lr_find, fit_flat_cos\n",
        "\n",
        "from fastai.data.block import DataBlock\n",
        "from fastai.data.external import untar_data, URLs\n",
        "from fastai.data.transforms import get_image_files, FuncSplitter, Normalize\n",
        "\n",
        "from fastai.layers import Mish\n",
        "from fastai.losses import BaseLoss\n",
        "from fastai.optimizer import ranger\n",
        "\n",
        "from fastai.torch_core import tensor\n",
        "\n",
        "from fastai.vision.augment import aug_transforms\n",
        "from fastai.vision.core import PILImage, PILMask\n",
        "from fastai.vision.data import ImageBlock, MaskBlock, imagenet_stats\n",
        "from fastai.vision.learner import unet_learner\n",
        "\n",
        "from PIL import Image\n",
        "import numpy as np\n",
        "\n",
        "from torch import nn\n",
        "from torchvision.models.resnet import resnet34\n",
        "\n",
        "import torch\n",
        "import torch.nn.functional as F\n",
        "\n",
        "import os\n",
        "import shutil\n",
        "import pydicom\n",
        "import matplotlib.pyplot as plt\n",
        "import matplotlib.image as mpimg\n",
        "import torch\n",
        "import numpy as np\n",
        "from pathlib import Path\n",
        "import pandas as pd\n",
        "import glob\n",
        "import sys"
      ]
    },
    {
      "cell_type": "code",
      "source": [
        "#Check the GPU - we need a GPU runtime\n",
        "\n",
        "!nvidia-smi"
      ],
      "metadata": {
        "colab": {
          "base_uri": "https://localhost:8080/"
        },
        "id": "VUeuM_HJ4Oia",
        "outputId": "7e077b09-2b08-40be-ef33-ed422bbdf5ef"
      },
      "execution_count": 2,
      "outputs": [
        {
          "output_type": "stream",
          "name": "stdout",
          "text": [
            "Thu Apr 14 23:23:38 2022       \n",
            "+-----------------------------------------------------------------------------+\n",
            "| NVIDIA-SMI 460.32.03    Driver Version: 460.32.03    CUDA Version: 11.2     |\n",
            "|-------------------------------+----------------------+----------------------+\n",
            "| GPU  Name        Persistence-M| Bus-Id        Disp.A | Volatile Uncorr. ECC |\n",
            "| Fan  Temp  Perf  Pwr:Usage/Cap|         Memory-Usage | GPU-Util  Compute M. |\n",
            "|                               |                      |               MIG M. |\n",
            "|===============================+======================+======================|\n",
            "|   0  Tesla T4            Off  | 00000000:00:04.0 Off |                    0 |\n",
            "| N/A   43C    P8    10W /  70W |      3MiB / 15109MiB |      0%      Default |\n",
            "|                               |                      |                  N/A |\n",
            "+-------------------------------+----------------------+----------------------+\n",
            "                                                                               \n",
            "+-----------------------------------------------------------------------------+\n",
            "| Processes:                                                                  |\n",
            "|  GPU   GI   CI        PID   Type   Process name                  GPU Memory |\n",
            "|        ID   ID                                                   Usage      |\n",
            "|=============================================================================|\n",
            "|  No running processes found                                                 |\n",
            "+-----------------------------------------------------------------------------+\n"
          ]
        }
      ]
    },
    {
      "cell_type": "code",
      "source": [
        "#Get the CHAOS dataset and unzip it\n",
        "\n",
        "!wget -q --show-progress https://zenodo.org/record/3431873/files/CHAOS_Train_Sets.zip?download=1\n",
        "\n",
        "!unzip -q  CHAOS_Train_Sets.zip\\?download\\=1"
      ],
      "metadata": {
        "colab": {
          "base_uri": "https://localhost:8080/"
        },
        "id": "0SG0f1Ih4arM",
        "outputId": "2ae4700f-2224-46a9-fa7f-b2b46f3643b5"
      },
      "execution_count": 3,
      "outputs": [
        {
          "output_type": "stream",
          "name": "stdout",
          "text": [
            "CHAOS_Train_Sets.zi 100%[===================>] 849.51M  6.43MB/s    in 2m 23s  \n"
          ]
        }
      ]
    },
    {
      "cell_type": "code",
      "source": [
        "#Make new folders, similar to lesson 2\n",
        "if not os.path.exists('./images'):\n",
        "  os.mkdir('./images')\n",
        "if not os.path.exists('./labels'):  \n",
        "  os.mkdir('./labels')"
      ],
      "metadata": {
        "id": "uv7022Td4nrg"
      },
      "execution_count": 4,
      "outputs": []
    },
    {
      "cell_type": "markdown",
      "source": [
        "So far, we are basically just recreating steps from lesson 2, but now when we reformat the dataset, we will also create a label of whether or not the axial slice contains the liver at all for the CT data"
      ],
      "metadata": {
        "id": "ELG_noYV46tf"
      }
    },
    {
      "cell_type": "code",
      "source": [
        "#New folders for liver presence/absence classification\n",
        "\n",
        "#We will create dedicated training and validation data folders this time\n",
        "#The structure will be such that the grandparent folder name is train or valid\n",
        "#and the parent folder name is the class liver versus noliver in our scenario\n",
        "\n",
        "if not os.path.exists('./liverClass/train/liver'):\n",
        "  os.makedirs('./liverClass/train/liver',exist_ok=True) #This alternative to os.mkdir, os.makedirs\n",
        "  #will let us also make the parent folders when we make the class folders\n",
        "if not os.path.exists('./liverClass/train/notliver'):\n",
        "  os.makedirs('./liverClass/train/notliver',exist_ok=True)\n",
        "if not os.path.exists('./liverClass/valid/liver'):\n",
        "  os.makedirs('./liverClass/valid/liver',exist_ok=True)\n",
        "if not os.path.exists('./liverClass/valid/notliver'):\n",
        "  os.makedirs('./liverClass/valid/notliver',exist_ok=True)\n",
        "\n",
        "\n",
        "\n",
        "#We will also explicitly split the patient list into the training and validation datasets\n",
        "valcasepicks=['1','2','5','6']\n"
      ],
      "metadata": {
        "id": "siloCoC7-P2G"
      },
      "execution_count": 5,
      "outputs": []
    },
    {
      "cell_type": "code",
      "source": [
        "#Rearrange and reformat the dataset, once again\n",
        "labelpathct=Path('./Train_Sets/CT')\n",
        "trainls=os.listdir(labelpathct)\n",
        "\n",
        "#Track slices that contain liver\n",
        "runls=[]\n",
        "liverlabels=[]\n",
        "liveronlynames=[]\n",
        "livernotnames=[]\n",
        "\n",
        "\n",
        "for f1 in trainls:\n",
        "  dcls=sorted(os.listdir(labelpathct/f1/'DICOM_anon'))\n",
        "  labls=sorted(os.listdir(labelpathct/f1/'Ground'))\n",
        "  for x1 in range(0,len(dcls)):\n",
        "    dcpick=labelpathct/f1/'DICOM_anon'/dcls[x1]\n",
        "    labpick=labelpathct/f1/'Ground'/labls[x1]\n",
        "    savestem=labls[x1].split('.')[0] #Split the name from the suffix\n",
        "    savenamekeep=str(f1)+'-'+savestem+'.tif'\n",
        "    ctex=pydicom.dcmread(dcpick) #Load the DICOM\n",
        "    huimg=pydicom.pixel_data_handlers.util.apply_modality_lut(ctex.pixel_array,ctex) #Convert to HU\n",
        "\n",
        "    Image.fromarray(huimg).save('./images/'+savenamekeep) #Save the DICOM image data as a TIF\n",
        "\n",
        "    #Open the existing label image and save it in a modified format\n",
        "    imtemp=np.array(Image.open(labpick))\n",
        "    Image.fromarray(imtemp.astype('uint8')).convert('L').save('./labels/'+str(f1)+'-'+savestem+'.png')\n",
        "\n",
        "    if np.sum(imtemp)>0:\n",
        "      liveronlynames.append(savenamekeep)\n",
        "      liverlabels.append(1)\n",
        "      #Now we can copy the image to the appropriate folder\n",
        "      if f1 in valcasepicks: #Check for validation set based on the case selections\n",
        "        #Use shuti.copy(source, dest) to copy image to classification folder scheme\n",
        "        shutil.copy('./images/'+savenamekeep,'./liverClass/valid/liver/'+savenamekeep)\n",
        "      else:\n",
        "        #Training data\n",
        "        shutil.copy('./images/'+savenamekeep,'./liverClass/train/liver/'+savenamekeep)\n",
        "    else:\n",
        "      liverlabels.append(0)\n",
        "      livernotnames.append(savenamekeep)\n",
        "      if f1 in valcasepicks: #Check for validation set based on the case selections\n",
        "        #Use shuti.copy(source, dest) to copy image to classification folder scheme\n",
        "        shutil.copy('./images/'+savenamekeep,'./liverClass/valid/notliver/'+savenamekeep)\n",
        "      else:\n",
        "        #Training data\n",
        "        shutil.copy('./images/'+savenamekeep,'./liverClass/train/notliver/'+savenamekeep)"
      ],
      "metadata": {
        "id": "Rw2C4oCL41Tl"
      },
      "execution_count": 6,
      "outputs": []
    },
    {
      "cell_type": "markdown",
      "source": [
        "With our data and folder organization set up now similar to ImageNet folder organization, we can move on to setting up the datablock for creating a binary classifier for whether or not an axial CT slice contains liver"
      ],
      "metadata": {
        "id": "_VfIzbQFDUCr"
      }
    },
    {
      "cell_type": "markdown",
      "source": [
        "Since we are diving a bit deeper now, we will focus specifically on image augmentation/transformation for our dataset. Now, if we are doing a segmentation task, then we need to be careful that our image transformation/augmentation performed on our input image data also matches with a correlated transform of the segmentation label image.\n",
        "\n",
        "For our classification task, we will now define some custom transforms"
      ],
      "metadata": {
        "id": "C4d3F5U0In44"
      }
    },
    {
      "cell_type": "code",
      "source": [
        "imgszpick=320\n",
        "\n",
        "custom_imgtfms=[DihedralItem(),#Dihedral transformation in 1 of 8 randomly selected configurations\n",
        "                Resize(imgszpick)]\n"
      ],
      "metadata": {
        "id": "FdkWXP-dImA2"
      },
      "execution_count": 7,
      "outputs": []
    },
    {
      "cell_type": "markdown",
      "source": [
        "In Lesson 2, we still used image augmentation, but we used the FastAI function aug_transforms which utilized several default FastAI image augmentation transforms which we did not explicitly enumerate in that lesson.\n",
        "\n",
        "The default aug_transforms image augmentations can be read about in the FastAI documentation: https://docs.fast.ai/vision.augment.html#aug_transforms\n",
        "\n",
        "In this lesson, we will more explicitly manipulate aug_transforms and modify several of the inputs. We will also do transformations at the item level and the batch level where previously in lesson 2 we only did batch level transformations. In this example, we are doing dihedral transforms and resizing at the item level and based on our modification of the default transforms included in aug_transforms, at the batch level we are doing random rotations, zooms, lighting adjustments, and image warping."
      ],
      "metadata": {
        "id": "IbdPBF4HNfCz"
      }
    },
    {
      "cell_type": "code",
      "source": [
        "datablock1=DataBlock(blocks=(ImageBlock,CategoryBlock),\n",
        "                     get_items=get_image_files,\n",
        "                     get_y=parent_label, #Build in FastAI function for labeling classes based on the parent folder (appropriate for our setup\n",
        "                     splitter=GrandparentSplitter(train_name='train', valid_name='valid'), #A FastAI function also convenient based on the file arrangement that we have used in this scenario\n",
        "                     item_tfms=custom_imgtfms,\n",
        "                     batch_tfms=[*aug_transforms(do_flip=False,max_rotate=5.0,max_zoom=1.05,\n",
        "                                                 max_lighting=0.05,max_warp=0.05),Normalize.from_stats(*imagenet_stats)]\n",
        "                )\n",
        "    \n",
        "\n"
      ],
      "metadata": {
        "id": "RBL4TMV-Df4-"
      },
      "execution_count": 8,
      "outputs": []
    },
    {
      "cell_type": "markdown",
      "source": [
        "Also, now we should have a discussion about image size and its relationship with batch size. Our axial slices for CT are 512x512 pixels. This size is feasible to run at full resolution with a reasonable batch size of, perhaps 8, while still not exceeding the RAM of the GPU. We can look at the data about our GPU by inspecting the output of !nvidia-smi which we executed in a cell at the start of this notebook. With a 16 GB RAM on a Tesla P100 GPU, we don't have to worry too much about image size as a constraint for 2D CT and MRI data. However, if we tried to model full resolution radiographs with greater than 1000 pixels in each dimension, then this would potentially be a problem. With an image size of 320x320 and a batch size of 16, we won't have an issue with exceeding the RAM of GPUs accessible in Colab, but this is an important consideration depending on possible hardware considerations.\n",
        "\n",
        "Batch size and image size are also important consideration for training time to run each epoch of training"
      ],
      "metadata": {
        "id": "zsqBNohKKlB8"
      }
    },
    {
      "cell_type": "code",
      "source": [
        "#Now let's but the data block into a data loader\n",
        "dls=datablock1.dataloaders('./liverClass',bs=8,path='.') "
      ],
      "metadata": {
        "id": "rKLKLaKI9FkU"
      },
      "execution_count": 9,
      "outputs": []
    },
    {
      "cell_type": "code",
      "source": [
        "dls.show_batch() #Look at the inputs"
      ],
      "metadata": {
        "colab": {
          "base_uri": "https://localhost:8080/",
          "height": 370
        },
        "id": "mBMNJMx_obB7",
        "outputId": "e8f40fdd-5c00-4f7f-fcf7-f294dadf1c0c"
      },
      "execution_count": 10,
      "outputs": [
        {
          "output_type": "display_data",
          "data": {
            "text/plain": [
              "<Figure size 864x432 with 8 Axes>"
            ],
            "image/png": "[encoded data removed]"
          },
          "metadata": {
            "needs_background": "light"
          }
        }
      ]
    },
    {
      "cell_type": "code",
      "source": [
        "#Let's set up our learner\n",
        "learn = cnn_learner(dls, resnet34, metrics=[accuracy], pretrained=True, opt_func=Adam)"
      ],
      "metadata": {
        "colab": {
          "base_uri": "https://localhost:8080/",
          "height": 66,
          "referenced_widgets": [
            "eb2fe4d01e994197bf80f3999d5b9f55",
            "5123b3a660a14166a085986332163734",
            "9bd26ffa0fa84b18b81b5c863308a23e",
            "56457b36943a41b89830c85f5ae36806",
            "3192a02eade941279c489195c2c772f1",
            "66f8fe9b48ad4d0dbb5c148214d10e2a",
            "2ae4f9af5b604470958b1e37e35a6b43",
            "de76b2f76ce544ee97fdf507ccb9b18e",
            "c09f8d1af0f1422b85054e043e4e43ab",
            "85e95706d84e4eb19f6b55ad4676eb54",
            "c05560a51de94a13ac5ec87d421c574a"
          ]
        },
        "id": "i8EnoTkYPRNN",
        "outputId": "b20ecaba-803b-4c20-dc36-4a96a3b8a51d"
      },
      "execution_count": 11,
      "outputs": [
        {
          "output_type": "stream",
          "name": "stderr",
          "text": [
            "Downloading: \"https://download.pytorch.org/models/resnet34-b627a593.pth\" to /root/.cache/torch/hub/checkpoints/resnet34-b627a593.pth\n"
          ]
        },
        {
          "output_type": "display_data",
          "data": {
            "text/plain": [
              "  0%|          | 0.00/83.3M [00:00<?, ?B/s]"
            ],
            "application/vnd.jupyter.widget-view+json": {
              "version_major": 2,
              "version_minor": 0,
              "model_id": "eb2fe4d01e994197bf80f3999d5b9f55"
            }
          },
          "metadata": {}
        }
      ]
    },
    {
      "cell_type": "code",
      "source": [
        "learn.loss_func #Look at the default loss function (flattend cross entropy loss)"
      ],
      "metadata": {
        "colab": {
          "base_uri": "https://localhost:8080/"
        },
        "id": "fvdJUEPM9FnL",
        "outputId": "ba6e460b-7fad-4904-ced2-4987f7a3a214"
      },
      "execution_count": 12,
      "outputs": [
        {
          "output_type": "execute_result",
          "data": {
            "text/plain": [
              "FlattenedLoss of CrossEntropyLoss()"
            ]
          },
          "metadata": {},
          "execution_count": 12
        }
      ]
    },
    {
      "cell_type": "markdown",
      "source": [
        "Now previously in lesson 2, we did not discuss the process of how to select a learning rate for our model. The learning rate is essentially a hyperparameter which determines how big of a change the model tries to make to its weights at each step while it optimizes with respect to the loss function.\n",
        "\n",
        "In FastAI, we can use a learning rate finder feature based on the work of Leslie Smith: https://arxiv.org/abs/1803.09820\n",
        "\n",
        "Let's take a look at the learning rate finder"
      ],
      "metadata": {
        "id": "kiUWhx24j9Mw"
      }
    },
    {
      "cell_type": "code",
      "source": [
        "lrf=learn.lr_find(suggest_funcs=(steep,valley))"
      ],
      "metadata": {
        "colab": {
          "base_uri": "https://localhost:8080/",
          "height": 283
        },
        "id": "W2y6ihR64nuV",
        "outputId": "648d3483-7f15-410e-94b9-6b04907aac29"
      },
      "execution_count": 13,
      "outputs": [
        {
          "output_type": "display_data",
          "data": {
            "text/plain": [
              "<IPython.core.display.HTML object>"
            ],
            "text/html": [
              "\n",
              "<style>\n",
              "    /* Turns off some styling */\n",
              "    progress {\n",
              "        /* gets rid of default border in Firefox and Opera. */\n",
              "        border: none;\n",
              "        /* Needs to be in here for Safari polyfill so background images work as expected. */\n",
              "        background-size: auto;\n",
              "    }\n",
              "    .progress-bar-interrupted, .progress-bar-interrupted::-webkit-progress-bar {\n",
              "        background: #F44336;\n",
              "    }\n",
              "</style>\n"
            ]
          },
          "metadata": {}
        },
        {
          "output_type": "display_data",
          "data": {
            "text/plain": [
              "<IPython.core.display.HTML object>"
            ],
            "text/html": [
              ""
            ]
          },
          "metadata": {}
        },
        {
          "output_type": "display_data",
          "data": {
            "text/plain": [
              "<Figure size 432x288 with 1 Axes>"
            ],
            "image/png": "[encoded data removed]"
          },
          "metadata": {
            "needs_background": "light"
          }
        }
      ]
    },
    {
      "cell_type": "markdown",
      "source": [
        "Based on this curve, there are a few different methods to pick the best learning rate. Conveniently, FastAI will suggest different options, and the valley approach often seems reasonable (and is currently the default suggestion). You can learn more about the details of this learning rate selection process based on an excellent blog post from one of the FastAI developers, Sylvain Gugger:\n",
        "\n",
        "https://sgugger.github.io/how-do-you-find-a-good-learning-rate.html\n",
        "\n",
        "or based on these FastAI forum threads: https://forums.fast.ai/t/automated-learning-rate-suggester/44199/30\n",
        "\n",
        "https://forums.fast.ai/t/new-lr-finder-output/89236/3"
      ],
      "metadata": {
        "id": "9I9Tux07uelW"
      }
    },
    {
      "cell_type": "code",
      "source": [
        "lrf.valley"
      ],
      "metadata": {
        "colab": {
          "base_uri": "https://localhost:8080/"
        },
        "id": "hDc07YCC4nyU",
        "outputId": "a0e6d4d1-dafd-413d-b01d-ae60097b5a35"
      },
      "execution_count": 14,
      "outputs": [
        {
          "output_type": "execute_result",
          "data": {
            "text/plain": [
              "0.0004786300996784121"
            ]
          },
          "metadata": {},
          "execution_count": 14
        }
      ]
    },
    {
      "cell_type": "code",
      "source": [
        "lr1 = 5e-3 #Based on our learning rate finder curve analysis, we will use 0.005 as the initial learning rate\n",
        "\n",
        "learn.fit_one_cycle(20,slice(lr1))"
      ],
      "metadata": {
        "colab": {
          "base_uri": "https://localhost:8080/",
          "height": 676
        },
        "id": "XsbnNTsnvbRU",
        "outputId": "c40ed99b-728e-4226-f67d-46af6f857523"
      },
      "execution_count": 15,
      "outputs": [
        {
          "output_type": "display_data",
          "data": {
            "text/plain": [
              "<IPython.core.display.HTML object>"
            ],
            "text/html": [
              "\n",
              "<style>\n",
              "    /* Turns off some styling */\n",
              "    progress {\n",
              "        /* gets rid of default border in Firefox and Opera. */\n",
              "        border: none;\n",
              "        /* Needs to be in here for Safari polyfill so background images work as expected. */\n",
              "        background-size: auto;\n",
              "    }\n",
              "    .progress-bar-interrupted, .progress-bar-interrupted::-webkit-progress-bar {\n",
              "        background: #F44336;\n",
              "    }\n",
              "</style>\n"
            ]
          },
          "metadata": {}
        },
        {
          "output_type": "display_data",
          "data": {
            "text/plain": [
              "<IPython.core.display.HTML object>"
            ],
            "text/html": [
              "<table border=\"1\" class=\"dataframe\">\n",
              "  <thead>\n",
              "    <tr style=\"text-align: left;\">\n",
              "      <th>epoch</th>\n",
              "      <th>train_loss</th>\n",
              "      <th>valid_loss</th>\n",
              "      <th>accuracy</th>\n",
              "      <th>time</th>\n",
              "    </tr>\n",
              "  </thead>\n",
              "  <tbody>\n",
              "    <tr>\n",
              "      <td>0</td>\n",
              "      <td>0.555531</td>\n",
              "      <td>0.648250</td>\n",
              "      <td>0.708333</td>\n",
              "      <td>00:39</td>\n",
              "    </tr>\n",
              "    <tr>\n",
              "      <td>1</td>\n",
              "      <td>0.435368</td>\n",
              "      <td>0.182359</td>\n",
              "      <td>0.950000</td>\n",
              "      <td>00:36</td>\n",
              "    </tr>\n",
              "    <tr>\n",
              "      <td>2</td>\n",
              "      <td>0.381304</td>\n",
              "      <td>0.119108</td>\n",
              "      <td>0.961111</td>\n",
              "      <td>00:35</td>\n",
              "    </tr>\n",
              "    <tr>\n",
              "      <td>3</td>\n",
              "      <td>0.386712</td>\n",
              "      <td>0.164706</td>\n",
              "      <td>0.930556</td>\n",
              "      <td>00:35</td>\n",
              "    </tr>\n",
              "    <tr>\n",
              "      <td>4</td>\n",
              "      <td>0.304385</td>\n",
              "      <td>0.308939</td>\n",
              "      <td>0.869444</td>\n",
              "      <td>00:36</td>\n",
              "    </tr>\n",
              "    <tr>\n",
              "      <td>5</td>\n",
              "      <td>0.334861</td>\n",
              "      <td>0.075922</td>\n",
              "      <td>0.961111</td>\n",
              "      <td>00:35</td>\n",
              "    </tr>\n",
              "    <tr>\n",
              "      <td>6</td>\n",
              "      <td>0.178771</td>\n",
              "      <td>0.139860</td>\n",
              "      <td>0.955556</td>\n",
              "      <td>00:36</td>\n",
              "    </tr>\n",
              "    <tr>\n",
              "      <td>7</td>\n",
              "      <td>0.211692</td>\n",
              "      <td>0.118877</td>\n",
              "      <td>0.938889</td>\n",
              "      <td>00:35</td>\n",
              "    </tr>\n",
              "    <tr>\n",
              "      <td>8</td>\n",
              "      <td>0.156397</td>\n",
              "      <td>0.110685</td>\n",
              "      <td>0.944444</td>\n",
              "      <td>00:36</td>\n",
              "    </tr>\n",
              "    <tr>\n",
              "      <td>9</td>\n",
              "      <td>0.144104</td>\n",
              "      <td>0.143868</td>\n",
              "      <td>0.941667</td>\n",
              "      <td>00:36</td>\n",
              "    </tr>\n",
              "    <tr>\n",
              "      <td>10</td>\n",
              "      <td>0.114080</td>\n",
              "      <td>0.069226</td>\n",
              "      <td>0.975000</td>\n",
              "      <td>00:35</td>\n",
              "    </tr>\n",
              "    <tr>\n",
              "      <td>11</td>\n",
              "      <td>0.173319</td>\n",
              "      <td>0.047805</td>\n",
              "      <td>0.977778</td>\n",
              "      <td>00:35</td>\n",
              "    </tr>\n",
              "    <tr>\n",
              "      <td>12</td>\n",
              "      <td>0.121576</td>\n",
              "      <td>0.127318</td>\n",
              "      <td>0.933333</td>\n",
              "      <td>00:35</td>\n",
              "    </tr>\n",
              "    <tr>\n",
              "      <td>13</td>\n",
              "      <td>0.109774</td>\n",
              "      <td>0.073790</td>\n",
              "      <td>0.963889</td>\n",
              "      <td>00:35</td>\n",
              "    </tr>\n",
              "    <tr>\n",
              "      <td>14</td>\n",
              "      <td>0.098776</td>\n",
              "      <td>0.116682</td>\n",
              "      <td>0.927778</td>\n",
              "      <td>00:35</td>\n",
              "    </tr>\n",
              "    <tr>\n",
              "      <td>15</td>\n",
              "      <td>0.077075</td>\n",
              "      <td>0.061717</td>\n",
              "      <td>0.969444</td>\n",
              "      <td>00:35</td>\n",
              "    </tr>\n",
              "    <tr>\n",
              "      <td>16</td>\n",
              "      <td>0.099307</td>\n",
              "      <td>0.091410</td>\n",
              "      <td>0.952778</td>\n",
              "      <td>00:35</td>\n",
              "    </tr>\n",
              "    <tr>\n",
              "      <td>17</td>\n",
              "      <td>0.060888</td>\n",
              "      <td>0.072688</td>\n",
              "      <td>0.958333</td>\n",
              "      <td>00:35</td>\n",
              "    </tr>\n",
              "    <tr>\n",
              "      <td>18</td>\n",
              "      <td>0.060231</td>\n",
              "      <td>0.074598</td>\n",
              "      <td>0.955556</td>\n",
              "      <td>00:35</td>\n",
              "    </tr>\n",
              "    <tr>\n",
              "      <td>19</td>\n",
              "      <td>0.062443</td>\n",
              "      <td>0.082125</td>\n",
              "      <td>0.955556</td>\n",
              "      <td>00:36</td>\n",
              "    </tr>\n",
              "  </tbody>\n",
              "</table>"
            ]
          },
          "metadata": {}
        }
      ]
    },
    {
      "cell_type": "code",
      "source": [
        "learn.show_results(max_n=4, figsize=(18,8))"
      ],
      "metadata": {
        "colab": {
          "base_uri": "https://localhost:8080/",
          "height": 497
        },
        "id": "f6mqlBoIBXtq",
        "outputId": "9007fd8d-19cf-49b5-e084-b56ad796156b"
      },
      "execution_count": 16,
      "outputs": [
        {
          "output_type": "display_data",
          "data": {
            "text/plain": [
              "<IPython.core.display.HTML object>"
            ],
            "text/html": [
              "\n",
              "<style>\n",
              "    /* Turns off some styling */\n",
              "    progress {\n",
              "        /* gets rid of default border in Firefox and Opera. */\n",
              "        border: none;\n",
              "        /* Needs to be in here for Safari polyfill so background images work as expected. */\n",
              "        background-size: auto;\n",
              "    }\n",
              "    .progress-bar-interrupted, .progress-bar-interrupted::-webkit-progress-bar {\n",
              "        background: #F44336;\n",
              "    }\n",
              "</style>\n"
            ]
          },
          "metadata": {}
        },
        {
          "output_type": "display_data",
          "data": {
            "text/plain": [
              "<IPython.core.display.HTML object>"
            ],
            "text/html": [
              ""
            ]
          },
          "metadata": {}
        },
        {
          "output_type": "display_data",
          "data": {
            "text/plain": [
              "<Figure size 1296x576 with 4 Axes>"
            ],
            "image/png": "[encoded data removed]"
          },
          "metadata": {
            "needs_background": "light"
          }
        }
      ]
    },
    {
      "cell_type": "code",
      "source": [
        "#Use the FastAI interpretation class\n",
        "interp = Interpretation.from_learner(learn)\n",
        "interp.plot_top_losses(5)"
      ],
      "metadata": {
        "colab": {
          "base_uri": "https://localhost:8080/",
          "height": 400
        },
        "id": "_9x8lBl3Bnzj",
        "outputId": "9a5e17c8-f0c9-477c-8f7f-873fa184ed97"
      },
      "execution_count": 17,
      "outputs": [
        {
          "output_type": "display_data",
          "data": {
            "text/plain": [
              "<IPython.core.display.HTML object>"
            ],
            "text/html": [
              "\n",
              "<style>\n",
              "    /* Turns off some styling */\n",
              "    progress {\n",
              "        /* gets rid of default border in Firefox and Opera. */\n",
              "        border: none;\n",
              "        /* Needs to be in here for Safari polyfill so background images work as expected. */\n",
              "        background-size: auto;\n",
              "    }\n",
              "    .progress-bar-interrupted, .progress-bar-interrupted::-webkit-progress-bar {\n",
              "        background: #F44336;\n",
              "    }\n",
              "</style>\n"
            ]
          },
          "metadata": {}
        },
        {
          "output_type": "display_data",
          "data": {
            "text/plain": [
              "<IPython.core.display.HTML object>"
            ],
            "text/html": [
              ""
            ]
          },
          "metadata": {}
        },
        {
          "output_type": "display_data",
          "data": {
            "text/plain": [
              "<IPython.core.display.HTML object>"
            ],
            "text/html": [
              "\n",
              "<style>\n",
              "    /* Turns off some styling */\n",
              "    progress {\n",
              "        /* gets rid of default border in Firefox and Opera. */\n",
              "        border: none;\n",
              "        /* Needs to be in here for Safari polyfill so background images work as expected. */\n",
              "        background-size: auto;\n",
              "    }\n",
              "    .progress-bar-interrupted, .progress-bar-interrupted::-webkit-progress-bar {\n",
              "        background: #F44336;\n",
              "    }\n",
              "</style>\n"
            ]
          },
          "metadata": {}
        },
        {
          "output_type": "display_data",
          "data": {
            "text/plain": [
              "<IPython.core.display.HTML object>"
            ],
            "text/html": [
              ""
            ]
          },
          "metadata": {}
        },
        {
          "output_type": "display_data",
          "data": {
            "text/plain": [
              "<Figure size 648x432 with 6 Axes>"
            ],
            "image/png": "[encoded data removed]"
          },
          "metadata": {
            "needs_background": "light"
          }
        }
      ]
    },
    {
      "cell_type": "code",
      "source": [
        "learn.save('res34-20epochs-lr5e-3')"
      ],
      "metadata": {
        "colab": {
          "base_uri": "https://localhost:8080/"
        },
        "id": "vZa29ajDBn6E",
        "outputId": "61136289-d46b-45c3-947c-7af21a8511b7"
      },
      "execution_count": 18,
      "outputs": [
        {
          "output_type": "execute_result",
          "data": {
            "text/plain": [
              "Path('models/res34-20epochs-lr5e-3.pth')"
            ]
          },
          "metadata": {},
          "execution_count": 18
        }
      ]
    },
    {
      "cell_type": "markdown",
      "source": [
        "Now for the next part, for illustrative purposes, we will restart the training process from the ImageNet pretrained models that we are using for model initialization and then pick very suboptimal learning rates that are either much too low for the training process to be efficient (0.0000001) or too high so that the optimization is unstable/erratic as it tries to find a minimum for the loss function (0.1). If you already feel comfortable with the concept of learning rate, then feel free to skip these steps as they are specifically illustrative of bad versions of model training"
      ],
      "metadata": {
        "id": "9q6MlcnOK54q"
      }
    },
    {
      "cell_type": "code",
      "source": [
        "learn = cnn_learner(dls, resnet34, metrics=[accuracy], pretrained=True, opt_func=Adam)\n",
        "learn.fit_one_cycle(10,slice(1e-7))"
      ],
      "metadata": {
        "colab": {
          "base_uri": "https://localhost:8080/",
          "height": 363
        },
        "id": "mqvG45mvHknN",
        "outputId": "dab04694-8619-47d3-9ac3-eb744c3c1001"
      },
      "execution_count": 19,
      "outputs": [
        {
          "output_type": "display_data",
          "data": {
            "text/plain": [
              "<IPython.core.display.HTML object>"
            ],
            "text/html": [
              "\n",
              "<style>\n",
              "    /* Turns off some styling */\n",
              "    progress {\n",
              "        /* gets rid of default border in Firefox and Opera. */\n",
              "        border: none;\n",
              "        /* Needs to be in here for Safari polyfill so background images work as expected. */\n",
              "        background-size: auto;\n",
              "    }\n",
              "    .progress-bar-interrupted, .progress-bar-interrupted::-webkit-progress-bar {\n",
              "        background: #F44336;\n",
              "    }\n",
              "</style>\n"
            ]
          },
          "metadata": {}
        },
        {
          "output_type": "display_data",
          "data": {
            "text/plain": [
              "<IPython.core.display.HTML object>"
            ],
            "text/html": [
              "<table border=\"1\" class=\"dataframe\">\n",
              "  <thead>\n",
              "    <tr style=\"text-align: left;\">\n",
              "      <th>epoch</th>\n",
              "      <th>train_loss</th>\n",
              "      <th>valid_loss</th>\n",
              "      <th>accuracy</th>\n",
              "      <th>time</th>\n",
              "    </tr>\n",
              "  </thead>\n",
              "  <tbody>\n",
              "    <tr>\n",
              "      <td>0</td>\n",
              "      <td>1.430543</td>\n",
              "      <td>0.884963</td>\n",
              "      <td>0.530556</td>\n",
              "      <td>00:36</td>\n",
              "    </tr>\n",
              "    <tr>\n",
              "      <td>1</td>\n",
              "      <td>1.487367</td>\n",
              "      <td>0.858053</td>\n",
              "      <td>0.558333</td>\n",
              "      <td>00:35</td>\n",
              "    </tr>\n",
              "    <tr>\n",
              "      <td>2</td>\n",
              "      <td>1.530552</td>\n",
              "      <td>1.000888</td>\n",
              "      <td>0.477778</td>\n",
              "      <td>00:36</td>\n",
              "    </tr>\n",
              "    <tr>\n",
              "      <td>3</td>\n",
              "      <td>1.443386</td>\n",
              "      <td>0.852711</td>\n",
              "      <td>0.550000</td>\n",
              "      <td>00:36</td>\n",
              "    </tr>\n",
              "    <tr>\n",
              "      <td>4</td>\n",
              "      <td>1.481984</td>\n",
              "      <td>0.848513</td>\n",
              "      <td>0.530556</td>\n",
              "      <td>00:35</td>\n",
              "    </tr>\n",
              "    <tr>\n",
              "      <td>5</td>\n",
              "      <td>1.416134</td>\n",
              "      <td>0.981767</td>\n",
              "      <td>0.513889</td>\n",
              "      <td>00:35</td>\n",
              "    </tr>\n",
              "    <tr>\n",
              "      <td>6</td>\n",
              "      <td>1.446262</td>\n",
              "      <td>0.932348</td>\n",
              "      <td>0.519444</td>\n",
              "      <td>00:36</td>\n",
              "    </tr>\n",
              "    <tr>\n",
              "      <td>7</td>\n",
              "      <td>1.397886</td>\n",
              "      <td>0.745975</td>\n",
              "      <td>0.627778</td>\n",
              "      <td>00:36</td>\n",
              "    </tr>\n",
              "    <tr>\n",
              "      <td>8</td>\n",
              "      <td>1.371097</td>\n",
              "      <td>0.910892</td>\n",
              "      <td>0.527778</td>\n",
              "      <td>00:35</td>\n",
              "    </tr>\n",
              "    <tr>\n",
              "      <td>9</td>\n",
              "      <td>1.473370</td>\n",
              "      <td>0.801198</td>\n",
              "      <td>0.588889</td>\n",
              "      <td>00:35</td>\n",
              "    </tr>\n",
              "  </tbody>\n",
              "</table>"
            ]
          },
          "metadata": {}
        }
      ]
    },
    {
      "cell_type": "markdown",
      "source": [
        "With our learning rate much too low, 10 epochs does not get us very far at all in the optimization process. It would take us a very long time to train a model like this. "
      ],
      "metadata": {
        "id": "zn6GVUq4Lweh"
      }
    },
    {
      "cell_type": "code",
      "source": [
        "learn = cnn_learner(dls, resnet34, metrics=[accuracy], pretrained=True, opt_func=Adam)\n",
        "learn.fit_one_cycle(10,slice(0.1))"
      ],
      "metadata": {
        "colab": {
          "base_uri": "https://localhost:8080/",
          "height": 363
        },
        "id": "w87XKcioBY_2",
        "outputId": "98a4ece4-63ac-4f77-a0c5-984ade03c496"
      },
      "execution_count": 20,
      "outputs": [
        {
          "output_type": "display_data",
          "data": {
            "text/plain": [
              "<IPython.core.display.HTML object>"
            ],
            "text/html": [
              "\n",
              "<style>\n",
              "    /* Turns off some styling */\n",
              "    progress {\n",
              "        /* gets rid of default border in Firefox and Opera. */\n",
              "        border: none;\n",
              "        /* Needs to be in here for Safari polyfill so background images work as expected. */\n",
              "        background-size: auto;\n",
              "    }\n",
              "    .progress-bar-interrupted, .progress-bar-interrupted::-webkit-progress-bar {\n",
              "        background: #F44336;\n",
              "    }\n",
              "</style>\n"
            ]
          },
          "metadata": {}
        },
        {
          "output_type": "display_data",
          "data": {
            "text/plain": [
              "<IPython.core.display.HTML object>"
            ],
            "text/html": [
              "<table border=\"1\" class=\"dataframe\">\n",
              "  <thead>\n",
              "    <tr style=\"text-align: left;\">\n",
              "      <th>epoch</th>\n",
              "      <th>train_loss</th>\n",
              "      <th>valid_loss</th>\n",
              "      <th>accuracy</th>\n",
              "      <th>time</th>\n",
              "    </tr>\n",
              "  </thead>\n",
              "  <tbody>\n",
              "    <tr>\n",
              "      <td>0</td>\n",
              "      <td>1.320991</td>\n",
              "      <td>0.228448</td>\n",
              "      <td>0.933333</td>\n",
              "      <td>00:36</td>\n",
              "    </tr>\n",
              "    <tr>\n",
              "      <td>1</td>\n",
              "      <td>4.321865</td>\n",
              "      <td>0.503266</td>\n",
              "      <td>0.925000</td>\n",
              "      <td>00:35</td>\n",
              "    </tr>\n",
              "    <tr>\n",
              "      <td>2</td>\n",
              "      <td>7.782893</td>\n",
              "      <td>3.437342</td>\n",
              "      <td>0.872222</td>\n",
              "      <td>00:35</td>\n",
              "    </tr>\n",
              "    <tr>\n",
              "      <td>3</td>\n",
              "      <td>2.415251</td>\n",
              "      <td>79.908997</td>\n",
              "      <td>0.797222</td>\n",
              "      <td>00:35</td>\n",
              "    </tr>\n",
              "    <tr>\n",
              "      <td>4</td>\n",
              "      <td>2.562800</td>\n",
              "      <td>19.883183</td>\n",
              "      <td>0.847222</td>\n",
              "      <td>00:35</td>\n",
              "    </tr>\n",
              "    <tr>\n",
              "      <td>5</td>\n",
              "      <td>1.198418</td>\n",
              "      <td>13.855482</td>\n",
              "      <td>0.652778</td>\n",
              "      <td>00:35</td>\n",
              "    </tr>\n",
              "    <tr>\n",
              "      <td>6</td>\n",
              "      <td>0.565919</td>\n",
              "      <td>2.132581</td>\n",
              "      <td>0.966667</td>\n",
              "      <td>00:35</td>\n",
              "    </tr>\n",
              "    <tr>\n",
              "      <td>7</td>\n",
              "      <td>0.324516</td>\n",
              "      <td>0.090293</td>\n",
              "      <td>0.961111</td>\n",
              "      <td>00:35</td>\n",
              "    </tr>\n",
              "    <tr>\n",
              "      <td>8</td>\n",
              "      <td>0.244020</td>\n",
              "      <td>0.087240</td>\n",
              "      <td>0.969444</td>\n",
              "      <td>00:35</td>\n",
              "    </tr>\n",
              "    <tr>\n",
              "      <td>9</td>\n",
              "      <td>0.160284</td>\n",
              "      <td>0.092847</td>\n",
              "      <td>0.969444</td>\n",
              "      <td>00:35</td>\n",
              "    </tr>\n",
              "  </tbody>\n",
              "</table>"
            ]
          },
          "metadata": {}
        }
      ]
    },
    {
      "cell_type": "markdown",
      "source": [
        "With our learning rate too high, we still get some versions of the model with good performance at different epochs but we also have very erratic validation loss which is disparate from the training loss. This type of erratic performance between epochs would obviously be quite concerning from a model generalizabity perspective. "
      ],
      "metadata": {
        "id": "4Qreozr0L6Nv"
      }
    },
    {
      "cell_type": "markdown",
      "source": [
        "We don't need to pick a perfect learning rate, though, we just need one that is good enough. We essentially have a \"goldilocks zone\" situation where we just don't want one too big or too small, but can benefit from a bigger learning rate in that the model will train faster.\n",
        "\n",
        "Let's try some training one more time with 0.001 as our learning rate. "
      ],
      "metadata": {
        "id": "J-mk0riTMijR"
      }
    },
    {
      "cell_type": "code",
      "source": [
        "learn = cnn_learner(dls, resnet34, metrics=[accuracy], pretrained=True, opt_func=Adam)\n",
        "learn.fit_one_cycle(10,slice(0.001))"
      ],
      "metadata": {
        "colab": {
          "base_uri": "https://localhost:8080/",
          "height": 363
        },
        "id": "9y4kRqqWM7wY",
        "outputId": "808d6ff1-a337-4bb4-8c0b-716e713a06a5"
      },
      "execution_count": 21,
      "outputs": [
        {
          "output_type": "display_data",
          "data": {
            "text/plain": [
              "<IPython.core.display.HTML object>"
            ],
            "text/html": [
              "\n",
              "<style>\n",
              "    /* Turns off some styling */\n",
              "    progress {\n",
              "        /* gets rid of default border in Firefox and Opera. */\n",
              "        border: none;\n",
              "        /* Needs to be in here for Safari polyfill so background images work as expected. */\n",
              "        background-size: auto;\n",
              "    }\n",
              "    .progress-bar-interrupted, .progress-bar-interrupted::-webkit-progress-bar {\n",
              "        background: #F44336;\n",
              "    }\n",
              "</style>\n"
            ]
          },
          "metadata": {}
        },
        {
          "output_type": "display_data",
          "data": {
            "text/plain": [
              "<IPython.core.display.HTML object>"
            ],
            "text/html": [
              "<table border=\"1\" class=\"dataframe\">\n",
              "  <thead>\n",
              "    <tr style=\"text-align: left;\">\n",
              "      <th>epoch</th>\n",
              "      <th>train_loss</th>\n",
              "      <th>valid_loss</th>\n",
              "      <th>accuracy</th>\n",
              "      <th>time</th>\n",
              "    </tr>\n",
              "  </thead>\n",
              "  <tbody>\n",
              "    <tr>\n",
              "      <td>0</td>\n",
              "      <td>0.752583</td>\n",
              "      <td>0.342932</td>\n",
              "      <td>0.836111</td>\n",
              "      <td>00:35</td>\n",
              "    </tr>\n",
              "    <tr>\n",
              "      <td>1</td>\n",
              "      <td>0.438134</td>\n",
              "      <td>0.140807</td>\n",
              "      <td>0.955556</td>\n",
              "      <td>00:35</td>\n",
              "    </tr>\n",
              "    <tr>\n",
              "      <td>2</td>\n",
              "      <td>0.371614</td>\n",
              "      <td>0.119952</td>\n",
              "      <td>0.950000</td>\n",
              "      <td>00:35</td>\n",
              "    </tr>\n",
              "    <tr>\n",
              "      <td>3</td>\n",
              "      <td>0.181797</td>\n",
              "      <td>0.208351</td>\n",
              "      <td>0.916667</td>\n",
              "      <td>00:35</td>\n",
              "    </tr>\n",
              "    <tr>\n",
              "      <td>4</td>\n",
              "      <td>0.297800</td>\n",
              "      <td>0.126907</td>\n",
              "      <td>0.958333</td>\n",
              "      <td>00:35</td>\n",
              "    </tr>\n",
              "    <tr>\n",
              "      <td>5</td>\n",
              "      <td>0.175990</td>\n",
              "      <td>0.195096</td>\n",
              "      <td>0.927778</td>\n",
              "      <td>00:35</td>\n",
              "    </tr>\n",
              "    <tr>\n",
              "      <td>6</td>\n",
              "      <td>0.181853</td>\n",
              "      <td>0.122781</td>\n",
              "      <td>0.941667</td>\n",
              "      <td>00:35</td>\n",
              "    </tr>\n",
              "    <tr>\n",
              "      <td>7</td>\n",
              "      <td>0.138926</td>\n",
              "      <td>0.226865</td>\n",
              "      <td>0.922222</td>\n",
              "      <td>00:35</td>\n",
              "    </tr>\n",
              "    <tr>\n",
              "      <td>8</td>\n",
              "      <td>0.166109</td>\n",
              "      <td>0.142613</td>\n",
              "      <td>0.941667</td>\n",
              "      <td>00:35</td>\n",
              "    </tr>\n",
              "    <tr>\n",
              "      <td>9</td>\n",
              "      <td>0.132817</td>\n",
              "      <td>0.135850</td>\n",
              "      <td>0.944444</td>\n",
              "      <td>00:35</td>\n",
              "    </tr>\n",
              "  </tbody>\n",
              "</table>"
            ]
          },
          "metadata": {}
        }
      ]
    },
    {
      "cell_type": "markdown",
      "source": [
        "This learning rate works pretty well as we can see, so while we want to pick a learning rate in an appropriate range, we don't need a perfect learning rate"
      ],
      "metadata": {
        "id": "8fNrp-pOObsa"
      }
    },
    {
      "cell_type": "markdown",
      "source": [
        "On the topic of learning rates, we should probably also call attention to the fact that in FastAI the fit_one_cycle method that we are calling is not as straightforward as other methods for training a model and we are doing cosine annealing of the learning rate as part of the training process. Overall, this follows the 1 cycle policy for training the model which is based on the work of Leslie Smith: https://arxiv.org/abs/1708.07120\n",
        "\n",
        "We would also recommend the FastAI documentation for more information about the details of this:\n",
        "\n",
        "https://docs.fast.ai/callback.schedule.html#Learner.fit_one_cycle"
      ],
      "metadata": {
        "id": "ulGgSKlbTzvQ"
      }
    },
    {
      "cell_type": "markdown",
      "source": [
        "Next we will look at changing the optimizer. The default optimizer in FastAI, Adam is usually not something we need to change or worry about. But, for illustrative purposes, we will change it to stochastic gradient descent (SGD) which is a more historic optimizer approach compared to Adam and known to underperform it. \n",
        "\n",
        "You can read more about Adam in this paper: https://arxiv.org/abs/1412.6980\n"
      ],
      "metadata": {
        "id": "7HOizAmadkRt"
      }
    },
    {
      "cell_type": "code",
      "source": [
        "learn = cnn_learner(dls, resnet34, metrics=[accuracy], pretrained=True, opt_func=SGD)\n",
        "learn.fit_one_cycle(10,slice(0.001))"
      ],
      "metadata": {
        "colab": {
          "base_uri": "https://localhost:8080/",
          "height": 363
        },
        "id": "9rYUwR7CRv0n",
        "outputId": "5f80771d-34f0-4f71-9401-a54f88a89d80"
      },
      "execution_count": 22,
      "outputs": [
        {
          "output_type": "display_data",
          "data": {
            "text/plain": [
              "<IPython.core.display.HTML object>"
            ],
            "text/html": [
              "\n",
              "<style>\n",
              "    /* Turns off some styling */\n",
              "    progress {\n",
              "        /* gets rid of default border in Firefox and Opera. */\n",
              "        border: none;\n",
              "        /* Needs to be in here for Safari polyfill so background images work as expected. */\n",
              "        background-size: auto;\n",
              "    }\n",
              "    .progress-bar-interrupted, .progress-bar-interrupted::-webkit-progress-bar {\n",
              "        background: #F44336;\n",
              "    }\n",
              "</style>\n"
            ]
          },
          "metadata": {}
        },
        {
          "output_type": "display_data",
          "data": {
            "text/plain": [
              "<IPython.core.display.HTML object>"
            ],
            "text/html": [
              "<table border=\"1\" class=\"dataframe\">\n",
              "  <thead>\n",
              "    <tr style=\"text-align: left;\">\n",
              "      <th>epoch</th>\n",
              "      <th>train_loss</th>\n",
              "      <th>valid_loss</th>\n",
              "      <th>accuracy</th>\n",
              "      <th>time</th>\n",
              "    </tr>\n",
              "  </thead>\n",
              "  <tbody>\n",
              "    <tr>\n",
              "      <td>0</td>\n",
              "      <td>1.130047</td>\n",
              "      <td>0.720560</td>\n",
              "      <td>0.650000</td>\n",
              "      <td>00:35</td>\n",
              "    </tr>\n",
              "    <tr>\n",
              "      <td>1</td>\n",
              "      <td>0.895268</td>\n",
              "      <td>0.592120</td>\n",
              "      <td>0.719444</td>\n",
              "      <td>00:35</td>\n",
              "    </tr>\n",
              "    <tr>\n",
              "      <td>2</td>\n",
              "      <td>0.690976</td>\n",
              "      <td>0.597647</td>\n",
              "      <td>0.727778</td>\n",
              "      <td>00:35</td>\n",
              "    </tr>\n",
              "    <tr>\n",
              "      <td>3</td>\n",
              "      <td>0.585402</td>\n",
              "      <td>0.541905</td>\n",
              "      <td>0.744444</td>\n",
              "      <td>00:35</td>\n",
              "    </tr>\n",
              "    <tr>\n",
              "      <td>4</td>\n",
              "      <td>0.566867</td>\n",
              "      <td>0.499434</td>\n",
              "      <td>0.755556</td>\n",
              "      <td>00:35</td>\n",
              "    </tr>\n",
              "    <tr>\n",
              "      <td>5</td>\n",
              "      <td>0.549421</td>\n",
              "      <td>0.515504</td>\n",
              "      <td>0.763889</td>\n",
              "      <td>00:35</td>\n",
              "    </tr>\n",
              "    <tr>\n",
              "      <td>6</td>\n",
              "      <td>0.452172</td>\n",
              "      <td>0.435623</td>\n",
              "      <td>0.797222</td>\n",
              "      <td>00:35</td>\n",
              "    </tr>\n",
              "    <tr>\n",
              "      <td>7</td>\n",
              "      <td>0.483680</td>\n",
              "      <td>0.403468</td>\n",
              "      <td>0.811111</td>\n",
              "      <td>00:35</td>\n",
              "    </tr>\n",
              "    <tr>\n",
              "      <td>8</td>\n",
              "      <td>0.527183</td>\n",
              "      <td>0.460188</td>\n",
              "      <td>0.788889</td>\n",
              "      <td>00:35</td>\n",
              "    </tr>\n",
              "    <tr>\n",
              "      <td>9</td>\n",
              "      <td>0.501556</td>\n",
              "      <td>0.383007</td>\n",
              "      <td>0.816667</td>\n",
              "      <td>00:35</td>\n",
              "    </tr>\n",
              "  </tbody>\n",
              "</table>"
            ]
          },
          "metadata": {}
        }
      ]
    },
    {
      "cell_type": "markdown",
      "source": [
        "We can see that SGD is not working quite as well as Adam did in the previous example. If you are interested, consider increasing the number of epochs.\n",
        "\n",
        "Alternatively consider exploring other optimizers available in FastAI:\n",
        "\n",
        "https://docs.fast.ai/optimizer.html\n",
        "\n",
        "However, again, in a practical approach, Adam is usually sufficient as an optimizer in our experience working with radiology applications."
      ],
      "metadata": {
        "id": "YojqBe8DeYpI"
      }
    },
    {
      "cell_type": "markdown",
      "source": [
        "Next, let's look a little more closely at the loss function. We have been using cross entropy as our loss function which is a standard loss function in neural network training for classification problems. However, we have not been adjusting the cross entropy loss function weights even though our classes in this scenario are imbalanced. Let's take a look at this for the combined training and validation set using the labels we generated earlier"
      ],
      "metadata": {
        "id": "5KdXga0rfzHR"
      }
    },
    {
      "cell_type": "code",
      "source": [
        "np.sum(liverlabels) #Number of slices containing liver"
      ],
      "metadata": {
        "colab": {
          "base_uri": "https://localhost:8080/"
        },
        "id": "CCr9c6DWhvnQ",
        "outputId": "db7e22ca-816a-4c57-822d-e6d8299a7120"
      },
      "execution_count": 23,
      "outputs": [
        {
          "output_type": "execute_result",
          "data": {
            "text/plain": [
              "2341"
            ]
          },
          "metadata": {},
          "execution_count": 23
        }
      ]
    },
    {
      "cell_type": "code",
      "source": [
        "len(liverlabels) #Number of total slices"
      ],
      "metadata": {
        "colab": {
          "base_uri": "https://localhost:8080/"
        },
        "id": "zzlzOm-Hhx6j",
        "outputId": "b4d12218-16fb-44ac-8719-bbfba27dbca8"
      },
      "execution_count": 24,
      "outputs": [
        {
          "output_type": "execute_result",
          "data": {
            "text/plain": [
              "2874"
            ]
          },
          "metadata": {},
          "execution_count": 24
        }
      ]
    },
    {
      "cell_type": "code",
      "source": [
        "100*np.sum(liverlabels)/len(liverlabels) #So 81% of this dataset has the liver label compared to 19% without"
      ],
      "metadata": {
        "colab": {
          "base_uri": "https://localhost:8080/"
        },
        "id": "jQl4joNaiHqe",
        "outputId": "69513701-5929-48a4-d93b-a6570d8ed171"
      },
      "execution_count": 25,
      "outputs": [
        {
          "output_type": "execute_result",
          "data": {
            "text/plain": [
              "81.4544189283229"
            ]
          },
          "metadata": {},
          "execution_count": 25
        }
      ]
    },
    {
      "cell_type": "markdown",
      "source": [
        "Given this class imbalance, we might want to adjust the class weights in our loss function"
      ],
      "metadata": {
        "id": "wnY6nF7TiQzY"
      }
    },
    {
      "cell_type": "code",
      "source": [
        "learn.dls.vocab #Check on our classes"
      ],
      "metadata": {
        "colab": {
          "base_uri": "https://localhost:8080/"
        },
        "id": "VoCqa2QWiVOl",
        "outputId": "ee086628-1958-438f-8373-a1d51f0b01bd"
      },
      "execution_count": 26,
      "outputs": [
        {
          "output_type": "execute_result",
          "data": {
            "text/plain": [
              "['liver', 'notliver']"
            ]
          },
          "metadata": {},
          "execution_count": 26
        }
      ]
    },
    {
      "cell_type": "code",
      "source": [
        "learn = cnn_learner(dls, resnet34, metrics=[accuracy], pretrained=True,\n",
        "                    opt_func=Adam, loss_func=CrossEntropyLossFlat(weight=torch.tensor([0.25,1.0])))\n"
      ],
      "metadata": {
        "id": "sUVJobRej78o"
      },
      "execution_count": 27,
      "outputs": []
    },
    {
      "cell_type": "markdown",
      "source": [
        "Now, we have used cnn_learner with a specified loss function which is the same as the default except we have added a tensor of weights.\n",
        "\n",
        "Let's check our learning rate finder curve again"
      ],
      "metadata": {
        "id": "aqiHFBz_lw7u"
      }
    },
    {
      "cell_type": "code",
      "source": [
        "lrf=learn.lr_find(suggest_funcs=(valley))"
      ],
      "metadata": {
        "colab": {
          "base_uri": "https://localhost:8080/",
          "height": 283
        },
        "id": "4f16fvXdlCZ5",
        "outputId": "6839c7a7-7236-4d6a-ea57-a16d484807f9"
      },
      "execution_count": 28,
      "outputs": [
        {
          "output_type": "display_data",
          "data": {
            "text/plain": [
              "<IPython.core.display.HTML object>"
            ],
            "text/html": [
              "\n",
              "<style>\n",
              "    /* Turns off some styling */\n",
              "    progress {\n",
              "        /* gets rid of default border in Firefox and Opera. */\n",
              "        border: none;\n",
              "        /* Needs to be in here for Safari polyfill so background images work as expected. */\n",
              "        background-size: auto;\n",
              "    }\n",
              "    .progress-bar-interrupted, .progress-bar-interrupted::-webkit-progress-bar {\n",
              "        background: #F44336;\n",
              "    }\n",
              "</style>\n"
            ]
          },
          "metadata": {}
        },
        {
          "output_type": "display_data",
          "data": {
            "text/plain": [
              "<IPython.core.display.HTML object>"
            ],
            "text/html": [
              ""
            ]
          },
          "metadata": {}
        },
        {
          "output_type": "display_data",
          "data": {
            "text/plain": [
              "<Figure size 432x288 with 1 Axes>"
            ],
            "image/png": "[encoded data removed]"
          },
          "metadata": {
            "needs_background": "light"
          }
        }
      ]
    },
    {
      "cell_type": "code",
      "source": [
        "lrf.valley"
      ],
      "metadata": {
        "colab": {
          "base_uri": "https://localhost:8080/"
        },
        "id": "uxioG3tLlqmr",
        "outputId": "5f192308-9954-498e-a973-31e0e8d8519f"
      },
      "execution_count": 29,
      "outputs": [
        {
          "output_type": "execute_result",
          "data": {
            "text/plain": [
              "0.0010000000474974513"
            ]
          },
          "metadata": {},
          "execution_count": 29
        }
      ]
    },
    {
      "cell_type": "code",
      "source": [
        "learn.fit_one_cycle(10,slice(0.005))"
      ],
      "metadata": {
        "colab": {
          "base_uri": "https://localhost:8080/",
          "height": 363
        },
        "id": "rx-VaD5ZlA9r",
        "outputId": "fedf2c18-0c40-4625-a7d0-a31ae9831750"
      },
      "execution_count": 30,
      "outputs": [
        {
          "output_type": "display_data",
          "data": {
            "text/plain": [
              "<IPython.core.display.HTML object>"
            ],
            "text/html": [
              "\n",
              "<style>\n",
              "    /* Turns off some styling */\n",
              "    progress {\n",
              "        /* gets rid of default border in Firefox and Opera. */\n",
              "        border: none;\n",
              "        /* Needs to be in here for Safari polyfill so background images work as expected. */\n",
              "        background-size: auto;\n",
              "    }\n",
              "    .progress-bar-interrupted, .progress-bar-interrupted::-webkit-progress-bar {\n",
              "        background: #F44336;\n",
              "    }\n",
              "</style>\n"
            ]
          },
          "metadata": {}
        },
        {
          "output_type": "display_data",
          "data": {
            "text/plain": [
              "<IPython.core.display.HTML object>"
            ],
            "text/html": [
              "<table border=\"1\" class=\"dataframe\">\n",
              "  <thead>\n",
              "    <tr style=\"text-align: left;\">\n",
              "      <th>epoch</th>\n",
              "      <th>train_loss</th>\n",
              "      <th>valid_loss</th>\n",
              "      <th>accuracy</th>\n",
              "      <th>time</th>\n",
              "    </tr>\n",
              "  </thead>\n",
              "  <tbody>\n",
              "    <tr>\n",
              "      <td>0</td>\n",
              "      <td>0.646004</td>\n",
              "      <td>1.168976</td>\n",
              "      <td>0.666667</td>\n",
              "      <td>00:35</td>\n",
              "    </tr>\n",
              "    <tr>\n",
              "      <td>1</td>\n",
              "      <td>0.602670</td>\n",
              "      <td>0.495414</td>\n",
              "      <td>0.802778</td>\n",
              "      <td>00:35</td>\n",
              "    </tr>\n",
              "    <tr>\n",
              "      <td>2</td>\n",
              "      <td>0.451513</td>\n",
              "      <td>0.577648</td>\n",
              "      <td>0.822222</td>\n",
              "      <td>00:35</td>\n",
              "    </tr>\n",
              "    <tr>\n",
              "      <td>3</td>\n",
              "      <td>0.359058</td>\n",
              "      <td>0.246970</td>\n",
              "      <td>0.930556</td>\n",
              "      <td>00:36</td>\n",
              "    </tr>\n",
              "    <tr>\n",
              "      <td>4</td>\n",
              "      <td>0.379273</td>\n",
              "      <td>0.473951</td>\n",
              "      <td>0.883333</td>\n",
              "      <td>00:35</td>\n",
              "    </tr>\n",
              "    <tr>\n",
              "      <td>5</td>\n",
              "      <td>0.264220</td>\n",
              "      <td>0.244216</td>\n",
              "      <td>0.900000</td>\n",
              "      <td>00:35</td>\n",
              "    </tr>\n",
              "    <tr>\n",
              "      <td>6</td>\n",
              "      <td>0.160873</td>\n",
              "      <td>0.374693</td>\n",
              "      <td>0.875000</td>\n",
              "      <td>00:35</td>\n",
              "    </tr>\n",
              "    <tr>\n",
              "      <td>7</td>\n",
              "      <td>0.152905</td>\n",
              "      <td>0.196575</td>\n",
              "      <td>0.911111</td>\n",
              "      <td>00:35</td>\n",
              "    </tr>\n",
              "    <tr>\n",
              "      <td>8</td>\n",
              "      <td>0.133752</td>\n",
              "      <td>0.224831</td>\n",
              "      <td>0.905556</td>\n",
              "      <td>00:35</td>\n",
              "    </tr>\n",
              "    <tr>\n",
              "      <td>9</td>\n",
              "      <td>0.132868</td>\n",
              "      <td>0.158989</td>\n",
              "      <td>0.927778</td>\n",
              "      <td>00:35</td>\n",
              "    </tr>\n",
              "  </tbody>\n",
              "</table>"
            ]
          },
          "metadata": {}
        }
      ]
    },
    {
      "cell_type": "markdown",
      "source": [
        "The last aspect of our convolutional neural network model that we will look at in this part is the neural network architecture. So far we have been training with ResNet34, but now let's look at some different ResNets (ResNet18 and ResNet50) which have different depths/number of layers compared to ResNet34"
      ],
      "metadata": {
        "id": "ZHLQFY34noeD"
      }
    },
    {
      "cell_type": "code",
      "source": [
        "learn = cnn_learner(dls, resnet18, metrics=[accuracy], pretrained=True)\n"
      ],
      "metadata": {
        "colab": {
          "base_uri": "https://localhost:8080/",
          "height": 66,
          "referenced_widgets": [
            "04e4fdd9d9994dbf8e323f8d02b54dec",
            "ed77e694884b4bdca21ebb25ce51019d",
            "bc6a08b4bdbc43828141b241693d4857",
            "dfac085059484d10b6f4963ef17cd700",
            "51a815ccbb934468a97cd7834aa1dc90",
            "b4f66c50d7c048aa8198e4381c579369",
            "e788cb6a68c84fb0ad361ac07479f80f",
            "2f83eb1430384dec93b7bc1138a2103a",
            "03194f3331fd4c3ab6b96a4d9f0f73e2",
            "010ff1a9dae94b9096c1a0f9fcbf2fd5",
            "dff149afeacc4495b110e95c1e886066"
          ]
        },
        "id": "vww2b6jboDL6",
        "outputId": "a1e1ed89-950a-4f61-ca28-53a0517e48d5"
      },
      "execution_count": 31,
      "outputs": [
        {
          "output_type": "stream",
          "name": "stderr",
          "text": [
            "Downloading: \"https://download.pytorch.org/models/resnet18-f37072fd.pth\" to /root/.cache/torch/hub/checkpoints/resnet18-f37072fd.pth\n"
          ]
        },
        {
          "output_type": "display_data",
          "data": {
            "text/plain": [
              "  0%|          | 0.00/44.7M [00:00<?, ?B/s]"
            ],
            "application/vnd.jupyter.widget-view+json": {
              "version_major": 2,
              "version_minor": 0,
              "model_id": "04e4fdd9d9994dbf8e323f8d02b54dec"
            }
          },
          "metadata": {}
        }
      ]
    },
    {
      "cell_type": "code",
      "source": [
        "learn.summary() #We can use this to inspect the architecture in more depth"
      ],
      "metadata": {
        "colab": {
          "base_uri": "https://localhost:8080/",
          "height": 1000
        },
        "id": "LMjV0oPMoZx_",
        "outputId": "30dfabcf-f031-4573-e103-39ae0424c695"
      },
      "execution_count": 32,
      "outputs": [
        {
          "output_type": "display_data",
          "data": {
            "text/plain": [
              "<IPython.core.display.HTML object>"
            ],
            "text/html": [
              "\n",
              "<style>\n",
              "    /* Turns off some styling */\n",
              "    progress {\n",
              "        /* gets rid of default border in Firefox and Opera. */\n",
              "        border: none;\n",
              "        /* Needs to be in here for Safari polyfill so background images work as expected. */\n",
              "        background-size: auto;\n",
              "    }\n",
              "    .progress-bar-interrupted, .progress-bar-interrupted::-webkit-progress-bar {\n",
              "        background: #F44336;\n",
              "    }\n",
              "</style>\n"
            ]
          },
          "metadata": {}
        },
        {
          "output_type": "display_data",
          "data": {
            "text/plain": [
              "<IPython.core.display.HTML object>"
            ],
            "text/html": [
              ""
            ]
          },
          "metadata": {}
        },
        {
          "output_type": "execute_result",
          "data": {
            "text/plain": [
              "Sequential (Input shape: 8 x 3 x 320 x 320)\n",
              "============================================================================\n",
              "Layer (type)         Output Shape         Param #    Trainable \n",
              "============================================================================\n",
              "                     8 x 64 x 160 x 160  \n",
              "Conv2d                                    9408       False     \n",
              "BatchNorm2d                               128        True      \n",
              "ReLU                                                           \n",
              "____________________________________________________________________________\n",
              "                     8 x 64 x 80 x 80    \n",
              "MaxPool2d                                                      \n",
              "Conv2d                                    36864      False     \n",
              "BatchNorm2d                               128        True      \n",
              "ReLU                                                           \n",
              "Conv2d                                    36864      False     \n",
              "BatchNorm2d                               128        True      \n",
              "Conv2d                                    36864      False     \n",
              "BatchNorm2d                               128        True      \n",
              "ReLU                                                           \n",
              "Conv2d                                    36864      False     \n",
              "BatchNorm2d                               128        True      \n",
              "____________________________________________________________________________\n",
              "                     8 x 128 x 40 x 40   \n",
              "Conv2d                                    73728      False     \n",
              "BatchNorm2d                               256        True      \n",
              "ReLU                                                           \n",
              "Conv2d                                    147456     False     \n",
              "BatchNorm2d                               256        True      \n",
              "Conv2d                                    8192       False     \n",
              "BatchNorm2d                               256        True      \n",
              "Conv2d                                    147456     False     \n",
              "BatchNorm2d                               256        True      \n",
              "ReLU                                                           \n",
              "Conv2d                                    147456     False     \n",
              "BatchNorm2d                               256        True      \n",
              "____________________________________________________________________________\n",
              "                     8 x 256 x 20 x 20   \n",
              "Conv2d                                    294912     False     \n",
              "BatchNorm2d                               512        True      \n",
              "ReLU                                                           \n",
              "Conv2d                                    589824     False     \n",
              "BatchNorm2d                               512        True      \n",
              "Conv2d                                    32768      False     \n",
              "BatchNorm2d                               512        True      \n",
              "Conv2d                                    589824     False     \n",
              "BatchNorm2d                               512        True      \n",
              "ReLU                                                           \n",
              "Conv2d                                    589824     False     \n",
              "BatchNorm2d                               512        True      \n",
              "____________________________________________________________________________\n",
              "                     8 x 512 x 10 x 10   \n",
              "Conv2d                                    1179648    False     \n",
              "BatchNorm2d                               1024       True      \n",
              "ReLU                                                           \n",
              "Conv2d                                    2359296    False     \n",
              "BatchNorm2d                               1024       True      \n",
              "Conv2d                                    131072     False     \n",
              "BatchNorm2d                               1024       True      \n",
              "Conv2d                                    2359296    False     \n",
              "BatchNorm2d                               1024       True      \n",
              "ReLU                                                           \n",
              "Conv2d                                    2359296    False     \n",
              "BatchNorm2d                               1024       True      \n",
              "____________________________________________________________________________\n",
              "                     8 x 512 x 1 x 1     \n",
              "AdaptiveAvgPool2d                                              \n",
              "AdaptiveMaxPool2d                                              \n",
              "____________________________________________________________________________\n",
              "                     8 x 1024            \n",
              "Flatten                                                        \n",
              "BatchNorm1d                               2048       True      \n",
              "Dropout                                                        \n",
              "____________________________________________________________________________\n",
              "                     8 x 512             \n",
              "Linear                                    524288     True      \n",
              "ReLU                                                           \n",
              "BatchNorm1d                               1024       True      \n",
              "Dropout                                                        \n",
              "____________________________________________________________________________\n",
              "                     8 x 2               \n",
              "Linear                                    1024       True      \n",
              "____________________________________________________________________________\n",
              "\n",
              "Total params: 11,704,896\n",
              "Total trainable params: 537,984\n",
              "Total non-trainable params: 11,166,912\n",
              "\n",
              "Optimizer used: <function Adam at 0x7f3873aedc20>\n",
              "Loss function: FlattenedLoss of CrossEntropyLoss()\n",
              "\n",
              "Model frozen up to parameter group #2\n",
              "\n",
              "Callbacks:\n",
              "  - TrainEvalCallback\n",
              "  - Recorder\n",
              "  - ProgressCallback"
            ],
            "application/vnd.google.colaboratory.intrinsic+json": {
              "type": "string"
            }
          },
          "metadata": {},
          "execution_count": 32
        }
      ]
    },
    {
      "cell_type": "markdown",
      "source": [
        "This also a good place to talk more about the concept of training only a portion of the model. If we look in the model summary, we have over 11 million total parameters in this model. We are training a lot of them right now (almost half a million) but we are also not training 11 million of the parameters that we could be training. We have used a model pre-trained on ImageNet and we are not training the backbone of the model right now because we are presuming that the network parameters for the early layers of our model which were effective on ImageNet will also be useful for our current classification task. Consequently, we are focusing on training the final layers of the model."
      ],
      "metadata": {
        "id": "B9X-YglcpEA2"
      }
    },
    {
      "cell_type": "code",
      "source": [
        "learn.fit_one_cycle(10,slice(0.001))"
      ],
      "metadata": {
        "colab": {
          "base_uri": "https://localhost:8080/",
          "height": 363
        },
        "id": "uJsXn735oXka",
        "outputId": "732acc32-5086-4ea6-aad8-10a157a0f78b"
      },
      "execution_count": 33,
      "outputs": [
        {
          "output_type": "display_data",
          "data": {
            "text/plain": [
              "<IPython.core.display.HTML object>"
            ],
            "text/html": [
              "\n",
              "<style>\n",
              "    /* Turns off some styling */\n",
              "    progress {\n",
              "        /* gets rid of default border in Firefox and Opera. */\n",
              "        border: none;\n",
              "        /* Needs to be in here for Safari polyfill so background images work as expected. */\n",
              "        background-size: auto;\n",
              "    }\n",
              "    .progress-bar-interrupted, .progress-bar-interrupted::-webkit-progress-bar {\n",
              "        background: #F44336;\n",
              "    }\n",
              "</style>\n"
            ]
          },
          "metadata": {}
        },
        {
          "output_type": "display_data",
          "data": {
            "text/plain": [
              "<IPython.core.display.HTML object>"
            ],
            "text/html": [
              "<table border=\"1\" class=\"dataframe\">\n",
              "  <thead>\n",
              "    <tr style=\"text-align: left;\">\n",
              "      <th>epoch</th>\n",
              "      <th>train_loss</th>\n",
              "      <th>valid_loss</th>\n",
              "      <th>accuracy</th>\n",
              "      <th>time</th>\n",
              "    </tr>\n",
              "  </thead>\n",
              "  <tbody>\n",
              "    <tr>\n",
              "      <td>0</td>\n",
              "      <td>0.712090</td>\n",
              "      <td>0.946098</td>\n",
              "      <td>0.580556</td>\n",
              "      <td>00:28</td>\n",
              "    </tr>\n",
              "    <tr>\n",
              "      <td>1</td>\n",
              "      <td>0.396610</td>\n",
              "      <td>0.379251</td>\n",
              "      <td>0.830556</td>\n",
              "      <td>00:29</td>\n",
              "    </tr>\n",
              "    <tr>\n",
              "      <td>2</td>\n",
              "      <td>0.294906</td>\n",
              "      <td>0.384715</td>\n",
              "      <td>0.836111</td>\n",
              "      <td>00:29</td>\n",
              "    </tr>\n",
              "    <tr>\n",
              "      <td>3</td>\n",
              "      <td>0.320037</td>\n",
              "      <td>0.157085</td>\n",
              "      <td>0.936111</td>\n",
              "      <td>00:29</td>\n",
              "    </tr>\n",
              "    <tr>\n",
              "      <td>4</td>\n",
              "      <td>0.246484</td>\n",
              "      <td>0.162374</td>\n",
              "      <td>0.933333</td>\n",
              "      <td>00:28</td>\n",
              "    </tr>\n",
              "    <tr>\n",
              "      <td>5</td>\n",
              "      <td>0.221118</td>\n",
              "      <td>0.216088</td>\n",
              "      <td>0.913889</td>\n",
              "      <td>00:29</td>\n",
              "    </tr>\n",
              "    <tr>\n",
              "      <td>6</td>\n",
              "      <td>0.184163</td>\n",
              "      <td>0.204901</td>\n",
              "      <td>0.908333</td>\n",
              "      <td>00:29</td>\n",
              "    </tr>\n",
              "    <tr>\n",
              "      <td>7</td>\n",
              "      <td>0.158869</td>\n",
              "      <td>0.160769</td>\n",
              "      <td>0.925000</td>\n",
              "      <td>00:29</td>\n",
              "    </tr>\n",
              "    <tr>\n",
              "      <td>8</td>\n",
              "      <td>0.194778</td>\n",
              "      <td>0.216562</td>\n",
              "      <td>0.911111</td>\n",
              "      <td>00:28</td>\n",
              "    </tr>\n",
              "    <tr>\n",
              "      <td>9</td>\n",
              "      <td>0.150239</td>\n",
              "      <td>0.197268</td>\n",
              "      <td>0.913889</td>\n",
              "      <td>00:29</td>\n",
              "    </tr>\n",
              "  </tbody>\n",
              "</table>"
            ]
          },
          "metadata": {}
        }
      ]
    },
    {
      "cell_type": "markdown",
      "source": [
        "Now to look at ResNet50, a deeper version of the ResNet architecture"
      ],
      "metadata": {
        "id": "hayOuxelooRz"
      }
    },
    {
      "cell_type": "code",
      "source": [
        "learn = cnn_learner(dls, resnet50, metrics=[accuracy], pretrained=True)\n"
      ],
      "metadata": {
        "colab": {
          "base_uri": "https://localhost:8080/",
          "height": 66,
          "referenced_widgets": [
            "345f5710d3ba470d8dc72711c8f6da8c",
            "fdd44da3c1214b7b9aaa29b50c1e8784",
            "ef37e0bd73d8463a9d0d5dab39ac86c7",
            "7505a64abe894af49897be743f485e80",
            "9292b46dc42e45e8bbed048480c6bcf1",
            "72ccb020cce34c56aec6887b61208898",
            "267b52e95b234e1cbf90cdf9afa0b734",
            "77c2bc844b104a6495996a016348757c",
            "77b55ac5fd3c4ef493ef2076170e9af7",
            "5b60d65e217345d7acf9bfbcf1a0fdcf",
            "deae379e6d3947329a5c9a5cc666059b"
          ]
        },
        "id": "4WZ06_MkoN_m",
        "outputId": "be8f8b51-e233-4dbd-d6e8-595c940a2581"
      },
      "execution_count": 34,
      "outputs": [
        {
          "output_type": "stream",
          "name": "stderr",
          "text": [
            "Downloading: \"https://download.pytorch.org/models/resnet50-0676ba61.pth\" to /root/.cache/torch/hub/checkpoints/resnet50-0676ba61.pth\n"
          ]
        },
        {
          "output_type": "display_data",
          "data": {
            "text/plain": [
              "  0%|          | 0.00/97.8M [00:00<?, ?B/s]"
            ],
            "application/vnd.jupyter.widget-view+json": {
              "version_major": 2,
              "version_minor": 0,
              "model_id": "345f5710d3ba470d8dc72711c8f6da8c"
            }
          },
          "metadata": {}
        }
      ]
    },
    {
      "cell_type": "code",
      "source": [
        "learn.summary()"
      ],
      "metadata": {
        "colab": {
          "base_uri": "https://localhost:8080/",
          "height": 1000
        },
        "id": "-sgEYdnDomK_",
        "outputId": "0f670c6b-b601-4bc2-e8d6-ee8d020a2214"
      },
      "execution_count": 35,
      "outputs": [
        {
          "output_type": "display_data",
          "data": {
            "text/plain": [
              "<IPython.core.display.HTML object>"
            ],
            "text/html": [
              "\n",
              "<style>\n",
              "    /* Turns off some styling */\n",
              "    progress {\n",
              "        /* gets rid of default border in Firefox and Opera. */\n",
              "        border: none;\n",
              "        /* Needs to be in here for Safari polyfill so background images work as expected. */\n",
              "        background-size: auto;\n",
              "    }\n",
              "    .progress-bar-interrupted, .progress-bar-interrupted::-webkit-progress-bar {\n",
              "        background: #F44336;\n",
              "    }\n",
              "</style>\n"
            ]
          },
          "metadata": {}
        },
        {
          "output_type": "display_data",
          "data": {
            "text/plain": [
              "<IPython.core.display.HTML object>"
            ],
            "text/html": [
              ""
            ]
          },
          "metadata": {}
        },
        {
          "output_type": "execute_result",
          "data": {
            "text/plain": [
              "Sequential (Input shape: 8 x 3 x 320 x 320)\n",
              "============================================================================\n",
              "Layer (type)         Output Shape         Param #    Trainable \n",
              "============================================================================\n",
              "                     8 x 64 x 160 x 160  \n",
              "Conv2d                                    9408       False     \n",
              "BatchNorm2d                               128        True      \n",
              "ReLU                                                           \n",
              "____________________________________________________________________________\n",
              "                     8 x 64 x 80 x 80    \n",
              "MaxPool2d                                                      \n",
              "Conv2d                                    4096       False     \n",
              "BatchNorm2d                               128        True      \n",
              "Conv2d                                    36864      False     \n",
              "BatchNorm2d                               128        True      \n",
              "____________________________________________________________________________\n",
              "                     8 x 256 x 80 x 80   \n",
              "Conv2d                                    16384      False     \n",
              "BatchNorm2d                               512        True      \n",
              "ReLU                                                           \n",
              "Conv2d                                    16384      False     \n",
              "BatchNorm2d                               512        True      \n",
              "____________________________________________________________________________\n",
              "                     8 x 64 x 80 x 80    \n",
              "Conv2d                                    16384      False     \n",
              "BatchNorm2d                               128        True      \n",
              "Conv2d                                    36864      False     \n",
              "BatchNorm2d                               128        True      \n",
              "____________________________________________________________________________\n",
              "                     8 x 256 x 80 x 80   \n",
              "Conv2d                                    16384      False     \n",
              "BatchNorm2d                               512        True      \n",
              "ReLU                                                           \n",
              "____________________________________________________________________________\n",
              "                     8 x 64 x 80 x 80    \n",
              "Conv2d                                    16384      False     \n",
              "BatchNorm2d                               128        True      \n",
              "Conv2d                                    36864      False     \n",
              "BatchNorm2d                               128        True      \n",
              "____________________________________________________________________________\n",
              "                     8 x 256 x 80 x 80   \n",
              "Conv2d                                    16384      False     \n",
              "BatchNorm2d                               512        True      \n",
              "ReLU                                                           \n",
              "____________________________________________________________________________\n",
              "                     8 x 128 x 80 x 80   \n",
              "Conv2d                                    32768      False     \n",
              "BatchNorm2d                               256        True      \n",
              "____________________________________________________________________________\n",
              "                     8 x 128 x 40 x 40   \n",
              "Conv2d                                    147456     False     \n",
              "BatchNorm2d                               256        True      \n",
              "____________________________________________________________________________\n",
              "                     8 x 512 x 40 x 40   \n",
              "Conv2d                                    65536      False     \n",
              "BatchNorm2d                               1024       True      \n",
              "ReLU                                                           \n",
              "Conv2d                                    131072     False     \n",
              "BatchNorm2d                               1024       True      \n",
              "____________________________________________________________________________\n",
              "                     8 x 128 x 40 x 40   \n",
              "Conv2d                                    65536      False     \n",
              "BatchNorm2d                               256        True      \n",
              "Conv2d                                    147456     False     \n",
              "BatchNorm2d                               256        True      \n",
              "____________________________________________________________________________\n",
              "                     8 x 512 x 40 x 40   \n",
              "Conv2d                                    65536      False     \n",
              "BatchNorm2d                               1024       True      \n",
              "ReLU                                                           \n",
              "____________________________________________________________________________\n",
              "                     8 x 128 x 40 x 40   \n",
              "Conv2d                                    65536      False     \n",
              "BatchNorm2d                               256        True      \n",
              "Conv2d                                    147456     False     \n",
              "BatchNorm2d                               256        True      \n",
              "____________________________________________________________________________\n",
              "                     8 x 512 x 40 x 40   \n",
              "Conv2d                                    65536      False     \n",
              "BatchNorm2d                               1024       True      \n",
              "ReLU                                                           \n",
              "____________________________________________________________________________\n",
              "                     8 x 128 x 40 x 40   \n",
              "Conv2d                                    65536      False     \n",
              "BatchNorm2d                               256        True      \n",
              "Conv2d                                    147456     False     \n",
              "BatchNorm2d                               256        True      \n",
              "____________________________________________________________________________\n",
              "                     8 x 512 x 40 x 40   \n",
              "Conv2d                                    65536      False     \n",
              "BatchNorm2d                               1024       True      \n",
              "ReLU                                                           \n",
              "____________________________________________________________________________\n",
              "                     8 x 256 x 40 x 40   \n",
              "Conv2d                                    131072     False     \n",
              "BatchNorm2d                               512        True      \n",
              "____________________________________________________________________________\n",
              "                     8 x 256 x 20 x 20   \n",
              "Conv2d                                    589824     False     \n",
              "BatchNorm2d                               512        True      \n",
              "____________________________________________________________________________\n",
              "                     8 x 1024 x 20 x 20  \n",
              "Conv2d                                    262144     False     \n",
              "BatchNorm2d                               2048       True      \n",
              "ReLU                                                           \n",
              "Conv2d                                    524288     False     \n",
              "BatchNorm2d                               2048       True      \n",
              "____________________________________________________________________________\n",
              "                     8 x 256 x 20 x 20   \n",
              "Conv2d                                    262144     False     \n",
              "BatchNorm2d                               512        True      \n",
              "Conv2d                                    589824     False     \n",
              "BatchNorm2d                               512        True      \n",
              "____________________________________________________________________________\n",
              "                     8 x 1024 x 20 x 20  \n",
              "Conv2d                                    262144     False     \n",
              "BatchNorm2d                               2048       True      \n",
              "ReLU                                                           \n",
              "____________________________________________________________________________\n",
              "                     8 x 256 x 20 x 20   \n",
              "Conv2d                                    262144     False     \n",
              "BatchNorm2d                               512        True      \n",
              "Conv2d                                    589824     False     \n",
              "BatchNorm2d                               512        True      \n",
              "____________________________________________________________________________\n",
              "                     8 x 1024 x 20 x 20  \n",
              "Conv2d                                    262144     False     \n",
              "BatchNorm2d                               2048       True      \n",
              "ReLU                                                           \n",
              "____________________________________________________________________________\n",
              "                     8 x 256 x 20 x 20   \n",
              "Conv2d                                    262144     False     \n",
              "BatchNorm2d                               512        True      \n",
              "Conv2d                                    589824     False     \n",
              "BatchNorm2d                               512        True      \n",
              "____________________________________________________________________________\n",
              "                     8 x 1024 x 20 x 20  \n",
              "Conv2d                                    262144     False     \n",
              "BatchNorm2d                               2048       True      \n",
              "ReLU                                                           \n",
              "____________________________________________________________________________\n",
              "                     8 x 256 x 20 x 20   \n",
              "Conv2d                                    262144     False     \n",
              "BatchNorm2d                               512        True      \n",
              "Conv2d                                    589824     False     \n",
              "BatchNorm2d                               512        True      \n",
              "____________________________________________________________________________\n",
              "                     8 x 1024 x 20 x 20  \n",
              "Conv2d                                    262144     False     \n",
              "BatchNorm2d                               2048       True      \n",
              "ReLU                                                           \n",
              "____________________________________________________________________________\n",
              "                     8 x 256 x 20 x 20   \n",
              "Conv2d                                    262144     False     \n",
              "BatchNorm2d                               512        True      \n",
              "Conv2d                                    589824     False     \n",
              "BatchNorm2d                               512        True      \n",
              "____________________________________________________________________________\n",
              "                     8 x 1024 x 20 x 20  \n",
              "Conv2d                                    262144     False     \n",
              "BatchNorm2d                               2048       True      \n",
              "ReLU                                                           \n",
              "____________________________________________________________________________\n",
              "                     8 x 512 x 20 x 20   \n",
              "Conv2d                                    524288     False     \n",
              "BatchNorm2d                               1024       True      \n",
              "____________________________________________________________________________\n",
              "                     8 x 512 x 10 x 10   \n",
              "Conv2d                                    2359296    False     \n",
              "BatchNorm2d                               1024       True      \n",
              "____________________________________________________________________________\n",
              "                     8 x 2048 x 10 x 10  \n",
              "Conv2d                                    1048576    False     \n",
              "BatchNorm2d                               4096       True      \n",
              "ReLU                                                           \n",
              "Conv2d                                    2097152    False     \n",
              "BatchNorm2d                               4096       True      \n",
              "____________________________________________________________________________\n",
              "                     8 x 512 x 10 x 10   \n",
              "Conv2d                                    1048576    False     \n",
              "BatchNorm2d                               1024       True      \n",
              "Conv2d                                    2359296    False     \n",
              "BatchNorm2d                               1024       True      \n",
              "____________________________________________________________________________\n",
              "                     8 x 2048 x 10 x 10  \n",
              "Conv2d                                    1048576    False     \n",
              "BatchNorm2d                               4096       True      \n",
              "ReLU                                                           \n",
              "____________________________________________________________________________\n",
              "                     8 x 512 x 10 x 10   \n",
              "Conv2d                                    1048576    False     \n",
              "BatchNorm2d                               1024       True      \n",
              "Conv2d                                    2359296    False     \n",
              "BatchNorm2d                               1024       True      \n",
              "____________________________________________________________________________\n",
              "                     8 x 2048 x 10 x 10  \n",
              "Conv2d                                    1048576    False     \n",
              "BatchNorm2d                               4096       True      \n",
              "ReLU                                                           \n",
              "____________________________________________________________________________\n",
              "                     8 x 2048 x 1 x 1    \n",
              "AdaptiveAvgPool2d                                              \n",
              "AdaptiveMaxPool2d                                              \n",
              "____________________________________________________________________________\n",
              "                     8 x 4096            \n",
              "Flatten                                                        \n",
              "BatchNorm1d                               8192       True      \n",
              "Dropout                                                        \n",
              "____________________________________________________________________________\n",
              "                     8 x 512             \n",
              "Linear                                    2097152    True      \n",
              "ReLU                                                           \n",
              "BatchNorm1d                               1024       True      \n",
              "Dropout                                                        \n",
              "____________________________________________________________________________\n",
              "                     8 x 2               \n",
              "Linear                                    1024       True      \n",
              "____________________________________________________________________________\n",
              "\n",
              "Total params: 25,615,424\n",
              "Total trainable params: 2,160,512\n",
              "Total non-trainable params: 23,454,912\n",
              "\n",
              "Optimizer used: <function Adam at 0x7f3873aedc20>\n",
              "Loss function: FlattenedLoss of CrossEntropyLoss()\n",
              "\n",
              "Model frozen up to parameter group #2\n",
              "\n",
              "Callbacks:\n",
              "  - TrainEvalCallback\n",
              "  - Recorder\n",
              "  - ProgressCallback"
            ],
            "application/vnd.google.colaboratory.intrinsic+json": {
              "type": "string"
            }
          },
          "metadata": {},
          "execution_count": 35
        }
      ]
    },
    {
      "cell_type": "markdown",
      "source": [
        "Again, the backbone of the model is frozen, so we are only training about 2 million parameters instead of the more than 25 million possible paramters. "
      ],
      "metadata": {
        "id": "6GsBhDSzqEPQ"
      }
    },
    {
      "cell_type": "code",
      "source": [
        "learn.fit_one_cycle(10,slice(0.001))"
      ],
      "metadata": {
        "colab": {
          "base_uri": "https://localhost:8080/",
          "height": 363
        },
        "id": "bp3KS7unoki7",
        "outputId": "85a418bc-3ea0-4f19-d8c1-2913cae32e1d"
      },
      "execution_count": 36,
      "outputs": [
        {
          "output_type": "display_data",
          "data": {
            "text/plain": [
              "<IPython.core.display.HTML object>"
            ],
            "text/html": [
              "\n",
              "<style>\n",
              "    /* Turns off some styling */\n",
              "    progress {\n",
              "        /* gets rid of default border in Firefox and Opera. */\n",
              "        border: none;\n",
              "        /* Needs to be in here for Safari polyfill so background images work as expected. */\n",
              "        background-size: auto;\n",
              "    }\n",
              "    .progress-bar-interrupted, .progress-bar-interrupted::-webkit-progress-bar {\n",
              "        background: #F44336;\n",
              "    }\n",
              "</style>\n"
            ]
          },
          "metadata": {}
        },
        {
          "output_type": "display_data",
          "data": {
            "text/plain": [
              "<IPython.core.display.HTML object>"
            ],
            "text/html": [
              "<table border=\"1\" class=\"dataframe\">\n",
              "  <thead>\n",
              "    <tr style=\"text-align: left;\">\n",
              "      <th>epoch</th>\n",
              "      <th>train_loss</th>\n",
              "      <th>valid_loss</th>\n",
              "      <th>accuracy</th>\n",
              "      <th>time</th>\n",
              "    </tr>\n",
              "  </thead>\n",
              "  <tbody>\n",
              "    <tr>\n",
              "      <td>0</td>\n",
              "      <td>0.761679</td>\n",
              "      <td>0.377895</td>\n",
              "      <td>0.836111</td>\n",
              "      <td>00:59</td>\n",
              "    </tr>\n",
              "    <tr>\n",
              "      <td>1</td>\n",
              "      <td>0.454088</td>\n",
              "      <td>0.595084</td>\n",
              "      <td>0.772222</td>\n",
              "      <td>00:57</td>\n",
              "    </tr>\n",
              "    <tr>\n",
              "      <td>2</td>\n",
              "      <td>0.304167</td>\n",
              "      <td>0.311775</td>\n",
              "      <td>0.877778</td>\n",
              "      <td>00:58</td>\n",
              "    </tr>\n",
              "    <tr>\n",
              "      <td>3</td>\n",
              "      <td>0.249794</td>\n",
              "      <td>0.127629</td>\n",
              "      <td>0.958333</td>\n",
              "      <td>00:58</td>\n",
              "    </tr>\n",
              "    <tr>\n",
              "      <td>4</td>\n",
              "      <td>0.151435</td>\n",
              "      <td>0.120721</td>\n",
              "      <td>0.944444</td>\n",
              "      <td>00:58</td>\n",
              "    </tr>\n",
              "    <tr>\n",
              "      <td>5</td>\n",
              "      <td>0.184356</td>\n",
              "      <td>0.174043</td>\n",
              "      <td>0.916667</td>\n",
              "      <td>00:58</td>\n",
              "    </tr>\n",
              "    <tr>\n",
              "      <td>6</td>\n",
              "      <td>0.173947</td>\n",
              "      <td>0.112050</td>\n",
              "      <td>0.955556</td>\n",
              "      <td>00:58</td>\n",
              "    </tr>\n",
              "    <tr>\n",
              "      <td>7</td>\n",
              "      <td>0.125289</td>\n",
              "      <td>0.123285</td>\n",
              "      <td>0.952778</td>\n",
              "      <td>00:58</td>\n",
              "    </tr>\n",
              "    <tr>\n",
              "      <td>8</td>\n",
              "      <td>0.111711</td>\n",
              "      <td>0.128008</td>\n",
              "      <td>0.947222</td>\n",
              "      <td>00:58</td>\n",
              "    </tr>\n",
              "    <tr>\n",
              "      <td>9</td>\n",
              "      <td>0.128587</td>\n",
              "      <td>0.135810</td>\n",
              "      <td>0.941667</td>\n",
              "      <td>00:58</td>\n",
              "    </tr>\n",
              "  </tbody>\n",
              "</table>"
            ]
          },
          "metadata": {}
        }
      ]
    },
    {
      "cell_type": "markdown",
      "source": [
        "Now let's look at what training the ResNet50 unfrozen looks like"
      ],
      "metadata": {
        "id": "JK3MST0VqSAY"
      }
    },
    {
      "cell_type": "code",
      "source": [
        "learn.unfreeze() #Unfreeze the backbone model parameters"
      ],
      "metadata": {
        "id": "cHaMacc5s5NJ"
      },
      "execution_count": 37,
      "outputs": []
    },
    {
      "cell_type": "code",
      "source": [
        "learn.summary()"
      ],
      "metadata": {
        "colab": {
          "base_uri": "https://localhost:8080/",
          "height": 1000
        },
        "id": "D1wKRuY8s-EU",
        "outputId": "da3fd7b5-3cfb-4857-cbc3-6e21d1109972"
      },
      "execution_count": 38,
      "outputs": [
        {
          "output_type": "display_data",
          "data": {
            "text/plain": [
              "<IPython.core.display.HTML object>"
            ],
            "text/html": [
              "\n",
              "<style>\n",
              "    /* Turns off some styling */\n",
              "    progress {\n",
              "        /* gets rid of default border in Firefox and Opera. */\n",
              "        border: none;\n",
              "        /* Needs to be in here for Safari polyfill so background images work as expected. */\n",
              "        background-size: auto;\n",
              "    }\n",
              "    .progress-bar-interrupted, .progress-bar-interrupted::-webkit-progress-bar {\n",
              "        background: #F44336;\n",
              "    }\n",
              "</style>\n"
            ]
          },
          "metadata": {}
        },
        {
          "output_type": "display_data",
          "data": {
            "text/plain": [
              "<IPython.core.display.HTML object>"
            ],
            "text/html": [
              ""
            ]
          },
          "metadata": {}
        },
        {
          "output_type": "execute_result",
          "data": {
            "text/plain": [
              "Sequential (Input shape: 8 x 3 x 320 x 320)\n",
              "============================================================================\n",
              "Layer (type)         Output Shape         Param #    Trainable \n",
              "============================================================================\n",
              "                     8 x 64 x 160 x 160  \n",
              "Conv2d                                    9408       True      \n",
              "BatchNorm2d                               128        True      \n",
              "ReLU                                                           \n",
              "____________________________________________________________________________\n",
              "                     8 x 64 x 80 x 80    \n",
              "MaxPool2d                                                      \n",
              "Conv2d                                    4096       True      \n",
              "BatchNorm2d                               128        True      \n",
              "Conv2d                                    36864      True      \n",
              "BatchNorm2d                               128        True      \n",
              "____________________________________________________________________________\n",
              "                     8 x 256 x 80 x 80   \n",
              "Conv2d                                    16384      True      \n",
              "BatchNorm2d                               512        True      \n",
              "ReLU                                                           \n",
              "Conv2d                                    16384      True      \n",
              "BatchNorm2d                               512        True      \n",
              "____________________________________________________________________________\n",
              "                     8 x 64 x 80 x 80    \n",
              "Conv2d                                    16384      True      \n",
              "BatchNorm2d                               128        True      \n",
              "Conv2d                                    36864      True      \n",
              "BatchNorm2d                               128        True      \n",
              "____________________________________________________________________________\n",
              "                     8 x 256 x 80 x 80   \n",
              "Conv2d                                    16384      True      \n",
              "BatchNorm2d                               512        True      \n",
              "ReLU                                                           \n",
              "____________________________________________________________________________\n",
              "                     8 x 64 x 80 x 80    \n",
              "Conv2d                                    16384      True      \n",
              "BatchNorm2d                               128        True      \n",
              "Conv2d                                    36864      True      \n",
              "BatchNorm2d                               128        True      \n",
              "____________________________________________________________________________\n",
              "                     8 x 256 x 80 x 80   \n",
              "Conv2d                                    16384      True      \n",
              "BatchNorm2d                               512        True      \n",
              "ReLU                                                           \n",
              "____________________________________________________________________________\n",
              "                     8 x 128 x 80 x 80   \n",
              "Conv2d                                    32768      True      \n",
              "BatchNorm2d                               256        True      \n",
              "____________________________________________________________________________\n",
              "                     8 x 128 x 40 x 40   \n",
              "Conv2d                                    147456     True      \n",
              "BatchNorm2d                               256        True      \n",
              "____________________________________________________________________________\n",
              "                     8 x 512 x 40 x 40   \n",
              "Conv2d                                    65536      True      \n",
              "BatchNorm2d                               1024       True      \n",
              "ReLU                                                           \n",
              "Conv2d                                    131072     True      \n",
              "BatchNorm2d                               1024       True      \n",
              "____________________________________________________________________________\n",
              "                     8 x 128 x 40 x 40   \n",
              "Conv2d                                    65536      True      \n",
              "BatchNorm2d                               256        True      \n",
              "Conv2d                                    147456     True      \n",
              "BatchNorm2d                               256        True      \n",
              "____________________________________________________________________________\n",
              "                     8 x 512 x 40 x 40   \n",
              "Conv2d                                    65536      True      \n",
              "BatchNorm2d                               1024       True      \n",
              "ReLU                                                           \n",
              "____________________________________________________________________________\n",
              "                     8 x 128 x 40 x 40   \n",
              "Conv2d                                    65536      True      \n",
              "BatchNorm2d                               256        True      \n",
              "Conv2d                                    147456     True      \n",
              "BatchNorm2d                               256        True      \n",
              "____________________________________________________________________________\n",
              "                     8 x 512 x 40 x 40   \n",
              "Conv2d                                    65536      True      \n",
              "BatchNorm2d                               1024       True      \n",
              "ReLU                                                           \n",
              "____________________________________________________________________________\n",
              "                     8 x 128 x 40 x 40   \n",
              "Conv2d                                    65536      True      \n",
              "BatchNorm2d                               256        True      \n",
              "Conv2d                                    147456     True      \n",
              "BatchNorm2d                               256        True      \n",
              "____________________________________________________________________________\n",
              "                     8 x 512 x 40 x 40   \n",
              "Conv2d                                    65536      True      \n",
              "BatchNorm2d                               1024       True      \n",
              "ReLU                                                           \n",
              "____________________________________________________________________________\n",
              "                     8 x 256 x 40 x 40   \n",
              "Conv2d                                    131072     True      \n",
              "BatchNorm2d                               512        True      \n",
              "____________________________________________________________________________\n",
              "                     8 x 256 x 20 x 20   \n",
              "Conv2d                                    589824     True      \n",
              "BatchNorm2d                               512        True      \n",
              "____________________________________________________________________________\n",
              "                     8 x 1024 x 20 x 20  \n",
              "Conv2d                                    262144     True      \n",
              "BatchNorm2d                               2048       True      \n",
              "ReLU                                                           \n",
              "Conv2d                                    524288     True      \n",
              "BatchNorm2d                               2048       True      \n",
              "____________________________________________________________________________\n",
              "                     8 x 256 x 20 x 20   \n",
              "Conv2d                                    262144     True      \n",
              "BatchNorm2d                               512        True      \n",
              "Conv2d                                    589824     True      \n",
              "BatchNorm2d                               512        True      \n",
              "____________________________________________________________________________\n",
              "                     8 x 1024 x 20 x 20  \n",
              "Conv2d                                    262144     True      \n",
              "BatchNorm2d                               2048       True      \n",
              "ReLU                                                           \n",
              "____________________________________________________________________________\n",
              "                     8 x 256 x 20 x 20   \n",
              "Conv2d                                    262144     True      \n",
              "BatchNorm2d                               512        True      \n",
              "Conv2d                                    589824     True      \n",
              "BatchNorm2d                               512        True      \n",
              "____________________________________________________________________________\n",
              "                     8 x 1024 x 20 x 20  \n",
              "Conv2d                                    262144     True      \n",
              "BatchNorm2d                               2048       True      \n",
              "ReLU                                                           \n",
              "____________________________________________________________________________\n",
              "                     8 x 256 x 20 x 20   \n",
              "Conv2d                                    262144     True      \n",
              "BatchNorm2d                               512        True      \n",
              "Conv2d                                    589824     True      \n",
              "BatchNorm2d                               512        True      \n",
              "____________________________________________________________________________\n",
              "                     8 x 1024 x 20 x 20  \n",
              "Conv2d                                    262144     True      \n",
              "BatchNorm2d                               2048       True      \n",
              "ReLU                                                           \n",
              "____________________________________________________________________________\n",
              "                     8 x 256 x 20 x 20   \n",
              "Conv2d                                    262144     True      \n",
              "BatchNorm2d                               512        True      \n",
              "Conv2d                                    589824     True      \n",
              "BatchNorm2d                               512        True      \n",
              "____________________________________________________________________________\n",
              "                     8 x 1024 x 20 x 20  \n",
              "Conv2d                                    262144     True      \n",
              "BatchNorm2d                               2048       True      \n",
              "ReLU                                                           \n",
              "____________________________________________________________________________\n",
              "                     8 x 256 x 20 x 20   \n",
              "Conv2d                                    262144     True      \n",
              "BatchNorm2d                               512        True      \n",
              "Conv2d                                    589824     True      \n",
              "BatchNorm2d                               512        True      \n",
              "____________________________________________________________________________\n",
              "                     8 x 1024 x 20 x 20  \n",
              "Conv2d                                    262144     True      \n",
              "BatchNorm2d                               2048       True      \n",
              "ReLU                                                           \n",
              "____________________________________________________________________________\n",
              "                     8 x 512 x 20 x 20   \n",
              "Conv2d                                    524288     True      \n",
              "BatchNorm2d                               1024       True      \n",
              "____________________________________________________________________________\n",
              "                     8 x 512 x 10 x 10   \n",
              "Conv2d                                    2359296    True      \n",
              "BatchNorm2d                               1024       True      \n",
              "____________________________________________________________________________\n",
              "                     8 x 2048 x 10 x 10  \n",
              "Conv2d                                    1048576    True      \n",
              "BatchNorm2d                               4096       True      \n",
              "ReLU                                                           \n",
              "Conv2d                                    2097152    True      \n",
              "BatchNorm2d                               4096       True      \n",
              "____________________________________________________________________________\n",
              "                     8 x 512 x 10 x 10   \n",
              "Conv2d                                    1048576    True      \n",
              "BatchNorm2d                               1024       True      \n",
              "Conv2d                                    2359296    True      \n",
              "BatchNorm2d                               1024       True      \n",
              "____________________________________________________________________________\n",
              "                     8 x 2048 x 10 x 10  \n",
              "Conv2d                                    1048576    True      \n",
              "BatchNorm2d                               4096       True      \n",
              "ReLU                                                           \n",
              "____________________________________________________________________________\n",
              "                     8 x 512 x 10 x 10   \n",
              "Conv2d                                    1048576    True      \n",
              "BatchNorm2d                               1024       True      \n",
              "Conv2d                                    2359296    True      \n",
              "BatchNorm2d                               1024       True      \n",
              "____________________________________________________________________________\n",
              "                     8 x 2048 x 10 x 10  \n",
              "Conv2d                                    1048576    True      \n",
              "BatchNorm2d                               4096       True      \n",
              "ReLU                                                           \n",
              "____________________________________________________________________________\n",
              "                     8 x 2048 x 1 x 1    \n",
              "AdaptiveAvgPool2d                                              \n",
              "AdaptiveMaxPool2d                                              \n",
              "____________________________________________________________________________\n",
              "                     8 x 4096            \n",
              "Flatten                                                        \n",
              "BatchNorm1d                               8192       True      \n",
              "Dropout                                                        \n",
              "____________________________________________________________________________\n",
              "                     8 x 512             \n",
              "Linear                                    2097152    True      \n",
              "ReLU                                                           \n",
              "BatchNorm1d                               1024       True      \n",
              "Dropout                                                        \n",
              "____________________________________________________________________________\n",
              "                     8 x 2               \n",
              "Linear                                    1024       True      \n",
              "____________________________________________________________________________\n",
              "\n",
              "Total params: 25,615,424\n",
              "Total trainable params: 25,615,424\n",
              "Total non-trainable params: 0\n",
              "\n",
              "Optimizer used: <function Adam at 0x7f3873aedc20>\n",
              "Loss function: FlattenedLoss of CrossEntropyLoss()\n",
              "\n",
              "Model unfrozen\n",
              "\n",
              "Callbacks:\n",
              "  - TrainEvalCallback\n",
              "  - Recorder\n",
              "  - ProgressCallback"
            ],
            "application/vnd.google.colaboratory.intrinsic+json": {
              "type": "string"
            }
          },
          "metadata": {},
          "execution_count": 38
        }
      ]
    },
    {
      "cell_type": "code",
      "source": [
        "learn.fit_one_cycle(10,slice(0.001))"
      ],
      "metadata": {
        "colab": {
          "base_uri": "https://localhost:8080/",
          "height": 363
        },
        "id": "Kgq6dSMHtAI8",
        "outputId": "bbb6c585-f4bc-4f18-fa2a-1f88614d7d7d"
      },
      "execution_count": 39,
      "outputs": [
        {
          "output_type": "display_data",
          "data": {
            "text/plain": [
              "<IPython.core.display.HTML object>"
            ],
            "text/html": [
              "\n",
              "<style>\n",
              "    /* Turns off some styling */\n",
              "    progress {\n",
              "        /* gets rid of default border in Firefox and Opera. */\n",
              "        border: none;\n",
              "        /* Needs to be in here for Safari polyfill so background images work as expected. */\n",
              "        background-size: auto;\n",
              "    }\n",
              "    .progress-bar-interrupted, .progress-bar-interrupted::-webkit-progress-bar {\n",
              "        background: #F44336;\n",
              "    }\n",
              "</style>\n"
            ]
          },
          "metadata": {}
        },
        {
          "output_type": "display_data",
          "data": {
            "text/plain": [
              "<IPython.core.display.HTML object>"
            ],
            "text/html": [
              "<table border=\"1\" class=\"dataframe\">\n",
              "  <thead>\n",
              "    <tr style=\"text-align: left;\">\n",
              "      <th>epoch</th>\n",
              "      <th>train_loss</th>\n",
              "      <th>valid_loss</th>\n",
              "      <th>accuracy</th>\n",
              "      <th>time</th>\n",
              "    </tr>\n",
              "  </thead>\n",
              "  <tbody>\n",
              "    <tr>\n",
              "      <td>0</td>\n",
              "      <td>0.168888</td>\n",
              "      <td>0.380795</td>\n",
              "      <td>0.866667</td>\n",
              "      <td>01:15</td>\n",
              "    </tr>\n",
              "    <tr>\n",
              "      <td>1</td>\n",
              "      <td>0.169642</td>\n",
              "      <td>0.170051</td>\n",
              "      <td>0.925000</td>\n",
              "      <td>01:14</td>\n",
              "    </tr>\n",
              "    <tr>\n",
              "      <td>2</td>\n",
              "      <td>0.233457</td>\n",
              "      <td>0.423999</td>\n",
              "      <td>0.813889</td>\n",
              "      <td>01:14</td>\n",
              "    </tr>\n",
              "    <tr>\n",
              "      <td>3</td>\n",
              "      <td>0.174540</td>\n",
              "      <td>0.067127</td>\n",
              "      <td>0.980556</td>\n",
              "      <td>01:14</td>\n",
              "    </tr>\n",
              "    <tr>\n",
              "      <td>4</td>\n",
              "      <td>0.176919</td>\n",
              "      <td>0.211945</td>\n",
              "      <td>0.886111</td>\n",
              "      <td>01:14</td>\n",
              "    </tr>\n",
              "    <tr>\n",
              "      <td>5</td>\n",
              "      <td>0.148355</td>\n",
              "      <td>0.035244</td>\n",
              "      <td>0.986111</td>\n",
              "      <td>01:14</td>\n",
              "    </tr>\n",
              "    <tr>\n",
              "      <td>6</td>\n",
              "      <td>0.078041</td>\n",
              "      <td>0.037597</td>\n",
              "      <td>0.986111</td>\n",
              "      <td>01:14</td>\n",
              "    </tr>\n",
              "    <tr>\n",
              "      <td>7</td>\n",
              "      <td>0.043870</td>\n",
              "      <td>0.081918</td>\n",
              "      <td>0.963889</td>\n",
              "      <td>01:14</td>\n",
              "    </tr>\n",
              "    <tr>\n",
              "      <td>8</td>\n",
              "      <td>0.039374</td>\n",
              "      <td>0.018487</td>\n",
              "      <td>0.991667</td>\n",
              "      <td>01:14</td>\n",
              "    </tr>\n",
              "    <tr>\n",
              "      <td>9</td>\n",
              "      <td>0.037614</td>\n",
              "      <td>0.018455</td>\n",
              "      <td>0.997222</td>\n",
              "      <td>01:14</td>\n",
              "    </tr>\n",
              "  </tbody>\n",
              "</table>"
            ]
          },
          "metadata": {}
        }
      ]
    },
    {
      "cell_type": "markdown",
      "source": [
        "Clearly, unfreezing the backbone is helpful as now we have our best performance so far. "
      ],
      "metadata": {
        "id": "RXHufgRTwQEn"
      }
    },
    {
      "cell_type": "markdown",
      "source": [
        "Let's now briefly look at another popular architecture, DenseNet"
      ],
      "metadata": {
        "id": "FqC85rESwXZL"
      }
    },
    {
      "cell_type": "code",
      "source": [
        "learn = cnn_learner(dls, densenet121, metrics=[accuracy], pretrained=True)"
      ],
      "metadata": {
        "colab": {
          "base_uri": "https://localhost:8080/",
          "height": 66,
          "referenced_widgets": [
            "722351fbb41d4131acb05e6dcb97ca06",
            "12569d6b573a4b88a23e7e845a4430a2",
            "3ba519d2374b4912a94e4a121fa2f48e",
            "10e2ea5d27f242f6bebcaec497850157",
            "56d76b8914b74e85a3eb69c93b490b63",
            "89e179c9a66f4a57aa04571810b7a97d",
            "0f3edc2c9fa0426eba78dc45a0733259",
            "582380f5752b447aa52b601f4011756b",
            "40dac0d451284a4c9157e4fe25180f18",
            "423651b10f46447e9c11a1a9da4f8f85",
            "9179523fe01a4f04ae1f9842c18c0a97"
          ]
        },
        "id": "xcehGbRhwgA3",
        "outputId": "2c2f1413-d99c-4e54-9921-0f51cfc5d09b"
      },
      "execution_count": 40,
      "outputs": [
        {
          "output_type": "stream",
          "name": "stderr",
          "text": [
            "Downloading: \"https://download.pytorch.org/models/densenet121-a639ec97.pth\" to /root/.cache/torch/hub/checkpoints/densenet121-a639ec97.pth\n"
          ]
        },
        {
          "output_type": "display_data",
          "data": {
            "text/plain": [
              "  0%|          | 0.00/30.8M [00:00<?, ?B/s]"
            ],
            "application/vnd.jupyter.widget-view+json": {
              "version_major": 2,
              "version_minor": 0,
              "model_id": "722351fbb41d4131acb05e6dcb97ca06"
            }
          },
          "metadata": {}
        }
      ]
    },
    {
      "cell_type": "code",
      "source": [
        "learn.summary()"
      ],
      "metadata": {
        "colab": {
          "base_uri": "https://localhost:8080/",
          "height": 1000
        },
        "id": "gOtwl1nYwmsM",
        "outputId": "8433c6f6-b5a5-4a44-a448-6d7ae96ed5f0"
      },
      "execution_count": 41,
      "outputs": [
        {
          "output_type": "display_data",
          "data": {
            "text/plain": [
              "<IPython.core.display.HTML object>"
            ],
            "text/html": [
              "\n",
              "<style>\n",
              "    /* Turns off some styling */\n",
              "    progress {\n",
              "        /* gets rid of default border in Firefox and Opera. */\n",
              "        border: none;\n",
              "        /* Needs to be in here for Safari polyfill so background images work as expected. */\n",
              "        background-size: auto;\n",
              "    }\n",
              "    .progress-bar-interrupted, .progress-bar-interrupted::-webkit-progress-bar {\n",
              "        background: #F44336;\n",
              "    }\n",
              "</style>\n"
            ]
          },
          "metadata": {}
        },
        {
          "output_type": "display_data",
          "data": {
            "text/plain": [
              "<IPython.core.display.HTML object>"
            ],
            "text/html": [
              ""
            ]
          },
          "metadata": {}
        },
        {
          "output_type": "execute_result",
          "data": {
            "text/plain": [
              "Sequential (Input shape: 8 x 3 x 320 x 320)\n",
              "============================================================================\n",
              "Layer (type)         Output Shape         Param #    Trainable \n",
              "============================================================================\n",
              "                     8 x 64 x 160 x 160  \n",
              "Conv2d                                    9408       False     \n",
              "BatchNorm2d                               128        True      \n",
              "ReLU                                                           \n",
              "____________________________________________________________________________\n",
              "                     8 x 64 x 80 x 80    \n",
              "MaxPool2d                                                      \n",
              "BatchNorm2d                               128        True      \n",
              "ReLU                                                           \n",
              "____________________________________________________________________________\n",
              "                     8 x 128 x 80 x 80   \n",
              "Conv2d                                    8192       False     \n",
              "BatchNorm2d                               256        True      \n",
              "ReLU                                                           \n",
              "____________________________________________________________________________\n",
              "                     8 x 32 x 80 x 80    \n",
              "Conv2d                                    36864      False     \n",
              "BatchNorm2d                               192        True      \n",
              "ReLU                                                           \n",
              "____________________________________________________________________________\n",
              "                     8 x 128 x 80 x 80   \n",
              "Conv2d                                    12288      False     \n",
              "BatchNorm2d                               256        True      \n",
              "ReLU                                                           \n",
              "____________________________________________________________________________\n",
              "                     8 x 32 x 80 x 80    \n",
              "Conv2d                                    36864      False     \n",
              "BatchNorm2d                               256        True      \n",
              "ReLU                                                           \n",
              "Conv2d                                    16384      False     \n",
              "BatchNorm2d                               256        True      \n",
              "ReLU                                                           \n",
              "____________________________________________________________________________\n",
              "                     8 x 32 x 80 x 80    \n",
              "Conv2d                                    36864      False     \n",
              "BatchNorm2d                               320        True      \n",
              "ReLU                                                           \n",
              "____________________________________________________________________________\n",
              "                     8 x 128 x 80 x 80   \n",
              "Conv2d                                    20480      False     \n",
              "BatchNorm2d                               256        True      \n",
              "ReLU                                                           \n",
              "____________________________________________________________________________\n",
              "                     8 x 32 x 80 x 80    \n",
              "Conv2d                                    36864      False     \n",
              "BatchNorm2d                               384        True      \n",
              "ReLU                                                           \n",
              "____________________________________________________________________________\n",
              "                     8 x 128 x 80 x 80   \n",
              "Conv2d                                    24576      False     \n",
              "BatchNorm2d                               256        True      \n",
              "ReLU                                                           \n",
              "____________________________________________________________________________\n",
              "                     8 x 32 x 80 x 80    \n",
              "Conv2d                                    36864      False     \n",
              "BatchNorm2d                               448        True      \n",
              "ReLU                                                           \n",
              "____________________________________________________________________________\n",
              "                     8 x 128 x 80 x 80   \n",
              "Conv2d                                    28672      False     \n",
              "BatchNorm2d                               256        True      \n",
              "ReLU                                                           \n",
              "____________________________________________________________________________\n",
              "                     8 x 32 x 80 x 80    \n",
              "Conv2d                                    36864      False     \n",
              "BatchNorm2d                               512        True      \n",
              "ReLU                                                           \n",
              "____________________________________________________________________________\n",
              "                     8 x 128 x 80 x 80   \n",
              "Conv2d                                    32768      False     \n",
              "____________________________________________________________________________\n",
              "                     8 x 128 x 40 x 40   \n",
              "AvgPool2d                                                      \n",
              "BatchNorm2d                               256        True      \n",
              "ReLU                                                           \n",
              "Conv2d                                    16384      False     \n",
              "BatchNorm2d                               256        True      \n",
              "ReLU                                                           \n",
              "____________________________________________________________________________\n",
              "                     8 x 32 x 40 x 40    \n",
              "Conv2d                                    36864      False     \n",
              "BatchNorm2d                               320        True      \n",
              "ReLU                                                           \n",
              "____________________________________________________________________________\n",
              "                     8 x 128 x 40 x 40   \n",
              "Conv2d                                    20480      False     \n",
              "BatchNorm2d                               256        True      \n",
              "ReLU                                                           \n",
              "____________________________________________________________________________\n",
              "                     8 x 32 x 40 x 40    \n",
              "Conv2d                                    36864      False     \n",
              "BatchNorm2d                               384        True      \n",
              "ReLU                                                           \n",
              "____________________________________________________________________________\n",
              "                     8 x 128 x 40 x 40   \n",
              "Conv2d                                    24576      False     \n",
              "BatchNorm2d                               256        True      \n",
              "ReLU                                                           \n",
              "____________________________________________________________________________\n",
              "                     8 x 32 x 40 x 40    \n",
              "Conv2d                                    36864      False     \n",
              "BatchNorm2d                               448        True      \n",
              "ReLU                                                           \n",
              "____________________________________________________________________________\n",
              "                     8 x 128 x 40 x 40   \n",
              "Conv2d                                    28672      False     \n",
              "BatchNorm2d                               256        True      \n",
              "ReLU                                                           \n",
              "____________________________________________________________________________\n",
              "                     8 x 32 x 40 x 40    \n",
              "Conv2d                                    36864      False     \n",
              "BatchNorm2d                               512        True      \n",
              "ReLU                                                           \n",
              "____________________________________________________________________________\n",
              "                     8 x 128 x 40 x 40   \n",
              "Conv2d                                    32768      False     \n",
              "BatchNorm2d                               256        True      \n",
              "ReLU                                                           \n",
              "____________________________________________________________________________\n",
              "                     8 x 32 x 40 x 40    \n",
              "Conv2d                                    36864      False     \n",
              "BatchNorm2d                               576        True      \n",
              "ReLU                                                           \n",
              "____________________________________________________________________________\n",
              "                     8 x 128 x 40 x 40   \n",
              "Conv2d                                    36864      False     \n",
              "BatchNorm2d                               256        True      \n",
              "ReLU                                                           \n",
              "____________________________________________________________________________\n",
              "                     8 x 32 x 40 x 40    \n",
              "Conv2d                                    36864      False     \n",
              "BatchNorm2d                               640        True      \n",
              "ReLU                                                           \n",
              "____________________________________________________________________________\n",
              "                     8 x 128 x 40 x 40   \n",
              "Conv2d                                    40960      False     \n",
              "BatchNorm2d                               256        True      \n",
              "ReLU                                                           \n",
              "____________________________________________________________________________\n",
              "                     8 x 32 x 40 x 40    \n",
              "Conv2d                                    36864      False     \n",
              "BatchNorm2d                               704        True      \n",
              "ReLU                                                           \n",
              "____________________________________________________________________________\n",
              "                     8 x 128 x 40 x 40   \n",
              "Conv2d                                    45056      False     \n",
              "BatchNorm2d                               256        True      \n",
              "ReLU                                                           \n",
              "____________________________________________________________________________\n",
              "                     8 x 32 x 40 x 40    \n",
              "Conv2d                                    36864      False     \n",
              "BatchNorm2d                               768        True      \n",
              "ReLU                                                           \n",
              "____________________________________________________________________________\n",
              "                     8 x 128 x 40 x 40   \n",
              "Conv2d                                    49152      False     \n",
              "BatchNorm2d                               256        True      \n",
              "ReLU                                                           \n",
              "____________________________________________________________________________\n",
              "                     8 x 32 x 40 x 40    \n",
              "Conv2d                                    36864      False     \n",
              "BatchNorm2d                               832        True      \n",
              "ReLU                                                           \n",
              "____________________________________________________________________________\n",
              "                     8 x 128 x 40 x 40   \n",
              "Conv2d                                    53248      False     \n",
              "BatchNorm2d                               256        True      \n",
              "ReLU                                                           \n",
              "____________________________________________________________________________\n",
              "                     8 x 32 x 40 x 40    \n",
              "Conv2d                                    36864      False     \n",
              "BatchNorm2d                               896        True      \n",
              "ReLU                                                           \n",
              "____________________________________________________________________________\n",
              "                     8 x 128 x 40 x 40   \n",
              "Conv2d                                    57344      False     \n",
              "BatchNorm2d                               256        True      \n",
              "ReLU                                                           \n",
              "____________________________________________________________________________\n",
              "                     8 x 32 x 40 x 40    \n",
              "Conv2d                                    36864      False     \n",
              "BatchNorm2d                               960        True      \n",
              "ReLU                                                           \n",
              "____________________________________________________________________________\n",
              "                     8 x 128 x 40 x 40   \n",
              "Conv2d                                    61440      False     \n",
              "BatchNorm2d                               256        True      \n",
              "ReLU                                                           \n",
              "____________________________________________________________________________\n",
              "                     8 x 32 x 40 x 40    \n",
              "Conv2d                                    36864      False     \n",
              "BatchNorm2d                               1024       True      \n",
              "ReLU                                                           \n",
              "____________________________________________________________________________\n",
              "                     8 x 256 x 40 x 40   \n",
              "Conv2d                                    131072     False     \n",
              "____________________________________________________________________________\n",
              "                     8 x 256 x 20 x 20   \n",
              "AvgPool2d                                                      \n",
              "BatchNorm2d                               512        True      \n",
              "ReLU                                                           \n",
              "____________________________________________________________________________\n",
              "                     8 x 128 x 20 x 20   \n",
              "Conv2d                                    32768      False     \n",
              "BatchNorm2d                               256        True      \n",
              "ReLU                                                           \n",
              "____________________________________________________________________________\n",
              "                     8 x 32 x 20 x 20    \n",
              "Conv2d                                    36864      False     \n",
              "BatchNorm2d                               576        True      \n",
              "ReLU                                                           \n",
              "____________________________________________________________________________\n",
              "                     8 x 128 x 20 x 20   \n",
              "Conv2d                                    36864      False     \n",
              "BatchNorm2d                               256        True      \n",
              "ReLU                                                           \n",
              "____________________________________________________________________________\n",
              "                     8 x 32 x 20 x 20    \n",
              "Conv2d                                    36864      False     \n",
              "BatchNorm2d                               640        True      \n",
              "ReLU                                                           \n",
              "____________________________________________________________________________\n",
              "                     8 x 128 x 20 x 20   \n",
              "Conv2d                                    40960      False     \n",
              "BatchNorm2d                               256        True      \n",
              "ReLU                                                           \n",
              "____________________________________________________________________________\n",
              "                     8 x 32 x 20 x 20    \n",
              "Conv2d                                    36864      False     \n",
              "BatchNorm2d                               704        True      \n",
              "ReLU                                                           \n",
              "____________________________________________________________________________\n",
              "                     8 x 128 x 20 x 20   \n",
              "Conv2d                                    45056      False     \n",
              "BatchNorm2d                               256        True      \n",
              "ReLU                                                           \n",
              "____________________________________________________________________________\n",
              "                     8 x 32 x 20 x 20    \n",
              "Conv2d                                    36864      False     \n",
              "BatchNorm2d                               768        True      \n",
              "ReLU                                                           \n",
              "____________________________________________________________________________\n",
              "                     8 x 128 x 20 x 20   \n",
              "Conv2d                                    49152      False     \n",
              "BatchNorm2d                               256        True      \n",
              "ReLU                                                           \n",
              "____________________________________________________________________________\n",
              "                     8 x 32 x 20 x 20    \n",
              "Conv2d                                    36864      False     \n",
              "BatchNorm2d                               832        True      \n",
              "ReLU                                                           \n",
              "____________________________________________________________________________\n",
              "                     8 x 128 x 20 x 20   \n",
              "Conv2d                                    53248      False     \n",
              "BatchNorm2d                               256        True      \n",
              "ReLU                                                           \n",
              "____________________________________________________________________________\n",
              "                     8 x 32 x 20 x 20    \n",
              "Conv2d                                    36864      False     \n",
              "BatchNorm2d                               896        True      \n",
              "ReLU                                                           \n",
              "____________________________________________________________________________\n",
              "                     8 x 128 x 20 x 20   \n",
              "Conv2d                                    57344      False     \n",
              "BatchNorm2d                               256        True      \n",
              "ReLU                                                           \n",
              "____________________________________________________________________________\n",
              "                     8 x 32 x 20 x 20    \n",
              "Conv2d                                    36864      False     \n",
              "BatchNorm2d                               960        True      \n",
              "ReLU                                                           \n",
              "____________________________________________________________________________\n",
              "                     8 x 128 x 20 x 20   \n",
              "Conv2d                                    61440      False     \n",
              "BatchNorm2d                               256        True      \n",
              "ReLU                                                           \n",
              "____________________________________________________________________________\n",
              "                     8 x 32 x 20 x 20    \n",
              "Conv2d                                    36864      False     \n",
              "BatchNorm2d                               1024       True      \n",
              "ReLU                                                           \n",
              "____________________________________________________________________________\n",
              "                     8 x 128 x 20 x 20   \n",
              "Conv2d                                    65536      False     \n",
              "BatchNorm2d                               256        True      \n",
              "ReLU                                                           \n",
              "____________________________________________________________________________\n",
              "                     8 x 32 x 20 x 20    \n",
              "Conv2d                                    36864      False     \n",
              "BatchNorm2d                               1088       True      \n",
              "ReLU                                                           \n",
              "____________________________________________________________________________\n",
              "                     8 x 128 x 20 x 20   \n",
              "Conv2d                                    69632      False     \n",
              "BatchNorm2d                               256        True      \n",
              "ReLU                                                           \n",
              "____________________________________________________________________________\n",
              "                     8 x 32 x 20 x 20    \n",
              "Conv2d                                    36864      False     \n",
              "BatchNorm2d                               1152       True      \n",
              "ReLU                                                           \n",
              "____________________________________________________________________________\n",
              "                     8 x 128 x 20 x 20   \n",
              "Conv2d                                    73728      False     \n",
              "BatchNorm2d                               256        True      \n",
              "ReLU                                                           \n",
              "____________________________________________________________________________\n",
              "                     8 x 32 x 20 x 20    \n",
              "Conv2d                                    36864      False     \n",
              "BatchNorm2d                               1216       True      \n",
              "ReLU                                                           \n",
              "____________________________________________________________________________\n",
              "                     8 x 128 x 20 x 20   \n",
              "Conv2d                                    77824      False     \n",
              "BatchNorm2d                               256        True      \n",
              "ReLU                                                           \n",
              "____________________________________________________________________________\n",
              "                     8 x 32 x 20 x 20    \n",
              "Conv2d                                    36864      False     \n",
              "BatchNorm2d                               1280       True      \n",
              "ReLU                                                           \n",
              "____________________________________________________________________________\n",
              "                     8 x 128 x 20 x 20   \n",
              "Conv2d                                    81920      False     \n",
              "BatchNorm2d                               256        True      \n",
              "ReLU                                                           \n",
              "____________________________________________________________________________\n",
              "                     8 x 32 x 20 x 20    \n",
              "Conv2d                                    36864      False     \n",
              "BatchNorm2d                               1344       True      \n",
              "ReLU                                                           \n",
              "____________________________________________________________________________\n",
              "                     8 x 128 x 20 x 20   \n",
              "Conv2d                                    86016      False     \n",
              "BatchNorm2d                               256        True      \n",
              "ReLU                                                           \n",
              "____________________________________________________________________________\n",
              "                     8 x 32 x 20 x 20    \n",
              "Conv2d                                    36864      False     \n",
              "BatchNorm2d                               1408       True      \n",
              "ReLU                                                           \n",
              "____________________________________________________________________________\n",
              "                     8 x 128 x 20 x 20   \n",
              "Conv2d                                    90112      False     \n",
              "BatchNorm2d                               256        True      \n",
              "ReLU                                                           \n",
              "____________________________________________________________________________\n",
              "                     8 x 32 x 20 x 20    \n",
              "Conv2d                                    36864      False     \n",
              "BatchNorm2d                               1472       True      \n",
              "ReLU                                                           \n",
              "____________________________________________________________________________\n",
              "                     8 x 128 x 20 x 20   \n",
              "Conv2d                                    94208      False     \n",
              "BatchNorm2d                               256        True      \n",
              "ReLU                                                           \n",
              "____________________________________________________________________________\n",
              "                     8 x 32 x 20 x 20    \n",
              "Conv2d                                    36864      False     \n",
              "BatchNorm2d                               1536       True      \n",
              "ReLU                                                           \n",
              "____________________________________________________________________________\n",
              "                     8 x 128 x 20 x 20   \n",
              "Conv2d                                    98304      False     \n",
              "BatchNorm2d                               256        True      \n",
              "ReLU                                                           \n",
              "____________________________________________________________________________\n",
              "                     8 x 32 x 20 x 20    \n",
              "Conv2d                                    36864      False     \n",
              "BatchNorm2d                               1600       True      \n",
              "ReLU                                                           \n",
              "____________________________________________________________________________\n",
              "                     8 x 128 x 20 x 20   \n",
              "Conv2d                                    102400     False     \n",
              "BatchNorm2d                               256        True      \n",
              "ReLU                                                           \n",
              "____________________________________________________________________________\n",
              "                     8 x 32 x 20 x 20    \n",
              "Conv2d                                    36864      False     \n",
              "BatchNorm2d                               1664       True      \n",
              "ReLU                                                           \n",
              "____________________________________________________________________________\n",
              "                     8 x 128 x 20 x 20   \n",
              "Conv2d                                    106496     False     \n",
              "BatchNorm2d                               256        True      \n",
              "ReLU                                                           \n",
              "____________________________________________________________________________\n",
              "                     8 x 32 x 20 x 20    \n",
              "Conv2d                                    36864      False     \n",
              "BatchNorm2d                               1728       True      \n",
              "ReLU                                                           \n",
              "____________________________________________________________________________\n",
              "                     8 x 128 x 20 x 20   \n",
              "Conv2d                                    110592     False     \n",
              "BatchNorm2d                               256        True      \n",
              "ReLU                                                           \n",
              "____________________________________________________________________________\n",
              "                     8 x 32 x 20 x 20    \n",
              "Conv2d                                    36864      False     \n",
              "BatchNorm2d                               1792       True      \n",
              "ReLU                                                           \n",
              "____________________________________________________________________________\n",
              "                     8 x 128 x 20 x 20   \n",
              "Conv2d                                    114688     False     \n",
              "BatchNorm2d                               256        True      \n",
              "ReLU                                                           \n",
              "____________________________________________________________________________\n",
              "                     8 x 32 x 20 x 20    \n",
              "Conv2d                                    36864      False     \n",
              "BatchNorm2d                               1856       True      \n",
              "ReLU                                                           \n",
              "____________________________________________________________________________\n",
              "                     8 x 128 x 20 x 20   \n",
              "Conv2d                                    118784     False     \n",
              "BatchNorm2d                               256        True      \n",
              "ReLU                                                           \n",
              "____________________________________________________________________________\n",
              "                     8 x 32 x 20 x 20    \n",
              "Conv2d                                    36864      False     \n",
              "BatchNorm2d                               1920       True      \n",
              "ReLU                                                           \n",
              "____________________________________________________________________________\n",
              "                     8 x 128 x 20 x 20   \n",
              "Conv2d                                    122880     False     \n",
              "BatchNorm2d                               256        True      \n",
              "ReLU                                                           \n",
              "____________________________________________________________________________\n",
              "                     8 x 32 x 20 x 20    \n",
              "Conv2d                                    36864      False     \n",
              "BatchNorm2d                               1984       True      \n",
              "ReLU                                                           \n",
              "____________________________________________________________________________\n",
              "                     8 x 128 x 20 x 20   \n",
              "Conv2d                                    126976     False     \n",
              "BatchNorm2d                               256        True      \n",
              "ReLU                                                           \n",
              "____________________________________________________________________________\n",
              "                     8 x 32 x 20 x 20    \n",
              "Conv2d                                    36864      False     \n",
              "BatchNorm2d                               2048       True      \n",
              "ReLU                                                           \n",
              "____________________________________________________________________________\n",
              "                     8 x 512 x 20 x 20   \n",
              "Conv2d                                    524288     False     \n",
              "____________________________________________________________________________\n",
              "                     8 x 512 x 10 x 10   \n",
              "AvgPool2d                                                      \n",
              "BatchNorm2d                               1024       True      \n",
              "ReLU                                                           \n",
              "____________________________________________________________________________\n",
              "                     8 x 128 x 10 x 10   \n",
              "Conv2d                                    65536      False     \n",
              "BatchNorm2d                               256        True      \n",
              "ReLU                                                           \n",
              "____________________________________________________________________________\n",
              "                     8 x 32 x 10 x 10    \n",
              "Conv2d                                    36864      False     \n",
              "BatchNorm2d                               1088       True      \n",
              "ReLU                                                           \n",
              "____________________________________________________________________________\n",
              "                     8 x 128 x 10 x 10   \n",
              "Conv2d                                    69632      False     \n",
              "BatchNorm2d                               256        True      \n",
              "ReLU                                                           \n",
              "____________________________________________________________________________\n",
              "                     8 x 32 x 10 x 10    \n",
              "Conv2d                                    36864      False     \n",
              "BatchNorm2d                               1152       True      \n",
              "ReLU                                                           \n",
              "____________________________________________________________________________\n",
              "                     8 x 128 x 10 x 10   \n",
              "Conv2d                                    73728      False     \n",
              "BatchNorm2d                               256        True      \n",
              "ReLU                                                           \n",
              "____________________________________________________________________________\n",
              "                     8 x 32 x 10 x 10    \n",
              "Conv2d                                    36864      False     \n",
              "BatchNorm2d                               1216       True      \n",
              "ReLU                                                           \n",
              "____________________________________________________________________________\n",
              "                     8 x 128 x 10 x 10   \n",
              "Conv2d                                    77824      False     \n",
              "BatchNorm2d                               256        True      \n",
              "ReLU                                                           \n",
              "____________________________________________________________________________\n",
              "                     8 x 32 x 10 x 10    \n",
              "Conv2d                                    36864      False     \n",
              "BatchNorm2d                               1280       True      \n",
              "ReLU                                                           \n",
              "____________________________________________________________________________\n",
              "                     8 x 128 x 10 x 10   \n",
              "Conv2d                                    81920      False     \n",
              "BatchNorm2d                               256        True      \n",
              "ReLU                                                           \n",
              "____________________________________________________________________________\n",
              "                     8 x 32 x 10 x 10    \n",
              "Conv2d                                    36864      False     \n",
              "BatchNorm2d                               1344       True      \n",
              "ReLU                                                           \n",
              "____________________________________________________________________________\n",
              "                     8 x 128 x 10 x 10   \n",
              "Conv2d                                    86016      False     \n",
              "BatchNorm2d                               256        True      \n",
              "ReLU                                                           \n",
              "____________________________________________________________________________\n",
              "                     8 x 32 x 10 x 10    \n",
              "Conv2d                                    36864      False     \n",
              "BatchNorm2d                               1408       True      \n",
              "ReLU                                                           \n",
              "____________________________________________________________________________\n",
              "                     8 x 128 x 10 x 10   \n",
              "Conv2d                                    90112      False     \n",
              "BatchNorm2d                               256        True      \n",
              "ReLU                                                           \n",
              "____________________________________________________________________________\n",
              "                     8 x 32 x 10 x 10    \n",
              "Conv2d                                    36864      False     \n",
              "BatchNorm2d                               1472       True      \n",
              "ReLU                                                           \n",
              "____________________________________________________________________________\n",
              "                     8 x 128 x 10 x 10   \n",
              "Conv2d                                    94208      False     \n",
              "BatchNorm2d                               256        True      \n",
              "ReLU                                                           \n",
              "____________________________________________________________________________\n",
              "                     8 x 32 x 10 x 10    \n",
              "Conv2d                                    36864      False     \n",
              "BatchNorm2d                               1536       True      \n",
              "ReLU                                                           \n",
              "____________________________________________________________________________\n",
              "                     8 x 128 x 10 x 10   \n",
              "Conv2d                                    98304      False     \n",
              "BatchNorm2d                               256        True      \n",
              "ReLU                                                           \n",
              "____________________________________________________________________________\n",
              "                     8 x 32 x 10 x 10    \n",
              "Conv2d                                    36864      False     \n",
              "BatchNorm2d                               1600       True      \n",
              "ReLU                                                           \n",
              "____________________________________________________________________________\n",
              "                     8 x 128 x 10 x 10   \n",
              "Conv2d                                    102400     False     \n",
              "BatchNorm2d                               256        True      \n",
              "ReLU                                                           \n",
              "____________________________________________________________________________\n",
              "                     8 x 32 x 10 x 10    \n",
              "Conv2d                                    36864      False     \n",
              "BatchNorm2d                               1664       True      \n",
              "ReLU                                                           \n",
              "____________________________________________________________________________\n",
              "                     8 x 128 x 10 x 10   \n",
              "Conv2d                                    106496     False     \n",
              "BatchNorm2d                               256        True      \n",
              "ReLU                                                           \n",
              "____________________________________________________________________________\n",
              "                     8 x 32 x 10 x 10    \n",
              "Conv2d                                    36864      False     \n",
              "BatchNorm2d                               1728       True      \n",
              "ReLU                                                           \n",
              "____________________________________________________________________________\n",
              "                     8 x 128 x 10 x 10   \n",
              "Conv2d                                    110592     False     \n",
              "BatchNorm2d                               256        True      \n",
              "ReLU                                                           \n",
              "____________________________________________________________________________\n",
              "                     8 x 32 x 10 x 10    \n",
              "Conv2d                                    36864      False     \n",
              "BatchNorm2d                               1792       True      \n",
              "ReLU                                                           \n",
              "____________________________________________________________________________\n",
              "                     8 x 128 x 10 x 10   \n",
              "Conv2d                                    114688     False     \n",
              "BatchNorm2d                               256        True      \n",
              "ReLU                                                           \n",
              "____________________________________________________________________________\n",
              "                     8 x 32 x 10 x 10    \n",
              "Conv2d                                    36864      False     \n",
              "BatchNorm2d                               1856       True      \n",
              "ReLU                                                           \n",
              "____________________________________________________________________________\n",
              "                     8 x 128 x 10 x 10   \n",
              "Conv2d                                    118784     False     \n",
              "BatchNorm2d                               256        True      \n",
              "ReLU                                                           \n",
              "____________________________________________________________________________\n",
              "                     8 x 32 x 10 x 10    \n",
              "Conv2d                                    36864      False     \n",
              "BatchNorm2d                               1920       True      \n",
              "ReLU                                                           \n",
              "____________________________________________________________________________\n",
              "                     8 x 128 x 10 x 10   \n",
              "Conv2d                                    122880     False     \n",
              "BatchNorm2d                               256        True      \n",
              "ReLU                                                           \n",
              "____________________________________________________________________________\n",
              "                     8 x 32 x 10 x 10    \n",
              "Conv2d                                    36864      False     \n",
              "BatchNorm2d                               1984       True      \n",
              "ReLU                                                           \n",
              "____________________________________________________________________________\n",
              "                     8 x 128 x 10 x 10   \n",
              "Conv2d                                    126976     False     \n",
              "BatchNorm2d                               256        True      \n",
              "ReLU                                                           \n",
              "____________________________________________________________________________\n",
              "                     8 x 32 x 10 x 10    \n",
              "Conv2d                                    36864      False     \n",
              "BatchNorm2d                               2048       True      \n",
              "____________________________________________________________________________\n",
              "                     8 x 1024 x 1 x 1    \n",
              "AdaptiveAvgPool2d                                              \n",
              "AdaptiveMaxPool2d                                              \n",
              "____________________________________________________________________________\n",
              "                     8 x 2048            \n",
              "Flatten                                                        \n",
              "BatchNorm1d                               4096       True      \n",
              "Dropout                                                        \n",
              "____________________________________________________________________________\n",
              "                     8 x 512             \n",
              "Linear                                    1048576    True      \n",
              "ReLU                                                           \n",
              "BatchNorm1d                               1024       True      \n",
              "Dropout                                                        \n",
              "____________________________________________________________________________\n",
              "                     8 x 2               \n",
              "Linear                                    1024       True      \n",
              "____________________________________________________________________________\n",
              "\n",
              "Total params: 8,008,576\n",
              "Total trainable params: 1,138,368\n",
              "Total non-trainable params: 6,870,208\n",
              "\n",
              "Optimizer used: <function Adam at 0x7f3873aedc20>\n",
              "Loss function: FlattenedLoss of CrossEntropyLoss()\n",
              "\n",
              "Model frozen up to parameter group #2\n",
              "\n",
              "Callbacks:\n",
              "  - TrainEvalCallback\n",
              "  - Recorder\n",
              "  - ProgressCallback"
            ],
            "application/vnd.google.colaboratory.intrinsic+json": {
              "type": "string"
            }
          },
          "metadata": {},
          "execution_count": 41
        }
      ]
    },
    {
      "cell_type": "code",
      "source": [
        "learn.fit_one_cycle(10,slice(0.001)) #Train for a bit with a frozen backbone\n"
      ],
      "metadata": {
        "colab": {
          "base_uri": "https://localhost:8080/",
          "height": 363
        },
        "id": "XQyu9PmJwmIK",
        "outputId": "84683a77-5bf5-44a0-a957-d930be48b4bc"
      },
      "execution_count": 42,
      "outputs": [
        {
          "output_type": "display_data",
          "data": {
            "text/plain": [
              "<IPython.core.display.HTML object>"
            ],
            "text/html": [
              "\n",
              "<style>\n",
              "    /* Turns off some styling */\n",
              "    progress {\n",
              "        /* gets rid of default border in Firefox and Opera. */\n",
              "        border: none;\n",
              "        /* Needs to be in here for Safari polyfill so background images work as expected. */\n",
              "        background-size: auto;\n",
              "    }\n",
              "    .progress-bar-interrupted, .progress-bar-interrupted::-webkit-progress-bar {\n",
              "        background: #F44336;\n",
              "    }\n",
              "</style>\n"
            ]
          },
          "metadata": {}
        },
        {
          "output_type": "display_data",
          "data": {
            "text/plain": [
              "<IPython.core.display.HTML object>"
            ],
            "text/html": [
              "<table border=\"1\" class=\"dataframe\">\n",
              "  <thead>\n",
              "    <tr style=\"text-align: left;\">\n",
              "      <th>epoch</th>\n",
              "      <th>train_loss</th>\n",
              "      <th>valid_loss</th>\n",
              "      <th>accuracy</th>\n",
              "      <th>time</th>\n",
              "    </tr>\n",
              "  </thead>\n",
              "  <tbody>\n",
              "    <tr>\n",
              "      <td>0</td>\n",
              "      <td>0.670883</td>\n",
              "      <td>0.864475</td>\n",
              "      <td>0.588889</td>\n",
              "      <td>01:14</td>\n",
              "    </tr>\n",
              "    <tr>\n",
              "      <td>1</td>\n",
              "      <td>0.403741</td>\n",
              "      <td>0.075291</td>\n",
              "      <td>0.972222</td>\n",
              "      <td>01:13</td>\n",
              "    </tr>\n",
              "    <tr>\n",
              "      <td>2</td>\n",
              "      <td>0.267889</td>\n",
              "      <td>0.054284</td>\n",
              "      <td>0.980556</td>\n",
              "      <td>01:13</td>\n",
              "    </tr>\n",
              "    <tr>\n",
              "      <td>3</td>\n",
              "      <td>0.236605</td>\n",
              "      <td>0.058332</td>\n",
              "      <td>0.977778</td>\n",
              "      <td>01:13</td>\n",
              "    </tr>\n",
              "    <tr>\n",
              "      <td>4</td>\n",
              "      <td>0.182382</td>\n",
              "      <td>0.177988</td>\n",
              "      <td>0.927778</td>\n",
              "      <td>01:13</td>\n",
              "    </tr>\n",
              "    <tr>\n",
              "      <td>5</td>\n",
              "      <td>0.163503</td>\n",
              "      <td>0.056895</td>\n",
              "      <td>0.980556</td>\n",
              "      <td>01:14</td>\n",
              "    </tr>\n",
              "    <tr>\n",
              "      <td>6</td>\n",
              "      <td>0.113718</td>\n",
              "      <td>0.056510</td>\n",
              "      <td>0.983333</td>\n",
              "      <td>01:13</td>\n",
              "    </tr>\n",
              "    <tr>\n",
              "      <td>7</td>\n",
              "      <td>0.124033</td>\n",
              "      <td>0.060704</td>\n",
              "      <td>0.983333</td>\n",
              "      <td>01:13</td>\n",
              "    </tr>\n",
              "    <tr>\n",
              "      <td>8</td>\n",
              "      <td>0.096676</td>\n",
              "      <td>0.099098</td>\n",
              "      <td>0.966667</td>\n",
              "      <td>01:13</td>\n",
              "    </tr>\n",
              "    <tr>\n",
              "      <td>9</td>\n",
              "      <td>0.100568</td>\n",
              "      <td>0.089325</td>\n",
              "      <td>0.961111</td>\n",
              "      <td>01:13</td>\n",
              "    </tr>\n",
              "  </tbody>\n",
              "</table>"
            ]
          },
          "metadata": {}
        }
      ]
    },
    {
      "cell_type": "code",
      "source": [
        "learn.unfreeze()\n",
        "learn.fit_one_cycle(10,slice(0.001)) #Train again unfrozen"
      ],
      "metadata": {
        "colab": {
          "base_uri": "https://localhost:8080/",
          "height": 363
        },
        "id": "23M8UcERwsLy",
        "outputId": "32402a93-1e48-4fa2-c3f7-b1438011848b"
      },
      "execution_count": 43,
      "outputs": [
        {
          "output_type": "display_data",
          "data": {
            "text/plain": [
              "<IPython.core.display.HTML object>"
            ],
            "text/html": [
              "\n",
              "<style>\n",
              "    /* Turns off some styling */\n",
              "    progress {\n",
              "        /* gets rid of default border in Firefox and Opera. */\n",
              "        border: none;\n",
              "        /* Needs to be in here for Safari polyfill so background images work as expected. */\n",
              "        background-size: auto;\n",
              "    }\n",
              "    .progress-bar-interrupted, .progress-bar-interrupted::-webkit-progress-bar {\n",
              "        background: #F44336;\n",
              "    }\n",
              "</style>\n"
            ]
          },
          "metadata": {}
        },
        {
          "output_type": "display_data",
          "data": {
            "text/plain": [
              "<IPython.core.display.HTML object>"
            ],
            "text/html": [
              "<table border=\"1\" class=\"dataframe\">\n",
              "  <thead>\n",
              "    <tr style=\"text-align: left;\">\n",
              "      <th>epoch</th>\n",
              "      <th>train_loss</th>\n",
              "      <th>valid_loss</th>\n",
              "      <th>accuracy</th>\n",
              "      <th>time</th>\n",
              "    </tr>\n",
              "  </thead>\n",
              "  <tbody>\n",
              "    <tr>\n",
              "      <td>0</td>\n",
              "      <td>0.117621</td>\n",
              "      <td>0.347868</td>\n",
              "      <td>0.863889</td>\n",
              "      <td>01:30</td>\n",
              "    </tr>\n",
              "    <tr>\n",
              "      <td>1</td>\n",
              "      <td>0.233825</td>\n",
              "      <td>0.090706</td>\n",
              "      <td>0.969444</td>\n",
              "      <td>01:29</td>\n",
              "    </tr>\n",
              "    <tr>\n",
              "      <td>2</td>\n",
              "      <td>0.142293</td>\n",
              "      <td>0.081799</td>\n",
              "      <td>0.963889</td>\n",
              "      <td>01:29</td>\n",
              "    </tr>\n",
              "    <tr>\n",
              "      <td>3</td>\n",
              "      <td>0.125347</td>\n",
              "      <td>0.040252</td>\n",
              "      <td>0.991667</td>\n",
              "      <td>01:29</td>\n",
              "    </tr>\n",
              "    <tr>\n",
              "      <td>4</td>\n",
              "      <td>0.111356</td>\n",
              "      <td>0.019605</td>\n",
              "      <td>0.997222</td>\n",
              "      <td>01:29</td>\n",
              "    </tr>\n",
              "    <tr>\n",
              "      <td>5</td>\n",
              "      <td>0.091127</td>\n",
              "      <td>0.036175</td>\n",
              "      <td>0.980556</td>\n",
              "      <td>01:29</td>\n",
              "    </tr>\n",
              "    <tr>\n",
              "      <td>6</td>\n",
              "      <td>0.060802</td>\n",
              "      <td>0.028296</td>\n",
              "      <td>0.994444</td>\n",
              "      <td>01:29</td>\n",
              "    </tr>\n",
              "    <tr>\n",
              "      <td>7</td>\n",
              "      <td>0.063778</td>\n",
              "      <td>0.020106</td>\n",
              "      <td>0.991667</td>\n",
              "      <td>01:29</td>\n",
              "    </tr>\n",
              "    <tr>\n",
              "      <td>8</td>\n",
              "      <td>0.029881</td>\n",
              "      <td>0.014813</td>\n",
              "      <td>0.994444</td>\n",
              "      <td>01:29</td>\n",
              "    </tr>\n",
              "    <tr>\n",
              "      <td>9</td>\n",
              "      <td>0.030627</td>\n",
              "      <td>0.013728</td>\n",
              "      <td>0.997222</td>\n",
              "      <td>01:29</td>\n",
              "    </tr>\n",
              "  </tbody>\n",
              "</table>"
            ]
          },
          "metadata": {}
        }
      ]
    },
    {
      "cell_type": "markdown",
      "source": [
        "Now, to summarize this lesson so far, we have made a much simpler model than in lesson 2 in that we have focused on a classification model that simply determines whether or not the liver is present within an axial CT slice and does not perform segmentation. We have used this simpler neural network scenario to dig a little deeper into the learning rate, the loss function, the optimizer and the neural network model architecture. Obviously, there is plenty of additional room for experimentation. For example, additional architectures readily usable with FastAI can be reviewed in the FastAI documentation:\n",
        "\n",
        "https://fastai1.fast.ai/vision.models.html\n",
        "\n",
        "In part 2 of this lesson, we will turn back to the MRI data and look at neural networks for classifying hepatic steatosis. Again, we will place an emphasis on some of the variety of options available for modeling. "
      ],
      "metadata": {
        "id": "HGqFvPWn2cFd"
      }
    }
  ]
}